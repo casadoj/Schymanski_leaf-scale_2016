{
 "cells": [
  {
   "cell_type": "markdown",
   "metadata": {
    "deletable": true,
    "editable": true
   },
   "source": [
    "# Equations to derive leaf energy balance components from wind tunnel measurements and compare against leaf model</h1>\n",
    "\n"
   ]
  },
  {
   "cell_type": "code",
   "execution_count": 1,
   "metadata": {
    "collapsed": false,
    "deletable": true,
    "editable": true
   },
   "outputs": [],
   "source": [
    "%%capture storage\n",
    "# The above redirects all output of the below commands to the variable 'storage' instead of displaying it.\n",
    "# It can be viewed by typing: 'storage()'\n",
    "# Setting up worksheet and importing equations from other worksheets\n",
    "load('temp/Worksheet_setup.sage')\n",
    "load_session('temp/leaf_enbalance_eqs.sobj')\n",
    "fun_loadvars(dict_vars) # any variables defined using var2() are saved with their attributes in dict_vars. Here we re-define them based on dict_vars from the other worksheet."
   ]
  },
  {
   "cell_type": "code",
   "execution_count": 2,
   "metadata": {
    "collapsed": false,
    "deletable": true,
    "editable": true
   },
   "outputs": [],
   "source": [
    "# %load -s fun_SS 'temp/leaf_enbalance_eqs.sage'\n",
    "def fun_SS(vdict1):\n",
    "    '''\n",
    "    Steady-state T_l, R_ll, H_l and E_l under forced conditions.\n",
    "    Parameters are given in a dictionary (vdict) with the following entries:\n",
    "    a_s, a_sh, L_l, P_a, P_wa, R_s, Re_c, T_a, g_sw, v_w\n",
    "    ''' \n",
    "    vdict = vdict1.copy()\n",
    "\n",
    "    # Nusselt number\n",
    "    vdict[nu_a] = eq_nua.rhs().subs(vdict)\n",
    "    vdict[Re] = eq_Re.rhs().subs(vdict)\n",
    "    vdict[Nu] = eq_Nu_forced_all.rhs().subs(vdict)\n",
    "    \n",
    "    # h_c\n",
    "    vdict[k_a] = eq_ka.rhs().subs(vdict)\n",
    "    vdict[h_c] = eq_hc.rhs().subs(vdict)\n",
    " \n",
    "    # gbw\n",
    "    vdict[D_va] = eq_Dva.rhs().subs(vdict)\n",
    "    vdict[alpha_a] = eq_alphaa.rhs().subs(vdict)\n",
    "    vdict[rho_a] =  eq_rhoa.rhs().subs(vdict)\n",
    "    vdict[Le] =  eq_Le.rhs().subs(vdict)\n",
    "    vdict[g_bw] = eq_gbw_hc.rhs().subs(vdict)   \n",
    "    \n",
    "    # Hl, Rll\n",
    "    vdict[R_ll] = eq_Rll.rhs().subs(vdict)\n",
    "    vdict[H_l] = eq_Hl.rhs().subs(vdict)   \n",
    "\n",
    "    # El\n",
    "    vdict[g_tw] =  eq_gtw.rhs().subs(vdict)\n",
    "    vdict[C_wa] = eq_Cwl.rhs()(P_wl = P_wa, T_l = T_a).subs(vdict)\n",
    "    vdict[P_wl] = eq_Pwl.rhs().subs(vdict)\n",
    "    vdict[C_wl] = eq_Cwl.rhs().subs(vdict)\n",
    "    vdict[E_lmol] = eq_Elmol.rhs().subs(vdict)\n",
    "    vdict[E_l] = eq_El.rhs().subs(eq_Elmol).subs(vdict)    \n",
    "\n",
    "    # Tl\n",
    "    try:\n",
    "        vdict[T_l] = find_root((eq_Rs_enbal - R_s).rhs().subs(vdict), 273, 373)\n",
    "    except: \n",
    "        print 'too many unknowns for finding T_l: ' + str((eq_Rs_enbal - R_s).rhs().subs(vdict).args())\n",
    "    \n",
    "    # Re-inserting T_l\n",
    "    Tlss = vdict[T_l]\n",
    "    for name1 in [C_wl, P_wl, R_ll, H_l, E_l, E_lmol]:\n",
    "        vdict[name1] = vdict[name1].subs(T_l = Tlss)\n",
    "    \n",
    "    # Test for steady state\n",
    "    if n((E_l + H_l + R_ll - R_s).subs(vdict))>1.:\n",
    "        return 'error in energy balance: El + Hl + Rll - R_s = ' + str(n((E_l + H_l + R_ll - R_s).subs(vdict))) \n",
    "    return vdict\n",
    "\n",
    "\n",
    "# In[27]:\n",
    "\n",
    "# Test\n"
   ]
  },
  {
   "cell_type": "code",
   "execution_count": 3,
   "metadata": {
    "collapsed": false,
    "deletable": true,
    "editable": true
   },
   "outputs": [
    {
     "name": "stdout",
     "output_type": "stream",
     "text": [
      "C_wa            0.647207041733317\n",
      "C_wl            1.12479267904924\n",
      "D_va            0.0000248765000000000\n",
      "E_l             142.258640360008\n",
      "E_lmol          0.00322581950929723\n",
      "H_l             -112.722448184652\n",
      "L_l             0.0300000000000000\n",
      "Le              0.888469037042992\n",
      "M_N2            0.0280000000000000\n",
      "M_O2            0.0320000000000000\n",
      "M_w             0.0180000000000000\n",
      "Nu              26.1863624980041\n",
      "P_a             101325         \n",
      "P_wa            1606.28367076831\n",
      "P_wl            2768.40610422238\n",
      "Pr              0.710000000000000\n",
      "R_ll            -29.5361921753575\n",
      "R_mol           8.31447200000000\n",
      "R_s             0.000000000000000\n",
      "Re              1927.40122068744\n",
      "Re_c            3000           \n",
      "T_a             298.500000000000\n",
      "T_l             296.021082253  \n",
      "T_w             298.500000000000\n",
      "a_s             1.00000000000000\n",
      "a_sh            2              \n",
      "alpha_a         0.0000221020000000000\n",
      "c_pa            1010           \n",
      "epsilon_l       1              \n",
      "g               9.81000000000000\n",
      "g_bw            0.0208112438130012\n",
      "g_sw            0.0100000000000000\n",
      "g_tw            0.00675443157676732\n",
      "h_c             22.7362219510171\n",
      "k_a             0.0260474000000000\n",
      "lambda_E        2.45000000000000e6\n",
      "nu_a            0.0000155650000000000\n",
      "rho_a           1.17040820486688\n",
      "sigm            5.67000000000000e-8\n",
      "v_w             1              \n"
     ]
    }
   ],
   "source": [
    "# Test\n",
    "vdict = cdict.copy()\n",
    "vdict[a_s] = 1.0    # one sided stomata\n",
    "vdict[g_sw] = 0.01    \n",
    "vdict[T_a] = 273 + 25.5\n",
    "vdict[T_w] = vdict[T_a] # Wall temperature equal to air temperature\n",
    "vdict[P_a] = 101325\n",
    "rha = 0.5\n",
    "vdict[P_wa] = rha*eq_Pwl.rhs()(T_l = T_a).subs(vdict)\n",
    "vdict[L_l] = 0.03\n",
    "#vdict[L_A] = vdict[L_l]^2\n",
    "vdict[Re_c] = 3000\n",
    "vdict[R_s] = 0.\n",
    "#vdict[Q_in] = 0\n",
    "vdict[v_w] = 1\n",
    "\n",
    "dict_print(fun_SS(vdict))"
   ]
  },
  {
   "cell_type": "markdown",
   "metadata": {
    "deletable": true,
    "editable": true
   },
   "source": [
    "## Gas and energy exchange in a leaf chamber\n",
    "Calculations based on leaf_capacitance_steady_state1. However, following the LI-6400XT user manual (Eq. 17-3), we replace the air temperature by wall temperature in the calculation of the net longwave balance of the leaf, as wall temperature can be measured in the chamber. Following the same equation, we also add the leaf thermal emissivity of 0.95 (P. 17-3). \n",
    "**Note that in order to measure sensible heat flux from the leaf, wall temperature must be equal to air temperature!**"
   ]
  },
  {
   "cell_type": "code",
   "execution_count": 4,
   "metadata": {
    "collapsed": false,
    "deletable": true,
    "editable": true
   },
   "outputs": [
    {
     "name": "stdout",
     "output_type": "stream",
     "text": [
      "Volume = 0.310000000000000 l\n",
      "min flow rate for flushing = 1.55000000000000e-11 m3/s\n",
      "min flow rate for flushing = 0.930000000000000 l/min\n",
      "flow rate for 1 m/s direct wind = 0.00150000000000000 m3/s\n",
      "flow rate for 1 m/s direct wind = 90.0000000000000 l/m\n",
      "flow rate for 5 m/s direct wind = 0.00750000000000000 m3/s\n",
      "flow rate for 5 m/s direct wind = 450.000000000000 l/m\n"
     ]
    }
   ],
   "source": [
    "width = 0.05\n",
    "height = 0.03\n",
    "volume = 310/(100^3)\n",
    "print 'Volume = ' + str((volume*1000).n()) + ' l'\n",
    "\n",
    "print 'min flow rate for flushing = ' + str((volume*3/100^3/60).n()) + ' m3/s'\n",
    "print 'min flow rate for flushing = ' + str((volume*3*1000).n()) + ' l/min'\n",
    "print 'flow rate for 1 m/s direct wind = ' + str(width*height*1) + ' m3/s'\n",
    "print 'flow rate for 1 m/s direct wind = ' + str(width*height*1*1000*60) + ' l/m'\n",
    "print 'flow rate for 5 m/s direct wind = ' + str(width*height*5) + ' m3/s'\n",
    "print 'flow rate for 5 m/s direct wind = ' + str(width*height*5*1000*60) + ' l/m'"
   ]
  },
  {
   "cell_type": "code",
   "execution_count": 5,
   "metadata": {
    "collapsed": false,
    "deletable": true,
    "editable": true
   },
   "outputs": [
    {
     "name": "stdout",
     "output_type": "stream",
     "text": [
      "Volume = 0.400000000000000 l\n",
      "min flow rate for flushing = 2.00000000000000e-11 m3/s\n",
      "min flow rate for flushing = 1.20000000000000 l/min\n",
      "flow rate for 1 m/s direct wind = 0.00150000000000000 m3/s\n",
      "flow rate for 1 m/s direct wind = 90.0000000000000 l/m\n"
     ]
    }
   ],
   "source": [
    "width = 0.05\n",
    "height = 0.03\n",
    "volume = 400/(100^3)\n",
    "print 'Volume = ' + str((volume*1000).n()) + ' l'\n",
    "\n",
    "print 'min flow rate for flushing = ' + str((volume*3/100^3/60).n()) + ' m3/s'\n",
    "print 'min flow rate for flushing = ' + str((volume*3*1000).n()) + ' l/min'\n",
    "print 'flow rate for 1 m/s direct wind = ' + str(width*height*1) + ' m3/s'\n",
    "print 'flow rate for 1 m/s direct wind = ' + str(width*height*1*1000*60) + ' l/m'"
   ]
  },
  {
   "cell_type": "markdown",
   "metadata": {
    "deletable": true,
    "editable": true
   },
   "source": [
    "<h2>Chamber insulation material</h2>"
   ]
  },
  {
   "cell_type": "code",
   "execution_count": 6,
   "metadata": {
    "collapsed": false,
    "deletable": true,
    "editable": true
   },
   "outputs": [
    {
     "data": {
      "text/plain": [
       "dT_i"
      ]
     },
     "execution_count": 6,
     "metadata": {},
     "output_type": "execute_result"
    }
   ],
   "source": [
    "var2('c_pi', 'Heat capacity of insulation material', joule/kilogram/kelvin, latexname='c_{pi}')\n",
    "var2('lambda_i', 'Heat conductivity of insulation material', joule/second/meter/kelvin)\n",
    "var2('rho_i', 'Density of insulation material', kilogram/meter^3)\n",
    "var2('L_i', 'Thickness of insulation material', meter)\n",
    "var2('A_i', 'Conducting area of insulation material', meter^2)\n",
    "var2('Q_i', 'Heat conduction through insulation material', joule/second)\n",
    "var2('dT_i', 'Temperature increment of insulation material', kelvin)"
   ]
  },
  {
   "cell_type": "code",
   "execution_count": 7,
   "metadata": {
    "collapsed": false,
    "deletable": true,
    "editable": true
   },
   "outputs": [
    {
     "data": {
      "text/plain": [
       "[c_pi is real]"
      ]
     },
     "execution_count": 7,
     "metadata": {},
     "output_type": "execute_result"
    }
   ],
   "source": [
    "assumptions(c_pi)"
   ]
  },
  {
   "cell_type": "code",
   "execution_count": 8,
   "metadata": {
    "collapsed": false,
    "deletable": true,
    "editable": true
   },
   "outputs": [
    {
     "data": {
      "text/html": [
       "<html><script type=\"math/tex; mode=display\">\\newcommand{\\Bold}[1]{\\mathbf{#1}}Q_{i} = \\frac{A_{i} \\mathit{dT}_{i} \\lambda_{i}}{L_{i}}</script></html>"
      ],
      "text/plain": [
       "Q_i == A_i*dT_i*lambda_i/L_i"
      ]
     },
     "metadata": {},
     "output_type": "display_data"
    },
    {
     "data": {
      "text/plain": [
       "kilogram*meter^2/second^3 == kilogram*meter^2/second^3"
      ]
     },
     "execution_count": 8,
     "metadata": {},
     "output_type": "execute_result"
    }
   ],
   "source": [
    "eq_Qi = Q_i == dT_i*lambda_i*A_i/L_i\n",
    "units_check(eq_Qi)"
   ]
  },
  {
   "cell_type": "code",
   "execution_count": 9,
   "metadata": {
    "collapsed": false,
    "deletable": true,
    "editable": true
   },
   "outputs": [
    {
     "data": {
      "text/html": [
       "<html><script type=\"math/tex; mode=display\">\\newcommand{\\Bold}[1]{\\mathbf{#1}}L_{i} = \\frac{A_{i} \\mathit{dT}_{i} \\lambda_{i}}{Q_{i}}</script></html>"
      ],
      "text/plain": [
       "L_i == A_i*dT_i*lambda_i/Q_i"
      ]
     },
     "metadata": {},
     "output_type": "display_data"
    },
    {
     "data": {
      "text/plain": [
       "meter == meter"
      ]
     },
     "execution_count": 9,
     "metadata": {},
     "output_type": "execute_result"
    }
   ],
   "source": [
    "eq_Li = solve(eq_Qi, L_i)[0]\n",
    "units_check(eq_Li)"
   ]
  },
  {
   "cell_type": "code",
   "execution_count": 10,
   "metadata": {
    "collapsed": false,
    "deletable": true,
    "editable": true
   },
   "outputs": [
    {
     "data": {
      "text/html": [
       "<html><script type=\"math/tex; mode=display\">\\newcommand{\\Bold}[1]{\\mathbf{#1}}L_{i} {c_{pi}} \\mathit{dT}_{i} \\rho_{i}</script></html>"
      ],
      "text/plain": [
       "L_i*c_pi*dT_i*rho_i"
      ]
     },
     "metadata": {},
     "output_type": "display_data"
    },
    {
     "data": {
      "text/plain": [
       "kilogram/second^2"
      ]
     },
     "execution_count": 10,
     "metadata": {},
     "output_type": "execute_result"
    }
   ],
   "source": [
    "# The amount of heat absorbed by the insulation material per unit area to increase the wall temperature by the same amount as dT_i for given heat flux Q_i\n",
    "units_check(c_pi*rho_i*dT_i*L_i)"
   ]
  },
  {
   "cell_type": "code",
   "execution_count": 11,
   "metadata": {
    "collapsed": false,
    "deletable": true,
    "editable": true
   },
   "outputs": [
    {
     "data": {
      "text/plain": [
       "A_i*c_pi*dT_i^2*lambda_i*rho_i/Q_i"
      ]
     },
     "execution_count": 11,
     "metadata": {},
     "output_type": "execute_result"
    }
   ],
   "source": [
    "(c_pi*rho_i*dT_i*L_i).subs(eq_Li)"
   ]
  },
  {
   "cell_type": "code",
   "execution_count": 12,
   "metadata": {
    "collapsed": false,
    "deletable": true,
    "editable": true
   },
   "outputs": [
    {
     "data": {
      "text/plain": [
       "277.200000000000"
      ]
     },
     "execution_count": 12,
     "metadata": {},
     "output_type": "execute_result"
    }
   ],
   "source": [
    "# From http://www.sager.ch/default.aspx?navid=25, PIR\n",
    "vdict = {}\n",
    "vdict[lambda_i] = 0.022\n",
    "vdict[c_pi] = 1400\n",
    "vdict[rho_i] = 30\n",
    "(c_pi*rho_i*dT_i*L_i).subs(eq_Li).subs(vdict)(A_i = 0.3, dT_i = 0.1, Q_i = 0.01)"
   ]
  },
  {
   "cell_type": "code",
   "execution_count": 13,
   "metadata": {
    "collapsed": false,
    "deletable": true,
    "editable": true
   },
   "outputs": [
    {
     "data": {
      "text/plain": [
       "239.400000000000"
      ]
     },
     "execution_count": 13,
     "metadata": {},
     "output_type": "execute_result"
    }
   ],
   "source": [
    "# From http://www.sager.ch/default.aspx?navid=25, Sagex 15\n",
    "vdict = {}\n",
    "vdict[lambda_i] = 0.038\n",
    "vdict[c_pi] = 1400\n",
    "vdict[rho_i] = 15\n",
    "(c_pi*rho_i*dT_i*L_i).subs(eq_Li).subs(vdict)(A_i = 0.3, dT_i = 0.1, Q_i = 0.01)"
   ]
  },
  {
   "cell_type": "code",
   "execution_count": 14,
   "metadata": {
    "collapsed": false,
    "deletable": true,
    "editable": true
   },
   "outputs": [
    {
     "data": {
      "text/html": [
       "<html><script type=\"math/tex; mode=display\">\\newcommand{\\Bold}[1]{\\mathbf{#1}}A_{i} L_{i} \\mathit{dT}_{i} \\lambda_{i}</script></html>"
      ],
      "text/plain": [
       "A_i*L_i*dT_i*lambda_i"
      ]
     },
     "metadata": {},
     "output_type": "display_data"
    },
    {
     "data": {
      "text/plain": [
       "kilogram*meter^4/second^3"
      ]
     },
     "execution_count": 14,
     "metadata": {},
     "output_type": "execute_result"
    }
   ],
   "source": [
    "units_check(lambda_i*A_i*dT_i*L_i)"
   ]
  },
  {
   "cell_type": "code",
   "execution_count": 15,
   "metadata": {
    "collapsed": false,
    "deletable": true,
    "editable": true
   },
   "outputs": [
    {
     "data": {
      "text/plain": [
       "L_i == 0.0342000000000000"
      ]
     },
     "execution_count": 15,
     "metadata": {},
     "output_type": "execute_result"
    }
   ],
   "source": [
    "# Assuming a 30x10x5 cm chamber, how thick would the insulation have to be in order to lose \n",
    "# less than 0.01 W heat for 0.1 K dT_i?\n",
    "eq_Li(A_i = 0.3*0.1*2 + 0.3*0.05*2, dT_i = 0.1, Q_i = 0.01).subs(vdict)"
   ]
  },
  {
   "cell_type": "code",
   "execution_count": 16,
   "metadata": {
    "collapsed": false,
    "deletable": true,
    "editable": true
   },
   "outputs": [
    {
     "data": {
      "text/plain": [
       "415.800000000000"
      ]
     },
     "execution_count": 16,
     "metadata": {},
     "output_type": "execute_result"
    }
   ],
   "source": [
    "# From http://www.sager.ch/default.aspx?navid=25, Sagex 30\n",
    "vdict = {}\n",
    "vdict[lambda_i] = 0.033\n",
    "vdict[c_pi] = 1400\n",
    "vdict[rho_i] = 30\n",
    "(c_pi*rho_i*dT_i*L_i).subs(eq_Li).subs(vdict)(A_i = 0.3, dT_i = 0.1, Q_i = 0.01)"
   ]
  },
  {
   "cell_type": "markdown",
   "metadata": {
    "deletable": true,
    "editable": true
   },
   "source": [
    "## Leaf radiation balance"
   ]
  },
  {
   "cell_type": "code",
   "execution_count": 17,
   "metadata": {
    "collapsed": false,
    "deletable": true,
    "editable": true
   },
   "outputs": [
    {
     "data": {
      "text/plain": [
       "S_s"
      ]
     },
     "execution_count": 17,
     "metadata": {},
     "output_type": "execute_result"
    }
   ],
   "source": [
    "# Additional variables\n",
    "var2('alpha_l', 'Leaf albedo, fraction of shortwave radiation reflected by the leaf', watt/watt)\n",
    "var2('R_d', 'Downwelling global radiation', joule/second/meter^2)\n",
    "var2('R_la', 'Longwave radiation absorbed by leaf', joule/second/meter^2, latexname='R_{la}')\n",
    "var2('R_ld', 'Downwards emitted/reflected global radiation from leaf', joule/second/meter^2, latexname='R_{ld}')\n",
    "var2('R_lu', 'Upwards emitted/reflected global radiation from leaf', joule/second/meter^2, latexname='R_{lu}')\n",
    "var2('R_u', 'Upwelling global radiation', joule/second/meter^2)\n",
    "var2('S_a', 'Radiation sensor above leaf reading', joule/second/meter^2)\n",
    "var2('S_b', 'Radiation sensor below leaf reading', joule/second/meter^2)\n",
    "var2('S_s', 'Radiation sensor beside leaf reading', joule/second/meter^2)"
   ]
  },
  {
   "cell_type": "markdown",
   "metadata": {
    "deletable": true,
    "editable": true
   },
   "source": [
    "### Measuring radiative exchange\n",
    "\n",
    "<p>The leaf is exposed to downwelling radiation ($R_d$) originating from shortwave irradiance entering through the glass window plus the longwave irradiance transmitted througha and emitted by the glass window, plus the upwelling radiation ($R_u$) emitted by the bottom glass window.</p>\n",
    "<p>The leaf itself reflects some of the radiation in both direction and emits its own black body longwave radiation. The sum of refelcted and emitted radiation away from the leaf is denoted as $R_{lu}$ and $R_{ld}$ for upward and downwards respectively. We have three net radiation sensors in place, one above the leaf measuring $S_a$, one below the leaf measureing $S_b$ and one at the same level beside the leaf measureing $S_s$. These sensor measure:</p>\n",
    "<p><img style=\"float: right;\" src=\"figures/Leaf_radbalance.png\" alt=\"\" width=\"400\" height=\"300\" /></p>\n",
    "<p>$S_a = R_d - R_{lu}$</p>\n",
    "<p>$S_b = R_{ld} - R_u$</p>\n",
    "<p>$S_s = R_d - R_u$</p>\n",
    "<p>This leaves us with 3 equations with 4 unknows, so we either have to assume that $R_{lu} = R_{ld}$, assuming that both sides of the leaf have the same temperature or $R_u = 0$ to solve the algebraic problem. In daylight, $R_d >> R_u$, so this assumption should not lead to a big bias, however this would imply that $S_b = R_{ld}$, which is certainly incorrect.</p>\n",
    "<p>Unfortunately, the assumption $R_{lu} = R_{ld}$ does not help solve the problem as it just implies that $S_s = S_a + S_b$:</p>"
   ]
  },
  {
   "cell_type": "code",
   "execution_count": 18,
   "metadata": {
    "collapsed": false,
    "deletable": true,
    "editable": true
   },
   "outputs": [],
   "source": [
    "eq_Rs_Rd = R_s == (1-alpha_l)*R_d\n",
    "eq_Sa = S_a == R_d - R_lu\n",
    "eq_Sb = S_b == R_ld - R_u\n",
    "eq_Ss = S_s == R_d - R_u"
   ]
  },
  {
   "cell_type": "code",
   "execution_count": 19,
   "metadata": {
    "collapsed": false,
    "deletable": true,
    "editable": true
   },
   "outputs": [
    {
     "data": {
      "text/plain": [
       "[]"
      ]
     },
     "execution_count": 19,
     "metadata": {},
     "output_type": "execute_result"
    }
   ],
   "source": [
    "# Assuming R_lu = R_ld\n",
    "eq_assRldRlu = R_ld == R_lu\n",
    "solve([eq_Sa, eq_Sb.subs(eq_assRldRlu), eq_Ss], R_d, R_lu, R_u)"
   ]
  },
  {
   "cell_type": "code",
   "execution_count": 20,
   "metadata": {
    "collapsed": false,
    "deletable": true,
    "editable": true
   },
   "outputs": [
    {
     "data": {
      "text/plain": [
       "[S_s == S_a + S_b]"
      ]
     },
     "execution_count": 20,
     "metadata": {},
     "output_type": "execute_result"
    }
   ],
   "source": [
    "# More specifically,\n",
    "eq1 = solve(eq_Sa, R_d)[0]\n",
    "eq2 = solve(eq_Sb, R_ld)[0].subs(eq_assRldRlu)\n",
    "eq3 = solve(eq_Ss, R_u)[0] \n",
    "solve(eq1.subs(eq2).subs(eq3), S_s)"
   ]
  },
  {
   "cell_type": "code",
   "execution_count": 21,
   "metadata": {
    "collapsed": false,
    "deletable": true,
    "editable": true
   },
   "outputs": [
    {
     "name": "stdout",
     "output_type": "stream",
     "text": [
      "[\n",
      "[R_d == S_s, R_lu == -S_a + S_s, R_ld == S_b, R_u == 0]\n",
      "]\n"
     ]
    }
   ],
   "source": [
    "# Assuming that R_u = 0\n",
    "eq_assRu0 = R_u == 0\n",
    "soln = solve([eq_Sa, eq_Sb, eq_Ss, eq_assRu0], R_d, R_lu, R_ld, R_u)\n",
    "print soln"
   ]
  },
  {
   "cell_type": "code",
   "execution_count": 22,
   "metadata": {
    "collapsed": false,
    "deletable": true,
    "editable": true
   },
   "outputs": [],
   "source": [
    "#eq_Rd = soln[0][0]\n",
    "#eq_Rlu = soln[0][1]\n",
    "#eq_Rld = soln[0][2]\n",
    "#eq_Rlu"
   ]
  },
  {
   "cell_type": "markdown",
   "metadata": {
    "deletable": true,
    "editable": true
   },
   "source": [
    "<p>However, what we can do in any case is to quantify the net radiative energy absorbed by the leaf as</p>\n",
    "<p>$\\alpha_l R_s - R_{ll} = S_a - S_b$:</p>"
   ]
  },
  {
   "cell_type": "code",
   "execution_count": 23,
   "metadata": {
    "collapsed": false,
    "deletable": true,
    "editable": true
   },
   "outputs": [],
   "source": [
    "# Leaf radiation balance\n",
    "eq_Rs_Rll = R_s - R_ll == R_d + R_u - R_lu - R_ld\n",
    "eq_Rbalance = R_s - R_ll == S_a - S_b"
   ]
  },
  {
   "cell_type": "code",
   "execution_count": 24,
   "metadata": {
    "collapsed": false,
    "deletable": true,
    "editable": true
   },
   "outputs": [
    {
     "data": {
      "text/plain": [
       "[[R_d == S_s + r1, R_lu == -S_a + S_s + r1, R_ld == S_b + r1, R_u == r1]]"
      ]
     },
     "execution_count": 24,
     "metadata": {},
     "output_type": "execute_result"
    }
   ],
   "source": [
    "solve([eq_Sa, eq_Sb, eq_Ss, R_d + R_u - R_lu - R_ld == S_a - S_b], R_d, R_lu, R_ld, R_u)"
   ]
  },
  {
   "cell_type": "markdown",
   "metadata": {
    "deletable": true,
    "editable": true
   },
   "source": [
    "## Leaf water vapour exchange and energy balace\n",
    "The leaf water vapour exchange and energy balance equations were imported from [leaf_enbalance_eqs](Leaf_enbalance_eqs.ipynb). Here we will use an additional equation to estimate the thickness of the leaf boundary layer and get a feeling for the minimum distance between leaf and sensors to avoid interference with the boundary layer conditions."
   ]
  },
  {
   "cell_type": "code",
   "execution_count": 25,
   "metadata": {
    "collapsed": false,
    "deletable": true,
    "editable": true
   },
   "outputs": [
    {
     "name": "stdout",
     "output_type": "stream",
     "text": [
      "B_l == 0.0106559443973775\n"
     ]
    },
    {
     "data": {
      "text/plain": [
       "g_bw == 0.00626665953544432"
      ]
     },
     "execution_count": 25,
     "metadata": {},
     "output_type": "execute_result"
    }
   ],
   "source": [
    "# Blasius solution for BL thickness (http://en.wikipedia.org/wiki/Boundary-layer_thickness)\n",
    "var2('B_l', 'Boundary layer thickness', meter)\n",
    "vdict = cdict.copy()\n",
    "Ta = 300\n",
    "vdict[T_a] = Ta\n",
    "vdict[T_l] = Ta\n",
    "vdict[L_l] = 0.15\n",
    "vdict[v_w] = 0.5\n",
    "vdict[Re_c] = 3000\n",
    "vdict[a_s] = 1\n",
    "vdict[P_a] = 101325\n",
    "vdict[P_wa] = 0\n",
    "eq_Bl = B_l == 4.91*sqrt(nu_a*L_l/v_w)\n",
    "print eq_Bl.subs(eq_nua).subs(vdict)\n",
    "eq_gbw_hc.subs(eq_hc).subs(eq_Nu_forced_all).subs(eq_Re).subs(eq_rhoa).subs(eq_Le).subs(eq_Dva).subs(eq_alphaa, eq_nua, eq_ka).subs(vdict)"
   ]
  },
  {
   "cell_type": "code",
   "execution_count": 26,
   "metadata": {
    "collapsed": false,
    "deletable": true,
    "editable": true
   },
   "outputs": [
    {
     "name": "stdout",
     "output_type": "stream",
     "text": [
      "B_l == 0.00119137080184970\n"
     ]
    },
    {
     "data": {
      "text/plain": [
       "g_bw == 0.0618819100593627"
      ]
     },
     "execution_count": 26,
     "metadata": {},
     "output_type": "execute_result"
    }
   ],
   "source": [
    "vdict[L_l] = 0.03\n",
    "vdict[v_w] = 8\n",
    "print eq_Bl.subs(eq_nua).subs(vdict)\n",
    "eq_gbw_hc.subs(eq_hc).subs(eq_Nu_forced_all).subs(eq_Re).subs(eq_rhoa).subs(eq_Le).subs(eq_Dva).subs(eq_alphaa, eq_nua, eq_ka).subs(vdict)"
   ]
  },
  {
   "cell_type": "code",
   "execution_count": 27,
   "metadata": {
    "collapsed": false,
    "deletable": true,
    "editable": true
   },
   "outputs": [
    {
     "data": {
      "image/png": "[encoded data removed]",
      "text/plain": [
       "Graphics object consisting of 1 graphics primitive"
      ]
     },
     "execution_count": 27,
     "metadata": {},
     "output_type": "execute_result"
    }
   ],
   "source": [
    "# How does B_l scale with wind speed?\n",
    "vdict[v_w] = v_w\n",
    "P = plot(eq_Bl.rhs().subs(eq_nua).subs(vdict), (v_w, 0.5,5))\n",
    "P.axes_labels(['Wind speed (m s$^{-1}$)', 'Boundary layer thickness (m)'])\n",
    "P"
   ]
  },
  {
   "cell_type": "code",
   "execution_count": 28,
   "metadata": {
    "collapsed": false,
    "deletable": true,
    "editable": true
   },
   "outputs": [
    {
     "data": {
      "text/plain": [
       "0.540000000000000"
      ]
     },
     "execution_count": 28,
     "metadata": {},
     "output_type": "execute_result"
    }
   ],
   "source": [
    "# Maximum sensible heat flux of a 3x3 cm leaf irradiated by 600 W/m2\n",
    "600*0.03^2"
   ]
  },
  {
   "cell_type": "markdown",
   "metadata": {
    "deletable": true,
    "editable": true
   },
   "source": [
    "<h1>Chamber mass and energy balance</h1>\n",
    "<p>Usually, we know the volumetric inflow into the chamber, so to convert to molar inflow (mol s$^{-1}$), we will use the ideal gas law: $P_a V_c = n R_{mol} T_{in}$, where $n$ is the amount of matter in the chamber (mol). To convert from a volume to a flow rate, we replace $V_c$ by $F_{in,v}$. Note that partial pressures of dry air and vapour are additive, such that</p>\n",
    "<p>$P_a = P_w + P_d$</p>\n",
    "<p>However, the volumes are not additive, meaning that:</p>\n",
    "<p>$P_d V_a = n_d R_{mol} T_{a}$</p>\n",
    "<p>$(P_a - P_d) V_a = n_a R_{mol} T_{a}$</p>\n",
    "<p>i.e. we use the same volume ($V_a$) for both the vapour and the dry air. This is because both the vapour and the dry air are well mixed and occupy the same total volume. Their different amounts are expressed in their partial pressures. If we wanted to calculate the partial volumes they would take up in isolation from each other, we would need to specify at which pressure this volume is taken up and if we used the same pressure for both (e.g. $P_a$), we would obtain a volume fraction for water vapour equivalent to its partial pressure fraction in the former case.</p>\n",
    "<p>Therefore, we will distinguish the molar flow rates of water vapour ($F_{in,mol,v}$) and dry air ($F_{in,mol,a}$) but they share a common volumetric flow rate ($F_{in,v}$).</p>"
   ]
  },
  {
   "cell_type": "code",
   "execution_count": 29,
   "metadata": {
    "collapsed": false,
    "deletable": true,
    "editable": true
   },
   "outputs": [
    {
     "data": {
      "text/plain": [
       "L_A"
      ]
     },
     "execution_count": 29,
     "metadata": {},
     "output_type": "execute_result"
    }
   ],
   "source": [
    "var2('W_c', 'Chamber width', meter)\n",
    "var2('L_c', 'Chamber length', meter)\n",
    "var2('H_c', 'Chamber height', meter)\n",
    "var2('V_c', 'Chamber volume', meter^3)\n",
    "var2('n_c', 'molar mass of gas in chamber', mole)\n",
    "var2('F_in_v', 'Volumetric flow rate into chamber', meter^3/second, latexname='F_{in,v}')\n",
    "var2('F_in_mola', 'Molar flow rate of dry air into chamber', mole/second, latexname='F_{in,mol,a}')\n",
    "var2('F_in_molw', 'Molar flow rate of water vapour into chamber', mole/second, latexname='F_{in,mol,w}')\n",
    "var2('F_out_mola', 'Molar flow rate of dry air out of chamber', mole/second, latexname='F_{out,mol,a}')\n",
    "var2('F_out_molw', 'Molar flow rate of water vapour out of chamber', mole/second, latexname='F_{out,mol,w}')\n",
    "var2('F_out_v', 'Volumetric flow rate out of chamber', meter^3/second, latexname='F_{out,v}')\n",
    "var2('T_d', 'Dew point temperature of incoming air', kelvin)\n",
    "var2('T_in', 'Temperature of incoming air', kelvin, latexname='T_{in}')\n",
    "var2('T_out', 'Temperature of outgoing air (= chamber T_a)', kelvin, latexname='T_{out}')\n",
    "var2('T_room', 'Lab air temperature', kelvin, latexname='T_{room}')\n",
    "var2('P_w_in', 'Vapour pressure of incoming air', pascal, latexname='P_{w,in}')\n",
    "var2('P_w_out', 'Vapour pressure of outgoing air', pascal, latexname='P_{w,out}')\n",
    "var2('R_H_in', 'Relative humidity of incoming air', latexname='R_{H,in}')\n",
    "var2('L_A', 'Leaf area', meter^2)"
   ]
  },
  {
   "cell_type": "code",
   "execution_count": 30,
   "metadata": {
    "collapsed": false,
    "deletable": true,
    "editable": true
   },
   "outputs": [
    {
     "data": {
      "text/html": [
       "<html><script type=\"math/tex; mode=display\">\\newcommand{\\Bold}[1]{\\mathbf{#1}}V_{c} = H_{c} L_{c} W_{c}</script></html>"
      ],
      "text/plain": [
       "V_c == H_c*L_c*W_c"
      ]
     },
     "metadata": {},
     "output_type": "display_data"
    },
    {
     "name": "stdout",
     "output_type": "stream",
     "text": [
      "meter^3 == meter^3\n"
     ]
    },
    {
     "data": {
      "text/html": [
       "<html><script type=\"math/tex; mode=display\">\\newcommand{\\Bold}[1]{\\mathbf{#1}}{F_{in,mol,a}} = \\frac{{F_{in,v}} {\\left(P_{a} - {P_{w,in}}\\right)}}{{R_{mol}} {T_{in}}}</script></html>"
      ],
      "text/plain": [
       "F_in_mola == F_in_v*(P_a - P_w_in)/(R_mol*T_in)"
      ]
     },
     "metadata": {},
     "output_type": "display_data"
    },
    {
     "name": "stdout",
     "output_type": "stream",
     "text": [
      "mole/second == mole/second\n"
     ]
    },
    {
     "data": {
      "text/html": [
       "<html><script type=\"math/tex; mode=display\">\\newcommand{\\Bold}[1]{\\mathbf{#1}}{F_{in,mol,w}} = \\frac{{F_{in,v}} {P_{w,in}}}{{R_{mol}} {T_{in}}}</script></html>"
      ],
      "text/plain": [
       "F_in_molw == F_in_v*P_w_in/(R_mol*T_in)"
      ]
     },
     "metadata": {},
     "output_type": "display_data"
    },
    {
     "name": "stdout",
     "output_type": "stream",
     "text": [
      "mole/second == mole/second\n"
     ]
    },
    {
     "data": {
      "text/html": [
       "<html><script type=\"math/tex; mode=display\">\\newcommand{\\Bold}[1]{\\mathbf{#1}}{F_{out,mol,a}} = \\frac{{F_{out,v}} {\\left(P_{a} - {P_{w,out}}\\right)}}{{R_{mol}} {T_{out}}}</script></html>"
      ],
      "text/plain": [
       "F_out_mola == F_out_v*(P_a - P_w_out)/(R_mol*T_out)"
      ]
     },
     "metadata": {},
     "output_type": "display_data"
    },
    {
     "name": "stdout",
     "output_type": "stream",
     "text": [
      "mole/second == mole/second\n"
     ]
    },
    {
     "data": {
      "text/html": [
       "<html><script type=\"math/tex; mode=display\">\\newcommand{\\Bold}[1]{\\mathbf{#1}}{F_{out,mol,w}} = \\frac{{F_{out,v}} {P_{w,out}}}{{R_{mol}} {T_{out}}}</script></html>"
      ],
      "text/plain": [
       "F_out_molw == F_out_v*P_w_out/(R_mol*T_out)"
      ]
     },
     "metadata": {},
     "output_type": "display_data"
    },
    {
     "name": "stdout",
     "output_type": "stream",
     "text": [
      "mole/second == mole/second\n"
     ]
    },
    {
     "data": {
      "text/html": [
       "<html><script type=\"math/tex; mode=display\">\\newcommand{\\Bold}[1]{\\mathbf{#1}}{F_{out,v}} = \\frac{{\\left({F_{out,mol,a}} + {F_{out,mol,w}}\\right)} {R_{mol}} {T_{out}}}{P_{a}}</script></html>"
      ],
      "text/plain": [
       "F_out_v == (F_out_mola + F_out_molw)*R_mol*T_out/P_a"
      ]
     },
     "metadata": {},
     "output_type": "display_data"
    },
    {
     "name": "stdout",
     "output_type": "stream",
     "text": [
      "meter^3/second == meter^3/second\n"
     ]
    }
   ],
   "source": [
    "eq_V_c = fun_eq(V_c == W_c*L_c*H_c)\n",
    "eq_F_in_mola = fun_eq(F_in_mola == (P_a - P_w_in)*F_in_v/(R_mol*T_in))\n",
    "eq_F_in_molw = fun_eq(F_in_molw == (P_w_in)*F_in_v/(R_mol*T_in))\n",
    "eq_F_out_mola = fun_eq(F_out_mola == (P_a - P_w_out)*F_out_v/(R_mol*T_out))\n",
    "eq_F_out_molw = fun_eq(F_out_molw == (P_w_out)*F_out_v/(R_mol*T_out))\n",
    "eq_F_out_v = fun_eq(F_out_v == (F_out_mola + F_out_molw)*R_mol*T_out/P_a)"
   ]
  },
  {
   "cell_type": "markdown",
   "metadata": {
    "deletable": true,
    "editable": true
   },
   "source": [
    "<p>At steady state, $F_{out,mola} = F_{in,mola}$ and $F_{out,molw} = F_{in,molw} + E_{l,mol} L_A$. In the presence of evaporation, we can simply add Elmol to get F_out_v as a function of F_in_v</p>\n",
    "<p>Assuming that the pressure inside the chamber is constant and equal to the pressure outside, we compute the change in volumetric outflow due to a change in temperature and due to the input of water vapour by transpiration as:</p>"
   ]
  },
  {
   "cell_type": "code",
   "execution_count": 31,
   "metadata": {
    "collapsed": false,
    "deletable": true,
    "editable": true
   },
   "outputs": [
    {
     "data": {
      "text/html": [
       "<html><script type=\"math/tex; mode=display\">\\newcommand{\\Bold}[1]{\\mathbf{#1}}{F_{out,v}} = \\frac{{E_{l,mol}} L_{A} {R_{mol}} {T_{in}} {T_{out}} + {F_{in,v}} P_{a} {T_{out}}}{P_{a} {T_{in}}}</script></html>"
      ],
      "text/plain": [
       "F_out_v == (E_lmol*L_A*R_mol*T_in*T_out + F_in_v*P_a*T_out)/(P_a*T_in)"
      ]
     },
     "metadata": {},
     "output_type": "display_data"
    },
    {
     "data": {
      "text/plain": [
       "meter^3/second == meter^3/second"
      ]
     },
     "execution_count": 31,
     "metadata": {},
     "output_type": "execute_result"
    }
   ],
   "source": [
    "eq_Foutv_Finv_Tout = eq_F_out_v.subs(F_out_mola = F_in_mola, F_out_molw = F_in_molw + E_lmol*L_A).subs(eq_F_in_mola, eq_F_in_molw).simplify_full()\n",
    "units_check(eq_Foutv_Finv_Tout)"
   ]
  },
  {
   "cell_type": "code",
   "execution_count": 32,
   "metadata": {
    "collapsed": false,
    "deletable": true,
    "editable": true
   },
   "outputs": [
    {
     "data": {
      "text/plain": [
       "F_out_v == (E_lmol*L_A*R_mol*T_in*T_out + F_in_v*P_a*T_out)/(P_a*T_in)"
      ]
     },
     "execution_count": 32,
     "metadata": {},
     "output_type": "execute_result"
    }
   ],
   "source": [
    "eq_Foutv_Finv_Tout"
   ]
  },
  {
   "cell_type": "code",
   "execution_count": 33,
   "metadata": {
    "collapsed": false,
    "deletable": true,
    "editable": true
   },
   "outputs": [
    {
     "data": {
      "text/html": [
       "<html><script type=\"math/tex; mode=display\">\\newcommand{\\Bold}[1]{\\mathbf{#1}}{F_{out,mol,w}} = {E_{l,mol}} L_{A} + {F_{in,mol,w}}</script></html>"
      ],
      "text/plain": [
       "F_out_molw == E_lmol*L_A + F_in_molw"
      ]
     },
     "metadata": {},
     "output_type": "display_data"
    },
    {
     "data": {
      "text/plain": [
       "mole/second == mole/second"
      ]
     },
     "execution_count": 33,
     "metadata": {},
     "output_type": "execute_result"
    }
   ],
   "source": [
    "# Other way, using molar in and outflow\n",
    "eq_Foutmolw_Finmolw_Elmol = F_out_molw == (F_in_molw + E_lmol*L_A)\n",
    "units_check(eq_Foutmolw_Finmolw_Elmol)"
   ]
  },
  {
   "cell_type": "code",
   "execution_count": null,
   "metadata": {
    "collapsed": false,
    "deletable": true,
    "editable": true
   },
   "outputs": [],
   "source": []
  },
  {
   "cell_type": "markdown",
   "metadata": {
    "deletable": true,
    "editable": true
   },
   "source": [
    "<h2>Change in air temperature</h2>\n",
    "<p>See also <a href=\"http://www.engineeringtoolbox.com/mixing-humid-air-d_694.html\">http://www.engineeringtoolbox.com/mixing-humid-air-d_694.html</a> and <a href=\"http://www.engineeringtoolbox.com/enthalpy-moist-air-d_683.html\">http://www.engineeringtoolbox.com/enthalpy-moist-air-d_683.html</a> for reference.</p>\n",
    "<p>We will assume that the air entering the chamber mixes with the air inside the chamber at constant pressure, i.e. the volume of the mixed air becomes the chamber volume plus the volume of the air that entered. The temperature of the mixed air is then the sum of their enthalpies plus the heat added by the fan and by sensible heaflux, divided by the sum of their heat capacities. The addition of water vapour through evaporation by itself should not affect the air temperature, but the volume of the air.</p>\n",
    "<p> </p>\n",
    "<p>Alternatively, we could assume that a given amount of air is added to a constant volume, leading to an increase in pressure. Addition of water vapour would lead to an additional increase in pressure. In addition, addition/removal of heat by sensible heat flux and the chamber fan would affect both temperature and pressure.To calculate both temperature and pressure, we need to track the internal energy in addition to the mole number. According to Eq. 6.1.3 in Kondepudi & Prigogine (2006), the internal energy of an ideal gas is given by (see also Eq. 2.2.15 in Kondepuid & Prigogine):</p>\n",
    "<p>$U = N(U_0 + C_v T)$</p>\n",
    "<p>where</p>\n",
    "<p>$U_0 = M c^2$</p>\n",
    "<p>The relation between molar heat capacities at constant pressure and volume is given as :</p>\n",
    "<p>$C_v = C_p - R_{mol}$</p>\n",
    "<p>Any heat exchanged by sensible heat flux, across the walls and the fan can be added to total $U$, and then knowledge about total $C_v$ will let us calculate air temperature inside the chamber. After that, we can use the ideal gas law to calculate volume or pressure, depending in which of those we fixed:</p>\n",
    "<p>$P V = n R T$</p>\n",
    "<p> </p>\n",
    "<p>The difference in water vapour pressure and temperature between the incoming and outgoing air is a function of the latent and sensible heat flux, as well as the flow rate. The heat fluxes associated with the incoming and outgoing air are $T_{in} (c_{pa} F_{in,mola} M_{air} + c_{pv} F_{in,molw} M_{w})$ and $T_{out} (c_{pa} F_{out,mola} M_{air} + c_{pv} F_{out,molw} M_{w})$ respectively. The difference between the two plus any additional heat sources/sinks ($Q_{in}$) equals the sensible heat flux at constant air temperature (steady state).</p>"
   ]
  },
  {
   "cell_type": "code",
   "execution_count": 34,
   "metadata": {
    "collapsed": false,
    "deletable": true,
    "editable": true
   },
   "outputs": [
    {
     "data": {
      "text/html": [
       "<html><script type=\"math/tex; mode=display\">\\newcommand{\\Bold}[1]{\\mathbf{#1}}{F_{out,v}} = \\frac{{\\left({F_{out,mol,a}} + {F_{out,mol,w}}\\right)} {R_{mol}} {T_{out}}}{P_{a}}</script></html>"
      ],
      "text/plain": [
       "F_out_v == (F_out_mola + F_out_molw)*R_mol*T_out/P_a"
      ]
     },
     "metadata": {},
     "output_type": "display_data"
    },
    {
     "data": {
      "text/plain": [
       "meter^3/second == meter^3/second"
      ]
     },
     "execution_count": 34,
     "metadata": {},
     "output_type": "execute_result"
    }
   ],
   "source": [
    "units_check(eq_F_out_v)"
   ]
  },
  {
   "cell_type": "code",
   "execution_count": 35,
   "metadata": {
    "collapsed": false,
    "deletable": true,
    "editable": true
   },
   "outputs": [
    {
     "data": {
      "text/html": [
       "<html><script type=\"math/tex; mode=display\">\\newcommand{\\Bold}[1]{\\mathbf{#1}}0 = H_{l} L_{A} + {\\left({F_{in,mol,a}} {M_{air}} {c_{pa}} + {F_{in,mol,w}} M_{w} {c_{pv}}\\right)} {T_{in}} - {\\left({F_{out,mol,a}} {M_{air}} {c_{pa}} + {F_{out,mol,w}} M_{w} {c_{pv}}\\right)} {T_{out}} + {Q_{in}}</script></html>"
      ],
      "text/plain": [
       "0 == H_l*L_A + (F_in_mola*M_air*c_pa + F_in_molw*M_w*c_pv)*T_in - (F_out_mola*M_air*c_pa + F_out_molw*M_w*c_pv)*T_out + Q_in"
      ]
     },
     "metadata": {},
     "output_type": "display_data"
    },
    {
     "data": {
      "text/html": [
       "<html><script type=\"math/tex; mode=display\">\\newcommand{\\Bold}[1]{\\mathbf{#1}}H_{l} = {E_{l,mol}} M_{w} {T_{out}} {c_{pv}} - \\frac{{F_{in,mol,a}} {M_{air}} {T_{in}} {c_{pa}}}{L_{A}} + \\frac{{F_{in,mol,a}} {M_{air}} {T_{out}} {c_{pa}}}{L_{A}} - \\frac{{F_{in,mol,w}} M_{w} {T_{in}} {c_{pv}}}{L_{A}} + \\frac{{F_{in,mol,w}} M_{w} {T_{out}} {c_{pv}}}{L_{A}} - \\frac{{Q_{in}}}{L_{A}}</script></html>"
      ],
      "text/plain": [
       "H_l == E_lmol*M_w*T_out*c_pv - F_in_mola*M_air*T_in*c_pa/L_A + F_in_mola*M_air*T_out*c_pa/L_A - F_in_molw*M_w*T_in*c_pv/L_A + F_in_molw*M_w*T_out*c_pv/L_A - Q_in/L_A"
      ]
     },
     "metadata": {},
     "output_type": "display_data"
    },
    {
     "name": "stdout",
     "output_type": "stream",
     "text": [
      "kilogram/second^3 == kilogram/second^3\n"
     ]
    }
   ],
   "source": [
    "var2('M_air', 'Molar mass of air (kg mol-1)', kilogram/mole, value = 0.02897, latexname='M_{air}')  # http://www.engineeringtoolbox.com/molecular-mass-air-d_679.html\n",
    "var2('c_pv', 'Specific heat of water vapour at 300 K', joule/kilogram/kelvin, latexname = 'c_{pv}', value = 1864) # source: http://www.engineeringtoolbox.com/water-vapor-d_979.html\n",
    "var2('Q_in', 'Internal heat sources, such as fan', joule/second, latexname = 'Q_{in}')\n",
    "eq_chamber_energy_balance = 0 == H_l*L_A + Q_in + T_in*(c_pa*M_air*F_in_mola + c_pv*M_w*F_in_molw) - (T_out*(c_pa*M_air*F_out_mola + c_pv*M_w*F_out_molw)); show(eq_chamber_energy_balance)\n",
    "eq_Hl_enbal = solve(eq_chamber_energy_balance.subs(F_out_mola == F_in_mola, F_out_molw == F_in_molw + L_A*E_lmol), H_l)[0].expand()\n",
    "print units_check(eq_Hl_enbal)"
   ]
  },
  {
   "cell_type": "code",
   "execution_count": 36,
   "metadata": {
    "collapsed": false,
    "deletable": true,
    "editable": true
   },
   "outputs": [
    {
     "name": "stdout",
     "output_type": "stream",
     "text": [
      "[\n",
      "T_out == (F_in_mola*M_air*T_in*c_pa + F_in_molw*M_w*T_in*c_pv + H_l*L_A + Q_in)/(E_lmol*L_A*M_w*c_pv + F_in_mola*M_air*c_pa + F_in_molw*M_w*c_pv)\n",
      "]\n"
     ]
    },
    {
     "data": {
      "text/html": [
       "<html><script type=\"math/tex; mode=display\">\\newcommand{\\Bold}[1]{\\mathbf{#1}}{T_{out}} = \\frac{{F_{in,mol,a}} {M_{air}} {T_{in}} {c_{pa}} + {F_{in,mol,w}} M_{w} {T_{in}} {c_{pv}} + H_{l} L_{A} + {Q_{in}}}{{E_{l,mol}} L_{A} M_{w} {c_{pv}} + {F_{in,mol,a}} {M_{air}} {c_{pa}} + {F_{in,mol,w}} M_{w} {c_{pv}}}</script></html>"
      ],
      "text/plain": [
       "T_out == (F_in_mola*M_air*T_in*c_pa + F_in_molw*M_w*T_in*c_pv + H_l*L_A + Q_in)/(E_lmol*L_A*M_w*c_pv + F_in_mola*M_air*c_pa + F_in_molw*M_w*c_pv)"
      ]
     },
     "metadata": {},
     "output_type": "display_data"
    },
    {
     "data": {
      "text/plain": [
       "kelvin == kelvin"
      ]
     },
     "execution_count": 36,
     "metadata": {},
     "output_type": "execute_result"
    }
   ],
   "source": [
    "soln = solve(eq_chamber_energy_balance.subs(eq_Foutmolw_Finmolw_Elmol, F_out_mola == F_in_mola), T_out)\n",
    "print soln\n",
    "eq_Tout_Finmol_Tin = soln[0]\n",
    "units_check(eq_Tout_Finmol_Tin).simplify_full().convert().simplify_full()"
   ]
  },
  {
   "cell_type": "code",
   "execution_count": 37,
   "metadata": {
    "collapsed": false,
    "deletable": true,
    "editable": true
   },
   "outputs": [
    {
     "name": "stdout",
     "output_type": "stream",
     "text": [
      "T_out == (F_in_v*M_w*P_w_in*T_in*c_pv + H_l*L_A*R_mol*T_in + Q_in*R_mol*T_in + (F_in_v*M_air*P_a - F_in_v*M_air*P_w_in)*T_in*c_pa)/(E_lmol*L_A*M_w*R_mol*T_in*c_pv + F_in_v*M_w*P_w_in*c_pv + (F_in_v*M_air*P_a - F_in_v*M_air*P_w_in)*c_pa)\n"
     ]
    },
    {
     "data": {
      "text/html": [
       "<html><script type=\"math/tex; mode=display\">\\newcommand{\\Bold}[1]{\\mathbf{#1}}{T_{out}} = \\frac{{F_{in,v}} M_{w} {P_{w,in}} {T_{in}} {c_{pv}} + H_{l} L_{A} {R_{mol}} {T_{in}} + {Q_{in}} {R_{mol}} {T_{in}} + {\\left({F_{in,v}} {M_{air}} P_{a} - {F_{in,v}} {M_{air}} {P_{w,in}}\\right)} {T_{in}} {c_{pa}}}{{E_{l,mol}} L_{A} M_{w} {R_{mol}} {T_{in}} {c_{pv}} + {F_{in,v}} M_{w} {P_{w,in}} {c_{pv}} + {\\left({F_{in,v}} {M_{air}} P_{a} - {F_{in,v}} {M_{air}} {P_{w,in}}\\right)} {c_{pa}}}</script></html>"
      ],
      "text/plain": [
       "T_out == (F_in_v*M_w*P_w_in*T_in*c_pv + H_l*L_A*R_mol*T_in + Q_in*R_mol*T_in + (F_in_v*M_air*P_a - F_in_v*M_air*P_w_in)*T_in*c_pa)/(E_lmol*L_A*M_w*R_mol*T_in*c_pv + F_in_v*M_w*P_w_in*c_pv + (F_in_v*M_air*P_a - F_in_v*M_air*P_w_in)*c_pa)"
      ]
     },
     "metadata": {},
     "output_type": "display_data"
    },
    {
     "data": {
      "text/html": [
       "<html><script type=\"math/tex; mode=display\">\\newcommand{\\Bold}[1]{\\mathbf{#1}}{T_{out}} = \\frac{{F_{in,v}} M_{w} {P_{w,in}} {T_{in}} {c_{pv}} + H_{l} L_{A} {R_{mol}} {T_{in}} + {Q_{in}} {R_{mol}} {T_{in}} + {\\left({F_{in,v}} {M_{air}} P_{a} - {F_{in,v}} {M_{air}} {P_{w,in}}\\right)} {T_{in}} {c_{pa}}}{{E_{l,mol}} L_{A} M_{w} {R_{mol}} {T_{in}} {c_{pv}} + {F_{in,v}} M_{w} {P_{w,in}} {c_{pv}} + {\\left({F_{in,v}} {M_{air}} P_{a} - {F_{in,v}} {M_{air}} {P_{w,in}}\\right)} {c_{pa}}}</script></html>"
      ],
      "text/plain": [
       "T_out == (F_in_v*M_w*P_w_in*T_in*c_pv + H_l*L_A*R_mol*T_in + Q_in*R_mol*T_in + (F_in_v*M_air*P_a - F_in_v*M_air*P_w_in)*T_in*c_pa)/(E_lmol*L_A*M_w*R_mol*T_in*c_pv + F_in_v*M_w*P_w_in*c_pv + (F_in_v*M_air*P_a - F_in_v*M_air*P_w_in)*c_pa)"
      ]
     },
     "metadata": {},
     "output_type": "display_data"
    },
    {
     "data": {
      "text/plain": [
       "kelvin == kelvin"
      ]
     },
     "execution_count": 37,
     "metadata": {},
     "output_type": "execute_result"
    }
   ],
   "source": [
    "eq_Tout_Finv_Tin = eq_Tout_Finmol_Tin.subs(eq_F_in_mola, eq_F_in_molw).simplify_full()\n",
    "print eq_Tout_Finv_Tin\n",
    "show(eq_Tout_Finv_Tin)\n",
    "units_check(eq_Tout_Finv_Tin).simplify_full().convert()"
   ]
  },
  {
   "cell_type": "code",
   "execution_count": null,
   "metadata": {
    "collapsed": false,
    "deletable": true,
    "editable": true
   },
   "outputs": [],
   "source": []
  },
  {
   "cell_type": "markdown",
   "metadata": {
    "deletable": true,
    "editable": true
   },
   "source": [
    "<p>The molar outflux of dry air equals the molar influx of dry air, while the molar outflux of water vapour equals the molar influx plus the evaporation rate. The sum of both can be used to obtain the volumetric outflow:</p>"
   ]
  },
  {
   "cell_type": "code",
   "execution_count": 38,
   "metadata": {
    "collapsed": false,
    "deletable": true,
    "editable": true
   },
   "outputs": [
    {
     "data": {
      "text/html": [
       "<html><script type=\"math/tex; mode=display\">\\newcommand{\\Bold}[1]{\\mathbf{#1}}{F_{out,mol,a}} + {F_{out,mol,w}} = \\frac{{F_{out,v}} P_{a}}{{R_{mol}} {T_{out}}}</script></html>"
      ],
      "text/plain": [
       "F_out_mola + F_out_molw == F_out_v*P_a/(R_mol*T_out)"
      ]
     },
     "metadata": {},
     "output_type": "display_data"
    },
    {
     "data": {
      "text/html": [
       "<html><script type=\"math/tex; mode=display\">\\newcommand{\\Bold}[1]{\\mathbf{#1}}{E_{l,mol}} L_{A} + \\frac{{F_{in,v}} {\\left(P_{a} - {P_{w,in}}\\right)}}{{R_{mol}} {T_{in}}} + \\frac{{F_{in,v}} {P_{w,in}}}{{R_{mol}} {T_{in}}} = \\frac{{F_{out,v}} P_{a}}{{R_{mol}} {T_{out}}}</script></html>"
      ],
      "text/plain": [
       "E_lmol*L_A + F_in_v*(P_a - P_w_in)/(R_mol*T_in) + F_in_v*P_w_in/(R_mol*T_in) == F_out_v*P_a/(R_mol*T_out)"
      ]
     },
     "metadata": {},
     "output_type": "display_data"
    },
    {
     "name": "stdout",
     "output_type": "stream",
     "text": [
      "[\n",
      "F_out_v == (E_lmol*L_A*R_mol*T_in*T_out + F_in_v*P_a*T_out)/(P_a*T_in)\n",
      "]\n"
     ]
    },
    {
     "data": {
      "text/html": [
       "<html><script type=\"math/tex; mode=display\">\\newcommand{\\Bold}[1]{\\mathbf{#1}}{F_{out,v}} = \\frac{{E_{l,mol}} L_{A} {R_{mol}} {T_{in}} {T_{out}} + {F_{in,v}} P_{a} {T_{out}}}{P_{a} {T_{in}}}</script></html>"
      ],
      "text/plain": [
       "F_out_v == (E_lmol*L_A*R_mol*T_in*T_out + F_in_v*P_a*T_out)/(P_a*T_in)"
      ]
     },
     "metadata": {},
     "output_type": "display_data"
    },
    {
     "data": {
      "text/html": [
       "<html><script type=\"math/tex; mode=display\">\\newcommand{\\Bold}[1]{\\mathbf{#1}}{F_{out,v}} = \\frac{{E_{l,mol}} L_{A} {R_{mol}} {T_{in}} {T_{out}} + {F_{in,v}} P_{a} {T_{out}}}{P_{a} {T_{in}}}</script></html>"
      ],
      "text/plain": [
       "F_out_v == (E_lmol*L_A*R_mol*T_in*T_out + F_in_v*P_a*T_out)/(P_a*T_in)"
      ]
     },
     "metadata": {},
     "output_type": "display_data"
    },
    {
     "data": {
      "text/plain": [
       "meter^3/second == meter^3/second"
      ]
     },
     "execution_count": 38,
     "metadata": {},
     "output_type": "execute_result"
    }
   ],
   "source": [
    "# F_out_v as function of F_inv and T_in\n",
    "eq1 = (eq_F_out_molw + eq_F_out_mola).simplify_full(); show(eq1)\n",
    "eq2 = eq1.subs(F_out_mola == F_in_mola, eq_Foutmolw_Finmolw_Elmol).subs(eq_F_in_mola, eq_F_in_molw); show(eq2)\n",
    "soln = solve(eq2,F_out_v); print soln\n",
    "eq_Foutv_Finv = soln[0]; show(eq_Foutv_Finv)\n",
    "units_check(eq_Foutv_Finv)"
   ]
  },
  {
   "cell_type": "code",
   "execution_count": 39,
   "metadata": {
    "collapsed": false,
    "deletable": true,
    "editable": true
   },
   "outputs": [
    {
     "data": {
      "text/plain": [
       "F_out_v == (E_lmol*L_A*R_mol*T_in*T_out + F_in_v*P_a*T_out)/(P_a*T_in)"
      ]
     },
     "execution_count": 39,
     "metadata": {},
     "output_type": "execute_result"
    }
   ],
   "source": [
    "eq_Foutv_Finv"
   ]
  },
  {
   "cell_type": "code",
   "execution_count": 40,
   "metadata": {
    "collapsed": false,
    "deletable": true,
    "editable": true
   },
   "outputs": [
    {
     "data": {
      "text/plain": [
       "F_out_v == (E_lmol*L_A*R_mol*T_in*T_out + F_in_v*P_a*T_out)/(P_a*T_in)"
      ]
     },
     "execution_count": 40,
     "metadata": {},
     "output_type": "execute_result"
    }
   ],
   "source": [
    "eq_Foutv_Finv_Tout"
   ]
  },
  {
   "cell_type": "code",
   "execution_count": 41,
   "metadata": {
    "collapsed": false,
    "deletable": true,
    "editable": true
   },
   "outputs": [
    {
     "data": {
      "text/plain": [
       "T_out == (F_in_mola*M_air*T_in*c_pa + F_in_molw*M_w*T_in*c_pv + H_l*L_A + Q_in)/(E_lmol*L_A*M_w*c_pv + F_in_mola*M_air*c_pa + F_in_molw*M_w*c_pv)"
      ]
     },
     "execution_count": 41,
     "metadata": {},
     "output_type": "execute_result"
    }
   ],
   "source": [
    "eq_Tout_Finmol_Tin"
   ]
  },
  {
   "cell_type": "code",
   "execution_count": 42,
   "metadata": {
    "collapsed": false,
    "deletable": true,
    "editable": true
   },
   "outputs": [
    {
     "data": {
      "text/html": [
       "<html><script type=\"math/tex; mode=display\">\\newcommand{\\Bold}[1]{\\mathbf{#1}}0 = H_{l} L_{A} + {\\left({F_{in,mol,a}} {M_{air}} {c_{pa}} + {F_{in,mol,w}} M_{w} {c_{pv}}\\right)} {T_{in}} - {\\left({F_{out,mol,a}} {M_{air}} {c_{pa}} + {F_{out,mol,w}} M_{w} {c_{pv}}\\right)} {T_{out}} + {Q_{in}}</script></html>"
      ],
      "text/plain": [
       "0 == H_l*L_A + (F_in_mola*M_air*c_pa + F_in_molw*M_w*c_pv)*T_in - (F_out_mola*M_air*c_pa + F_out_molw*M_w*c_pv)*T_out + Q_in"
      ]
     },
     "metadata": {},
     "output_type": "display_data"
    },
    {
     "name": "stdout",
     "output_type": "stream",
     "text": [
      "[\n",
      "T_in == (F_in_v*M_w*P_w_in*T_out*c_pv + (F_in_v*M_air*P_a - F_in_v*M_air*P_w_in)*T_out*c_pa)/(F_in_v*M_w*P_w_in*c_pv - (E_lmol*M_w*R_mol*T_out*c_pv - H_l*R_mol)*L_A + Q_in*R_mol + (F_in_v*M_air*P_a - F_in_v*M_air*P_w_in)*c_pa)\n",
      "]\n"
     ]
    },
    {
     "data": {
      "text/html": [
       "<html><script type=\"math/tex; mode=display\">\\newcommand{\\Bold}[1]{\\mathbf{#1}}{T_{in}} = \\frac{{F_{in,v}} M_{w} {P_{w,in}} {T_{out}} {c_{pv}} + {\\left({F_{in,v}} {M_{air}} P_{a} - {F_{in,v}} {M_{air}} {P_{w,in}}\\right)} {T_{out}} {c_{pa}}}{{F_{in,v}} M_{w} {P_{w,in}} {c_{pv}} - {\\left({E_{l,mol}} M_{w} {R_{mol}} {T_{out}} {c_{pv}} - H_{l} {R_{mol}}\\right)} L_{A} + {Q_{in}} {R_{mol}} + {\\left({F_{in,v}} {M_{air}} P_{a} - {F_{in,v}} {M_{air}} {P_{w,in}}\\right)} {c_{pa}}}</script></html>"
      ],
      "text/plain": [
       "T_in == (F_in_v*M_w*P_w_in*T_out*c_pv + (F_in_v*M_air*P_a - F_in_v*M_air*P_w_in)*T_out*c_pa)/(F_in_v*M_w*P_w_in*c_pv - (E_lmol*M_w*R_mol*T_out*c_pv - H_l*R_mol)*L_A + Q_in*R_mol + (F_in_v*M_air*P_a - F_in_v*M_air*P_w_in)*c_pa)"
      ]
     },
     "metadata": {},
     "output_type": "display_data"
    }
   ],
   "source": [
    "# Finding the T_in that would balance sensible heat release by the plate for given F_inv\n",
    "assume(F_in_v > 0)\n",
    "assume(F_out_v > 0)\n",
    "assume(E_lmol >=0)\n",
    "show(eq_chamber_energy_balance)\n",
    "soln = solve(eq_chamber_energy_balance.subs(F_out_mola == F_in_mola).subs(eq_Foutmolw_Finmolw_Elmol).subs(eq_F_in_mola, eq_F_in_molw), T_in)\n",
    "print soln\n",
    "eq_T_in_ss = soln[0]\n",
    "show(eq_T_in_ss)"
   ]
  },
  {
   "cell_type": "code",
   "execution_count": 43,
   "metadata": {
    "collapsed": false,
    "deletable": true,
    "editable": true
   },
   "outputs": [
    {
     "name": "stdout",
     "output_type": "stream",
     "text": [
      "[\n",
      "Q_in == ((E_lmol*M_w*R_mol*T_in*T_out*c_pv - H_l*R_mol*T_in)*L_A - ((F_in_v*M_air*P_a - F_in_v*M_air*P_w_in)*T_in - (F_in_v*M_air*P_a - F_in_v*M_air*P_w_in)*T_out)*c_pa - (F_in_v*M_w*P_w_in*T_in - F_in_v*M_w*P_w_in*T_out)*c_pv)/(R_mol*T_in)\n",
      "]\n"
     ]
    }
   ],
   "source": [
    "# Calculating Q_in from T_in, F_in_v and T_out\n",
    "soln = solve(eq_T_in_ss,Q_in)\n",
    "print soln\n",
    "eq_Qin_Tin_Tout = soln[0]"
   ]
  },
  {
   "cell_type": "code",
   "execution_count": 44,
   "metadata": {
    "collapsed": false,
    "deletable": true,
    "editable": true
   },
   "outputs": [
    {
     "name": "stdout",
     "output_type": "stream",
     "text": [
      "[\n",
      "H_l == (E_lmol*L_A*M_w*R_mol*T_in*T_out*c_pv - Q_in*R_mol*T_in - ((F_in_v*M_air*P_a - F_in_v*M_air*P_w_in)*T_in - (F_in_v*M_air*P_a - F_in_v*M_air*P_w_in)*T_out)*c_pa - (F_in_v*M_w*P_w_in*T_in - F_in_v*M_w*P_w_in*T_out)*c_pv)/(L_A*R_mol*T_in)\n",
      "]\n"
     ]
    },
    {
     "data": {
      "text/html": [
       "<html><script type=\"math/tex; mode=display\">\\newcommand{\\Bold}[1]{\\mathbf{#1}}H_{l} = \\frac{{E_{l,mol}} L_{A} M_{w} {R_{mol}} {T_{in}} {T_{out}} {c_{pv}} - {Q_{in}} {R_{mol}} {T_{in}} - {\\left({\\left({F_{in,v}} {M_{air}} P_{a} - {F_{in,v}} {M_{air}} {P_{w,in}}\\right)} {T_{in}} - {\\left({F_{in,v}} {M_{air}} P_{a} - {F_{in,v}} {M_{air}} {P_{w,in}}\\right)} {T_{out}}\\right)} {c_{pa}} - {\\left({F_{in,v}} M_{w} {P_{w,in}} {T_{in}} - {F_{in,v}} M_{w} {P_{w,in}} {T_{out}}\\right)} {c_{pv}}}{L_{A} {R_{mol}} {T_{in}}}</script></html>"
      ],
      "text/plain": [
       "H_l == (E_lmol*L_A*M_w*R_mol*T_in*T_out*c_pv - Q_in*R_mol*T_in - ((F_in_v*M_air*P_a - F_in_v*M_air*P_w_in)*T_in - (F_in_v*M_air*P_a - F_in_v*M_air*P_w_in)*T_out)*c_pa - (F_in_v*M_w*P_w_in*T_in - F_in_v*M_w*P_w_in*T_out)*c_pv)/(L_A*R_mol*T_in)"
      ]
     },
     "metadata": {},
     "output_type": "display_data"
    }
   ],
   "source": [
    "# Calculating H_l from T_in, F_in_v and T_out\n",
    "soln = solve(eq_T_in_ss,H_l)\n",
    "print soln\n",
    "eq_Hl_Tin_Tout = soln[0]\n",
    "eq_Hl_Tin_Tout.show()"
   ]
  },
  {
   "cell_type": "code",
   "execution_count": 45,
   "metadata": {
    "collapsed": false,
    "deletable": true,
    "editable": true
   },
   "outputs": [
    {
     "name": "stdout",
     "output_type": "stream",
     "text": [
      "[\n",
      "H_l == -((F_in_mola*M_air*T_in - F_in_mola*M_air*T_out)*c_pa + (F_in_molw*M_w*T_in - F_out_molw*M_w*T_out)*c_pv + Q_in)/L_A\n",
      "]\n"
     ]
    },
    {
     "data": {
      "text/html": [
       "<html><script type=\"math/tex; mode=display\">\\newcommand{\\Bold}[1]{\\mathbf{#1}}H_{l} = -\\frac{{\\left({F_{in,mol,a}} {M_{air}} {T_{in}} - {F_{in,mol,a}} {M_{air}} {T_{out}}\\right)} {c_{pa}} + {\\left({F_{in,mol,w}} M_{w} {T_{in}} - {F_{out,mol,w}} M_{w} {T_{out}}\\right)} {c_{pv}} + {Q_{in}}}{L_{A}}</script></html>"
      ],
      "text/plain": [
       "H_l == -((F_in_mola*M_air*T_in - F_in_mola*M_air*T_out)*c_pa + (F_in_molw*M_w*T_in - F_out_molw*M_w*T_out)*c_pv + Q_in)/L_A"
      ]
     },
     "metadata": {},
     "output_type": "display_data"
    }
   ],
   "source": [
    "# Calculating H_l from T_in, T_out and Fmol\n",
    "soln = solve(eq_chamber_energy_balance.subs(F_out_mola == F_in_mola), H_l)\n",
    "print soln\n",
    "eq_Hl_Tin_Tout_Fmol = soln[0].simplify_full()\n",
    "eq_Hl_Tin_Tout_Fmol.show()"
   ]
  },
  {
   "cell_type": "markdown",
   "metadata": {
    "deletable": true,
    "editable": true
   },
   "source": [
    "<h2>Calculation of volumetric flow rate based on Cellkraft measurements</h2>\n",
    "<p>Cellcraft uses Arden-Buck equation to convert between vapour pressure and dew point (<a href=\"http://en.wikipedia.org/wiki/Arden_Buck_Equation\">http://en.wikipedia.org/wiki/Arden_Buck_Equation</a>).<br />The air flow rate is given by the Cellkraft humidifier in l/min, but it refers to dry air at 0 $^o$C and 101300 Pa.</p>\n",
    "<p>We will use the reported dew point temperature to obtain the vapour pressure of the air coming out from the Cellkraft humidifier, then the ideal gas law to obtain the molar flow of dry air, leading to three equations with three unknowns:</p>\n",
    "<p>$F_{\\mathit{in}_{\\mathit{mola}}} = \\frac{F_{\\mathit{in}_{\\mathit{va}_{n}}} P_{r}}{{R_{mol}} T_{r}}$</p>\n",
    "<p>$F_{\\mathit{in}_{v}} = \\frac{{\\left(F_{\\mathit{in}_{\\mathit{mola}}} + F_{\\mathit{in}_{\\mathit{molw}}}\\right)} {R_{mol}} T_{\\mathit{in}}}{P_{a}}$</p>\n",
    "<p>$F_{\\mathit{in}_{\\mathit{molw}}} = \\frac{F_{\\mathit{in}_{v}} P_{v_{\\mathit{in}}}}{{R_{mol}} T_{\\mathit{in}}}$</p>"
   ]
  },
  {
   "cell_type": "code",
   "execution_count": 46,
   "metadata": {
    "collapsed": false,
    "deletable": true,
    "editable": true
   },
   "outputs": [
    {
     "name": "stdout",
     "output_type": "stream",
     "text": [
      "[19.1756620432331, 35.0631107274011, 62.0367042507648, 106.473009443655, 177.667645607840, 288.831780737493, 458.305321164456, 710.999051614674, 1080.07052944457, 1608.82992645281, 2352.86266113812, 3382.34604242497, 4784.52773726516, 6666.32514525647, 9156.99713166349]\n"
     ]
    },
    {
     "data": {
      "image/png": "[encoded data removed]",
      "text/plain": [
       "Graphics object consisting of 3 graphics primitives"
      ]
     },
     "execution_count": 46,
     "metadata": {},
     "output_type": "execute_result"
    }
   ],
   "source": [
    "# Calculating vapour pressure in the incoming air from reported dew point by the Cellkraft humidifier\n",
    "var2('T0', 'Freezing point in kelvin',kelvin, value = 273.15)\n",
    "eq_Pwin_Tdew = P_w_in == 611.21*exp((18.678 - (T_d - T0)/234.5)*((T_d - T0)/(257.14-T0+T_d))) # c\n",
    "list_Tdew = np.array(srange(-40,50,6))+273.25\n",
    "list_Pwin = [eq_Pwin_Tdew.rhs()(T_d = dummy).subs(cdict) for dummy in list_Tdew]\n",
    "print list_Pwin\n",
    "P = plot(eq_Pwin_Tdew.rhs().subs(cdict), (T_d, 253,303), frame = True, axes = False, legend_label = 'Arden Buck')\n",
    "P += plot(eq_Pwl.rhs().subs(cdict), (T_l, 253,303), color = 'red', linestyle = '--', legend_label = 'Clausius-Clapeyron')\n",
    "P += list_plot(zip(list_Tdew,list_Pwin), legend_label = 'Cellcraft')\n",
    "P.axes_labels(['Dew point (K)', 'Saturation vapour pressure (Pa)'])\n",
    "P"
   ]
  },
  {
   "cell_type": "code",
   "execution_count": 47,
   "metadata": {
    "collapsed": false,
    "deletable": true,
    "editable": true
   },
   "outputs": [
    {
     "data": {
      "text/html": [
       "<html><script type=\"math/tex; mode=display\">\\newcommand{\\Bold}[1]{\\mathbf{#1}}{F_{in,mol,w}} = \\frac{{F_{in,v}} {P_{w,in}}}{{R_{mol}} {T_{in}}}</script></html>"
      ],
      "text/plain": [
       "F_in_molw == F_in_v*P_w_in/(R_mol*T_in)"
      ]
     },
     "metadata": {},
     "output_type": "display_data"
    }
   ],
   "source": [
    "eq_F_in_molw.show()"
   ]
  },
  {
   "cell_type": "code",
   "execution_count": 48,
   "metadata": {
    "collapsed": false,
    "deletable": true,
    "editable": true
   },
   "outputs": [
    {
     "data": {
      "text/html": [
       "<html><script type=\"math/tex; mode=display\">\\newcommand{\\Bold}[1]{\\mathbf{#1}}{F_{in,v}} = \\frac{{\\left({F_{in,mol,a}} + {F_{in,mol,w}}\\right)} {R_{mol}} {T_{in}}}{P_{a}}</script></html>"
      ],
      "text/plain": [
       "F_in_v == (F_in_mola + F_in_molw)*R_mol*T_in/P_a"
      ]
     },
     "metadata": {},
     "output_type": "display_data"
    },
    {
     "data": {
      "text/plain": [
       "meter^3/second == meter^3/second"
      ]
     },
     "execution_count": 48,
     "metadata": {},
     "output_type": "execute_result"
    }
   ],
   "source": [
    "eq_Finv_Finmol = F_in_v == (F_in_mola + F_in_molw)*R_mol*T_in/P_a\n",
    "units_check(eq_Finv_Finmol)"
   ]
  },
  {
   "cell_type": "code",
   "execution_count": 49,
   "metadata": {
    "collapsed": false,
    "deletable": true,
    "editable": true
   },
   "outputs": [
    {
     "data": {
      "text/html": [
       "<html><script type=\"math/tex; mode=display\">\\newcommand{\\Bold}[1]{\\mathbf{#1}}{F_{in,mol,a}} = \\frac{{F_{in,v,a,n}} P_{r}}{{R_{mol}} T_{r}}</script></html>"
      ],
      "text/plain": [
       "F_in_mola == F_in_va_n*P_r/(R_mol*T_r)"
      ]
     },
     "metadata": {},
     "output_type": "display_data"
    },
    {
     "name": "stdout",
     "output_type": "stream",
     "text": [
      "mole/second == mole/second\n"
     ]
    }
   ],
   "source": [
    "var2('F_in_va_n', 'Volumetric inflow of dry air at 0oC and 101325 Pa', meter^3/second, latexname='F_{in,v,a,n}') \n",
    "var2('P_r', 'Reference pressure',pascal, value = 101325)\n",
    "var2('T_r', 'Reference temperature', kelvin)\n",
    "\n",
    "eq_Finmola_Finva_ref = fun_eq(F_in_mola == F_in_va_n * P_r/(R_mol*T_r))"
   ]
  },
  {
   "cell_type": "markdown",
   "metadata": {
    "deletable": true,
    "editable": true
   },
   "source": [
    "<p>To get $F_{in,v}$ and $F_{in,mol,w}$, we will consider that:</p>\n",
    "<p>$P_d = P_a - P_w$</p>\n",
    "<p>$P_w F_{in,v} = F_{in,mol,w} R_{mol} T_{in}$</p>\n",
    "<p>$(P_a - P_w) F_{in,v} = F_{in,mol,a} R_{mol} T_{a}$</p>"
   ]
  },
  {
   "cell_type": "code",
   "execution_count": 50,
   "metadata": {
    "collapsed": false,
    "deletable": true,
    "editable": true
   },
   "outputs": [
    {
     "data": {
      "text/html": [
       "<html><script type=\"math/tex; mode=display\">\\newcommand{\\Bold}[1]{\\mathbf{#1}}{F_{in,mol,w}} = \\frac{{F_{in,v}} {P_{w,in}}}{{R_{mol}} {T_{in}}}</script></html>"
      ],
      "text/plain": [
       "F_in_molw == F_in_v*P_w_in/(R_mol*T_in)"
      ]
     },
     "metadata": {},
     "output_type": "display_data"
    },
    {
     "name": "stdout",
     "output_type": "stream",
     "text": [
      "mole/second == mole/second\n"
     ]
    },
    {
     "data": {
      "text/html": [
       "<html><script type=\"math/tex; mode=display\">\\newcommand{\\Bold}[1]{\\mathbf{#1}}{F_{in,v}} = \\frac{{F_{in,mol,a}} {R_{mol}} {T_{in}}}{P_{a} - {P_{w,in}}}</script></html>"
      ],
      "text/plain": [
       "F_in_v == F_in_mola*R_mol*T_in/(P_a - P_w_in)"
      ]
     },
     "metadata": {},
     "output_type": "display_data"
    },
    {
     "name": "stdout",
     "output_type": "stream",
     "text": [
      "meter^3/second == meter^3/second\n"
     ]
    },
    {
     "data": {
      "text/html": [
       "<html><script type=\"math/tex; mode=display\">\\newcommand{\\Bold}[1]{\\mathbf{#1}}{F_{in,mol,w}} = \\frac{{F_{in,mol,a}} {P_{w,in}}}{P_{a} - {P_{w,in}}}</script></html>"
      ],
      "text/plain": [
       "F_in_molw == F_in_mola*P_w_in/(P_a - P_w_in)"
      ]
     },
     "metadata": {},
     "output_type": "display_data"
    },
    {
     "name": "stdout",
     "output_type": "stream",
     "text": [
      "mole/second == mole/second\n"
     ]
    },
    {
     "data": {
      "text/html": [
       "<html><script type=\"math/tex; mode=display\">\\newcommand{\\Bold}[1]{\\mathbf{#1}}{F_{in,v}} = \\frac{{F_{in,v,a,n}} P_{r} {T_{in}}}{{\\left(P_{a} - {P_{w,in}}\\right)} T_{r}}</script></html>"
      ],
      "text/plain": [
       "F_in_v == F_in_va_n*P_r*T_in/((P_a - P_w_in)*T_r)"
      ]
     },
     "metadata": {},
     "output_type": "display_data"
    },
    {
     "name": "stdout",
     "output_type": "stream",
     "text": [
      "meter^3/second == meter^3/second\n"
     ]
    }
   ],
   "source": [
    "eq_Finmolw_Finv = F_in_molw == (P_w_in*F_in_v)/(R_mol*T_in)\n",
    "print units_check(eq_Finmolw_Finv)\n",
    "eq_Finv_Finmola = F_in_v == F_in_mola*R_mol*T_in/(P_a - P_w_in)\n",
    "print units_check(eq_Finv_Finmola)\n",
    "eq_Finmolw_Finmola_Pwa = fun_eq(eq_Finmolw_Finv.subs(eq_Finv_Finmola))\n",
    "eq_Finv_Finva_ref = fun_eq(eq_Finv_Finmola.subs(eq_Finmola_Finva_ref))"
   ]
  },
  {
   "cell_type": "code",
   "execution_count": 51,
   "metadata": {
    "collapsed": false,
    "deletable": true,
    "editable": true
   },
   "outputs": [
    {
     "name": "stdout",
     "output_type": "stream",
     "text": [
      "1227.86016957787\n",
      "0.000166666666666667\n",
      "Volumentric flow at 0 oC: 0.000168711114309656 m3/s\n",
      "Volumentric flow at 25 oC: 0.000184152365848157 m3/s\n",
      "25oC/0oC: 1.09152480322167\n",
      "Volumentric flow at 25 oC without added vapour: 0.000181920800536946 m3/s\n"
     ]
    }
   ],
   "source": [
    "vdict = cdict.copy()\n",
    "vdict[F_in_va_n] = 10e-3/60   # 10 l/min reported by Cellkraft\n",
    "vdict[T_d] = 273.15 + 10    # 10oC dew point\n",
    "vdict[P_a] = 101325.\n",
    "vdict[T_r] = 273.15\n",
    "vdict[P_w_in] = eq_Pwin_Tdew.rhs().subs(vdict)\n",
    "print vdict[P_w_in]\n",
    "print vdict[F_in_va_n]\n",
    "\n",
    "vdict[T_in] = 273.15+0 \n",
    "inflow0 = eq_Finv_Finva_ref.rhs().subs(vdict)\n",
    "print 'Volumentric flow at 0 oC: ' + str(inflow0) + ' m3/s'\n",
    "\n",
    "vdict[T_in] = 273.15+25  \n",
    "inflow25 = eq_Finv_Finva_ref.rhs().subs(vdict)\n",
    "print 'Volumentric flow at 25 oC: ' + str(inflow25) + ' m3/s'\n",
    "\n",
    "\n",
    "print '25oC/0oC: ' + str(inflow25/inflow0)\n",
    "\n",
    "vdict[T_in] = 273.15+25 \n",
    "vdict[P_w_in] = 0. \n",
    "inflow25 = eq_Finv_Finva_ref.rhs().subs(vdict)\n",
    "print 'Volumentric flow at 25 oC without added vapour: ' + str(inflow25) + ' m3/s'"
   ]
  },
  {
   "cell_type": "markdown",
   "metadata": {
    "deletable": true,
    "editable": true
   },
   "source": [
    "<h2>Vapour pressure</h2>\n",
    "<p>The water fluxes associated with the incoming and the outgoing air according to the ideal gas law are $P_{v,in} F_{in,v}/(R_{mol} T_{in})$ and $P_{v,out}  F_{out,v}/(R_{mol} T_{out})$ respectively.</p>"
   ]
  },
  {
   "cell_type": "code",
   "execution_count": 52,
   "metadata": {
    "collapsed": false,
    "deletable": true,
    "editable": true
   },
   "outputs": [
    {
     "data": {
      "text/html": [
       "<html><script type=\"math/tex; mode=display\">\\newcommand{\\Bold}[1]{\\mathbf{#1}}{F_{out,v}} = \\frac{{E_{l,mol}} L_{A} {R_{mol}} {T_{in}} {T_{out}} + {F_{in,v}} P_{a} {T_{out}}}{P_{a} {T_{in}}}</script></html>"
      ],
      "text/plain": [
       "F_out_v == (E_lmol*L_A*R_mol*T_in*T_out + F_in_v*P_a*T_out)/(P_a*T_in)"
      ]
     },
     "metadata": {},
     "output_type": "display_data"
    }
   ],
   "source": [
    "eq_Foutv_Finv_Tout.show()"
   ]
  },
  {
   "cell_type": "code",
   "execution_count": 53,
   "metadata": {
    "collapsed": false,
    "deletable": true,
    "editable": true
   },
   "outputs": [
    {
     "data": {
      "text/html": [
       "<html><script type=\"math/tex; mode=display\">\\newcommand{\\Bold}[1]{\\mathbf{#1}}{F_{out,v}} = \\frac{{\\left({F_{out,mol,a}} + {F_{out,mol,w}}\\right)} {R_{mol}} {T_{out}}}{P_{a}}</script></html>"
      ],
      "text/plain": [
       "F_out_v == (F_out_mola + F_out_molw)*R_mol*T_out/P_a"
      ]
     },
     "metadata": {},
     "output_type": "display_data"
    }
   ],
   "source": [
    "eq_F_out_v.show()"
   ]
  },
  {
   "cell_type": "code",
   "execution_count": 54,
   "metadata": {
    "collapsed": false,
    "deletable": true,
    "editable": true
   },
   "outputs": [
    {
     "data": {
      "text/html": [
       "<html><script type=\"math/tex; mode=display\">\\newcommand{\\Bold}[1]{\\mathbf{#1}}{F_{in,mol,a}} = \\frac{{F_{in,v,a,n}} P_{r}}{{R_{mol}} T_{r}}</script></html>"
      ],
      "text/plain": [
       "F_in_mola == F_in_va_n*P_r/(R_mol*T_r)"
      ]
     },
     "metadata": {},
     "output_type": "display_data"
    }
   ],
   "source": [
    "eq_F_in_mola.subs(eq_Finv_Finva_ref).show()"
   ]
  },
  {
   "cell_type": "code",
   "execution_count": 55,
   "metadata": {
    "collapsed": false,
    "deletable": true,
    "editable": true
   },
   "outputs": [
    {
     "data": {
      "text/html": [
       "<html><script type=\"math/tex; mode=display\">\\newcommand{\\Bold}[1]{\\mathbf{#1}}{F_{in,v}} = \\frac{{F_{in,v,a,n}} P_{r} {T_{in}}}{{\\left(P_{a} - {P_{w,in}}\\right)} T_{r}}</script></html>"
      ],
      "text/plain": [
       "F_in_v == F_in_va_n*P_r*T_in/((P_a - P_w_in)*T_r)"
      ]
     },
     "metadata": {},
     "output_type": "display_data"
    }
   ],
   "source": [
    "eq_Finv_Finva_ref.show()"
   ]
  },
  {
   "cell_type": "code",
   "execution_count": 56,
   "metadata": {
    "collapsed": false,
    "deletable": true,
    "editable": true
   },
   "outputs": [
    {
     "data": {
      "text/html": [
       "<html><script type=\"math/tex; mode=display\">\\newcommand{\\Bold}[1]{\\mathbf{#1}}{F_{in,mol,w}} = \\frac{{F_{in,v}} {P_{w,in}}}{{R_{mol}} {T_{in}}}</script></html>"
      ],
      "text/plain": [
       "F_in_molw == F_in_v*P_w_in/(R_mol*T_in)"
      ]
     },
     "metadata": {},
     "output_type": "display_data"
    },
    {
     "data": {
      "text/html": [
       "<html><script type=\"math/tex; mode=display\">\\newcommand{\\Bold}[1]{\\mathbf{#1}}{F_{out,mol,w}} = \\frac{{F_{out,v}} {P_{w,out}}}{{R_{mol}} {T_{out}}}</script></html>"
      ],
      "text/plain": [
       "F_out_molw == F_out_v*P_w_out/(R_mol*T_out)"
      ]
     },
     "metadata": {},
     "output_type": "display_data"
    },
    {
     "data": {
      "text/html": [
       "<html><script type=\"math/tex; mode=display\">\\newcommand{\\Bold}[1]{\\mathbf{#1}}{F_{out,mol,w}} = {E_{l,mol}} L_{A} + {F_{in,mol,w}}</script></html>"
      ],
      "text/plain": [
       "F_out_molw == E_lmol*L_A + F_in_molw"
      ]
     },
     "metadata": {},
     "output_type": "display_data"
    }
   ],
   "source": [
    "eq_F_in_molw.show()\n",
    "eq_F_out_molw.show()\n",
    "eq_Foutmolw_Finmolw_Elmol.show()"
   ]
  },
  {
   "cell_type": "code",
   "execution_count": 57,
   "metadata": {
    "collapsed": false,
    "deletable": true,
    "editable": true
   },
   "outputs": [
    {
     "data": {
      "text/html": [
       "<html><script type=\"math/tex; mode=display\">\\newcommand{\\Bold}[1]{\\mathbf{#1}}\\frac{{F_{out,v}} {P_{w,out}}}{{R_{mol}} {T_{out}}} = {E_{l,mol}} L_{A} + \\frac{{F_{in,v}} {P_{w,in}}}{{R_{mol}} {T_{in}}}</script></html>"
      ],
      "text/plain": [
       "F_out_v*P_w_out/(R_mol*T_out) == E_lmol*L_A + F_in_v*P_w_in/(R_mol*T_in)"
      ]
     },
     "metadata": {},
     "output_type": "display_data"
    },
    {
     "data": {
      "text/html": [
       "<html><script type=\"math/tex; mode=display\">\\newcommand{\\Bold}[1]{\\mathbf{#1}}{P_{w,out}} = \\frac{{E_{l,mol}} L_{A} P_{a} {R_{mol}} {T_{in}} + {F_{in,v}} P_{a} {P_{w,in}}}{{E_{l,mol}} L_{A} {R_{mol}} {T_{in}} + {F_{in,v}} P_{a}}</script></html>"
      ],
      "text/plain": [
       "P_w_out == (E_lmol*L_A*P_a*R_mol*T_in + F_in_v*P_a*P_w_in)/(E_lmol*L_A*R_mol*T_in + F_in_v*P_a)"
      ]
     },
     "metadata": {},
     "output_type": "display_data"
    },
    {
     "name": "stdout",
     "output_type": "stream",
     "text": [
      "kilogram/(meter*second^2) == kilogram/(meter*second^2)\n"
     ]
    },
    {
     "data": {
      "text/html": [
       "<html><script type=\"math/tex; mode=display\">\\newcommand{\\Bold}[1]{\\mathbf{#1}}{P_{w,out}} = \\frac{{E_{l,mol}} L_{A} P_{a} {R_{mol}} {T_{in}} + {F_{in,v}} P_{a} {P_{w,in}}}{{E_{l,mol}} L_{A} {R_{mol}} {T_{in}} + {F_{in,v}} P_{a}}</script></html>"
      ],
      "text/plain": [
       "P_w_out == (E_lmol*L_A*P_a*R_mol*T_in + F_in_v*P_a*P_w_in)/(E_lmol*L_A*R_mol*T_in + F_in_v*P_a)"
      ]
     },
     "metadata": {},
     "output_type": "display_data"
    },
    {
     "data": {
      "text/plain": [
       "kilogram/(meter*second^2) == kilogram/(meter*second^2)"
      ]
     },
     "execution_count": 57,
     "metadata": {},
     "output_type": "execute_result"
    }
   ],
   "source": [
    "eq1 = eq_F_out_molw.rhs() == eq_Foutmolw_Finmolw_Elmol.rhs().subs(eq_F_in_molw)\n",
    "eq1.show()\n",
    "soln = solve(eq1, P_w_out)\n",
    "eq_Pwout_Elmol = fun_eq(soln[0].subs(eq_Foutv_Finv_Tout.subs(eq_F_in_molw)).simplify_full())\n",
    "units_check(eq_Pwout_Elmol)"
   ]
  },
  {
   "cell_type": "markdown",
   "metadata": {
    "deletable": true,
    "editable": true
   },
   "source": [
    "<p><span style=\"color: #ff0000;\">It is a bit surprising that steady-state $P_{w_{out}}$ does not depend on $T_{out}$.</span></p>"
   ]
  },
  {
   "cell_type": "code",
   "execution_count": 58,
   "metadata": {
    "collapsed": false,
    "deletable": true,
    "editable": true
   },
   "outputs": [
    {
     "data": {
      "text/html": [
       "<html><script type=\"math/tex; mode=display\">\\newcommand{\\Bold}[1]{\\mathbf{#1}}{P_{w,out}} = \\frac{{E_{l,mol}} L_{A} P_{a} {R_{mol}} {T_{in}} + {F_{in,v}} P_{a} {P_{w,in}}}{{E_{l,mol}} L_{A} {R_{mol}} {T_{in}} + {F_{in,v}} P_{a}}</script></html>"
      ],
      "text/plain": [
       "P_w_out == (E_lmol*L_A*P_a*R_mol*T_in + F_in_v*P_a*P_w_in)/(E_lmol*L_A*R_mol*T_in + F_in_v*P_a)"
      ]
     },
     "metadata": {},
     "output_type": "display_data"
    },
    {
     "data": {
      "text/html": [
       "<html><script type=\"math/tex; mode=display\">\\newcommand{\\Bold}[1]{\\mathbf{#1}}{P_{w,out}} = \\frac{{E_{l,mol}} L_{A} P_{a} {R_{mol}} {T_{in}} + {F_{in,v}} P_{a} {P_{w,in}}}{{E_{l,mol}} L_{A} {R_{mol}} {T_{in}} + {\\left({F_{in,mol,a}} + {F_{in,mol,w}}\\right)} {R_{mol}} {T_{in}}}</script></html>"
      ],
      "text/plain": [
       "P_w_out == (E_lmol*L_A*P_a*R_mol*T_in + F_in_v*P_a*P_w_in)/(E_lmol*L_A*R_mol*T_in + (F_in_mola + F_in_molw)*R_mol*T_in)"
      ]
     },
     "metadata": {},
     "output_type": "display_data"
    }
   ],
   "source": [
    "soln[0].subs(eq_Foutv_Finv_Tout.subs(eq_F_in_molw)).simplify_full().show()\n",
    "soln[0].subs(eq_F_out_v).subs(F_out_mola = F_in_mola, F_out_molw = F_in_molw + E_lmol*L_A).simplify_full().show()"
   ]
  },
  {
   "cell_type": "markdown",
   "metadata": {
    "deletable": true,
    "editable": true
   },
   "source": [
    "<p><span style=\"color: #ff0000;\">The above are equivalent, because $F_{in,v} P_a = (F_{in,mol,a} + F_{in,mol,w}) R_{mol} T_{in}$<br /></span></p>"
   ]
  },
  {
   "cell_type": "code",
   "execution_count": 59,
   "metadata": {
    "collapsed": false,
    "deletable": true,
    "editable": true
   },
   "outputs": [
    {
     "data": {
      "text/html": [
       "<html><script type=\"math/tex; mode=display\">\\newcommand{\\Bold}[1]{\\mathbf{#1}}{P_{w,out}} = \\frac{{F_{in,v,a,n}} P_{a} P_{r} {P_{w,in}} + {\\left({E_{l,mol}} P_{a}^{2} - {E_{l,mol}} P_{a} {P_{w,in}}\\right)} L_{A} {R_{mol}} T_{r}}{{\\left({E_{l,mol}} P_{a} - {E_{l,mol}} {P_{w,in}}\\right)} L_{A} {R_{mol}} T_{r} + {F_{in,v,a,n}} P_{a} P_{r}}</script></html>"
      ],
      "text/plain": [
       "P_w_out == (F_in_va_n*P_a*P_r*P_w_in + (E_lmol*P_a^2 - E_lmol*P_a*P_w_in)*L_A*R_mol*T_r)/((E_lmol*P_a - E_lmol*P_w_in)*L_A*R_mol*T_r + F_in_va_n*P_a*P_r)"
      ]
     },
     "metadata": {},
     "output_type": "display_data"
    }
   ],
   "source": [
    "eq_Pwout_Elmol.subs(eq_Finv_Finva_ref).simplify_full().show()"
   ]
  },
  {
   "cell_type": "code",
   "execution_count": 60,
   "metadata": {
    "collapsed": false,
    "deletable": true,
    "editable": true
   },
   "outputs": [
    {
     "data": {
      "text/html": [
       "<html><script type=\"math/tex; mode=display\">\\newcommand{\\Bold}[1]{\\mathbf{#1}}{P_{w,out}} = \\frac{{E_{l,mol}} L_{A} {R_{mol}} {T_{in}} {T_{out}} + {F_{in,v}} {P_{w,in}} {T_{out}}}{{F_{out,v}} {T_{in}}}</script></html>"
      ],
      "text/plain": [
       "P_w_out == (E_lmol*L_A*R_mol*T_in*T_out + F_in_v*P_w_in*T_out)/(F_out_v*T_in)"
      ]
     },
     "metadata": {},
     "output_type": "display_data"
    },
    {
     "data": {
      "text/html": [
       "<html><script type=\"math/tex; mode=display\">\\newcommand{\\Bold}[1]{\\mathbf{#1}}{F_{out,v}} = \\frac{{E_{l,mol}} L_{A} {R_{mol}} {T_{in}} {T_{out}} + {F_{in,v}} P_{a} {T_{out}}}{P_{a} {T_{in}}}</script></html>"
      ],
      "text/plain": [
       "F_out_v == (E_lmol*L_A*R_mol*T_in*T_out + F_in_v*P_a*T_out)/(P_a*T_in)"
      ]
     },
     "metadata": {},
     "output_type": "display_data"
    },
    {
     "data": {
      "text/html": [
       "<html><script type=\"math/tex; mode=display\">\\newcommand{\\Bold}[1]{\\mathbf{#1}}{F_{in,mol,w}} = \\frac{{F_{in,v}} {P_{w,in}}}{{R_{mol}} {T_{in}}}</script></html>"
      ],
      "text/plain": [
       "F_in_molw == F_in_v*P_w_in/(R_mol*T_in)"
      ]
     },
     "metadata": {},
     "output_type": "display_data"
    }
   ],
   "source": [
    "show(soln[0])\n",
    "show(eq_Foutv_Finv_Tout)\n",
    "show(eq_F_in_molw)"
   ]
  },
  {
   "cell_type": "code",
   "execution_count": 61,
   "metadata": {
    "collapsed": false,
    "deletable": true,
    "editable": true
   },
   "outputs": [
    {
     "data": {
      "text/html": [
       "<html><script type=\"math/tex; mode=display\">\\newcommand{\\Bold}[1]{\\mathbf{#1}}{P_{w,out}} = \\frac{{\\left({E_{l,mol}} L_{A} {R_{mol}} {T_{in}} {T_{out}} + {F_{in,v}} {P_{w,in}} {T_{out}}\\right)} P_{a}}{{E_{l,mol}} L_{A} {R_{mol}} {T_{in}} {T_{out}} + {F_{in,v}} P_{a} {T_{out}}}</script></html>"
      ],
      "text/plain": [
       "P_w_out == (E_lmol*L_A*R_mol*T_in*T_out + F_in_v*P_w_in*T_out)*P_a/(E_lmol*L_A*R_mol*T_in*T_out + F_in_v*P_a*T_out)"
      ]
     },
     "metadata": {},
     "output_type": "display_data"
    }
   ],
   "source": [
    "show(soln[0].subs(eq_Foutv_Finv_Tout.subs(eq_F_in_molw)).simplify())"
   ]
  },
  {
   "cell_type": "code",
   "execution_count": 62,
   "metadata": {
    "collapsed": false,
    "deletable": true,
    "editable": true
   },
   "outputs": [
    {
     "data": {
      "text/html": [
       "<html><script type=\"math/tex; mode=display\">\\newcommand{\\Bold}[1]{\\mathbf{#1}}{P_{w,out}} = \\frac{{E_{l,mol}} L_{A} P_{a} {R_{mol}} {T_{in}} {T_{out}}}{{E_{l,mol}} L_{A} {R_{mol}} {T_{in}} {T_{out}} + {F_{in,v}} P_{a} {T_{out}}} + \\frac{{F_{in,v}} P_{a} {P_{w,in}} {T_{out}}}{{E_{l,mol}} L_{A} {R_{mol}} {T_{in}} {T_{out}} + {F_{in,v}} P_{a} {T_{out}}}</script></html>"
      ],
      "text/plain": [
       "P_w_out == E_lmol*L_A*P_a*R_mol*T_in*T_out/(E_lmol*L_A*R_mol*T_in*T_out + F_in_v*P_a*T_out) + F_in_v*P_a*P_w_in*T_out/(E_lmol*L_A*R_mol*T_in*T_out + F_in_v*P_a*T_out)"
      ]
     },
     "metadata": {},
     "output_type": "display_data"
    }
   ],
   "source": [
    "# T_out cancels out when the above is expanded\n",
    "show(soln[0].subs(eq_Foutv_Finv_Tout.subs(eq_F_in_molw)).expand())"
   ]
  },
  {
   "cell_type": "markdown",
   "metadata": {
    "deletable": true,
    "editable": true
   },
   "source": [
    "<p>To convert from energetic to molar units, we need to divide $E_l$ by $\\lambda_E M_w$:</p>"
   ]
  },
  {
   "cell_type": "code",
   "execution_count": 63,
   "metadata": {
    "collapsed": false,
    "deletable": true,
    "editable": true
   },
   "outputs": [
    {
     "data": {
      "text/html": [
       "<html><script type=\"math/tex; mode=display\">\\newcommand{\\Bold}[1]{\\mathbf{#1}}{E_{l,mol}} = \\frac{E_{l}}{M_{w} \\lambda_{E}}</script></html>"
      ],
      "text/plain": [
       "E_lmol == E_l/(M_w*lambda_E)"
      ]
     },
     "metadata": {},
     "output_type": "display_data"
    },
    {
     "name": "stdout",
     "output_type": "stream",
     "text": [
      "mole/(meter^2*second) == mole/(meter^2*second)\n"
     ]
    }
   ],
   "source": [
    "eq_Elmol_El = E_lmol == E_l/(lambda_E*M_w)\n",
    "print units_check(eq_Elmol_El)\n",
    "eq_El_Elmol = E_l == E_lmol*lambda_E*M_w"
   ]
  },
  {
   "cell_type": "code",
   "execution_count": 64,
   "metadata": {
    "collapsed": false,
    "deletable": true,
    "editable": true
   },
   "outputs": [
    {
     "data": {
      "text/html": [
       "<html><script type=\"math/tex; mode=display\">\\newcommand{\\Bold}[1]{\\mathbf{#1}}{P_{w,in}} = -\\frac{{\\left({E_{l,mol}} P_{a} - {E_{l,mol}} {P_{w,out}}\\right)} L_{A} {R_{mol}} {T_{in}} - {F_{in,v}} P_{a} {P_{w,out}}}{{F_{in,v}} P_{a}}</script></html>"
      ],
      "text/plain": [
       "P_w_in == -((E_lmol*P_a - E_lmol*P_w_out)*L_A*R_mol*T_in - F_in_v*P_a*P_w_out)/(F_in_v*P_a)"
      ]
     },
     "metadata": {},
     "output_type": "display_data"
    }
   ],
   "source": [
    "# In order to keep P_w_out = P_wa = const., we need to adjust P_w_in accordingly.\n",
    "soln = solve(eq_Pwout_Elmol, P_w_in)\n",
    "eq_Pwin_Elmol = soln[0].simplify_full()\n",
    "show(eq_Pwin_Elmol)"
   ]
  },
  {
   "cell_type": "code",
   "execution_count": 65,
   "metadata": {
    "collapsed": false,
    "deletable": true,
    "editable": true
   },
   "outputs": [
    {
     "name": "stdout",
     "output_type": "stream",
     "text": [
      "1227.86016957787\n",
      "0.000166666666666667\n",
      "Volumentric flow at 0 oC: 0.000168711114309656 m3/s\n",
      "Volumentric flow at 25 oC: 0.000184152365848157 m3/s\n",
      "25oC/0oC: 1.09152480322167\n",
      "Volumentric flow at 25 oC without added vapour: 0.000181920800536946 m3/s\n"
     ]
    },
    {
     "data": {
      "text/plain": [
       "P_w_out == 27.4649220798963"
      ]
     },
     "execution_count": 65,
     "metadata": {},
     "output_type": "execute_result"
    }
   ],
   "source": [
    "vdict = cdict.copy()\n",
    "vdict[F_in_va_n] = 10e-3/60   # 10 l/min reported by Cellkraft\n",
    "vdict[T_d] = 273.15 + 10    # 10oC dew point\n",
    "vdict[P_a] = 101325.\n",
    "vdict[T_r] = 273.15\n",
    "vdict[P_w_in] = eq_Pwin_Tdew.rhs().subs(vdict)\n",
    "print vdict[P_w_in]\n",
    "print vdict[F_in_va_n]\n",
    "\n",
    "vdict[T_in] = 273.15+0 \n",
    "inflow0 = eq_Finv_Finva_ref.rhs().subs(vdict)\n",
    "print 'Volumentric flow at 0 oC: ' + str(inflow0) + ' m3/s'\n",
    "\n",
    "vdict[T_in] = 273.15+25  \n",
    "inflow25 = eq_Finv_Finva_ref.rhs().subs(vdict)\n",
    "vdict[F_in_v] = eq_Finv_Finva_ref.rhs().subs(vdict)\n",
    "print 'Volumentric flow at 25 oC: ' + str(inflow25) + ' m3/s'\n",
    "\n",
    "\n",
    "print '25oC/0oC: ' + str(inflow25/inflow0)\n",
    "\n",
    "vdict[T_in] = 273.15+25 \n",
    "vdict[P_w_in] = 0. \n",
    "inflow25 = eq_Finv_Finva_ref.rhs().subs(vdict)\n",
    "print 'Volumentric flow at 25 oC without added vapour: ' + str(inflow25) + ' m3/s'\n",
    "\n",
    "vdict[E_l] = 100. # assuming 100 W/m2 El\n",
    "vdict[L_A] = 0.03^2\n",
    "vdict[E_lmol] = eq_Elmol_El.rhs().subs(vdict)\n",
    "vdict[T_out] = 273+20. # Assuming 20oC T in chamber\n",
    "\n",
    "eq_Pwout_Elmol.subs(vdict)"
   ]
  },
  {
   "cell_type": "markdown",
   "metadata": {
    "deletable": true,
    "editable": true
   },
   "source": [
    "<h2>Net radiation measurement</h2>\n",
    "<p>According to Incropera_fundamentals, Table 13.1, the view factor (absorbed fraction of radiation emitted by another plate) of a small plate of width $w_i$ at a distance $L$ from a parallel larger plate of width $w_j$ is calculated as:</p>"
   ]
  },
  {
   "cell_type": "code",
   "execution_count": 66,
   "metadata": {
    "collapsed": false,
    "deletable": true,
    "editable": true
   },
   "outputs": [
    {
     "data": {
      "text/html": [
       "<html><script type=\"math/tex; mode=display\">\\newcommand{\\Bold}[1]{\\mathbf{#1}}F_{s} = \\frac{L_{\\mathit{ls}} {\\left(\\sqrt{{\\left(\\frac{L_{l}}{L_{\\mathit{ls}}} + \\frac{L_{s}}{L_{\\mathit{ls}}}\\right)}^{2} + 4} - \\sqrt{{\\left(\\frac{L_{l}}{L_{\\mathit{ls}}} - \\frac{L_{s}}{L_{\\mathit{ls}}}\\right)}^{2} + 4}\\right)}}{2 \\, L_{s}}</script></html>"
      ],
      "text/plain": [
       "F_s == 1/2*L_ls*(sqrt((L_l/L_ls + L_s/L_ls)^2 + 4) - sqrt((L_l/L_ls - L_s/L_ls)^2 + 4))/L_s"
      ]
     },
     "metadata": {},
     "output_type": "display_data"
    },
    {
     "data": {
      "text/plain": [
       "1 == 1"
      ]
     },
     "execution_count": 66,
     "metadata": {},
     "output_type": "execute_result"
    }
   ],
   "source": [
    "var2('L_s', 'Width of net radiation sensor', meter)\n",
    "var2('L_ls', 'Distance between leaf and net radiation sensor', meter)\n",
    "var2('F_s', 'Fraction of radiation emitted by leaf, absorbed by sensor', 1)\n",
    "Wi = L_s/L_ls\n",
    "Wj = L_l/L_ls\n",
    "eq_Fs = F_s == (sqrt((Wi + Wj)^2 + 4) - sqrt((Wj - Wi)^2 + 4))/(2*Wi)\n",
    "units_check(eq_Fs)"
   ]
  },
  {
   "cell_type": "code",
   "execution_count": 67,
   "metadata": {
    "collapsed": false,
    "deletable": true,
    "editable": true
   },
   "outputs": [
    {
     "name": "stdout",
     "output_type": "stream",
     "text": [
      "0.821854415126695\n"
     ]
    },
    {
     "data": {
      "image/png": "[encoded data removed]",
      "text/plain": [
       "Graphics object consisting of 1 graphics primitive"
      ]
     },
     "execution_count": 67,
     "metadata": {},
     "output_type": "execute_result"
    }
   ],
   "source": [
    "vdict = cdict.copy()\n",
    "vdict[L_l] = 0.03\n",
    "vdict[L_s] = 0.01\n",
    "print eq_Fs.rhs().subs(vdict)(L_ls = 0.01)\n",
    "P = plot(eq_Fs.rhs().subs(vdict), (L_ls, 0.001, 0.02))\n",
    "P.axes_labels(['Distance to leaf (m)', 'Fraction of radiation captured'])\n",
    "P"
   ]
  },
  {
   "cell_type": "markdown",
   "metadata": {
    "deletable": true,
    "editable": true
   },
   "source": [
    "# Saving definitions to separate file\n",
    "In the below, we save the definitions and variables to separate files in the /temp directory, one with the extension .sage, from which we can selectively load functions using\n",
    "`%load fun_name filenam.sage`\n",
    "and one with the extension .sobj, to be loaded elsewhere using \n",
    "`load_session()`"
   ]
  },
  {
   "cell_type": "code",
   "execution_count": 68,
   "metadata": {
    "collapsed": false,
    "deletable": true,
    "editable": true
   },
   "outputs": [
    {
     "name": "stdout",
     "output_type": "stream",
     "text": [
      "jupyter nbconvert  --to=python 'leaf_chamber_eqs.ipynb'\n",
      "Exporting specified worksheet to .py file...\n",
      "Checking if specified ipynb file was run with sage kernel...\n",
      "Renaming .py file to .sage if notebook kernel was sage (to avoid exponent error)\n"
     ]
    },
    {
     "name": "stderr",
     "output_type": "stream",
     "text": [
      "nbconvert returned 0\n"
     ]
    }
   ],
   "source": [
    "fun_export_ipynb('leaf_chamber_eqs', 'temp/')\n",
    "save_session('temp/leaf_chamber_eqs.sobj')"
   ]
  },
  {
   "cell_type": "markdown",
   "metadata": {
    "deletable": true,
    "editable": true
   },
   "source": [
    "# Table of symbols"
   ]
  },
  {
   "cell_type": "code",
   "execution_count": 69,
   "metadata": {
    "collapsed": false,
    "deletable": true,
    "editable": true
   },
   "outputs": [
    {
     "data": {
      "text/html": [
       "<div class=\"notruncate\">\n",
       "<table  class=\"table_form\">\n",
       "<tbody>\n",
       "<tr>\n",
       "<th>Variable</th>\n",
       "<th>Description (value)</th>\n",
       "<th>Units</th>\n",
       "</tr>\n",
       "<tr class =\"row-a\">\n",
       "<td><script type=\"math/tex\">A_{i}</script></td>\n",
       "<td>Conducting area of insulation material</td>\n",
       "<td> m<script type=\"math/tex\">^{2}</script> </td>\n",
       "</tr>\n",
       "<tr class =\"row-b\">\n",
       "<td><script type=\"math/tex\">a_{s}</script></td>\n",
       "<td>Fraction of one-sided leaf area covered by stomata (1 if stomata are on one side only, 2 if they are on both sides)</td>\n",
       "<td>1 </td>\n",
       "</tr>\n",
       "<tr class =\"row-a\">\n",
       "<td><script type=\"math/tex\">{a_{sh}}</script></td>\n",
       "<td>Fraction of projected area exchanging sensible heat with the air (2)</td>\n",
       "<td>1 </td>\n",
       "</tr>\n",
       "<tr class =\"row-b\">\n",
       "<td><script type=\"math/tex\">\\alpha_{a}</script></td>\n",
       "<td>Thermal diffusivity of dry air</td>\n",
       "<td> m<script type=\"math/tex\">^{2}</script>  s<script type=\"math/tex\">^{-1}</script> </td>\n",
       "</tr>\n",
       "<tr class =\"row-a\">\n",
       "<td><script type=\"math/tex\">\\alpha_{l}</script></td>\n",
       "<td>Leaf albedo, fraction of shortwave radiation reflected by the leaf</td>\n",
       "<td>1 </td>\n",
       "</tr>\n",
       "<tr class =\"row-b\">\n",
       "<td><script type=\"math/tex\">B_{l}</script></td>\n",
       "<td>Boundary layer thickness</td>\n",
       "<td>m </td>\n",
       "</tr>\n",
       "<tr class =\"row-a\">\n",
       "<td><script type=\"math/tex\">{c_{pa}}</script></td>\n",
       "<td>Specific heat of dry air (1010) </td>\n",
       "<td>J  K<script type=\"math/tex\">^{-1}</script>  kg<script type=\"math/tex\">^{-1}</script> </td>\n",
       "</tr>\n",
       "<tr class =\"row-b\">\n",
       "<td><script type=\"math/tex\">{c_{pi}}</script></td>\n",
       "<td>Heat capacity of insulation material</td>\n",
       "<td>J  K<script type=\"math/tex\">^{-1}</script>  kg<script type=\"math/tex\">^{-1}</script> </td>\n",
       "</tr>\n",
       "<tr class =\"row-a\">\n",
       "<td><script type=\"math/tex\">{c_{pv}}</script></td>\n",
       "<td>Specific heat of water vapour at 300 K</td>\n",
       "<td>J  K<script type=\"math/tex\">^{-1}</script>  kg<script type=\"math/tex\">^{-1}</script> </td>\n",
       "</tr>\n",
       "<tr class =\"row-b\">\n",
       "<td><script type=\"math/tex\">{C_{wa}}</script></td>\n",
       "<td>Concentration of water in the free air </td>\n",
       "<td>mol  m<script type=\"math/tex\">^{-3}</script> </td>\n",
       "</tr>\n",
       "<tr class =\"row-a\">\n",
       "<td><script type=\"math/tex\">{C_{wl}}</script></td>\n",
       "<td>Concentration of water in the leaf air space </td>\n",
       "<td>mol  m<script type=\"math/tex\">^{-3}</script> </td>\n",
       "</tr>\n",
       "<tr class =\"row-b\">\n",
       "<td><script type=\"math/tex\">{D_{va}}</script></td>\n",
       "<td>Binary diffusion coefficient of water vapour in air</td>\n",
       "<td> m<script type=\"math/tex\">^{2}</script>  s<script type=\"math/tex\">^{-1}</script> </td>\n",
       "</tr>\n",
       "<tr class =\"row-a\">\n",
       "<td><script type=\"math/tex\">\\mathit{dT}_{i}</script></td>\n",
       "<td>Temperature increment of insulation material</td>\n",
       "<td>K </td>\n",
       "</tr>\n",
       "<tr class =\"row-b\">\n",
       "<td><script type=\"math/tex\">E_{l}</script></td>\n",
       "<td>Latent heat flux from leaf</td>\n",
       "<td>J  m<script type=\"math/tex\">^{-2}</script>  s<script type=\"math/tex\">^{-1}</script> </td>\n",
       "</tr>\n",
       "<tr class =\"row-a\">\n",
       "<td><script type=\"math/tex\">{E_{l,mol}}</script></td>\n",
       "<td>Transpiration rate in molar units</td>\n",
       "<td>mol  m<script type=\"math/tex\">^{-2}</script>  s<script type=\"math/tex\">^{-1}</script> </td>\n",
       "</tr>\n",
       "<tr class =\"row-b\">\n",
       "<td><script type=\"math/tex\">\\epsilon_{l}</script></td>\n",
       "<td>Longwave emmissivity of the leaf surface (1.0)</td>\n",
       "<td>1 </td>\n",
       "</tr>\n",
       "<tr class =\"row-a\">\n",
       "<td><script type=\"math/tex\">{F_{in,mol,a}}</script></td>\n",
       "<td>Molar flow rate of dry air into chamber</td>\n",
       "<td>mol  s<script type=\"math/tex\">^{-1}</script> </td>\n",
       "</tr>\n",
       "<tr class =\"row-b\">\n",
       "<td><script type=\"math/tex\">{F_{in,mol,w}}</script></td>\n",
       "<td>Molar flow rate of water vapour into chamber</td>\n",
       "<td>mol  s<script type=\"math/tex\">^{-1}</script> </td>\n",
       "</tr>\n",
       "<tr class =\"row-a\">\n",
       "<td><script type=\"math/tex\">{F_{in,v}}</script></td>\n",
       "<td>Volumetric flow rate into chamber</td>\n",
       "<td> m<script type=\"math/tex\">^{3}</script>  s<script type=\"math/tex\">^{-1}</script> </td>\n",
       "</tr>\n",
       "<tr class =\"row-b\">\n",
       "<td><script type=\"math/tex\">{F_{in,v,a,n}}</script></td>\n",
       "<td>Volumetric inflow of dry air at 0oC and 101325 Pa</td>\n",
       "<td> m<script type=\"math/tex\">^{3}</script>  s<script type=\"math/tex\">^{-1}</script> </td>\n",
       "</tr>\n",
       "<tr class =\"row-a\">\n",
       "<td><script type=\"math/tex\">{F_{out,mol,a}}</script></td>\n",
       "<td>Molar flow rate of dry air out of chamber</td>\n",
       "<td>mol  s<script type=\"math/tex\">^{-1}</script> </td>\n",
       "</tr>\n",
       "<tr class =\"row-b\">\n",
       "<td><script type=\"math/tex\">{F_{out,mol,w}}</script></td>\n",
       "<td>Molar flow rate of water vapour out of chamber</td>\n",
       "<td>mol  s<script type=\"math/tex\">^{-1}</script> </td>\n",
       "</tr>\n",
       "<tr class =\"row-a\">\n",
       "<td><script type=\"math/tex\">{F_{out,v}}</script></td>\n",
       "<td>Volumetric flow rate out of chamber</td>\n",
       "<td> m<script type=\"math/tex\">^{3}</script>  s<script type=\"math/tex\">^{-1}</script> </td>\n",
       "</tr>\n",
       "<tr class =\"row-b\">\n",
       "<td><script type=\"math/tex\">F_{s}</script></td>\n",
       "<td>Fraction of radiation emitted by leaf, absorbed by sensor</td>\n",
       "<td>1 </td>\n",
       "</tr>\n",
       "<tr class =\"row-a\">\n",
       "<td><script type=\"math/tex\">g</script></td>\n",
       "<td>Gravitational acceleration (9.81)</td>\n",
       "<td>m  s<script type=\"math/tex\">^{-2}</script> </td>\n",
       "</tr>\n",
       "<tr class =\"row-b\">\n",
       "<td><script type=\"math/tex\">{g_{bw}}</script></td>\n",
       "<td>Boundary layer conductance to water vapour </td>\n",
       "<td>m  s<script type=\"math/tex\">^{-1}</script> </td>\n",
       "</tr>\n",
       "<tr class =\"row-a\">\n",
       "<td><script type=\"math/tex\">{g_{bw,mol}}</script></td>\n",
       "<td>Boundary layer conductance to water vapour </td>\n",
       "<td>mol  m<script type=\"math/tex\">^{-2}</script>  s<script type=\"math/tex\">^{-1}</script> </td>\n",
       "</tr>\n",
       "<tr class =\"row-b\">\n",
       "<td><script type=\"math/tex\">{g_{sw}}</script></td>\n",
       "<td>Stomatal conductance to water vapour</td>\n",
       "<td>m  s<script type=\"math/tex\">^{-1}</script> </td>\n",
       "</tr>\n",
       "<tr class =\"row-a\">\n",
       "<td><script type=\"math/tex\">{g_{sw,mol}}</script></td>\n",
       "<td>Stomatal conductance to water vapour</td>\n",
       "<td>mol  m<script type=\"math/tex\">^{-2}</script>  s<script type=\"math/tex\">^{-1}</script> </td>\n",
       "</tr>\n",
       "<tr class =\"row-b\">\n",
       "<td><script type=\"math/tex\">{g_{tw}}</script></td>\n",
       "<td>Total leaf conductance to water vapour</td>\n",
       "<td>m  s<script type=\"math/tex\">^{-1}</script> </td>\n",
       "</tr>\n",
       "<tr class =\"row-a\">\n",
       "<td><script type=\"math/tex\">{g_{tw,mol}}</script></td>\n",
       "<td>Total leaf layer conductance to water vapour</td>\n",
       "<td>mol  m<script type=\"math/tex\">^{-2}</script>  s<script type=\"math/tex\">^{-1}</script> </td>\n",
       "</tr>\n",
       "<tr class =\"row-b\">\n",
       "<td><script type=\"math/tex\">H_{c}</script></td>\n",
       "<td>Chamber height</td>\n",
       "<td>m </td>\n",
       "</tr>\n",
       "<tr class =\"row-a\">\n",
       "<td><script type=\"math/tex\">h_{c}</script></td>\n",
       "<td>Average 1-sided convective transfer coefficient</td>\n",
       "<td>J  K<script type=\"math/tex\">^{-1}</script>  m<script type=\"math/tex\">^{-2}</script>  s<script type=\"math/tex\">^{-1}</script> </td>\n",
       "</tr>\n",
       "<tr class =\"row-b\">\n",
       "<td><script type=\"math/tex\">H_{l}</script></td>\n",
       "<td>Sensible heat flux from leaf</td>\n",
       "<td>J  m<script type=\"math/tex\">^{-2}</script>  s<script type=\"math/tex\">^{-1}</script> </td>\n",
       "</tr>\n",
       "<tr class =\"row-a\">\n",
       "<td><script type=\"math/tex\">k_{a}</script></td>\n",
       "<td>Thermal conductivity of dry air</td>\n",
       "<td>J  K<script type=\"math/tex\">^{-1}</script>  m<script type=\"math/tex\">^{-1}</script>  s<script type=\"math/tex\">^{-1}</script> </td>\n",
       "</tr>\n",
       "<tr class =\"row-b\">\n",
       "<td><script type=\"math/tex\">L_{A}</script></td>\n",
       "<td>Leaf area</td>\n",
       "<td> m<script type=\"math/tex\">^{2}</script> </td>\n",
       "</tr>\n",
       "<tr class =\"row-a\">\n",
       "<td><script type=\"math/tex\">L_{c}</script></td>\n",
       "<td>Chamber length</td>\n",
       "<td>m </td>\n",
       "</tr>\n",
       "<tr class =\"row-b\">\n",
       "<td><script type=\"math/tex\">L_{i}</script></td>\n",
       "<td>Thickness of insulation material</td>\n",
       "<td>m </td>\n",
       "</tr>\n",
       "<tr class =\"row-a\">\n",
       "<td><script type=\"math/tex\">L_{l}</script></td>\n",
       "<td>Characteristic length scale for convection (size of leaf)</td>\n",
       "<td>m </td>\n",
       "</tr>\n",
       "<tr class =\"row-b\">\n",
       "<td><script type=\"math/tex\">L_{\\mathit{ls}}</script></td>\n",
       "<td>Distance between leaf and net radiation sensor</td>\n",
       "<td>m </td>\n",
       "</tr>\n",
       "<tr class =\"row-a\">\n",
       "<td><script type=\"math/tex\">L_{s}</script></td>\n",
       "<td>Width of net radiation sensor</td>\n",
       "<td>m </td>\n",
       "</tr>\n",
       "<tr class =\"row-b\">\n",
       "<td><script type=\"math/tex\">\\lambda_{E}</script></td>\n",
       "<td>Latent heat of evaporation (2.45e6)</td>\n",
       "<td>J  kg<script type=\"math/tex\">^{-1}</script> </td>\n",
       "</tr>\n",
       "<tr class =\"row-a\">\n",
       "<td><script type=\"math/tex\">\\lambda_{i}</script></td>\n",
       "<td>Heat conductivity of insulation material</td>\n",
       "<td>J  K<script type=\"math/tex\">^{-1}</script>  m<script type=\"math/tex\">^{-1}</script>  s<script type=\"math/tex\">^{-1}</script> </td>\n",
       "</tr>\n",
       "<tr class =\"row-b\">\n",
       "<td><script type=\"math/tex\">{M_{air}}</script></td>\n",
       "<td>Molar mass of air (kg mol-1)</td>\n",
       "<td>kg  mol<script type=\"math/tex\">^{-1}</script> </td>\n",
       "</tr>\n",
       "<tr class =\"row-a\">\n",
       "<td><script type=\"math/tex\">M_{N_{2}}</script></td>\n",
       "<td>Molar mass of nitrogen (0.028)</td>\n",
       "<td>kg  mol<script type=\"math/tex\">^{-1}</script> </td>\n",
       "</tr>\n",
       "<tr class =\"row-b\">\n",
       "<td><script type=\"math/tex\">M_{O_{2}}</script></td>\n",
       "<td>Molar mass of oxygen (0.032)</td>\n",
       "<td>kg  mol<script type=\"math/tex\">^{-1}</script> </td>\n",
       "</tr>\n",
       "<tr class =\"row-a\">\n",
       "<td><script type=\"math/tex\">M_{w}</script></td>\n",
       "<td>Molar mass of water (0.018)</td>\n",
       "<td>kg  mol<script type=\"math/tex\">^{-1}</script> </td>\n",
       "</tr>\n",
       "<tr class =\"row-b\">\n",
       "<td><script type=\"math/tex\">n_{c}</script></td>\n",
       "<td>molar mass of gas in chamber</td>\n",
       "<td>mol </td>\n",
       "</tr>\n",
       "<tr class =\"row-a\">\n",
       "<td><script type=\"math/tex\">{N_{Gr_L}}</script></td>\n",
       "<td>Grashof number</td>\n",
       "<td>1 </td>\n",
       "</tr>\n",
       "<tr class =\"row-b\">\n",
       "<td><script type=\"math/tex\">{N_{Le}}</script></td>\n",
       "<td>Lewis number</td>\n",
       "<td>1 </td>\n",
       "</tr>\n",
       "<tr class =\"row-a\">\n",
       "<td><script type=\"math/tex\">{N_{Nu_L}}</script></td>\n",
       "<td>Nusselt number</td>\n",
       "<td>1 </td>\n",
       "</tr>\n",
       "<tr class =\"row-b\">\n",
       "<td><script type=\"math/tex\">{N_{Re_c}}</script></td>\n",
       "<td>Critical Reynolds number for the onset of turbulence</td>\n",
       "<td>1 </td>\n",
       "</tr>\n",
       "<tr class =\"row-a\">\n",
       "<td><script type=\"math/tex\">{N_{Re_L}}</script></td>\n",
       "<td>Reynolds number</td>\n",
       "<td>1 </td>\n",
       "</tr>\n",
       "<tr class =\"row-b\">\n",
       "<td><script type=\"math/tex\">{N_{Sh_L}}</script></td>\n",
       "<td>Sherwood number</td>\n",
       "<td>1 </td>\n",
       "</tr>\n",
       "<tr class =\"row-a\">\n",
       "<td><script type=\"math/tex\">\\nu_{a}</script></td>\n",
       "<td>Kinematic viscosity of dry air</td>\n",
       "<td> m<script type=\"math/tex\">^{2}</script>  s<script type=\"math/tex\">^{-1}</script> </td>\n",
       "</tr>\n",
       "<tr class =\"row-b\">\n",
       "<td><script type=\"math/tex\">P_{a}</script></td>\n",
       "<td>Air pressure</td>\n",
       "<td>Pa </td>\n",
       "</tr>\n",
       "<tr class =\"row-a\">\n",
       "<td><script type=\"math/tex\">{P_{N2}}</script></td>\n",
       "<td>Partial pressure of nitrogen in the atmosphere</td>\n",
       "<td>Pa </td>\n",
       "</tr>\n",
       "<tr class =\"row-b\">\n",
       "<td><script type=\"math/tex\">{P_{O2}}</script></td>\n",
       "<td>Partial pressure of oxygen in the atmosphere</td>\n",
       "<td>Pa </td>\n",
       "</tr>\n",
       "<tr class =\"row-a\">\n",
       "<td><script type=\"math/tex\">P_{r}</script></td>\n",
       "<td>Reference pressure</td>\n",
       "<td>Pa </td>\n",
       "</tr>\n",
       "<tr class =\"row-b\">\n",
       "<td><script type=\"math/tex\">{P_{w,in}}</script></td>\n",
       "<td>Vapour pressure of incoming air</td>\n",
       "<td>Pa </td>\n",
       "</tr>\n",
       "<tr class =\"row-a\">\n",
       "<td><script type=\"math/tex\">{P_{w,out}}</script></td>\n",
       "<td>Vapour pressure of outgoing air</td>\n",
       "<td>Pa </td>\n",
       "</tr>\n",
       "<tr class =\"row-b\">\n",
       "<td><script type=\"math/tex\">{P_{wa}}</script></td>\n",
       "<td>Vapour pressure in the atmosphere</td>\n",
       "<td>Pa </td>\n",
       "</tr>\n",
       "<tr class =\"row-a\">\n",
       "<td><script type=\"math/tex\">{P_{was}}</script></td>\n",
       "<td>Saturation vapour pressure at air temperature</td>\n",
       "<td>Pa </td>\n",
       "</tr>\n",
       "<tr class =\"row-b\">\n",
       "<td><script type=\"math/tex\">{P_{wl}}</script></td>\n",
       "<td>Vapour pressure inside the leaf</td>\n",
       "<td>Pa </td>\n",
       "</tr>\n",
       "<tr class =\"row-a\">\n",
       "<td><script type=\"math/tex\">{N_{Pr}}</script></td>\n",
       "<td>Prandtl number (0.71)</td>\n",
       "<td>1 </td>\n",
       "</tr>\n",
       "<tr class =\"row-b\">\n",
       "<td><script type=\"math/tex\">Q_{i}</script></td>\n",
       "<td>Heat conduction through insulation material</td>\n",
       "<td>J  s<script type=\"math/tex\">^{-1}</script> </td>\n",
       "</tr>\n",
       "<tr class =\"row-a\">\n",
       "<td><script type=\"math/tex\">{Q_{in}}</script></td>\n",
       "<td>Internal heat sources, such as fan</td>\n",
       "<td>J  s<script type=\"math/tex\">^{-1}</script> </td>\n",
       "</tr>\n",
       "<tr class =\"row-b\">\n",
       "<td><script type=\"math/tex\">{r_{bw}}</script></td>\n",
       "<td>Boundary layer resistance to water vapour, inverse of <script type=\"math/tex\">g_{bw}</script></td>\n",
       "<td>s  m<script type=\"math/tex\">^{-1}</script> </td>\n",
       "</tr>\n",
       "<tr class =\"row-a\">\n",
       "<td><script type=\"math/tex\">R_{d}</script></td>\n",
       "<td>Downwelling global radiation</td>\n",
       "<td>J  m<script type=\"math/tex\">^{-2}</script>  s<script type=\"math/tex\">^{-1}</script> </td>\n",
       "</tr>\n",
       "<tr class =\"row-b\">\n",
       "<td><script type=\"math/tex\">{R_{H,in}}</script></td>\n",
       "<td>Relative humidity of incoming air</td>\n",
       "<td>1 </td>\n",
       "</tr>\n",
       "<tr class =\"row-a\">\n",
       "<td><script type=\"math/tex\">{R_{la}}</script></td>\n",
       "<td>Longwave radiation absorbed by leaf</td>\n",
       "<td>J  m<script type=\"math/tex\">^{-2}</script>  s<script type=\"math/tex\">^{-1}</script> </td>\n",
       "</tr>\n",
       "<tr class =\"row-b\">\n",
       "<td><script type=\"math/tex\">{R_{ld}}</script></td>\n",
       "<td>Downwards emitted/reflected global radiation from leaf</td>\n",
       "<td>J  m<script type=\"math/tex\">^{-2}</script>  s<script type=\"math/tex\">^{-1}</script> </td>\n",
       "</tr>\n",
       "<tr class =\"row-a\">\n",
       "<td><script type=\"math/tex\">{R_{ll}}</script></td>\n",
       "<td>Longwave radiation away from leaf</td>\n",
       "<td>J  m<script type=\"math/tex\">^{-2}</script>  s<script type=\"math/tex\">^{-1}</script> </td>\n",
       "</tr>\n",
       "<tr class =\"row-b\">\n",
       "<td><script type=\"math/tex\">{R_{lu}}</script></td>\n",
       "<td>Upwards emitted/reflected global radiation from leaf</td>\n",
       "<td>J  m<script type=\"math/tex\">^{-2}</script>  s<script type=\"math/tex\">^{-1}</script> </td>\n",
       "</tr>\n",
       "<tr class =\"row-a\">\n",
       "<td><script type=\"math/tex\">{R_{mol}}</script></td>\n",
       "<td>Molar gas constant (8.314472)</td>\n",
       "<td>J  K<script type=\"math/tex\">^{-1}</script>  mol<script type=\"math/tex\">^{-1}</script> </td>\n",
       "</tr>\n",
       "<tr class =\"row-b\">\n",
       "<td><script type=\"math/tex\">R_{s}</script></td>\n",
       "<td>Solar shortwave flux</td>\n",
       "<td>J  m<script type=\"math/tex\">^{-2}</script>  s<script type=\"math/tex\">^{-1}</script> </td>\n",
       "</tr>\n",
       "<tr class =\"row-a\">\n",
       "<td><script type=\"math/tex\">{r_{sw}}</script></td>\n",
       "<td>Stomatal resistance to water vapour, inverse of <script type=\"math/tex\">g_{sw}</script></td>\n",
       "<td>s  m<script type=\"math/tex\">^{-1}</script> </td>\n",
       "</tr>\n",
       "<tr class =\"row-b\">\n",
       "<td><script type=\"math/tex\">{r_{tw}}</script></td>\n",
       "<td>Total leaf resistance to water vapour, <script type=\"math/tex\">r_{bv} + r_{sv}</script></td>\n",
       "<td>s  m<script type=\"math/tex\">^{-1}</script> </td>\n",
       "</tr>\n",
       "<tr class =\"row-a\">\n",
       "<td><script type=\"math/tex\">R_{u}</script></td>\n",
       "<td>Upwelling global radiation</td>\n",
       "<td>J  m<script type=\"math/tex\">^{-2}</script>  s<script type=\"math/tex\">^{-1}</script> </td>\n",
       "</tr>\n",
       "<tr class =\"row-b\">\n",
       "<td><script type=\"math/tex\">\\rho_{a}</script></td>\n",
       "<td>Density of dry air</td>\n",
       "<td>kg  m<script type=\"math/tex\">^{-3}</script> </td>\n",
       "</tr>\n",
       "<tr class =\"row-a\">\n",
       "<td><script type=\"math/tex\">\\rho_{\\mathit{al}}</script></td>\n",
       "<td>Density of air at the leaf surface</td>\n",
       "<td>kg  m<script type=\"math/tex\">^{-3}</script> </td>\n",
       "</tr>\n",
       "<tr class =\"row-b\">\n",
       "<td><script type=\"math/tex\">\\rho_{i}</script></td>\n",
       "<td>Density of insulation material</td>\n",
       "<td>kg  m<script type=\"math/tex\">^{-3}</script> </td>\n",
       "</tr>\n",
       "<tr class =\"row-a\">\n",
       "<td><script type=\"math/tex\">S_{a}</script></td>\n",
       "<td>Radiation sensor above leaf reading</td>\n",
       "<td>J  m<script type=\"math/tex\">^{-2}</script>  s<script type=\"math/tex\">^{-1}</script> </td>\n",
       "</tr>\n",
       "<tr class =\"row-b\">\n",
       "<td><script type=\"math/tex\">S_{b}</script></td>\n",
       "<td>Radiation sensor below leaf reading</td>\n",
       "<td>J  m<script type=\"math/tex\">^{-2}</script>  s<script type=\"math/tex\">^{-1}</script> </td>\n",
       "</tr>\n",
       "<tr class =\"row-a\">\n",
       "<td><script type=\"math/tex\">S_{s}</script></td>\n",
       "<td>Radiation sensor beside leaf reading</td>\n",
       "<td>J  m<script type=\"math/tex\">^{-2}</script>  s<script type=\"math/tex\">^{-1}</script> </td>\n",
       "</tr>\n",
       "<tr class =\"row-b\">\n",
       "<td><script type=\"math/tex\">{\\sigma}</script></td>\n",
       "<td>Stefan-Boltzmann constant (5.67e-8)</td>\n",
       "<td>J  K<script type=\"math/tex\">^{-4}</script>  m<script type=\"math/tex\">^{-2}</script>  s<script type=\"math/tex\">^{-1}</script> </td>\n",
       "</tr>\n",
       "<tr class =\"row-a\">\n",
       "<td><script type=\"math/tex\">T_{0}</script></td>\n",
       "<td>Freezing point in kelvin</td>\n",
       "<td>K </td>\n",
       "</tr>\n",
       "<tr class =\"row-b\">\n",
       "<td><script type=\"math/tex\">T_{a}</script></td>\n",
       "<td>Air temperature</td>\n",
       "<td>K </td>\n",
       "</tr>\n",
       "<tr class =\"row-a\">\n",
       "<td><script type=\"math/tex\">T_{d}</script></td>\n",
       "<td>Dew point temperature of incoming air</td>\n",
       "<td>K </td>\n",
       "</tr>\n",
       "<tr class =\"row-b\">\n",
       "<td><script type=\"math/tex\">{T_{in}}</script></td>\n",
       "<td>Temperature of incoming air</td>\n",
       "<td>K </td>\n",
       "</tr>\n",
       "<tr class =\"row-a\">\n",
       "<td><script type=\"math/tex\">T_{l}</script></td>\n",
       "<td>Leaf temperature</td>\n",
       "<td>K </td>\n",
       "</tr>\n",
       "<tr class =\"row-b\">\n",
       "<td><script type=\"math/tex\">{T_{out}}</script></td>\n",
       "<td>Temperature of outgoing air (= chamber T_a)</td>\n",
       "<td>K </td>\n",
       "</tr>\n",
       "<tr class =\"row-a\">\n",
       "<td><script type=\"math/tex\">T_{r}</script></td>\n",
       "<td>Reference temperature</td>\n",
       "<td>K </td>\n",
       "</tr>\n",
       "<tr class =\"row-b\">\n",
       "<td><script type=\"math/tex\">{T_{room}}</script></td>\n",
       "<td>Lab air temperature</td>\n",
       "<td>K </td>\n",
       "</tr>\n",
       "<tr class =\"row-a\">\n",
       "<td><script type=\"math/tex\">T_{w}</script></td>\n",
       "<td>Radiative temperature of objects surrounding the leaf</td>\n",
       "<td>K </td>\n",
       "</tr>\n",
       "<tr class =\"row-b\">\n",
       "<td><script type=\"math/tex\">V_{c}</script></td>\n",
       "<td>Chamber volume</td>\n",
       "<td> m<script type=\"math/tex\">^{3}</script> </td>\n",
       "</tr>\n",
       "<tr class =\"row-a\">\n",
       "<td><script type=\"math/tex\">v_{w}</script></td>\n",
       "<td>Wind velocity</td>\n",
       "<td>m  s<script type=\"math/tex\">^{-1}</script> </td>\n",
       "</tr>\n",
       "<tr class =\"row-b\">\n",
       "<td><script type=\"math/tex\">W_{c}</script></td>\n",
       "<td>Chamber width</td>\n",
       "<td>m </td>\n",
       "</tr>\n",
       "</tbody>\n",
       "</table>\n",
       "</div>"
      ],
      "text/plain": [
       "  Variable     Description (value)                                                                                                   Units\n",
       "+------------+---------------------------------------------------------------------------------------------------------------------+----------------------------------+\n",
       "  A_i          Conducting area of insulation material                                                                                 m$^{2}$\n",
       "  a_s          Fraction of one-sided leaf area covered by stomata (1 if stomata are on one side only, 2 if they are on both sides)   1\n",
       "  a_sh         Fraction of projected area exchanging sensible heat with the air (2)                                                  1\n",
       "  alpha_a      Thermal diffusivity of dry air                                                                                         m$^{2}$  s$^{-1}$\n",
       "  alpha_l      Leaf albedo, fraction of shortwave radiation reflected by the leaf                                                    1\n",
       "  B_l          Boundary layer thickness                                                                                              m\n",
       "  c_pa         Specific heat of dry air (1010)                                                                                       J  K$^{-1}$  kg$^{-1}$\n",
       "  c_pi         Heat capacity of insulation material                                                                                  J  K$^{-1}$  kg$^{-1}$\n",
       "  c_pv         Specific heat of water vapour at 300 K                                                                                J  K$^{-1}$  kg$^{-1}$\n",
       "  C_wa         Concentration of water in the free air                                                                                mol  m$^{-3}$\n",
       "  C_wl         Concentration of water in the leaf air space                                                                          mol  m$^{-3}$\n",
       "  D_va         Binary diffusion coefficient of water vapour in air                                                                    m$^{2}$  s$^{-1}$\n",
       "  dT_i         Temperature increment of insulation material                                                                          K\n",
       "  E_l          Latent heat flux from leaf                                                                                            J  m$^{-2}$  s$^{-1}$\n",
       "  E_lmol       Transpiration rate in molar units                                                                                     mol  m$^{-2}$  s$^{-1}$\n",
       "  epsilon_l    Longwave emmissivity of the leaf surface (1.0)                                                                        1\n",
       "  F_in_mola    Molar flow rate of dry air into chamber                                                                               mol  s$^{-1}$\n",
       "  F_in_molw    Molar flow rate of water vapour into chamber                                                                          mol  s$^{-1}$\n",
       "  F_in_v       Volumetric flow rate into chamber                                                                                      m$^{3}$  s$^{-1}$\n",
       "  F_in_va_n    Volumetric inflow of dry air at 0oC and 101325 Pa                                                                      m$^{3}$  s$^{-1}$\n",
       "  F_out_mola   Molar flow rate of dry air out of chamber                                                                             mol  s$^{-1}$\n",
       "  F_out_molw   Molar flow rate of water vapour out of chamber                                                                        mol  s$^{-1}$\n",
       "  F_out_v      Volumetric flow rate out of chamber                                                                                    m$^{3}$  s$^{-1}$\n",
       "  F_s          Fraction of radiation emitted by leaf, absorbed by sensor                                                             1\n",
       "  g            Gravitational acceleration (9.81)                                                                                     m  s$^{-2}$\n",
       "  g_bw         Boundary layer conductance to water vapour                                                                            m  s$^{-1}$\n",
       "  g_bwmol      Boundary layer conductance to water vapour                                                                            mol  m$^{-2}$  s$^{-1}$\n",
       "  g_sw         Stomatal conductance to water vapour                                                                                  m  s$^{-1}$\n",
       "  g_swmol      Stomatal conductance to water vapour                                                                                  mol  m$^{-2}$  s$^{-1}$\n",
       "  g_tw         Total leaf conductance to water vapour                                                                                m  s$^{-1}$\n",
       "  g_twmol      Total leaf layer conductance to water vapour                                                                          mol  m$^{-2}$  s$^{-1}$\n",
       "  H_c          Chamber height                                                                                                        m\n",
       "  h_c          Average 1-sided convective transfer coefficient                                                                       J  K$^{-1}$  m$^{-2}$  s$^{-1}$\n",
       "  H_l          Sensible heat flux from leaf                                                                                          J  m$^{-2}$  s$^{-1}$\n",
       "  k_a          Thermal conductivity of dry air                                                                                       J  K$^{-1}$  m$^{-1}$  s$^{-1}$\n",
       "  L_A          Leaf area                                                                                                              m$^{2}$\n",
       "  L_c          Chamber length                                                                                                        m\n",
       "  L_i          Thickness of insulation material                                                                                      m\n",
       "  L_l          Characteristic length scale for convection (size of leaf)                                                             m\n",
       "  L_ls         Distance between leaf and net radiation sensor                                                                        m\n",
       "  L_s          Width of net radiation sensor                                                                                         m\n",
       "  lambda_E     Latent heat of evaporation (2.45e6)                                                                                   J  kg$^{-1}$\n",
       "  lambda_i     Heat conductivity of insulation material                                                                              J  K$^{-1}$  m$^{-1}$  s$^{-1}$\n",
       "  M_air        Molar mass of air (kg mol-1)                                                                                          kg  mol$^{-1}$\n",
       "  M_N2         Molar mass of nitrogen (0.028)                                                                                        kg  mol$^{-1}$\n",
       "  M_O2         Molar mass of oxygen (0.032)                                                                                          kg  mol$^{-1}$\n",
       "  M_w          Molar mass of water (0.018)                                                                                           kg  mol$^{-1}$\n",
       "  n_c          molar mass of gas in chamber                                                                                          mol\n",
       "  Gr           Grashof number                                                                                                        1\n",
       "  Le           Lewis number                                                                                                          1\n",
       "  Nu           Nusselt number                                                                                                        1\n",
       "  Re_c         Critical Reynolds number for the onset of turbulence                                                                  1\n",
       "  Re           Reynolds number                                                                                                       1\n",
       "  Sh           Sherwood number                                                                                                       1\n",
       "  nu_a         Kinematic viscosity of dry air                                                                                         m$^{2}$  s$^{-1}$\n",
       "  P_a          Air pressure                                                                                                          Pa\n",
       "  P_N2         Partial pressure of nitrogen in the atmosphere                                                                        Pa\n",
       "  P_O2         Partial pressure of oxygen in the atmosphere                                                                          Pa\n",
       "  P_r          Reference pressure                                                                                                    Pa\n",
       "  P_w_in       Vapour pressure of incoming air                                                                                       Pa\n",
       "  P_w_out      Vapour pressure of outgoing air                                                                                       Pa\n",
       "  P_wa         Vapour pressure in the atmosphere                                                                                     Pa\n",
       "  P_was        Saturation vapour pressure at air temperature                                                                         Pa\n",
       "  P_wl         Vapour pressure inside the leaf                                                                                       Pa\n",
       "  Pr           Prandtl number (0.71)                                                                                                 1\n",
       "  Q_i          Heat conduction through insulation material                                                                           J  s$^{-1}$\n",
       "  Q_in         Internal heat sources, such as fan                                                                                    J  s$^{-1}$\n",
       "  r_bw         Boundary layer resistance to water vapour, inverse of $g_{bw}$                                                        s  m$^{-1}$\n",
       "  R_d          Downwelling global radiation                                                                                          J  m$^{-2}$  s$^{-1}$\n",
       "  R_H_in       Relative humidity of incoming air                                                                                     1\n",
       "  R_la         Longwave radiation absorbed by leaf                                                                                   J  m$^{-2}$  s$^{-1}$\n",
       "  R_ld         Downwards emitted/reflected global radiation from leaf                                                                J  m$^{-2}$  s$^{-1}$\n",
       "  R_ll         Longwave radiation away from leaf                                                                                     J  m$^{-2}$  s$^{-1}$\n",
       "  R_lu         Upwards emitted/reflected global radiation from leaf                                                                  J  m$^{-2}$  s$^{-1}$\n",
       "  R_mol        Molar gas constant (8.314472)                                                                                         J  K$^{-1}$  mol$^{-1}$\n",
       "  R_s          Solar shortwave flux                                                                                                  J  m$^{-2}$  s$^{-1}$\n",
       "  r_sw         Stomatal resistance to water vapour, inverse of $g_{sw}$                                                              s  m$^{-1}$\n",
       "  r_tw         Total leaf resistance to water vapour, $r_{bv} + r_{sv}$                                                              s  m$^{-1}$\n",
       "  R_u          Upwelling global radiation                                                                                            J  m$^{-2}$  s$^{-1}$\n",
       "  rho_a        Density of dry air                                                                                                    kg  m$^{-3}$\n",
       "  rho_al       Density of air at the leaf surface                                                                                    kg  m$^{-3}$\n",
       "  rho_i        Density of insulation material                                                                                        kg  m$^{-3}$\n",
       "  S_a          Radiation sensor above leaf reading                                                                                   J  m$^{-2}$  s$^{-1}$\n",
       "  S_b          Radiation sensor below leaf reading                                                                                   J  m$^{-2}$  s$^{-1}$\n",
       "  S_s          Radiation sensor beside leaf reading                                                                                  J  m$^{-2}$  s$^{-1}$\n",
       "  sigm         Stefan-Boltzmann constant (5.67e-8)                                                                                   J  K$^{-4}$  m$^{-2}$  s$^{-1}$\n",
       "  T0           Freezing point in kelvin                                                                                              K\n",
       "  T_a          Air temperature                                                                                                       K\n",
       "  T_d          Dew point temperature of incoming air                                                                                 K\n",
       "  T_in         Temperature of incoming air                                                                                           K\n",
       "  T_l          Leaf temperature                                                                                                      K\n",
       "  T_out        Temperature of outgoing air (= chamber T_a)                                                                           K\n",
       "  T_r          Reference temperature                                                                                                 K\n",
       "  T_room       Lab air temperature                                                                                                   K\n",
       "  T_w          Radiative temperature of objects surrounding the leaf                                                                 K\n",
       "  V_c          Chamber volume                                                                                                         m$^{3}$\n",
       "  v_w          Wind velocity                                                                                                         m  s$^{-1}$\n",
       "  W_c          Chamber width                                                                                                         m"
      ]
     },
     "execution_count": 69,
     "metadata": {},
     "output_type": "execute_result"
    }
   ],
   "source": [
    "# Creating dictionary to substitute names of units with shorter forms\n",
    "var('m s J Pa K kg mol')\n",
    "subsdict = {meter: m, second: s, joule: J, pascal: Pa, kelvin: K, kilogram: kg, mole: mol}\n",
    "var('N_Re_L N_Re_c N_Le N_Nu_L N_Gr_L N_Sh_L')\n",
    "dict_varnew = {Re: N_Re_L, Re_c: N_Re_c, Le: N_Le, Nu: N_Nu_L, Gr: N_Gr_L, Sh: N_Sh_L}\n",
    "dict_varold = {v: k for k, v in dict_varnew.iteritems()}\n",
    "variables = sorted([str(variable.subs(dict_varnew)) for variable in udict.keys()],key=str.lower)\n",
    "tableheader = [('Variable', 'Description (value)', 'Units')]\n",
    "tabledata = [('Variable', 'Description (value)', 'Units')]\n",
    "for variable1 in variables:\n",
    "    variable2 = eval(variable1).subs(dict_varold)\n",
    "    variable = str(variable2)\n",
    "    tabledata.append((eval(variable),docdict[eval(variable)],fun_units_formatted(variable)))\n",
    "\n",
    "table(tabledata, header_row=True)"
   ]
  },
  {
   "cell_type": "code",
   "execution_count": null,
   "metadata": {
    "collapsed": true,
    "deletable": true,
    "editable": true
   },
   "outputs": [],
   "source": []
  }
 ],
 "metadata": {
  "kernelspec": {
   "display_name": "SageMath 7.6",
   "language": "",
   "name": "sagemath"
  },
  "language": "python",
  "language_info": {
   "codemirror_mode": {
    "name": "ipython",
    "version": 2
   },
   "file_extension": ".py",
   "mimetype": "text/x-python",
   "name": "python",
   "nbconvert_exporter": "python",
   "pygments_lexer": "ipython2",
   "version": "2.7.13"
  },
  "nav_menu": {},
  "toc": {
   "navigate_menu": true,
   "number_sections": true,
   "sideBar": true,
   "threshold": 6,
   "toc_cell": false,
   "toc_section_display": "block",
   "toc_window_display": true
  }
 },
 "nbformat": 4,
 "nbformat_minor": 0
}
