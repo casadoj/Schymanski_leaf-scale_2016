{
 "cells": [
  {
   "cell_type": "markdown",
   "metadata": {},
   "source": [
    "# Analytical solutions of leaf energy balance\n",
    "Based on the following paper:\n",
    "Schymanski, S.J. and Or, D. (2016): [Leaf-scale experiments reveal important omission in the Penman-Monteith equation.](http://www.hydrol-earth-syst-sci-discuss.net/hess-2016-363/) Hydrology and Earth System Sciences Discussions, p.1–33. doi: 10.5194/hess-2016-363.\n",
    "\n",
    "Author: Stan Schymanski (stan.schymanski@env.ethz.ch)\n",
    "\n",
    "This worksheet relies on definitions provided in Worksheets [Worksheet_setup](Worksheet_setup.ipynb) and [Leaf_enbalance_eqs](Leaf_enbalance_eqs.ipynb)."
   ]
  },
  {
   "cell_type": "code",
   "execution_count": 1,
   "metadata": {
    "collapsed": false
   },
   "outputs": [],
   "source": [
    "%%capture storage\n",
    "# The above redirects all output of the below commands to the variable 'storage' instead of displaying it.\n",
    "# It can be viewed by typing: 'storage()'\n",
    "# Setting up worksheet and importing equations for explicit leaf energy balance\n",
    "load('temp/Worksheet_setup.sage')\n",
    "fun_include_ipynb('Leaf_enbalance_eqs', del1=True, output=True)"
   ]
  },
  {
   "cell_type": "markdown",
   "metadata": {
    "collapsed": false
   },
   "source": [
    "## Penman (1948)\n",
    "In order to obtain analytical expressions for the different leaf energy balance components, one would need to solve the leaf energy balance equation for leaf temperature first. However, due to the non-linearities of the blackbody radiation and the saturation vapour pressure equations, an analytical solution has not been found yet. \\citet{penman_natural_1948} proposed a work-around, which we reproduced below, adapted to our notation and to a wet leaf, while Penman's formulations referred to a wet soil surface. He formulated evaporation from a wet surface as a diffusive process driven by the vapour pressure difference near the wet surface and in the free air:\n",
    "##### {eq_Ew_fu}\n",
    "$$E_{w} = f_u (P_{wl} - P_{wa})$$\n",
    "\n",
    "where $E_w$ (J~s$^{-1}$~m$^{-2}$) is the latent heat flux from a wet surface and $f_u$ is commonly referred to as the wind function. Penman then defined the Bowen ratio as (Eq. 10 in \\citet{penman_natural_1948}):\n",
    "##### {eq_beta_B}\n",
    "$$\\beta_B = H_l/E_w = \\gamma_v \\frac{T_l - T_a}{P_{wl} - P_{wa}}$$\n",
    "\n",
    "where $H_l$ is the sensible heat flux and $\\gamma_v$ is the psychrometric constant, referring to the ratio between the transfer coefficients for sensible heat and that for water vapour."
   ]
  },
  {
   "cell_type": "code",
   "execution_count": 2,
   "metadata": {
    "collapsed": false
   },
   "outputs": [
    {
     "data": {
      "text/html": [
       "<html><script type=\"math/tex; mode=display\">\\newcommand{\\Bold}[1]{\\mathbf{#1}}E_{w} = -{\\left({P_{wa}} - {P_{wl}}\\right)} f_{u}</script></html>"
      ],
      "text/plain": [
       "E_w == -(P_wa - P_wl)*f_u"
      ]
     },
     "metadata": {},
     "output_type": "display_data"
    },
    {
     "data": {
      "text/plain": [
       "kilogram/second^3 == kilogram/second^3"
      ]
     },
     "execution_count": 2,
     "metadata": {},
     "output_type": "execute_result"
    }
   ],
   "source": [
    "eq_Ew_fu = E_w == f_u*(P_wl - P_wa)\n",
    "units_check(eq_Ew_fu).simplify_full()"
   ]
  },
  {
   "cell_type": "code",
   "execution_count": 3,
   "metadata": {
    "collapsed": false
   },
   "outputs": [
    {
     "data": {
      "text/html": [
       "<html><script type=\"math/tex; mode=display\">\\newcommand{\\Bold}[1]{\\mathbf{#1}}{\\beta_B} = \\frac{{\\left(T_{a} - T_{l}\\right)} \\gamma_{v}}{{P_{wa}} - {P_{wl}}}</script></html>"
      ],
      "text/plain": [
       "beta_B == (T_a - T_l)*gamma_v/(P_wa - P_wl)"
      ]
     },
     "metadata": {},
     "output_type": "display_data"
    },
    {
     "data": {
      "text/plain": [
       "1 == 1"
      ]
     },
     "execution_count": 3,
     "metadata": {},
     "output_type": "execute_result"
    }
   ],
   "source": [
    "eq_beta_B = beta_B == gamma_v*(T_l - T_a)/(P_wl - P_wa)\n",
    "units_check(eq_beta_B).full_simplify()"
   ]
  },
  {
   "cell_type": "markdown",
   "metadata": {
    "collapsed": false
   },
   "source": [
    "In order to eliminate $T_l$, Penman introduced a term for the ratio of the vapour pressure difference between the surface and the saturation vapour pressure at air temperature ($P_{was}$) to the temperature difference between the surface and the air:\n",
    "##### {eq_Penman_ass}\n",
    "$$ \\Delta_{eTa} = \\frac{P_{wl} - P_{was}}{T_l - T_a}$$\n",
    "\n",
    "and he proposed to approximate this term by the slope of the saturation vapour pressure curve evaluated at air temperature, which can be obtained by substitution of $T_a$ for $T_l$ and differentiation of Eq. eq_Pwl with respect to $T_a$:\n",
    "##### {eq_Deltaeta_Ta}\n",
    "$$\\Delta_{eTa} = \\frac{611 \\lambda_E M_w \\exp \\left( \\frac{\\lambda_E M_w}{R_{mol}} \\left( \\frac{1}{273} - \\frac{1}{T_a} \\right) \\right)}{R_{mol} T_a^2}$$\n",
    "\n",
    "For further discussion of the meaning of this assumption, please refer to \\citet{mallick_surface_2014}."
   ]
  },
  {
   "cell_type": "code",
   "execution_count": 4,
   "metadata": {
    "collapsed": false
   },
   "outputs": [
    {
     "data": {
      "text/html": [
       "<html><script type=\"math/tex; mode=display\">\\newcommand{\\Bold}[1]{\\mathbf{#1}}{\\Delta_{eTa}} = \\frac{{P_{was}} - {P_{wl}}}{T_{a} - T_{l}}</script></html>"
      ],
      "text/plain": [
       "Delta_eTa == (P_was - P_wl)/(T_a - T_l)"
      ]
     },
     "metadata": {},
     "output_type": "display_data"
    },
    {
     "data": {
      "text/plain": [
       "kilogram/(kelvin*meter*second^2) == kilogram/(kelvin*meter*second^2)"
      ]
     },
     "execution_count": 4,
     "metadata": {},
     "output_type": "execute_result"
    }
   ],
   "source": [
    "eq_Penman_ass = Delta_eTa == (P_wl - P_was)/(T_l - T_a)\n",
    "units_check(eq_Penman_ass).simplify_full()"
   ]
  },
  {
   "cell_type": "code",
   "execution_count": 5,
   "metadata": {
    "collapsed": false
   },
   "outputs": [
    {
     "data": {
      "text/html": [
       "<html><script type=\"math/tex; mode=display\">\\newcommand{\\Bold}[1]{\\mathbf{#1}}{P_{was}} = 611 \\, e^{\\left(-\\frac{M_{w} \\lambda_{E} {\\left(\\frac{273}{T_{a}} - 1\\right)}}{273 \\, {R_{mol}}}\\right)}</script></html>"
      ],
      "text/plain": [
       "P_was == 611*e^(-1/273*M_w*lambda_E*(273/T_a - 1)/R_mol)"
      ]
     },
     "metadata": {},
     "output_type": "display_data"
    }
   ],
   "source": [
    "eq_Pwas_Ta = P_was == eq_Pwl.rhs()(T_l = T_a)\n",
    "eq_Pwas_Ta.show()"
   ]
  },
  {
   "cell_type": "code",
   "execution_count": 6,
   "metadata": {
    "collapsed": false
   },
   "outputs": [
    {
     "data": {
      "text/html": [
       "<html><script type=\"math/tex; mode=display\">\\newcommand{\\Bold}[1]{\\mathbf{#1}}{\\Delta_{eTa}} = \\frac{611 \\, M_{w} \\lambda_{E} e^{\\left(-\\frac{M_{w} \\lambda_{E} {\\left(\\frac{273}{T_{a}} - 1\\right)}}{273 \\, {R_{mol}}}\\right)}}{{R_{mol}} T_{a}^{2}}</script></html>"
      ],
      "text/plain": [
       "Delta_eTa == 611*M_w*lambda_E*e^(-1/273*M_w*lambda_E*(273/T_a - 1)/R_mol)/(R_mol*T_a^2)"
      ]
     },
     "metadata": {},
     "output_type": "display_data"
    }
   ],
   "source": [
    "eq_Deltaeta_T = Delta_eTa == diff(eq_Pwl.rhs()(T_l = T_a), T_a)\n",
    "show(eq_Deltaeta_T)"
   ]
  },
  {
   "cell_type": "markdown",
   "metadata": {
    "collapsed": false
   },
   "source": [
    "Susbstitution of Eq. {eq_Penman_ass} in Eq. {eq_beta_B} yields (Eq. 15 in \\citet{bowen_ratio_1926}):\n",
    "##### {eq_betaB_Pwas}\n",
    "$$\\beta_B = \\frac{\\gamma_v}{\\Delta_{eTa}}\\frac{(P_{wl} - P_{was})}{(P_{wl} - P_{wa})}$$\n",
    "\n",
    "Substituting $E_w$ for $E_l$ and inserting $H_l = \\beta_B E_w$ (Eq. {eq_beta_B}) into the energy balance equation (Eq. {eq_Rs_enbal}) and solving for $E_w$ gives:\n",
    "##### {eq_Ew_betaB}\n",
    "$$E_w = \\frac{R_s - R_{ll}}{\\beta_B + 1}$$\n",
    "\n",
    "Substitution of Eq. {eq_betaB_Pwas} into Eq. {eq_Ew_betaB}, equating with Eq. {eq_Ew_fu} and solving for $P_{wl}$ gives:\n",
    "##### {eq_Pwl_fu}\n",
    "$$P_{wl} = \\frac{f_u (\\Delta_{eTa} P_{wa} + \\gamma_v P_{was}) + \\Delta_{eTa} (R_s - R_{ll})}\n",
    "{f_u (\\Delta_{eTa} + \\gamma_v)}$$\n",
    "\n",
    "Now, insertion of Eq. {eq_Pwl_fu} into Eq. {eq_Ew_fu} gives the so-called \"Penman equation\" :\n",
    "##### {eq_Ew_P}\n",
    "$$E_w = \\frac{\\Delta_{eTa}(R_s - R_{ll}) + f_u \\gamma_v (P_{was} - P_{wa})}\n",
    "{\\Delta_{eTa} + \\gamma_v}$$\n",
    "\n",
    "\n",
    "Eq. {eq_Ew_P} is equivalent to Eq 16 in \\citet{penman_natural_1948}, but Eq. 17 in \\citet{penman_natural_1948}, which should be equivalent to Eq. {eq_Pwl_fu}, has $P_{wl}$ ($e_s$ in Penman's notation) on both sides, so it seems to contain an error. In his derivations, Penman expressed $R_s - R_{ll}$ as \"net radiant energy available at surface\" and pointed out that the above two equations can be used to estimate $E_l$ and $T_l$ from air conditions only. This neglects the fact that $R_{ll}$ is also a function of the leaf temperature. To estimate surface temperature, Eq. {eq_Pwl_fu} can be inserted into Eq. {eq_Penman_ass} and solved for $T_l$, yielding:\n",
    "##### {eq_Tl_P}\n",
    "$$T_l = \\frac{R_s - R_{ll} + f_u (\\gamma_v T_a + \\Delta_{eTa} T_a + P_{wa} - P_{was})}{f_u(\\gamma_v + \\Delta_{eTa})}$$\n"
   ]
  },
  {
   "cell_type": "code",
   "execution_count": 7,
   "metadata": {
    "collapsed": false
   },
   "outputs": [
    {
     "data": {
      "text/html": [
       "<html><script type=\"math/tex; mode=display\">\\newcommand{\\Bold}[1]{\\mathbf{#1}}{\\beta_B} = \\frac{{\\left({P_{was}} - {P_{wl}}\\right)} \\gamma_{v}}{{\\Delta_{eTa}} {\\left({P_{wa}} - {P_{wl}}\\right)}}</script></html>"
      ],
      "text/plain": [
       "beta_B == (P_was - P_wl)*gamma_v/(Delta_eTa*(P_wa - P_wl))"
      ]
     },
     "metadata": {},
     "output_type": "display_data"
    },
    {
     "data": {
      "text/plain": [
       "1 == 1"
      ]
     },
     "execution_count": 7,
     "metadata": {},
     "output_type": "execute_result"
    }
   ],
   "source": [
    "soln = solve([eq_beta_B, eq_Penman_ass], beta_B, T_l)\n",
    "eq_betaB_Pwas =  soln[0][0].factor()\n",
    "units_check(eq_betaB_Pwas).simplify_full()"
   ]
  },
  {
   "cell_type": "code",
   "execution_count": 8,
   "metadata": {
    "collapsed": false
   },
   "outputs": [
    {
     "data": {
      "text/html": [
       "<html><script type=\"math/tex; mode=display\">\\newcommand{\\Bold}[1]{\\mathbf{#1}}E_{w} = -\\frac{{R_{ll}} - R_{s}}{{\\beta_B} + 1}</script></html>"
      ],
      "text/plain": [
       "E_w == -(R_ll - R_s)/(beta_B + 1)"
      ]
     },
     "metadata": {},
     "output_type": "display_data"
    },
    {
     "data": {
      "text/plain": [
       "kilogram/second^3 == kilogram/second^3"
      ]
     },
     "execution_count": 8,
     "metadata": {},
     "output_type": "execute_result"
    }
   ],
   "source": [
    "eq_Ew_betaB = solve(eq_Rs_enbal(E_l = E_w, H_l = beta_B*E_w), E_w)[0]\n",
    "units_check(eq_Ew_betaB).simplify_full()"
   ]
  },
  {
   "cell_type": "code",
   "execution_count": 9,
   "metadata": {
    "collapsed": false
   },
   "outputs": [
    {
     "name": "stdout",
     "output_type": "stream",
     "text": [
      "[\n",
      "[P_wl == (Delta_eTa*P_wa*f_u + P_was*f_u*gamma_v - Delta_eTa*R_ll + Delta_eTa*R_s)/(Delta_eTa*f_u + f_u*gamma_v), E_w == -((P_wa - P_was)*f_u*gamma_v + Delta_eTa*R_ll - Delta_eTa*R_s)/(Delta_eTa + gamma_v), beta_B == -((P_wa - P_was)*f_u - R_ll + R_s)*gamma_v/((P_wa - P_was)*f_u*gamma_v + Delta_eTa*R_ll - Delta_eTa*R_s)]\n",
      "]\n"
     ]
    },
    {
     "data": {
      "text/html": [
       "<html><script type=\"math/tex; mode=display\">\\newcommand{\\Bold}[1]{\\mathbf{#1}}{P_{wl}} = \\frac{{\\Delta_{eTa}} {P_{wa}} f_{u} + {P_{was}} f_{u} \\gamma_{v} - {\\Delta_{eTa}} {R_{ll}} + {\\Delta_{eTa}} R_{s}}{{\\left({\\Delta_{eTa}} + \\gamma_{v}\\right)} f_{u}}</script></html>"
      ],
      "text/plain": [
       "P_wl == (Delta_eTa*P_wa*f_u + P_was*f_u*gamma_v - Delta_eTa*R_ll + Delta_eTa*R_s)/((Delta_eTa + gamma_v)*f_u)"
      ]
     },
     "metadata": {},
     "output_type": "display_data"
    },
    {
     "data": {
      "text/html": [
       "<html><script type=\"math/tex; mode=display\">\\newcommand{\\Bold}[1]{\\mathbf{#1}}E_{w} = -\\frac{{\\left({P_{wa}} - {P_{was}}\\right)} f_{u} \\gamma_{v} + {\\Delta_{eTa}} {R_{ll}} - {\\Delta_{eTa}} R_{s}}{{\\Delta_{eTa}} + \\gamma_{v}}</script></html>"
      ],
      "text/plain": [
       "E_w == -((P_wa - P_was)*f_u*gamma_v + Delta_eTa*R_ll - Delta_eTa*R_s)/(Delta_eTa + gamma_v)"
      ]
     },
     "metadata": {},
     "output_type": "display_data"
    },
    {
     "data": {
      "text/plain": [
       "kilogram/second^3 == kilogram/second^3"
      ]
     },
     "execution_count": 9,
     "metadata": {},
     "output_type": "execute_result"
    }
   ],
   "source": [
    "soln = solve([eq_betaB_Pwas, eq_Ew_betaB, eq_Ew_fu], P_wl, E_w, beta_B)\n",
    "print soln\n",
    "eq_Pwl_fu = soln[0][0].factor()\n",
    "eq_Ew_P = soln[0][1]\n",
    "units_check(eq_Pwl_fu)\n",
    "units_check(eq_Ew_P)"
   ]
  },
  {
   "cell_type": "code",
   "execution_count": 10,
   "metadata": {
    "collapsed": false
   },
   "outputs": [
    {
     "data": {
      "text/html": [
       "<html><script type=\"math/tex; mode=display\">\\newcommand{\\Bold}[1]{\\mathbf{#1}}T_{l} = \\frac{T_{a} f_{u} \\gamma_{v} + {\\left({\\Delta_{eTa}} T_{a} + {P_{wa}} - {P_{was}}\\right)} f_{u} - {R_{ll}} + R_{s}}{{\\Delta_{eTa}} f_{u} + f_{u} \\gamma_{v}}</script></html>"
      ],
      "text/plain": [
       "T_l == (T_a*f_u*gamma_v + (Delta_eTa*T_a + P_wa - P_was)*f_u - R_ll + R_s)/(Delta_eTa*f_u + f_u*gamma_v)"
      ]
     },
     "metadata": {},
     "output_type": "display_data"
    },
    {
     "data": {
      "text/plain": [
       "kelvin == kelvin"
      ]
     },
     "execution_count": 10,
     "metadata": {},
     "output_type": "execute_result"
    }
   ],
   "source": [
    "soln = solve(eq_Penman_ass.subs(eq_Pwl_fu), T_l)\n",
    "eq_Tl_P = soln[0]\n",
    "units_check(eq_Tl_P)"
   ]
  },
  {
   "cell_type": "code",
   "execution_count": 11,
   "metadata": {
    "collapsed": false
   },
   "outputs": [
    {
     "data": {
      "text/html": [
       "<html><script type=\"math/tex; mode=display\">\\newcommand{\\Bold}[1]{\\mathbf{#1}}T_{l} = \\frac{T_{a} f_{u} \\gamma_{v} + {\\left({\\Delta_{eTa}} T_{a} + {P_{wa}} - 611 \\, e^{\\left(-\\frac{M_{w} \\lambda_{E} {\\left(\\frac{273}{T_{a}} - 1\\right)}}{273 \\, {R_{mol}}}\\right)}\\right)} f_{u} - {R_{ll}} + R_{s}}{{\\Delta_{eTa}} f_{u} + f_{u} \\gamma_{v}}</script></html>"
      ],
      "text/plain": [
       "T_l == (T_a*f_u*gamma_v + (Delta_eTa*T_a + P_wa - 611*e^(-1/273*M_w*lambda_E*(273/T_a - 1)/R_mol))*f_u - R_ll + R_s)/(Delta_eTa*f_u + f_u*gamma_v)"
      ]
     },
     "metadata": {},
     "output_type": "display_data"
    }
   ],
   "source": [
    "eq_Tl_P.subs(eq_Pwl(P_wl = P_was, T_l = T_a)).show()"
   ]
  },
  {
   "cell_type": "code",
   "execution_count": 12,
   "metadata": {
    "collapsed": false
   },
   "outputs": [
    {
     "data": {
      "text/html": [
       "<html><script type=\"math/tex; mode=display\">\\newcommand{\\Bold}[1]{\\mathbf{#1}}T_{l} = \\frac{{\\left({\\Delta_{eTa}} f_{u} + f_{u} \\gamma_{v}\\right)} T_{a} + {P_{wa}} f_{u} - {P_{was}} f_{u} - {R_{ll}} + R_{s}}{{\\Delta_{eTa}} f_{u} + f_{u} \\gamma_{v}}</script></html>"
      ],
      "text/plain": [
       "T_l == ((Delta_eTa*f_u + f_u*gamma_v)*T_a + P_wa*f_u - P_was*f_u - R_ll + R_s)/(Delta_eTa*f_u + f_u*gamma_v)"
      ]
     },
     "metadata": {},
     "output_type": "display_data"
    },
    {
     "name": "stdout",
     "output_type": "stream",
     "text": [
      "kelvin == kelvin\n"
     ]
    },
    {
     "data": {
      "text/html": [
       "<html><script type=\"math/tex; mode=display\">\\newcommand{\\Bold}[1]{\\mathbf{#1}}{P_{wl}} = \\frac{{P_{was}} f_{u} \\gamma_{v} + {\\left({P_{wa}} f_{u} - {R_{ll}} + R_{s}\\right)} {\\Delta_{eTa}}}{{\\Delta_{eTa}} f_{u} + f_{u} \\gamma_{v}}</script></html>"
      ],
      "text/plain": [
       "P_wl == (P_was*f_u*gamma_v + (P_wa*f_u - R_ll + R_s)*Delta_eTa)/(Delta_eTa*f_u + f_u*gamma_v)"
      ]
     },
     "metadata": {},
     "output_type": "display_data"
    },
    {
     "data": {
      "text/plain": [
       "kilogram/(meter*second^2) == kilogram/(meter*second^2)"
      ]
     },
     "execution_count": 12,
     "metadata": {},
     "output_type": "execute_result"
    }
   ],
   "source": [
    "soln = solve([eq_Penman_ass, eq_Pwl_fu], T_l, P_wl)\n",
    "#for eq in flatten(soln):\n",
    "#    eq.show()\n",
    "eq_Tl_P = soln[0][0]\n",
    "print units_check(eq_Tl_P)\n",
    "eq_Pwl_P_wet = soln[0][1]\n",
    "units_check(eq_Pwl_P_wet)"
   ]
  },
  {
   "cell_type": "code",
   "execution_count": 13,
   "metadata": {
    "collapsed": false
   },
   "outputs": [
    {
     "data": {
      "text/html": [
       "<html><script type=\"math/tex; mode=display\">\\newcommand{\\Bold}[1]{\\mathbf{#1}}T_{l} = \\frac{273 \\, M_{w} \\lambda_{E}}{M_{w} \\lambda_{E} + 273 \\, {R_{mol}} \\log\\left(\\frac{611 \\, {\\left({\\Delta_{eTa}} f_{u} + f_{u} \\gamma_{v}\\right)}}{{\\Delta_{eTa}} {P_{wa}} f_{u} + {P_{was}} f_{u} \\gamma_{v} - {\\Delta_{eTa}} {R_{ll}} + {\\Delta_{eTa}} R_{s}}\\right)}</script></html>"
      ],
      "text/plain": [
       "T_l == 273*M_w*lambda_E/(M_w*lambda_E + 273*R_mol*log(611*(Delta_eTa*f_u + f_u*gamma_v)/(Delta_eTa*P_wa*f_u + P_was*f_u*gamma_v - Delta_eTa*R_ll + Delta_eTa*R_s)))"
      ]
     },
     "metadata": {},
     "output_type": "display_data"
    }
   ],
   "source": [
    "# Alternative approach to get T_l, followoing Eq. 17 in Penman (1948), which is eq_Pwl_P_wet\n",
    "soln = solve(eq_Pwl.rhs() == eq_Pwl_P_wet.rhs(), T_l)\n",
    "eq_Tl_P1 = soln[0].simplify_full()\n",
    "show(eq_Tl_P1)"
   ]
  },
  {
   "cell_type": "markdown",
   "metadata": {
    "collapsed": false
   },
   "source": [
    "## Introduction of stomatal resistance by \\citet{penman_physical_1952}\n",
    "To account for stomatal resistance to vapour diffusion, \\citet{penman_physical_1952} introduced an additional multiplicator ($S$) in Eq. {eq_Ew_fu} \\citep[Appendix 13]{penman_physical_1952}:\n",
    "##### {eq_El_fu_S}\n",
    "$$E_l = f_u S (P_{wl} - P_{wa})$$\n",
    "\n",
    "where $S=1$ for a wet surface (leading to Eq. {eq_Ew_fu}) and $S<1$ in the presence of significant stomatal resistance. \n",
    "\n",
    "In accordance with Eqs. {eq_Ew_fu} and {eq_beta_B}, $H_l$ can be expressed as \\citep[Appendix 13]{penman_physical_1952}:\n",
    "##### {eq_Hl_Tl_P52}\n",
    "$$H_l = \\gamma_v f_u (T_l - T_a)$$\n",
    "\n",
    "Substitution of Penman's simplifying assumption ($T_l - T_a = (P_{wl} - P_{was})/\\Delta_{eT}$, Eq. {eq_Penman_ass}) is the first step to eliminating $T_l$:\n",
    "##### {eq_Hl_Pwl_P52}\n",
    "$$H_l = \\frac{\\gamma_v f_u (P_{wl} - P_{was})}{\\Delta_{eTa}}$$\n",
    "\n",
    "A series of algebraic manipulations involving Eqs. {eq_El_fu_S}, {eq_Hl_Pwl_P52} and {eq_Rs_enbal}  and the resulting Eq. {eq_El_P52} is given in \\citet[Appendix 13]{penman_physical_1952}. When solving Eqs. {eq_El_fu_S}, {eq_Hl_Pwl_P52} and {eq_Rs_enbal} for $E_l$, $H_l$ and $P_{wl}$, we obtained:\n",
    "\n",
    "##### {eq_El_P52}\n",
    "$$E_l = \\frac{S \\Delta_{eTa}(R_s - R_{ll}) + S \\gamma_v f_u (P_{was} - P_{wa})}{S \\Delta_{eT} + \\gamma_v}  $$\n",
    "\n",
    "##### {eq_Hl_P52}\n",
    "$$H_{l} = \\frac{\\gamma_{v} \\left(R_s - {R_{ll}}\\right) + S \\gamma_{v} f_{u} \\left({P_{wa}} - {P_{was}}\\right)}\n",
    "{S \\Delta_{eTa} + \\gamma_{v}}$$\n",
    "\n",
    "##### {eq_Pwl_P52}\n",
    "$$P_{wl} = \\frac{\\left(\\Delta_{eTa}/f_u\\right) \\left(R_s - {R_{ll}}\\right)+  \\left({S \\Delta_{eTa}} {P_{wa}} + \\gamma_{v} {P_{was}}\\right)}\n",
    "{{S \\Delta_{eTa}} + \\gamma_{v}}$$\n",
    "\\end{equation}"
   ]
  },
  {
   "cell_type": "code",
   "execution_count": 14,
   "metadata": {
    "collapsed": false
   },
   "outputs": [
    {
     "data": {
      "text/html": [
       "<html><script type=\"math/tex; mode=display\">\\newcommand{\\Bold}[1]{\\mathbf{#1}}E_{l} = -{\\left({P_{wa}} - {P_{wl}}\\right)} S f_{u}</script></html>"
      ],
      "text/plain": [
       "E_l == -(P_wa - P_wl)*S*f_u"
      ]
     },
     "metadata": {},
     "output_type": "display_data"
    },
    {
     "data": {
      "text/plain": [
       "kilogram/second^3 == kilogram/second^3"
      ]
     },
     "execution_count": 14,
     "metadata": {},
     "output_type": "execute_result"
    }
   ],
   "source": [
    "eq_El_fu_S = E_l == f_u*S*(P_wl - P_wa)\n",
    "units_check(eq_El_fu_S)"
   ]
  },
  {
   "cell_type": "code",
   "execution_count": 15,
   "metadata": {
    "collapsed": false
   },
   "outputs": [
    {
     "data": {
      "text/html": [
       "<html><script type=\"math/tex; mode=display\">\\newcommand{\\Bold}[1]{\\mathbf{#1}}H_{l} = -{\\left(T_{a} - T_{l}\\right)} f_{u} \\gamma_{v}</script></html>"
      ],
      "text/plain": [
       "H_l == -(T_a - T_l)*f_u*gamma_v"
      ]
     },
     "metadata": {},
     "output_type": "display_data"
    },
    {
     "data": {
      "text/plain": [
       "kilogram/second^3 == kilogram/second^3"
      ]
     },
     "execution_count": 15,
     "metadata": {},
     "output_type": "execute_result"
    }
   ],
   "source": [
    "eq_Hl_Tl_P52 = solve((H_l/E_w == eq_beta_B.rhs()).subs(eq_Ew_fu), H_l)[0]\n",
    "units_check(eq_Hl_Tl_P52)"
   ]
  },
  {
   "cell_type": "code",
   "execution_count": 16,
   "metadata": {
    "collapsed": false
   },
   "outputs": [
    {
     "data": {
      "text/html": [
       "<html><script type=\"math/tex; mode=display\">\\newcommand{\\Bold}[1]{\\mathbf{#1}}H_{l} = -\\frac{{\\left({P_{was}} - {P_{wl}}\\right)} f_{u} \\gamma_{v}}{{\\Delta_{eTa}}}</script></html>"
      ],
      "text/plain": [
       "H_l == -(P_was - P_wl)*f_u*gamma_v/Delta_eTa"
      ]
     },
     "metadata": {},
     "output_type": "display_data"
    },
    {
     "data": {
      "text/html": [
       "<html><script type=\"math/tex; mode=display\">\\newcommand{\\Bold}[1]{\\mathbf{#1}}T_{l} = \\frac{{\\Delta_{eTa}} T_{a} - {P_{was}} + {P_{wl}}}{{\\Delta_{eTa}}}</script></html>"
      ],
      "text/plain": [
       "T_l == (Delta_eTa*T_a - P_was + P_wl)/Delta_eTa"
      ]
     },
     "metadata": {},
     "output_type": "display_data"
    },
    {
     "data": {
      "text/html": [
       "<html><script type=\"math/tex; mode=display\">\\newcommand{\\Bold}[1]{\\mathbf{#1}}H_{l} = -\\frac{{\\left({P_{was}} - {P_{wl}}\\right)} f_{u} \\gamma_{v}}{{\\Delta_{eTa}}}</script></html>"
      ],
      "text/plain": [
       "H_l == -(P_was - P_wl)*f_u*gamma_v/Delta_eTa"
      ]
     },
     "metadata": {},
     "output_type": "display_data"
    },
    {
     "data": {
      "text/plain": [
       "kilogram/second^3 == kilogram/second^3"
      ]
     },
     "execution_count": 16,
     "metadata": {},
     "output_type": "execute_result"
    }
   ],
   "source": [
    "soln = solve([eq_Hl_Tl_P52, eq_Penman_ass], H_l, T_l)\n",
    "for eq in flatten(soln):\n",
    "    eq.show()\n",
    "eq_Hl_Pwl_P52 = soln[0][0]\n",
    "units_check(eq_Hl_Pwl_P52)"
   ]
  },
  {
   "cell_type": "code",
   "execution_count": 17,
   "metadata": {
    "collapsed": false
   },
   "outputs": [
    {
     "data": {
      "text/html": [
       "<html><script type=\"math/tex; mode=display\">\\newcommand{\\Bold}[1]{\\mathbf{#1}}E_{l} = -\\frac{{\\Delta_{eTa}} {\\left({R_{ll}} - R_{s}\\right)} S + {\\left({P_{wa}} S - {P_{was}} S\\right)} f_{u} \\gamma_{v}}{{\\Delta_{eTa}} S + \\gamma_{v}}</script></html>"
      ],
      "text/plain": [
       "E_l == -(Delta_eTa*(R_ll - R_s)*S + (P_wa*S - P_was*S)*f_u*gamma_v)/(Delta_eTa*S + gamma_v)"
      ]
     },
     "metadata": {},
     "output_type": "display_data"
    },
    {
     "name": "stdout",
     "output_type": "stream",
     "text": [
      "kilogram/second^3 == kilogram/second^3\n"
     ]
    },
    {
     "data": {
      "text/html": [
       "<html><script type=\"math/tex; mode=display\">\\newcommand{\\Bold}[1]{\\mathbf{#1}}H_{l} = \\frac{{\\left({\\left({P_{wa}} S - {P_{was}} S\\right)} f_{u} - {R_{ll}} + R_{s}\\right)} \\gamma_{v}}{{\\Delta_{eTa}} S + \\gamma_{v}}</script></html>"
      ],
      "text/plain": [
       "H_l == ((P_wa*S - P_was*S)*f_u - R_ll + R_s)*gamma_v/(Delta_eTa*S + gamma_v)"
      ]
     },
     "metadata": {},
     "output_type": "display_data"
    },
    {
     "name": "stdout",
     "output_type": "stream",
     "text": [
      "kilogram/second^3 == kilogram/second^3\n"
     ]
    },
    {
     "data": {
      "text/html": [
       "<html><script type=\"math/tex; mode=display\">\\newcommand{\\Bold}[1]{\\mathbf{#1}}{P_{wl}} = \\frac{{\\Delta_{eTa}} {P_{wa}} S f_{u} + {P_{was}} f_{u} \\gamma_{v} - {\\Delta_{eTa}} {\\left({R_{ll}} - R_{s}\\right)}}{{\\Delta_{eTa}} S f_{u} + f_{u} \\gamma_{v}}</script></html>"
      ],
      "text/plain": [
       "P_wl == (Delta_eTa*P_wa*S*f_u + P_was*f_u*gamma_v - Delta_eTa*(R_ll - R_s))/(Delta_eTa*S*f_u + f_u*gamma_v)"
      ]
     },
     "metadata": {},
     "output_type": "display_data"
    },
    {
     "name": "stdout",
     "output_type": "stream",
     "text": [
      "kilogram/(meter*second^2) == kilogram/(meter*second^2)\n"
     ]
    }
   ],
   "source": [
    "soln = solve([eq_Hl_Pwl_P52,eq_El_fu_S, eq_Rs_enbal], E_l, H_l, P_wl)\n",
    "[eq_El_P52, eq_Hl_P52, eq_Pwl_P52] = flatten(soln)\n",
    "for eq in flatten(soln):\n",
    "    print units_check(eq)"
   ]
  },
  {
   "cell_type": "markdown",
   "metadata": {
    "collapsed": false
   },
   "source": [
    "### Analytical solutions for leaf temperature, $f_u$, $\\gamma_v$ and $S$\n",
    "\n",
    "Equation {eq_Pwl_P52} can be inserted into Eq. {eq_Penman_ass} and solved for leaf temperature to yield:\n",
    "##### {eq_Tl_p52}\n",
    "$$T_{l} = T_{a} + \\frac{R_{s} - R_{ll} - S f_{u}(P_{was}-P_{wa})}\n",
    "{f_{u} \\left(S \\Delta_{eT} + \\gamma_{v}\\right) }$$\n",
    "\n",
    "\n",
    "\\citet{penman_physical_1952} proposed to obtain values of $f_u$ and $S$ for a plant canopy empirically and described ways how to do this. However, for a single leaf, $f_u$ and $S$ could also be obtained analytically from our detailed mass and heat transfer model. \n",
    "\n",
    "Comparison of Eq. {eq_El_fu_S} with Eq. {eq_Elmol_conv} (after substituting Eq. {eq_El}) reveals that $S$ is equivalent to:\n",
    "##### {eq_S_gtwmol_fu}\n",
    "$$S = \\frac{M_{w} g_{tw,mol} \\lambda_{E}}{P_{a} f_{u}}$$\n",
    "\n",
    "where $f_u$ was defined by \\citet{penman_natural_1948} as the transfer coeffient for wet surface evaporation, i.e. a function of the boundary layer conductance only. \n",
    "\n",
    "To find a solution for $f_u$, we first formulate $E_w$ as transpiration from a leaf where $g_{tw} = g_{bw}$, using Eqs. {eq_El}, {eq_Elmol_conv} and {eq_gtwmol_gtw_iso}:\n",
    "##### {eq_Ew_conv}\n",
    "$$E_w = \\frac{\\lambda_E M_w g_{bw}}{R_{mol} T_a} (P_{wl} - P_{wa})$$\n",
    "\n",
    "Comparison of Eq. {eq_Ew_conv} with {eq_Ew_fu} gives $f_u$ as a function of $g_{bw}$:\n",
    "##### {eq_fu_gbw}\n",
    "$$f_u = g_{bw}\\frac{\\lambda_E M_w}{R_{mol} T_a}$$\n",
    "\n",
    "Comparison between Eq. {eq_Hl_Tl_P52} and Eq. {eq_Hl} reveals that\n",
    "##### {eq_gammav_hc_fu}\n",
    "$$\\gamma_v = \\frac{a_{sh} h_c}{f_u},$$\n",
    "\n",
    "and insertion of Eqs. {eq_fu_gbw} and {eq_gbw_hc} give $\\gamma_v$ as a function of $a_{sh}$ and $a_s$:\n",
    "##### {eq_gammav_as}\n",
    "$$\\gamma_{v} =a_{sh}/a_s \\frac{{N_{Le}}^{\\frac{2}{3}} {R_{mol}} T_{a} \\rho_{a} c_{pa}}{\\lambda_{E} M_{w}}$$\n",
    "\n",
    "Now, we can insert Eqs. {eq_fu_gbw}, {eq_gtwmol_gtw_iso} and {eq_gtw} into Eq. {eq_S_gtwmol_fu} to obtain $S$ as a function of $g_{sw}$ and $g_{bw}$:\n",
    "##### {eq_S_gsw_gbw}\n",
    "$$S = \\frac{g_{sw}}{g_{bw} + g_{sw}}$$\n",
    "\n",
    "The above equation illustrates that $S$ is not just a function of stomatal conductance, but also the leaf boundary layer conductance, explaining why \\citet{penman_physical_1952} found that $S$ depends on wind speed."
   ]
  },
  {
   "cell_type": "code",
   "execution_count": 18,
   "metadata": {
    "collapsed": false
   },
   "outputs": [
    {
     "data": {
      "text/html": [
       "<html><script type=\"math/tex; mode=display\">\\newcommand{\\Bold}[1]{\\mathbf{#1}}T_{l} = \\frac{{P_{wa}} S f_{u} - {P_{was}} S f_{u} + {\\left({\\Delta_{eTa}} S f_{u} + f_{u} \\gamma_{v}\\right)} T_{a} - {R_{ll}} + R_{s}}{{\\Delta_{eTa}} S f_{u} + f_{u} \\gamma_{v}}</script></html>"
      ],
      "text/plain": [
       "T_l == (P_wa*S*f_u - P_was*S*f_u + (Delta_eTa*S*f_u + f_u*gamma_v)*T_a - R_ll + R_s)/(Delta_eTa*S*f_u + f_u*gamma_v)"
      ]
     },
     "metadata": {},
     "output_type": "display_data"
    },
    {
     "data": {
      "text/plain": [
       "kelvin == kelvin"
      ]
     },
     "execution_count": 18,
     "metadata": {},
     "output_type": "execute_result"
    }
   ],
   "source": [
    "soln = solve([eq_Penman_ass, eq_Pwl_P52], T_l, P_wl)\n",
    "eq_Tl_P52 = soln[0][0]\n",
    "latex(eq_Tl_P52)\n",
    "units_check(eq_Tl_P52)"
   ]
  },
  {
   "cell_type": "code",
   "execution_count": 19,
   "metadata": {
    "collapsed": false
   },
   "outputs": [
    {
     "data": {
      "text/html": [
       "<html><script type=\"math/tex; mode=display\">\\newcommand{\\Bold}[1]{\\mathbf{#1}}S = \\frac{M_{w} {g_{tw,mol}} \\lambda_{E}}{P_{a} f_{u}}</script></html>"
      ],
      "text/plain": [
       "S == M_w*g_twmol*lambda_E/(P_a*f_u)"
      ]
     },
     "metadata": {},
     "output_type": "display_data"
    },
    {
     "data": {
      "text/plain": [
       "1 == 1"
      ]
     },
     "execution_count": 19,
     "metadata": {},
     "output_type": "execute_result"
    }
   ],
   "source": [
    "eq_S_gtwmol_fu = solve([eq_El_fu_S.subs(eq_El), eq_Elmol_conv], S, E_lmol)[0][0]\n",
    "units_check(eq_S_gtwmol_fu)"
   ]
  },
  {
   "cell_type": "code",
   "execution_count": 20,
   "metadata": {
    "collapsed": false
   },
   "outputs": [
    {
     "data": {
      "text/html": [
       "<html><script type=\"math/tex; mode=display\">\\newcommand{\\Bold}[1]{\\mathbf{#1}}H_{l} = -{\\left(T_{a} - T_{l}\\right)} f_{u} \\gamma_{v}</script></html>"
      ],
      "text/plain": [
       "H_l == -(T_a - T_l)*f_u*gamma_v"
      ]
     },
     "metadata": {},
     "output_type": "display_data"
    }
   ],
   "source": [
    "eq_Hl_Tl_P52.show()"
   ]
  },
  {
   "cell_type": "code",
   "execution_count": 21,
   "metadata": {
    "collapsed": false
   },
   "outputs": [
    {
     "data": {
      "text/html": [
       "<html><script type=\"math/tex; mode=display\">\\newcommand{\\Bold}[1]{\\mathbf{#1}}H_{l} = -{\\left(T_{a} - T_{l}\\right)} {a_{sh}} h_{c}</script></html>"
      ],
      "text/plain": [
       "H_l == -(T_a - T_l)*a_sh*h_c"
      ]
     },
     "metadata": {},
     "output_type": "display_data"
    }
   ],
   "source": [
    "eq_Hl.show()"
   ]
  },
  {
   "cell_type": "code",
   "execution_count": 22,
   "metadata": {
    "collapsed": false
   },
   "outputs": [
    {
     "data": {
      "text/html": [
       "<html><script type=\"math/tex; mode=display\">\\newcommand{\\Bold}[1]{\\mathbf{#1}}\\gamma_{v} = \\frac{{a_{sh}} h_{c}}{f_{u}}</script></html>"
      ],
      "text/plain": [
       "gamma_v == a_sh*h_c/f_u"
      ]
     },
     "metadata": {},
     "output_type": "display_data"
    },
    {
     "data": {
      "text/plain": [
       "kilogram/(kelvin*meter*second^2) == kilogram/(kelvin*meter*second^2)"
      ]
     },
     "execution_count": 22,
     "metadata": {},
     "output_type": "execute_result"
    }
   ],
   "source": [
    "eq_gammav_hc_fu = solve(eq_Hl_Tl_P52.rhs() == eq_Hl.rhs(), gamma_v)[0]\n",
    "units_check(eq_gammav_hc_fu)"
   ]
  },
  {
   "cell_type": "code",
   "execution_count": 23,
   "metadata": {
    "collapsed": false
   },
   "outputs": [
    {
     "data": {
      "text/html": [
       "<html><script type=\"math/tex; mode=display\">\\newcommand{\\Bold}[1]{\\mathbf{#1}}E_{l} = -{\\left({P_{wa}} - {P_{wl}}\\right)} S f_{u}</script></html>"
      ],
      "text/plain": [
       "E_l == -(P_wa - P_wl)*S*f_u"
      ]
     },
     "metadata": {},
     "output_type": "display_data"
    }
   ],
   "source": [
    "eq_El_fu_S.show()"
   ]
  },
  {
   "cell_type": "code",
   "execution_count": 24,
   "metadata": {
    "collapsed": false
   },
   "outputs": [
    {
     "data": {
      "text/html": [
       "<html><script type=\"math/tex; mode=display\">\\newcommand{\\Bold}[1]{\\mathbf{#1}}E_{w} = -\\frac{M_{w} {\\left({P_{wa}} - {P_{wl}}\\right)} {g_{bw}} \\lambda_{E}}{{R_{mol}} T_{a}}</script></html>"
      ],
      "text/plain": [
       "E_w == -M_w*(P_wa - P_wl)*g_bw*lambda_E/(R_mol*T_a)"
      ]
     },
     "metadata": {},
     "output_type": "display_data"
    },
    {
     "data": {
      "text/plain": [
       "kilogram/second^3 == kilogram/second^3"
      ]
     },
     "execution_count": 24,
     "metadata": {},
     "output_type": "execute_result"
    }
   ],
   "source": [
    "eq_Ew_conv = eq_El.subs(eq_Elmol_conv).subs(eq_gtwmol_gtw_iso)(g_tw = g_bw, E_l = E_w)\n",
    "units_check(eq_Ew_conv)"
   ]
  },
  {
   "cell_type": "code",
   "execution_count": 25,
   "metadata": {
    "collapsed": false
   },
   "outputs": [
    {
     "data": {
      "text/html": [
       "<html><script type=\"math/tex; mode=display\">\\newcommand{\\Bold}[1]{\\mathbf{#1}}f_{u} = \\frac{M_{w} {g_{bw}} \\lambda_{E}}{{R_{mol}} T_{a}}</script></html>"
      ],
      "text/plain": [
       "f_u == M_w*g_bw*lambda_E/(R_mol*T_a)"
      ]
     },
     "metadata": {},
     "output_type": "display_data"
    },
    {
     "data": {
      "text/plain": [
       "meter/second == meter/second"
      ]
     },
     "execution_count": 25,
     "metadata": {},
     "output_type": "execute_result"
    }
   ],
   "source": [
    "eq_fu_gbw = solve(eq_Ew_conv.rhs() == eq_Ew_fu.rhs(), f_u)[0]\n",
    "units_check(eq_fu_gbw)"
   ]
  },
  {
   "cell_type": "code",
   "execution_count": 26,
   "metadata": {
    "collapsed": false
   },
   "outputs": [
    {
     "data": {
      "text/html": [
       "<html><script type=\"math/tex; mode=display\">\\newcommand{\\Bold}[1]{\\mathbf{#1}}\\gamma_{v} = \\frac{{a_{sh}} h_{c}}{f_{u}}</script></html>"
      ],
      "text/plain": [
       "gamma_v == a_sh*h_c/f_u"
      ]
     },
     "metadata": {},
     "output_type": "display_data"
    },
    {
     "data": {
      "text/plain": [
       "kilogram/(kelvin*meter*second^2) == kilogram/(kelvin*meter*second^2)"
      ]
     },
     "execution_count": 26,
     "metadata": {},
     "output_type": "execute_result"
    }
   ],
   "source": [
    "eq_gammav_hc_fu = solve(eq_Hl_Tl_P52.rhs() == eq_Hl.rhs(), gamma_v)[0]\n",
    "units_check(eq_gammav_hc_fu)"
   ]
  },
  {
   "cell_type": "code",
   "execution_count": 27,
   "metadata": {
    "collapsed": false
   },
   "outputs": [
    {
     "data": {
      "text/html": [
       "<html><script type=\"math/tex; mode=display\">\\newcommand{\\Bold}[1]{\\mathbf{#1}}\\gamma_{v} = \\frac{{N_{Le}}^{\\frac{2}{3}} {R_{mol}} T_{a} {a_{sh}} {c_{pa}} \\rho_{a}}{M_{w} a_{s} \\lambda_{E}}</script></html>"
      ],
      "text/plain": [
       "gamma_v == Le^(2/3)*R_mol*T_a*a_sh*c_pa*rho_a/(M_w*a_s*lambda_E)"
      ]
     },
     "metadata": {},
     "output_type": "display_data"
    },
    {
     "data": {
      "text/plain": [
       "kilogram/(kelvin*meter*second^2) == kilogram/(kelvin*meter*second^2)"
      ]
     },
     "execution_count": 27,
     "metadata": {},
     "output_type": "execute_result"
    }
   ],
   "source": [
    "eq_gammav_as = eq_gammav_hc_fu.subs(eq_fu_gbw).subs(eq_gbw_hc)\n",
    "units_check(eq_gammav_as)"
   ]
  },
  {
   "cell_type": "code",
   "execution_count": 28,
   "metadata": {
    "collapsed": false
   },
   "outputs": [
    {
     "data": {
      "text/html": [
       "<html><script type=\"math/tex; mode=display\">\\newcommand{\\Bold}[1]{\\mathbf{#1}}S = \\frac{{g_{sw}}}{{g_{bw}} + {g_{sw}}}</script></html>"
      ],
      "text/plain": [
       "S == g_sw/(g_bw + g_sw)"
      ]
     },
     "metadata": {},
     "output_type": "display_data"
    },
    {
     "data": {
      "text/plain": [
       "1 == 1"
      ]
     },
     "execution_count": 28,
     "metadata": {},
     "output_type": "execute_result"
    }
   ],
   "source": [
    "eq_S_gbw_gsw = eq_S_gtwmol_fu.subs(eq_fu_gbw).subs(eq_gtwmol_gtw_iso).subs(eq_gtw).simplify_full()\n",
    "units_check(eq_S_gbw_gsw)"
   ]
  },
  {
   "cell_type": "code",
   "execution_count": 29,
   "metadata": {
    "collapsed": false
   },
   "outputs": [
    {
     "data": {
      "text/html": [
       "<html><script type=\"math/tex; mode=display\">\\newcommand{\\Bold}[1]{\\mathbf{#1}}E_{l} = -\\frac{{\\left(M_{w} {P_{wa}} - M_{w} {P_{was}}\\right)} \\gamma_{v} \\lambda_{E} + {\\left({\\Delta_{eTa}} {R_{ll}} {R_{mol}} - {\\Delta_{eTa}} {R_{mol}} R_{s}\\right)} T_{a} {r_{bw}}}{{R_{mol}} T_{a} \\gamma_{v} {r_{sw}} + {\\left({\\Delta_{eTa}} {R_{mol}} T_{a} + {R_{mol}} T_{a} \\gamma_{v}\\right)} {r_{bw}}}</script></html>"
      ],
      "text/plain": [
       "E_l == -((M_w*P_wa - M_w*P_was)*gamma_v*lambda_E + (Delta_eTa*R_ll*R_mol - Delta_eTa*R_mol*R_s)*T_a*r_bw)/(R_mol*T_a*gamma_v*r_sw + (Delta_eTa*R_mol*T_a + R_mol*T_a*gamma_v)*r_bw)"
      ]
     },
     "metadata": {},
     "output_type": "display_data"
    }
   ],
   "source": [
    "eq_El_P52.subs(eq_S_gbw_gsw, eq_fu_gbw).subs(g_bw = 1/r_bw, g_sw = 1/r_sw).simplify_full().show()"
   ]
  },
  {
   "cell_type": "code",
   "execution_count": 30,
   "metadata": {
    "collapsed": false
   },
   "outputs": [
    {
     "data": {
      "text/html": [
       "<html><script type=\"math/tex; mode=display\">\\newcommand{\\Bold}[1]{\\mathbf{#1}}E_{l} = -\\frac{{\\left(M_{w} {P_{wa}} - M_{w} {P_{was}}\\right)} {N_{Le}}^{\\frac{2}{3}} {a_{sh}} {c_{pa}} {g_{bw}} {g_{sw}} \\lambda_{E} \\rho_{a} + {\\left({\\Delta_{eTa}} M_{w} {R_{ll}} - {\\Delta_{eTa}} M_{w} R_{s}\\right)} a_{s} {g_{sw}} \\lambda_{E}}{{\\Delta_{eTa}} M_{w} a_{s} {g_{sw}} \\lambda_{E} + {\\left({R_{mol}} T_{a} {a_{sh}} {c_{pa}} {g_{bw}} + {R_{mol}} T_{a} {a_{sh}} {c_{pa}} {g_{sw}}\\right)} {N_{Le}}^{\\frac{2}{3}} \\rho_{a}}</script></html>"
      ],
      "text/plain": [
       "E_l == -((M_w*P_wa - M_w*P_was)*Le^(2/3)*a_sh*c_pa*g_bw*g_sw*lambda_E*rho_a + (Delta_eTa*M_w*R_ll - Delta_eTa*M_w*R_s)*a_s*g_sw*lambda_E)/(Delta_eTa*M_w*a_s*g_sw*lambda_E + (R_mol*T_a*a_sh*c_pa*g_bw + R_mol*T_a*a_sh*c_pa*g_sw)*Le^(2/3)*rho_a)"
      ]
     },
     "metadata": {},
     "output_type": "display_data"
    }
   ],
   "source": [
    "eq_El_P52.subs(eq_S_gbw_gsw, eq_fu_gbw).subs(eq_gammav_as).simplify_full().show()"
   ]
  },
  {
   "cell_type": "code",
   "execution_count": 31,
   "metadata": {
    "collapsed": false
   },
   "outputs": [
    {
     "data": {
      "text/html": [
       "<html><script type=\"math/tex; mode=display\">\\newcommand{\\Bold}[1]{\\mathbf{#1}}E_{l} = -\\frac{{\\left(M_{w} {P_{wa}} - M_{w} {P_{was}}\\right)} \\gamma_{v} \\lambda_{E} + {\\left({\\Delta_{eTa}} {R_{ll}} {R_{mol}} - {\\Delta_{eTa}} {R_{mol}} R_{s}\\right)} T_{a} {r_{bw}}}{{R_{mol}} T_{a} \\gamma_{v} {r_{sw}} + {\\left({\\Delta_{eTa}} {R_{mol}} T_{a} + {R_{mol}} T_{a} \\gamma_{v}\\right)} {r_{bw}}}</script></html>"
      ],
      "text/plain": [
       "E_l == -((M_w*P_wa - M_w*P_was)*gamma_v*lambda_E + (Delta_eTa*R_ll*R_mol - Delta_eTa*R_mol*R_s)*T_a*r_bw)/(R_mol*T_a*gamma_v*r_sw + (Delta_eTa*R_mol*T_a + R_mol*T_a*gamma_v)*r_bw)"
      ]
     },
     "metadata": {},
     "output_type": "display_data"
    }
   ],
   "source": [
    "eq_El_P52.subs(eq_S_gbw_gsw, eq_fu_gbw).subs(g_sw = 1/r_sw, g_bw = 1/r_bw).simplify_full().show()"
   ]
  },
  {
   "cell_type": "code",
   "execution_count": 32,
   "metadata": {
    "collapsed": false
   },
   "outputs": [
    {
     "data": {
      "text/html": [
       "<html><script type=\"math/tex; mode=display\">\\newcommand{\\Bold}[1]{\\mathbf{#1}}E_{l} = -\\frac{{\\left(M_{w} {P_{wa}} - M_{w} {P_{was}}\\right)} {N_{Le}}^{\\frac{2}{3}} {a_{sh}} {c_{pa}} \\lambda_{E} \\rho_{a} + {\\left({\\Delta_{eTa}} M_{w} {R_{ll}} - {\\Delta_{eTa}} M_{w} R_{s}\\right)} a_{s} \\lambda_{E} {r_{bw}}}{{\\Delta_{eTa}} M_{w} a_{s} \\lambda_{E} {r_{bw}} + {\\left({R_{mol}} T_{a} {a_{sh}} {c_{pa}} {r_{bw}} + {R_{mol}} T_{a} {a_{sh}} {c_{pa}} {r_{sw}}\\right)} {N_{Le}}^{\\frac{2}{3}} \\rho_{a}}</script></html>"
      ],
      "text/plain": [
       "E_l == -((M_w*P_wa - M_w*P_was)*Le^(2/3)*a_sh*c_pa*lambda_E*rho_a + (Delta_eTa*M_w*R_ll - Delta_eTa*M_w*R_s)*a_s*lambda_E*r_bw)/(Delta_eTa*M_w*a_s*lambda_E*r_bw + (R_mol*T_a*a_sh*c_pa*r_bw + R_mol*T_a*a_sh*c_pa*r_sw)*Le^(2/3)*rho_a)"
      ]
     },
     "metadata": {},
     "output_type": "display_data"
    }
   ],
   "source": [
    "eq_El_P52.subs(eq_S_gbw_gsw, eq_fu_gbw).subs(g_sw = 1/r_sw, g_bw = 1/r_bw).subs(eq_gammav_as).simplify_full().show()"
   ]
  },
  {
   "cell_type": "code",
   "execution_count": 33,
   "metadata": {
    "collapsed": false
   },
   "outputs": [
    {
     "data": {
      "text/html": [
       "<html><script type=\"math/tex; mode=display\">\\newcommand{\\Bold}[1]{\\mathbf{#1}}E_{l} = -\\frac{{\\left(M_{w} {P_{wa}} - M_{w} {P_{was}}\\right)} {N_{Le}}^{\\frac{2}{3}} {a_{sh}} {c_{pa}} {g_{bw}} {g_{sw}} \\lambda_{E} \\rho_{a} + {\\left({\\Delta_{eTa}} M_{w} {R_{ll}} - {\\Delta_{eTa}} M_{w} R_{s}\\right)} a_{s} {g_{sw}} \\lambda_{E}}{{\\Delta_{eTa}} M_{w} a_{s} {g_{sw}} \\lambda_{E} + {\\left({R_{mol}} T_{a} {a_{sh}} {c_{pa}} {g_{bw}} + {R_{mol}} T_{a} {a_{sh}} {c_{pa}} {g_{sw}}\\right)} {N_{Le}}^{\\frac{2}{3}} \\rho_{a}}</script></html>"
      ],
      "text/plain": [
       "E_l == -((M_w*P_wa - M_w*P_was)*Le^(2/3)*a_sh*c_pa*g_bw*g_sw*lambda_E*rho_a + (Delta_eTa*M_w*R_ll - Delta_eTa*M_w*R_s)*a_s*g_sw*lambda_E)/(Delta_eTa*M_w*a_s*g_sw*lambda_E + (R_mol*T_a*a_sh*c_pa*g_bw + R_mol*T_a*a_sh*c_pa*g_sw)*Le^(2/3)*rho_a)"
      ]
     },
     "metadata": {},
     "output_type": "display_data"
    }
   ],
   "source": [
    "eq_El_P52.subs(eq_S_gbw_gsw, eq_fu_gbw, eq_gammav_as).simplify_full().show()"
   ]
  },
  {
   "cell_type": "markdown",
   "metadata": {
    "collapsed": false
   },
   "source": [
    "## Penman-Monteith equation\n",
    "\\citet{monteith_evaporation_1965} re-derived Eq. {eq_Ew_P} using a  different set of arguments than Penman in his original derivation and arrived to an equivalent equation (Eq. 8 in \\citet{monteith_evaporation_1965}):\n",
    "##### {eq_Ew_PM1}\n",
    "$$E_w = \\frac{\\Delta_{eTa}(R_s - R_{ll}) + \\rho_a c_{pa} (P_{was} - P_{wa})/r_a}\n",
    "{\\Delta_{eTa} + \\gamma_v} ,$$\n",
    "\n",
    "where $r_a$ is the leaf boundary layer resistance to sensible heat flux.\n",
    "Eq. {eq_Ew_PM1} is consistent with Eq. {eq_Ew_P} if Penman's wind function ($f_u$) is replaced by:\n",
    "##### {eq_fu_ra_M}\n",
    "$$f_u = \\frac{\\rho_a c_{pa}}{\\gamma_v r_a}.$$\n",
    "\n",
    "\n",
    "Monteith pointed out that the ratio between the conductance to sensible heat and the conductance to water vapour transfer, expressed in the psychrometric constant ($\\gamma_v$) would be affected by stomatal resistance ($r_{sw}$) and hence proposed to replace the psychrometric constant by $\\gamma_v^*$:\n",
    "##### {eq_gammavs_M65}\n",
    "$$\\gamma_v^* = \\gamma_v(1 + \\frac{r_s}{r_a}),$$\n",
    "\n",
    "leading to the so-called Penman-Monteith equation for transpiration:\n",
    "##### {eq_El_PM2}\n",
    "$$E_l = \\frac{\\Delta_{eTa}(R_s - R_{ll}) + \\rho_a c_{pa} (P_{was} - P_{wa})/r_a}\n",
    "{\\Delta_{eTa} + \\gamma_v \\left(1 + \\frac{r_{s}}{r_a}\\right)} $$\n",
    "\n",
    "\n",
    "More recently, \\citet{monteith_principles_2013} pointed out that the difference between leaves with stomata on only one side and those with stomata on both sides can also be considered by further modifying $\\gamma_v^*$ to:\n",
    "##### {eq_gammavs_MU}\n",
    "$$\\gamma_v^* = n_{MU} \\gamma_v (1 + r_s/r_a)$$\n",
    "\n",
    "where $n_{MU} = 1$ for leaves with stomata on both sides and $n_{MU} = 2$ for leaves with stomata on one side, i.e. $n_{MU} = a_{sh}/a_s$ in our notation.\n",
    "Insertion of Eq. {eq_gammavs_MU} into Eq. {eq_Ew_PM1} yields what we will call the Monteith-Unsworth (MU) equation, which only differs from the Penman-Monteith equation by the additional factor $n_{MU}$:\n",
    "##### {eq_El_MU2}\n",
    "$$E_l = \\frac{\\Delta_{eTa}(R_s - R_{ll}) + \\rho_a c_{pa} (P_{was} - P_{wa})/r_a}\n",
    "{\\Delta_{eTa} + \\gamma_v n_{MU} \\left(1 + \\frac{r_{s}}{r_a}\\right)} $$\n",
    "\n",
    "\\citet{monteith_principles_2013} also provide a definition of $\\gamma_v$ as:\n",
    "##### {eq_gammav_MU}\n",
    "$$\\gamma_v = \\frac{c_{pa} P_a}{\\lambda_E \\epsilon}$$\n",
    "\n",
    "where $\\epsilon$ is the ratio of molecular weights of water vapour and air (given by \\citet{monteith_principles_2013} as 0.622). \n",
    "Note that Equation {eq_gammavs_MU} was derived based on the assumption that $r_a$ refers to one-sided resistance to sensible heat transfer \\citep[P. 231]{monteith_principles_2013}, but $r_a$ in Eq. {eq_Ew_PM1} refers to total leaf boundary layer resistance for sensible heat flux, which, for a planar leaf, is half the one-sided value. This inconsistency will be further discussed in Section {sec_PM-incons}.\n",
    "\n",
    "The molar mass of air is $M_a = \\rho_a V_a/n_a$, while according to the ideal gas law, $V_a/n_a = R_{mol} T_a/P_a$, which yields for $\\epsilon = M_w/M_a$:\n",
    "##### {eq_epsilon}\n",
    "$$\\epsilon = \\frac{M_w P_a}{R_{mol} T_a \\rho_a}$$\n",
    "\n",
    "Inserting Eqs. {eq_rhoa_Pwa_Ta}, {eq_PN2} and {eq_PO2} in the above, $T_a$ cancels out, and at standard atmospheric pressure of 101325 Pa, we obtain values for $\\epsilon$ between 0.624 and 0.631 for vapour pressure ranging from 0 to 3000 Pa, compared to the value of 0.622 mentioned by \\citet{monteith_principles_2013}."
   ]
  },
  {
   "cell_type": "code",
   "execution_count": 34,
   "metadata": {
    "collapsed": false
   },
   "outputs": [
    {
     "data": {
      "text/html": [
       "<html><script type=\"math/tex; mode=display\">\\newcommand{\\Bold}[1]{\\mathbf{#1}}f_{u} = \\frac{{c_{pa}} \\rho_{a}}{\\gamma_{v} r_{a}}</script></html>"
      ],
      "text/plain": [
       "f_u == c_pa*rho_a/(gamma_v*r_a)"
      ]
     },
     "metadata": {},
     "output_type": "display_data"
    },
    {
     "data": {
      "text/plain": [
       "meter/second == meter/second"
      ]
     },
     "execution_count": 34,
     "metadata": {},
     "output_type": "execute_result"
    }
   ],
   "source": [
    "eq_fu_ra_M = f_u == rho_a*c_pa/(gamma_v*r_a)\n",
    "units_check(eq_fu_ra_M)"
   ]
  },
  {
   "cell_type": "code",
   "execution_count": 35,
   "metadata": {
    "collapsed": false
   },
   "outputs": [
    {
     "data": {
      "text/html": [
       "<html><script type=\"math/tex; mode=display\">\\newcommand{\\Bold}[1]{\\mathbf{#1}}E_{w} = -\\frac{{\\Delta_{eTa}} {R_{ll}} - {\\Delta_{eTa}} R_{s} + \\frac{{\\left({P_{wa}} - {P_{was}}\\right)} {c_{pa}} \\rho_{a}}{r_{a}}}{{\\Delta_{eTa}} + \\gamma_{v}}</script></html>"
      ],
      "text/plain": [
       "E_w == -(Delta_eTa*R_ll - Delta_eTa*R_s + (P_wa - P_was)*c_pa*rho_a/r_a)/(Delta_eTa + gamma_v)"
      ]
     },
     "metadata": {},
     "output_type": "display_data"
    },
    {
     "data": {
      "text/plain": [
       "kilogram/second^3 == kilogram/second^3"
      ]
     },
     "execution_count": 35,
     "metadata": {},
     "output_type": "execute_result"
    }
   ],
   "source": [
    "eq_Ew_PM1 = eq_Ew_P.subs(eq_fu_ra_M)\n",
    "units_check(eq_Ew_PM1)"
   ]
  },
  {
   "cell_type": "code",
   "execution_count": 36,
   "metadata": {
    "collapsed": false
   },
   "outputs": [
    {
     "data": {
      "text/html": [
       "<html><script type=\"math/tex; mode=display\">\\newcommand{\\Bold}[1]{\\mathbf{#1}}\\gamma_{v} = \\gamma_{v} {\\left(\\frac{r_{s}}{r_{a}} + 1\\right)}</script></html>"
      ],
      "text/plain": [
       "gamma_v == gamma_v*(r_s/r_a + 1)"
      ]
     },
     "metadata": {},
     "output_type": "display_data"
    },
    {
     "data": {
      "text/plain": [
       "kilogram/(kelvin*meter*second^2) == kilogram/(kelvin*meter*second^2)"
      ]
     },
     "execution_count": 36,
     "metadata": {},
     "output_type": "execute_result"
    }
   ],
   "source": [
    "eq_gammavs_M65 = gamma_v == gamma_v*(1 + r_s/r_a)\n",
    "units_check(eq_gammavs_M65)"
   ]
  },
  {
   "cell_type": "code",
   "execution_count": 37,
   "metadata": {
    "collapsed": false
   },
   "outputs": [
    {
     "data": {
      "text/html": [
       "<html><script type=\"math/tex; mode=display\">\\newcommand{\\Bold}[1]{\\mathbf{#1}}E_{l} = -\\frac{{\\Delta_{eTa}} {R_{ll}} - {\\Delta_{eTa}} R_{s} + \\frac{{\\left({P_{wa}} - {P_{was}}\\right)} {c_{pa}} \\rho_{a}}{r_{a}}}{\\gamma_{v} {\\left(\\frac{r_{s}}{r_{a}} + 1\\right)} + {\\Delta_{eTa}}}</script></html>"
      ],
      "text/plain": [
       "E_l == -(Delta_eTa*R_ll - Delta_eTa*R_s + (P_wa - P_was)*c_pa*rho_a/r_a)/(gamma_v*(r_s/r_a + 1) + Delta_eTa)"
      ]
     },
     "metadata": {},
     "output_type": "display_data"
    },
    {
     "data": {
      "text/plain": [
       "kilogram/second^3 == kilogram/second^3"
      ]
     },
     "execution_count": 37,
     "metadata": {},
     "output_type": "execute_result"
    }
   ],
   "source": [
    "eq_El_PM2 = eq_Ew_PM1.subs(eq_gammavs_M65)(E_w = E_l)\n",
    "units_check(eq_El_PM2)"
   ]
  },
  {
   "cell_type": "code",
   "execution_count": 38,
   "metadata": {
    "collapsed": false
   },
   "outputs": [
    {
     "data": {
      "text/html": [
       "<html><script type=\"math/tex; mode=display\">\\newcommand{\\Bold}[1]{\\mathbf{#1}}\\gamma_{v} = \\gamma_{v} n_{\\mathit{MU}} {\\left(\\frac{r_{s}}{r_{a}} + 1\\right)}</script></html>"
      ],
      "text/plain": [
       "gamma_v == gamma_v*n_MU*(r_s/r_a + 1)"
      ]
     },
     "metadata": {},
     "output_type": "display_data"
    },
    {
     "data": {
      "text/plain": [
       "kilogram/(kelvin*meter*second^2) == kilogram/(kelvin*meter*second^2)"
      ]
     },
     "execution_count": 38,
     "metadata": {},
     "output_type": "execute_result"
    }
   ],
   "source": [
    "eq_gammavs_MU = gamma_v == n_MU*gamma_v*(1 + r_s/r_a)\n",
    "units_check(eq_gammavs_MU)"
   ]
  },
  {
   "cell_type": "code",
   "execution_count": 39,
   "metadata": {
    "collapsed": false
   },
   "outputs": [
    {
     "data": {
      "text/html": [
       "<html><script type=\"math/tex; mode=display\">\\newcommand{\\Bold}[1]{\\mathbf{#1}}E_{l} = -\\frac{{\\Delta_{eTa}} {R_{ll}} - {\\Delta_{eTa}} R_{s} + \\frac{{\\left({P_{wa}} - {P_{was}}\\right)} {c_{pa}} \\rho_{a}}{r_{a}}}{\\gamma_{v} n_{\\mathit{MU}} {\\left(\\frac{r_{s}}{r_{a}} + 1\\right)} + {\\Delta_{eTa}}}</script></html>"
      ],
      "text/plain": [
       "E_l == -(Delta_eTa*R_ll - Delta_eTa*R_s + (P_wa - P_was)*c_pa*rho_a/r_a)/(gamma_v*n_MU*(r_s/r_a + 1) + Delta_eTa)"
      ]
     },
     "metadata": {},
     "output_type": "display_data"
    },
    {
     "data": {
      "text/plain": [
       "kilogram/second^3 == kilogram/second^3"
      ]
     },
     "execution_count": 39,
     "metadata": {},
     "output_type": "execute_result"
    }
   ],
   "source": [
    "eq_El_MU2 = eq_Ew_PM1.subs(eq_gammavs_MU)(E_w = E_l)\n",
    "units_check(eq_El_MU2)"
   ]
  },
  {
   "cell_type": "code",
   "execution_count": 40,
   "metadata": {
    "collapsed": false
   },
   "outputs": [
    {
     "data": {
      "text/html": [
       "<html><script type=\"math/tex; mode=display\">\\newcommand{\\Bold}[1]{\\mathbf{#1}}\\gamma_{v} = \\frac{P_{a} {c_{pa}}}{\\epsilon \\lambda_{E}}</script></html>"
      ],
      "text/plain": [
       "gamma_v == P_a*c_pa/(epsilon*lambda_E)"
      ]
     },
     "metadata": {},
     "output_type": "display_data"
    },
    {
     "data": {
      "text/plain": [
       "kilogram/(kelvin*meter*second^2) == kilogram/(kelvin*meter*second^2)"
      ]
     },
     "execution_count": 40,
     "metadata": {},
     "output_type": "execute_result"
    }
   ],
   "source": [
    "eq_gammav_MU = gamma_v == c_pa*P_a/(lambda_E*epsilon)\n",
    "units_check(eq_gammav_MU)"
   ]
  },
  {
   "cell_type": "code",
   "execution_count": 41,
   "metadata": {
    "collapsed": false
   },
   "outputs": [
    {
     "data": {
      "text/html": [
       "<html><script type=\"math/tex; mode=display\">\\newcommand{\\Bold}[1]{\\mathbf{#1}}\\epsilon = \\frac{M_{w} P_{a}}{{R_{mol}} T_{a} \\rho_{a}}</script></html>"
      ],
      "text/plain": [
       "epsilon == M_w*P_a/(R_mol*T_a*rho_a)"
      ]
     },
     "metadata": {},
     "output_type": "display_data"
    },
    {
     "data": {
      "text/plain": [
       "1 == 1"
      ]
     },
     "execution_count": 41,
     "metadata": {},
     "output_type": "execute_result"
    }
   ],
   "source": [
    "# Molar mass of air is M_a = rho_a*V_a/n_a, while V_a/n_a = R_mol*T_a/P_a, according to the ideal gas law\n",
    "eq_epsilon = epsilon == M_w/(rho_a*R_mol*T_a/P_a)\n",
    "units_check(eq_epsilon)"
   ]
  },
  {
   "cell_type": "code",
   "execution_count": 42,
   "metadata": {
    "collapsed": false
   },
   "outputs": [
    {
     "data": {
      "text/html": [
       "<html><script type=\"math/tex; mode=display\">\\newcommand{\\Bold}[1]{\\mathbf{#1}}\\epsilon = \\frac{100 \\, M_{w} P_{a}}{79 \\, M_{N_{2}} {\\left(P_{a} - {P_{wa}}\\right)} + 21 \\, M_{O_{2}} {\\left(P_{a} - {P_{wa}}\\right)} + 100 \\, M_{w} {P_{wa}}}</script></html>"
      ],
      "text/plain": [
       "epsilon == 100*M_w*P_a/(79*M_N2*(P_a - P_wa) + 21*M_O2*(P_a - P_wa) + 100*M_w*P_wa)"
      ]
     },
     "metadata": {},
     "output_type": "display_data"
    },
    {
     "data": {
      "image/png": "[encoded data removed]",
      "text/plain": [
       "Graphics object consisting of 1 graphics primitive"
      ]
     },
     "execution_count": 42,
     "metadata": {},
     "output_type": "execute_result"
    }
   ],
   "source": [
    "eq_epsilon.subs(eq_rhoa).show()\n",
    "P = plot(eq_epsilon.rhs().subs(eq_rhoa).subs(cdict)(P_a = 101325), (P_wa, 0, 3000))\n",
    "P.axes_labels(['$P_{wa}$ (Pa)', '$\\epsilon$'])\n",
    "P"
   ]
  },
  {
   "cell_type": "markdown",
   "metadata": {
    "collapsed": false
   },
   "source": [
    "### Relationships between resistances and conductances\n",
    "As opposed to the formulations in Section {sec:enbal}, where sensible and latent heat transfer coefficients ($h_c$ and $g_{tw}$ respectively) translate leaf-air differences in temperature or vapour concentration to fluxes, resistances in the PM equation are defined in the context of \\citep[Eqs. 13.16 and 13.20]{monteith_principles_2013}:\n",
    "##### {eq_El_MU}\n",
    "\\begin{equation}\n",
    "E_l = \\frac{a_s \\lambda_E\\rho_a\\epsilon}{P_a (r_v + r_s)} (P_{wl} - P_{wa})\n",
    "\\end{equation}\n",
    "and \n",
    "##### {eq_Hl_MU}\n",
    "\\begin{equation}\n",
    "H_l = \\frac{a_{sh} \\rho_a c_{pa}}{r_a}(T_l - T_a),\n",
    "\\end{equation}\n",
    "where $r_v$ and $r_s$ are the one-sided leaf boundary layer and stomatal resistances to water vapour respectively, and $r_a$ is the one-sided leaf boundary layer resistance to sensible heat transfer. Note that the introduction of $a_s$, $a_{sh}$ and $r_s$ in Eqs. {eq_El_MU} and {eq_Hl_MU} is based on the description on P. 231 in \\citet{monteith_principles_2013}, where the authors also assumed that $r_v \\approx r_a$.\n",
    "\n",
    "Comparison of Eq. {eq_El_MU} with Eq. {eq_Elmol} (after substitution of Eqs. {eq_Cwl} and {eq_Cwa} and insertion into Eq. {eq_El}), assuming isothermal conditions ($T_l = T_a$) and substituting Eq. {eq_epsilon} reveals that \n",
    "##### {eq_rv_gbw}\n",
    "\\begin{equation}\n",
    "r_v = a_s/g_{bw},\n",
    "\\end{equation}\n",
    "while comparison of Eq. {eq_Hl_MU} with Eq. {eq_Hl} reveals that\n",
    "##### {eq_ra_hc}\n",
    "\\begin{equation}\n",
    "r_a = \\frac{\\rho_a c_{pa}}{h_c}.\n",
    "\\end{equation}"
   ]
  },
  {
   "cell_type": "code",
   "execution_count": 43,
   "metadata": {
    "collapsed": false
   },
   "outputs": [
    {
     "data": {
      "text/html": [
       "<html><script type=\"math/tex; mode=display\">\\newcommand{\\Bold}[1]{\\mathbf{#1}}H_{l} = -{\\left(T_{a} - T_{l}\\right)} {a_{sh}} h_{c}</script></html>"
      ],
      "text/plain": [
       "H_l == -(T_a - T_l)*a_sh*h_c"
      ]
     },
     "metadata": {},
     "output_type": "display_data"
    },
    {
     "data": {
      "text/plain": [
       "C_wl == P_wl/(R_mol*T_l)"
      ]
     },
     "execution_count": 43,
     "metadata": {},
     "output_type": "execute_result"
    }
   ],
   "source": [
    "# According to Eq. 13.20 in Monteith_principles_2013, rho_a*c_pa/r_H = h_c, while he states below Eq. 13.32 that r_H = r_v approximately. This would imply that g_bw = 1/r_w = h_c/(rho_a*c_pa). Is this true?\n",
    "eq_Hl.show()\n",
    "vdict[h_c] = h_c\n",
    "(eq_gbw_hc/(rho_a*c_pa)).subs(eq_rhoa_Pwa_Ta, eq_Le).subs(eq_alphaa, eq_Dva,eq_PN2, eq_PO2).subs(vdict)\n",
    "# However, note that r_v is used in Eq. 13.16 on the vapour pressure gradient, not on the concentration gradient as g_bw! He also uses E_l == lambda_E*rho_a*epsilon/P_a*(P_wl - P_wa)/r_v, when formulating the equation for a wet surface evaporating on one side only.\n",
    "eq_Cwl"
   ]
  },
  {
   "cell_type": "code",
   "execution_count": 44,
   "metadata": {
    "collapsed": false
   },
   "outputs": [
    {
     "data": {
      "text/html": [
       "<html><script type=\"math/tex; mode=display\">\\newcommand{\\Bold}[1]{\\mathbf{#1}}E_{l} = -\\frac{{\\left({P_{wa}} - {P_{wl}}\\right)} a_{s} \\epsilon \\lambda_{E} \\rho_{a}}{P_{a} {\\left(r_{s} + {r_{v}}\\right)}}</script></html>"
      ],
      "text/plain": [
       "E_l == -(P_wa - P_wl)*a_s*epsilon*lambda_E*rho_a/(P_a*(r_s + r_v))"
      ]
     },
     "metadata": {},
     "output_type": "display_data"
    },
    {
     "name": "stdout",
     "output_type": "stream",
     "text": [
      "kilogram/second^3 == kilogram/second^3\n"
     ]
    },
    {
     "data": {
      "text/html": [
       "<html><script type=\"math/tex; mode=display\">\\newcommand{\\Bold}[1]{\\mathbf{#1}}H_{l} = -\\frac{{\\left(T_{a} - T_{l}\\right)} {a_{sh}} {c_{pa}} \\rho_{a}}{r_{a}}</script></html>"
      ],
      "text/plain": [
       "H_l == -(T_a - T_l)*a_sh*c_pa*rho_a/r_a"
      ]
     },
     "metadata": {},
     "output_type": "display_data"
    },
    {
     "data": {
      "text/plain": [
       "kilogram/second^3 == kilogram/second^3"
      ]
     },
     "execution_count": 44,
     "metadata": {},
     "output_type": "execute_result"
    }
   ],
   "source": [
    "eq_El_MU = E_l == a_s*lambda_E*rho_a*epsilon/(P_a*(r_v + r_s)) * (P_wl - P_wa)\n",
    "print units_check(eq_El_MU)\n",
    "eq_Hl_MU = H_l == a_sh*rho_a*c_pa/r_a*(T_l - T_a)\n",
    "units_check(eq_Hl_MU)"
   ]
  },
  {
   "cell_type": "code",
   "execution_count": 45,
   "metadata": {
    "collapsed": false
   },
   "outputs": [
    {
     "data": {
      "text/html": [
       "<html><script type=\"math/tex; mode=display\">\\newcommand{\\Bold}[1]{\\mathbf{#1}}E_{l} = -M_{w} {g_{tw}} \\lambda_{E} {\\left(\\frac{{P_{wa}}}{{R_{mol}} T_{a}} - \\frac{{P_{wl}}}{{R_{mol}} T_{l}}\\right)}</script></html>"
      ],
      "text/plain": [
       "E_l == -M_w*g_tw*lambda_E*(P_wa/(R_mol*T_a) - P_wl/(R_mol*T_l))"
      ]
     },
     "metadata": {},
     "output_type": "display_data"
    }
   ],
   "source": [
    "eq_El.subs(eq_Elmol).subs(eq_Cwl, eq_Cwa).show()"
   ]
  },
  {
   "cell_type": "code",
   "execution_count": 46,
   "metadata": {
    "collapsed": false
   },
   "outputs": [
    {
     "data": {
      "text/html": [
       "<html><script type=\"math/tex; mode=display\">\\newcommand{\\Bold}[1]{\\mathbf{#1}}{r_{v}} = \\frac{a_{s}}{{g_{bw}}}</script></html>"
      ],
      "text/plain": [
       "r_v == a_s/g_bw"
      ]
     },
     "metadata": {},
     "output_type": "display_data"
    },
    {
     "data": {
      "text/plain": [
       "second/meter == second/meter"
      ]
     },
     "execution_count": 46,
     "metadata": {},
     "output_type": "execute_result"
    }
   ],
   "source": [
    "soln = solve([eq_El_MU(r_s = 0), eq_El.subs(eq_Elmol).subs(eq_Cwl, eq_Cwa)], r_v, E_l)\n",
    "eq_rv_gbw = soln[0][0](T_l = T_a, g_tw = g_bw).subs(eq_epsilon).simplify_full()\n",
    "units_check(eq_rv_gbw)"
   ]
  },
  {
   "cell_type": "markdown",
   "metadata": {},
   "source": [
    "<p><span style=\"color: #ff0000;\">Note that according to eq_El_MU, $r_v$ is one-sided resistance, while according to eq_Elmol, $g_{bw}$ is total conductance. Therefore, for hypostomatous leaves, they are both one-sided, whereas for amphistomatous leaves, the one -sided resistance is twice $1/g_{bw}$.</span></p>"
   ]
  },
  {
   "cell_type": "code",
   "execution_count": 47,
   "metadata": {
    "collapsed": false
   },
   "outputs": [
    {
     "data": {
      "text/html": [
       "<html><script type=\"math/tex; mode=display\">\\newcommand{\\Bold}[1]{\\mathbf{#1}}E_{l} = -M_{w} {g_{tw}} \\lambda_{E} {\\left(\\frac{{P_{wa}}}{{R_{mol}} T_{a}} - \\frac{{P_{wl}}}{{R_{mol}} T_{l}}\\right)}</script></html>"
      ],
      "text/plain": [
       "E_l == -M_w*g_tw*lambda_E*(P_wa/(R_mol*T_a) - P_wl/(R_mol*T_l))"
      ]
     },
     "metadata": {},
     "output_type": "display_data"
    },
    {
     "data": {
      "text/html": [
       "<html><script type=\"math/tex; mode=display\">\\newcommand{\\Bold}[1]{\\mathbf{#1}}E_{l} = -\\frac{M_{w} {\\left({P_{wa}} - {P_{wl}}\\right)} a_{s} \\lambda_{E}}{{R_{mol}} T_{a} {\\left(r_{s} + {r_{v}}\\right)}}</script></html>"
      ],
      "text/plain": [
       "E_l == -M_w*(P_wa - P_wl)*a_s*lambda_E/(R_mol*T_a*(r_s + r_v))"
      ]
     },
     "metadata": {},
     "output_type": "display_data"
    }
   ],
   "source": [
    "eq_El.subs(eq_Elmol).subs(eq_Cwl, eq_Cwa).show()\n",
    "eq_El_MU.subs(eq_epsilon).show()"
   ]
  },
  {
   "cell_type": "code",
   "execution_count": 48,
   "metadata": {
    "collapsed": false
   },
   "outputs": [
    {
     "data": {
      "text/html": [
       "<html><script type=\"math/tex; mode=display\">\\newcommand{\\Bold}[1]{\\mathbf{#1}}r_{s} = \\frac{a_{s}}{{g_{sw}}}</script></html>"
      ],
      "text/plain": [
       "r_s == a_s/g_sw"
      ]
     },
     "metadata": {},
     "output_type": "display_data"
    },
    {
     "data": {
      "text/plain": [
       "second/meter == second/meter"
      ]
     },
     "execution_count": 48,
     "metadata": {},
     "output_type": "execute_result"
    }
   ],
   "source": [
    "soln = solve([eq_El_MU(r_v = 0), eq_El.subs(eq_Elmol).subs(eq_Cwl, eq_Cwa)], r_s, E_l)\n",
    "eq_rs_gsw = soln[0][0](T_l = T_a, g_tw = g_sw).subs(eq_epsilon).simplify_full()\n",
    "units_check(eq_rs_gsw)"
   ]
  },
  {
   "cell_type": "code",
   "execution_count": 49,
   "metadata": {
    "collapsed": false
   },
   "outputs": [
    {
     "data": {
      "text/html": [
       "<html><script type=\"math/tex; mode=display\">\\newcommand{\\Bold}[1]{\\mathbf{#1}}r_{a} = \\frac{{c_{pa}} \\rho_{a}}{h_{c}}</script></html>"
      ],
      "text/plain": [
       "r_a == c_pa*rho_a/h_c"
      ]
     },
     "metadata": {},
     "output_type": "display_data"
    },
    {
     "data": {
      "text/plain": [
       "second/meter == second/meter"
      ]
     },
     "execution_count": 49,
     "metadata": {},
     "output_type": "execute_result"
    }
   ],
   "source": [
    "soln = solve([eq_Hl_MU, eq_Hl], r_a, H_l)\n",
    "eq_ra_hc = soln[0][0]\n",
    "units_check(eq_ra_hc)"
   ]
  },
  {
   "cell_type": "code",
   "execution_count": null,
   "metadata": {
    "collapsed": false
   },
   "outputs": [],
   "source": []
  },
  {
   "cell_type": "markdown",
   "metadata": {},
   "source": [
    "<p>...</p>"
   ]
  },
  {
   "cell_type": "markdown",
   "metadata": {
    "collapsed": false
   },
   "source": [
    "## Generalisation of Penman's analytical approach\n",
    "The key point of Penman's analytical solution is to formulate $E_l$ as a function of ($P_{wl} - P_{wa}$) and $H_l$ as a function of ($T_l - T_a$). We will do this by introducing general transfer coefficients for latent heat ($c_E$, W~m$^{-2}$~Pa$^{1}$) and sensible heat ($c_H$, W~m$^{-2}$~K$^{1}$):\n",
    "##### {eq_El_cE}\n",
    "\\begin{equation}\n",
    "E_l = c_E (P_{wl} - P_{wa})\n",
    "\\end{equation}\n",
    "##### {eq_Hl_cH}\n",
    "\\begin{equation}\n",
    "H_l = c_H (T_l - T_a)\n",
    "\\end{equation}\n",
    "We now define the psychrometric constant as\n",
    "##### {eq_gammav_cE}\n",
    "\\begin{equation}\n",
    "\\gamma_v = c_H/c_E\n",
    "\\end{equation}\n",
    "and introduce it into Eq. {eq_Hl_cH} to obtain:\n",
    "##### {eq_Hl_gammav}\n",
    "\\begin{equation}\n",
    "H_l = \\gamma_v c_E (T_l - T_a)\n",
    "\\end{equation}\n",
    "Introduction of the Penman assumption (Eq. {eq_Penman_ass}) allows elimination of leaf temperature:\n",
    "##### {eq_Hl_Pwl}\n",
    "\\begin{equation}\n",
    "H_l = \\frac{c_E \\gamma_v (P_{wl} - P_{was})}{\\Delta_{eTa}}\n",
    "\\end{equation}\n",
    "Eqs. {eq_El_cE}, {eq_Hl_Pwl} and the leaf energy balance equation (Eq. {eq_Rs_enbal}), form a system of three equations that can be solved for $E_l$, $H_l$ and $P_{wl}$ to yield:\n",
    "##### {eq_El_Delta}\n",
    "\\begin{equation}\n",
    "E_{l} = \\frac{\\Delta_{eTa} c_E\n",
    "{\\left({R_{s}} - R_{ll}\\right) + c_E c_{H} \\left({P_{was}} - {P_{wa}}\\right) }\n",
    "}\n",
    "{\\Delta_{eTa} c_E + c_H}\n",
    "\\end{equation} \n",
    "and\n",
    "##### {eq_Hl_Delta}\n",
    "\\begin{equation}\n",
    "H_{l} = \\frac{\n",
    "c_H \\left(R_s - R_{ll} \\right) + c_E c_H \\left(P_{wa} - P_{was}\\right)\n",
    "} \n",
    "{\\Delta_{eTa} c_E + c_H}\n",
    "\\end{equation} \n",
    "In the above, we already substituted Eq. {eq_gammav_cE} to avoid confusion about the meaning of $\\gamma_v$, which is often referred to as the psychrometric constant, but in this case, it would strongly depend on stomatal resistance and hence should not be referred to as a constant. \n",
    "\n",
    "Eqs. {eq_Hl_Delta} and {eq_Hl_cH} can now be used to get an analytical solution for leaf temperature ($T_l$):\n",
    "##### {eq_Tl_Delta}\n",
    "\\begin{equation}\n",
    "T_{l} = T_a + \\frac{\n",
    "(R_s - R_{ll}) +  c_{E} ({P_{wa}} - P_{was}) \n",
    "}\n",
    "{\\Delta_{eTa} c_E + c_H}\n",
    "\\end{equation}\n",
    "Instead of using Eqs. {eq_Hl_Delta} and {eq_El_Delta} directly, one might obtain alternative analytic solutions for $H_l$ and $E_l$ by inserting Eq. {eq_Tl_Delta} into Eq. {eq_Hl_cH} or into Eq. {eq_Pwl} and the latter into the aerdynamic formulation given in Eq. {eq_El_cE}. \n",
    "\n",
    "In the original formulations by Penman and Monteith, the term $R_s - R_{ll}$ is referred to as net available energy and for a ground surface it is represented by net radiation minus ground heat flux ($R_N - G$). For a leaf, there is no ground heat flux, and $R_N = R_s - R_{ll}$. In most applications of the analytical solutions, $R_{ll}$ is not explicitly calculated, but it is assumed that $R_N$ is known, neglecting the dependence of $R_{ll}$ on the leaf temperature. Use of Eq. {eq_Tl_Delta} to estimate steady-state leaf temperature and subsequent calculation of $H_l$ and $E_l$ as outlined above, has the advantage that missing information on $R_{ll}$ would not directly affect calculation of $H_l$ and $E_l$, but only through its effect on leaf temperature. In fact, using $T_l$ obtained from Eq. {eq_Tl_Delta} by assuming that $R_{ll} = 0$ would then enable approximate estimation of the true $R_{ll}$ by inserting $T_l$ into Eq. {eq_Rll}."
   ]
  },
  {
   "cell_type": "code",
   "execution_count": 50,
   "metadata": {
    "collapsed": false
   },
   "outputs": [
    {
     "data": {
      "text/plain": [
       "c_H"
      ]
     },
     "execution_count": 50,
     "metadata": {},
     "output_type": "execute_result"
    }
   ],
   "source": [
    "var2('c_E', 'Latent heat transfer coefficient', joule/second/meter^2/pascal)\n",
    "var2('c_H', 'Sensible heat transfer coefficient', joule/second/meter^2/kelvin)"
   ]
  },
  {
   "cell_type": "code",
   "execution_count": 51,
   "metadata": {
    "collapsed": false
   },
   "outputs": [
    {
     "data": {
      "text/html": [
       "<html><script type=\"math/tex; mode=display\">\\newcommand{\\Bold}[1]{\\mathbf{#1}}E_{l} = -{\\left({P_{wa}} - {P_{wl}}\\right)} c_{E}</script></html>"
      ],
      "text/plain": [
       "E_l == -(P_wa - P_wl)*c_E"
      ]
     },
     "metadata": {},
     "output_type": "display_data"
    },
    {
     "name": "stdout",
     "output_type": "stream",
     "text": [
      "kilogram/second^3 == kilogram/second^3\n"
     ]
    },
    {
     "data": {
      "text/html": [
       "<html><script type=\"math/tex; mode=display\">\\newcommand{\\Bold}[1]{\\mathbf{#1}}H_{l} = -{\\left(T_{a} - T_{l}\\right)} c_{H}</script></html>"
      ],
      "text/plain": [
       "H_l == -(T_a - T_l)*c_H"
      ]
     },
     "metadata": {},
     "output_type": "display_data"
    },
    {
     "data": {
      "text/plain": [
       "kilogram/second^3 == kilogram/second^3"
      ]
     },
     "execution_count": 51,
     "metadata": {},
     "output_type": "execute_result"
    }
   ],
   "source": [
    "eq_El_cE = E_l == c_E*(P_wl - P_wa)\n",
    "print units_check(eq_El_cE)\n",
    "eq_Hl_cH = H_l == c_H*(T_l - T_a)\n",
    "units_check(eq_Hl_cH)"
   ]
  },
  {
   "cell_type": "code",
   "execution_count": 52,
   "metadata": {
    "collapsed": false
   },
   "outputs": [
    {
     "data": {
      "text/html": [
       "<html><script type=\"math/tex; mode=display\">\\newcommand{\\Bold}[1]{\\mathbf{#1}}H_{l} = -{\\left(T_{a} - T_{l}\\right)} c_{E} \\gamma_{v}</script></html>"
      ],
      "text/plain": [
       "H_l == -(T_a - T_l)*c_E*gamma_v"
      ]
     },
     "metadata": {},
     "output_type": "display_data"
    },
    {
     "data": {
      "text/plain": [
       "kilogram/second^3 == kilogram/second^3"
      ]
     },
     "execution_count": 52,
     "metadata": {},
     "output_type": "execute_result"
    }
   ],
   "source": [
    "# Introducing gamma_v = c_H/c_E into H_l\n",
    "eq_gammav_cE = gamma_v == c_H/c_E \n",
    "eq_Hl_gammav = H_l == c_E*gamma_v*(T_l - T_a)\n",
    "units_check(eq_Hl_gammav)"
   ]
  },
  {
   "cell_type": "code",
   "execution_count": 53,
   "metadata": {
    "collapsed": false
   },
   "outputs": [
    {
     "data": {
      "text/html": [
       "<html><script type=\"math/tex; mode=display\">\\newcommand{\\Bold}[1]{\\mathbf{#1}}{\\Delta_{eTa}} = \\frac{{P_{was}} - {P_{wl}}}{T_{a} - T_{l}}</script></html>"
      ],
      "text/plain": [
       "Delta_eTa == (P_was - P_wl)/(T_a - T_l)"
      ]
     },
     "metadata": {},
     "output_type": "display_data"
    },
    {
     "data": {
      "text/html": [
       "<html><script type=\"math/tex; mode=display\">\\newcommand{\\Bold}[1]{\\mathbf{#1}}H_{l} = -\\frac{{\\left({P_{was}} - {P_{wl}}\\right)} c_{E} \\gamma_{v}}{{\\Delta_{eTa}}}</script></html>"
      ],
      "text/plain": [
       "H_l == -(P_was - P_wl)*c_E*gamma_v/Delta_eTa"
      ]
     },
     "metadata": {},
     "output_type": "display_data"
    },
    {
     "name": "stdout",
     "output_type": "stream",
     "text": [
      "kilogram/second^3 == kilogram/second^3\n"
     ]
    }
   ],
   "source": [
    "# Introducing the Penman-assumption to eliminate T_l\n",
    "eq_Penman_ass.show()\n",
    "soln = solve([eq_Hl_gammav, eq_Penman_ass], H_l, T_l)\n",
    "#for eq in flatten(soln):\n",
    "#    eq.show()\n",
    "eq_Hl_Pwl = soln[0][0]\n",
    "print units_check(eq_Hl_Pwl)"
   ]
  },
  {
   "cell_type": "code",
   "execution_count": 54,
   "metadata": {
    "collapsed": false
   },
   "outputs": [
    {
     "data": {
      "text/html": [
       "<html><script type=\"math/tex; mode=display\">\\newcommand{\\Bold}[1]{\\mathbf{#1}}E_{l} = -\\frac{{\\left({P_{wa}} - {P_{was}}\\right)} c_{E} c_{H} + {\\left({\\Delta_{eTa}} {R_{ll}} - {\\Delta_{eTa}} R_{s}\\right)} c_{E}}{{\\Delta_{eTa}} c_{E} + c_{H}}</script></html>"
      ],
      "text/plain": [
       "E_l == -((P_wa - P_was)*c_E*c_H + (Delta_eTa*R_ll - Delta_eTa*R_s)*c_E)/(Delta_eTa*c_E + c_H)"
      ]
     },
     "metadata": {},
     "output_type": "display_data"
    },
    {
     "name": "stdout",
     "output_type": "stream",
     "text": [
      "kilogram/second^3 == kilogram/second^3\n",
      "E_{l} = -\\frac{{\\left({P_{wa}} - {P_{was}}\\right)} c_{E} c_{H} + {\\left({\\Delta_{eTa}} {R_{ll}} - {\\Delta_{eTa}} R_{s}\\right)} c_{E}}{{\\Delta_{eTa}} c_{E} + c_{H}}\n"
     ]
    },
    {
     "data": {
      "text/html": [
       "<html><script type=\"math/tex; mode=display\">\\newcommand{\\Bold}[1]{\\mathbf{#1}}H_{l} = \\frac{{\\left({\\left({P_{wa}} - {P_{was}}\\right)} c_{E} - {R_{ll}} + R_{s}\\right)} c_{H}}{{\\Delta_{eTa}} c_{E} + c_{H}}</script></html>"
      ],
      "text/plain": [
       "H_l == ((P_wa - P_was)*c_E - R_ll + R_s)*c_H/(Delta_eTa*c_E + c_H)"
      ]
     },
     "metadata": {},
     "output_type": "display_data"
    },
    {
     "name": "stdout",
     "output_type": "stream",
     "text": [
      "kilogram/second^3 == kilogram/second^3\n",
      "H_{l} = \\frac{{\\left({\\left({P_{wa}} - {P_{was}}\\right)} c_{E} - {R_{ll}} + R_{s}\\right)} c_{H}}{{\\Delta_{eTa}} c_{E} + c_{H}}\n"
     ]
    },
    {
     "data": {
      "text/html": [
       "<html><script type=\"math/tex; mode=display\">\\newcommand{\\Bold}[1]{\\mathbf{#1}}{P_{wl}} = \\frac{{\\Delta_{eTa}} {P_{wa}} c_{E} - {\\Delta_{eTa}} {R_{ll}} + {\\Delta_{eTa}} R_{s} + {P_{was}} c_{H}}{{\\Delta_{eTa}} c_{E} + c_{H}}</script></html>"
      ],
      "text/plain": [
       "P_wl == (Delta_eTa*P_wa*c_E - Delta_eTa*R_ll + Delta_eTa*R_s + P_was*c_H)/(Delta_eTa*c_E + c_H)"
      ]
     },
     "metadata": {},
     "output_type": "display_data"
    },
    {
     "name": "stdout",
     "output_type": "stream",
     "text": [
      "kilogram/(meter*second^2) == kilogram/(meter*second^2)\n",
      "{P_{wl}} = \\frac{{\\Delta_{eTa}} {P_{wa}} c_{E} - {\\Delta_{eTa}} {R_{ll}} + {\\Delta_{eTa}} R_{s} + {P_{was}} c_{H}}{{\\Delta_{eTa}} c_{E} + c_{H}}\n"
     ]
    }
   ],
   "source": [
    "# Using energy balance to eliminate P_wl\n",
    "soln = solve([eq_Hl_Pwl,eq_El_cE, eq_Rs_enbal], E_l, H_l, P_wl)\n",
    "[eq_El_Delta, eq_Hl_Delta, eq_Pwl_Delta] = [eq1.subs(eq_gammav_cE).simplify_full() for eq1 in flatten(soln)]\n",
    "for eq1 in [eq_El_Delta, eq_Hl_Delta, eq_Pwl_Delta]:\n",
    "    print units_check(eq1)\n",
    "    print latex(eq1)"
   ]
  },
  {
   "cell_type": "code",
   "execution_count": 55,
   "metadata": {
    "collapsed": false
   },
   "outputs": [
    {
     "data": {
      "text/html": [
       "<html><script type=\"math/tex; mode=display\">\\newcommand{\\Bold}[1]{\\mathbf{#1}}T_{l} = \\frac{{\\Delta_{eTa}} T_{a} c_{E} + {P_{wa}} c_{E} - {P_{was}} c_{E} + T_{a} c_{H} - {R_{ll}} + R_{s}}{{\\Delta_{eTa}} c_{E} + c_{H}}</script></html>"
      ],
      "text/plain": [
       "T_l == (Delta_eTa*T_a*c_E + P_wa*c_E - P_was*c_E + T_a*c_H - R_ll + R_s)/(Delta_eTa*c_E + c_H)"
      ]
     },
     "metadata": {},
     "output_type": "display_data"
    },
    {
     "name": "stdout",
     "output_type": "stream",
     "text": [
      "kelvin == kelvin\n"
     ]
    },
    {
     "data": {
      "text/plain": [
       "T_{l} = \\frac{{\\Delta_{eTa}} T_{a} c_{E} + {P_{wa}} c_{E} - {P_{was}} c_{E} + T_{a} c_{H} - {R_{ll}} + R_{s}}{{\\Delta_{eTa}} c_{E} + c_{H}}"
      ]
     },
     "execution_count": 55,
     "metadata": {},
     "output_type": "execute_result"
    }
   ],
   "source": [
    "# Solving for T_l\n",
    "eq_Tl_Delta = solve(eq_Hl_Delta.rhs() == eq_Hl_cH.rhs(), T_l)[0].expand().factor()\n",
    "print units_check(eq_Tl_Delta)\n",
    "latex(eq_Tl_Delta)"
   ]
  },
  {
   "cell_type": "code",
   "execution_count": 56,
   "metadata": {
    "collapsed": false
   },
   "outputs": [
    {
     "data": {
      "text/html": [
       "<html><script type=\"math/tex; mode=display\">\\newcommand{\\Bold}[1]{\\mathbf{#1}}T_{l} = \\frac{{\\left({\\Delta_{eTa}} T_{a} + {P_{wa}} - {P_{was}}\\right)} c_{E} + T_{a} c_{H} - {R_{ll}} + R_{s}}{{\\Delta_{eTa}} c_{E} + c_{H}}</script></html>"
      ],
      "text/plain": [
       "T_l == ((Delta_eTa*T_a + P_wa - P_was)*c_E + T_a*c_H - R_ll + R_s)/(Delta_eTa*c_E + c_H)"
      ]
     },
     "metadata": {},
     "output_type": "display_data"
    }
   ],
   "source": [
    "eq_Tl_Delta.expand().simplify_full().show()"
   ]
  },
  {
   "cell_type": "code",
   "execution_count": 57,
   "metadata": {
    "collapsed": false
   },
   "outputs": [
    {
     "data": {
      "text/html": [
       "<html><script type=\"math/tex; mode=display\">\\newcommand{\\Bold}[1]{\\mathbf{#1}}T_{l} = T_{a} + \\frac{{\\left({P_{wa}} - {P_{was}}\\right)} c_{E} - {R_{ll}} + R_{s}}{{\\Delta_{eTa}} c_{E} + c_{H}}</script></html>"
      ],
      "text/plain": [
       "T_l == T_a + ((P_wa - P_was)*c_E - R_ll + R_s)/(Delta_eTa*c_E + c_H)"
      ]
     },
     "metadata": {},
     "output_type": "display_data"
    },
    {
     "data": {
      "text/plain": [
       "0"
      ]
     },
     "execution_count": 57,
     "metadata": {},
     "output_type": "execute_result"
    }
   ],
   "source": [
    "# Test if formulation in paper is the same\n",
    "eq_Tl_Delta1 = T_l == T_a + ((R_s - R_ll) + c_E*(P_wa - P_was))/(Delta_eTa*c_E + c_H)\n",
    "eq_Tl_Delta1.show()\n",
    "(eq_Tl_Delta.rhs() - eq_Tl_Delta1.rhs()).full_simplify()"
   ]
  },
  {
   "cell_type": "code",
   "execution_count": 58,
   "metadata": {
    "collapsed": false
   },
   "outputs": [
    {
     "data": {
      "text/html": [
       "<html><script type=\"math/tex; mode=display\">\\newcommand{\\Bold}[1]{\\mathbf{#1}}{P_{wl}} = 611 \\, e^{\\left(-\\frac{M_{w} \\lambda_{E} {\\left(\\frac{273}{T_{l}} - 1\\right)}}{273 \\, {R_{mol}}}\\right)}</script></html>"
      ],
      "text/plain": [
       "P_wl == 611*e^(-1/273*M_w*lambda_E*(273/T_l - 1)/R_mol)"
      ]
     },
     "metadata": {},
     "output_type": "display_data"
    },
    {
     "data": {
      "text/html": [
       "<html><script type=\"math/tex; mode=display\">\\newcommand{\\Bold}[1]{\\mathbf{#1}}T_{l} = \\frac{273 \\, M_{w} \\lambda_{E}}{M_{w} \\lambda_{E} + 273 \\, {R_{mol}} \\log\\left(\\frac{611 \\, {\\left({\\Delta_{eTa}} c_{E} + c_{H}\\right)}}{{\\Delta_{eTa}} {P_{wa}} c_{E} - {\\Delta_{eTa}} {R_{ll}} + {\\Delta_{eTa}} R_{s} + {P_{was}} c_{H}}\\right)}</script></html>"
      ],
      "text/plain": [
       "T_l == 273*M_w*lambda_E/(M_w*lambda_E + 273*R_mol*log(611*(Delta_eTa*c_E + c_H)/(Delta_eTa*P_wa*c_E - Delta_eTa*R_ll + Delta_eTa*R_s + P_was*c_H)))"
      ]
     },
     "metadata": {},
     "output_type": "display_data"
    }
   ],
   "source": [
    "# Alternative approach to get T_l\n",
    "eq_Pwl.show()\n",
    "soln = solve(eq_Pwl_Delta.rhs() == eq_Pwl.rhs(), T_l)\n",
    "eq_Tl_Delta2 = soln[0].simplify_full()\n",
    "eq_Tl_Delta2.show()"
   ]
  },
  {
   "cell_type": "code",
   "execution_count": 59,
   "metadata": {
    "collapsed": false
   },
   "outputs": [
    {
     "data": {
      "text/plain": [
       "E_l == -M_w*(P_wa - P_wl)*g_twmol*lambda_E/P_a"
      ]
     },
     "execution_count": 59,
     "metadata": {},
     "output_type": "execute_result"
    }
   ],
   "source": [
    "eq_El.subs(eq_Elmol_conv)"
   ]
  },
  {
   "cell_type": "code",
   "execution_count": 60,
   "metadata": {
    "collapsed": false
   },
   "outputs": [
    {
     "data": {
      "text/plain": [
       "H_l == -(T_a - T_l)*a_sh*h_c"
      ]
     },
     "execution_count": 60,
     "metadata": {},
     "output_type": "execute_result"
    }
   ],
   "source": [
    "eq_Hl"
   ]
  },
  {
   "cell_type": "code",
   "execution_count": 61,
   "metadata": {
    "collapsed": false
   },
   "outputs": [
    {
     "data": {
      "text/html": [
       "<html><script type=\"math/tex; mode=display\">\\newcommand{\\Bold}[1]{\\mathbf{#1}}c_{E} = \\frac{M_{w} {g_{tw,mol}} \\lambda_{E}}{P_{a}}</script></html>"
      ],
      "text/plain": [
       "c_E == M_w*g_twmol*lambda_E/P_a"
      ]
     },
     "metadata": {},
     "output_type": "display_data"
    },
    {
     "name": "stdout",
     "output_type": "stream",
     "text": [
      "meter/second == meter/second\n"
     ]
    },
    {
     "data": {
      "text/html": [
       "<html><script type=\"math/tex; mode=display\">\\newcommand{\\Bold}[1]{\\mathbf{#1}}c_{H} = {a_{sh}} h_{c}</script></html>"
      ],
      "text/plain": [
       "c_H == a_sh*h_c"
      ]
     },
     "metadata": {},
     "output_type": "display_data"
    },
    {
     "data": {
      "text/plain": [
       "kilogram/(kelvin*second^3) == kilogram/(kelvin*second^3)"
      ]
     },
     "execution_count": 61,
     "metadata": {},
     "output_type": "execute_result"
    }
   ],
   "source": [
    "eqEl = eq_El.subs(eq_Elmol_conv)\n",
    "eqHl = eq_Hl\n",
    "eq_ce_conv = solve([eqEl, eq_El_cE], c_E, E_l)[0][0]\n",
    "print units_check(eq_ce_conv)\n",
    "eq_ch_hc = solve([eqHl, eq_Hl_cH], c_H, H_l)[0][0]\n",
    "units_check(eq_ch_hc)"
   ]
  },
  {
   "cell_type": "code",
   "execution_count": 62,
   "metadata": {
    "collapsed": false
   },
   "outputs": [
    {
     "data": {
      "text/html": [
       "<html><script type=\"math/tex; mode=display\">\\newcommand{\\Bold}[1]{\\mathbf{#1}}H_{l} = \\frac{{\\left(M_{w} {P_{wa}} - M_{w} {P_{was}}\\right)} {a_{sh}} {g_{tw,mol}} h_{c} \\lambda_{E} - {\\left(P_{a} {R_{ll}} - P_{a} R_{s}\\right)} {a_{sh}} h_{c}}{{\\Delta_{eTa}} M_{w} {g_{tw,mol}} \\lambda_{E} + P_{a} {a_{sh}} h_{c}}</script></html>"
      ],
      "text/plain": [
       "H_l == ((M_w*P_wa - M_w*P_was)*a_sh*g_twmol*h_c*lambda_E - (P_a*R_ll - P_a*R_s)*a_sh*h_c)/(Delta_eTa*M_w*g_twmol*lambda_E + P_a*a_sh*h_c)"
      ]
     },
     "metadata": {},
     "output_type": "display_data"
    },
    {
     "data": {
      "text/html": [
       "<html><script type=\"math/tex; mode=display\">\\newcommand{\\Bold}[1]{\\mathbf{#1}}E_{l} = -\\frac{{\\left({\\left(M_{w} {P_{wa}} - M_{w} {P_{was}}\\right)} {a_{sh}} {g_{tw,mol}} h_{c} + {\\left({\\Delta_{eTa}} M_{w} {R_{ll}} - {\\Delta_{eTa}} M_{w} R_{s}\\right)} {g_{tw,mol}}\\right)} \\lambda_{E}}{{\\Delta_{eTa}} M_{w} {g_{tw,mol}} \\lambda_{E} + P_{a} {a_{sh}} h_{c}}</script></html>"
      ],
      "text/plain": [
       "E_l == -((M_w*P_wa - M_w*P_was)*a_sh*g_twmol*h_c + (Delta_eTa*M_w*R_ll - Delta_eTa*M_w*R_s)*g_twmol)*lambda_E/(Delta_eTa*M_w*g_twmol*lambda_E + P_a*a_sh*h_c)"
      ]
     },
     "metadata": {},
     "output_type": "display_data"
    },
    {
     "data": {
      "text/html": [
       "<html><script type=\"math/tex; mode=display\">\\newcommand{\\Bold}[1]{\\mathbf{#1}}T_{l} = \\frac{P_{a} T_{a} {a_{sh}} h_{c} + {\\left({\\Delta_{eTa}} M_{w} T_{a} + M_{w} {P_{wa}} - M_{w} {P_{was}}\\right)} {g_{tw,mol}} \\lambda_{E} - P_{a} {R_{ll}} + P_{a} R_{s}}{{\\Delta_{eTa}} M_{w} {g_{tw,mol}} \\lambda_{E} + P_{a} {a_{sh}} h_{c}}</script></html>"
      ],
      "text/plain": [
       "T_l == (P_a*T_a*a_sh*h_c + (Delta_eTa*M_w*T_a + M_w*P_wa - M_w*P_was)*g_twmol*lambda_E - P_a*R_ll + P_a*R_s)/(Delta_eTa*M_w*g_twmol*lambda_E + P_a*a_sh*h_c)"
      ]
     },
     "metadata": {},
     "output_type": "display_data"
    }
   ],
   "source": [
    "eq_Hl_Delta.subs(eq_ce_conv, eq_ch_hc).simplify_full().show()\n",
    "eq_El_Delta.subs(eq_ce_conv, eq_ch_hc).simplify_full().show()\n",
    "eq_Tl_Delta.subs(eq_ce_conv, eq_ch_hc).simplify_full().show()"
   ]
  },
  {
   "cell_type": "code",
   "execution_count": 63,
   "metadata": {
    "collapsed": false
   },
   "outputs": [
    {
     "name": "stdout",
     "output_type": "stream",
     "text": [
      "$ g $ $ M_{N_{2}} $ $ M_{w} $ $ {g_{sw}} $ $ {\\sigma} $ $ {R_{mol}} $ $ \\lambda_{E} $ $ T_{w} $ $ \\epsilon $ $ P_{a} $ $ T_{a} $ $ {N_{Re_c}} $ $ M_{O_{2}} $ $ L_{l} $ $ {c_{pa,mol}} $ $ v_{w} $ $ {P_{wa}} $ $ {c_{pa}} $ $ {N_{Pr}} $ $ R_{s} $ $ {a_{sh}} $ $ \\epsilon_{l} $ $ a_{s} $ \n",
      "$ g $ $ M_{N_{2}} $ $ M_{w} $ $ {g_{sw}} $ $ {\\sigma} $ $ {R_{mol}} $ $ \\lambda_{E} $ $ T_{w} $ $ \\epsilon $ $ P_{a} $ $ T_{a} $ $ {N_{Re_c}} $ $ M_{O_{2}} $ $ L_{l} $ $ {c_{pa,mol}} $ $ v_{w} $ $ {P_{wa}} $ $ {c_{pa}} $ $ {N_{Pr}} $ $ R_{s} $ $ {a_{sh}} $ $ \\epsilon_{l} $ $ a_{s} $ \n",
      "T_l = 305.650648423\n",
      "E_l = 185.424519010311\n",
      "H_l = 325.157459266011\n",
      "R_ll = 89.4180217236781\n",
      "Direct estimates: \n",
      "E_l == 201.520517691209\n",
      "H_l == 398.479482308791\n",
      "T_l == 307.263098002106\n",
      "P_wl == 4888.37878666472\n",
      "Using estimated T_l: \n",
      "5332.58270455182\n",
      "E_l == 254.937149826831\n",
      "H_l == 398.479482308788\n",
      "0 == 110.468903558397\n",
      "Using estimated T_l only to calculate R_ll: \n",
      "E_l == 164.417599968095\n",
      "H_l == 325.113496473508\n",
      "307.263098002106 == 305.649681621994\n",
      "Using 1 iteration to get T_l: \n",
      "T_l(R_ll=0): 307.263098002106\n",
      "R_ll(T_l) = 110.468903558397\n",
      "T_l = 305.649681621994\n",
      "E_l == 199.088662380168\n",
      "H_l == 325.113496473505\n"
     ]
    }
   ],
   "source": [
    "# Test\n",
    "vdict = cdict.copy()\n",
    "#vdict= {}\n",
    "vdict[a_s] = 1.0    # one sided stomata\n",
    "vdict[g_sw] = 0.01    \n",
    "vdict[T_a] = 273 + 25.5\n",
    "vdict[T_w] = vdict[T_a] # Wall temperature equal to air temperature\n",
    "vdict[P_a] = 101325\n",
    "rha = 1\n",
    "vdict[P_wa] = rha*eq_Pwl.rhs()(T_l = T_a).subs(vdict)\n",
    "vdict[L_l] = 0.03\n",
    "vdict[Re_c] = 3000\n",
    "vdict[R_s] = 600\n",
    "vdict[v_w] = 1\n",
    "str1 = ''\n",
    "for key1 in sorted(vdict.keys()):\n",
    "    str1 = str1+'$'+ latex(key1)+'$ '\n",
    "print str1\n",
    "#vdict = dict(vdict.items()+cdict.items())\n",
    "str1 = ''\n",
    "for key1 in sorted(vdict.keys()):\n",
    "    str1 = str1+'$'+ latex(key1)+'$ '\n",
    "print str1\n",
    "resdict = fun_SS(vdict)\n",
    "for name1 in [T_l, E_l, H_l, R_ll]:\n",
    "    print str(name1)+' = ' + str(resdict[name1])\n",
    "vdict[P_was] = eq_Pwl.rhs()(T_l = T_a).subs(vdict) \n",
    "vdict[Delta_eTa] = eq_Deltaeta_T.rhs().subs(vdict)\n",
    "vdict[k_a] = eq_ka.rhs().subs(vdict)\n",
    "vdict[nu_a] = eq_nua.rhs().subs(vdict)\n",
    "vdict[Re] = eq_Re.rhs().subs(vdict)\n",
    "vdict[Nu] = eq_Nu_forced_all.rhs().subs(vdict)\n",
    "vdict[h_c] = eq_hc.rhs().subs(vdict) \n",
    "\n",
    "vdict[P_N2] = eq_PN2.rhs().subs(vdict)\n",
    "vdict[P_O2] = eq_PO2.rhs().subs(vdict)\n",
    "vdict[alpha_a] = eq_alphaa.rhs().subs(vdict)\n",
    "vdict[k_a] = eq_ka.rhs().subs(vdict)\n",
    "vdict[D_va] = eq_Dva.rhs().subs(vdict)\n",
    "vdict[Le] = eq_Le.rhs().subs(vdict)\n",
    "vdict[rho_a] = eq_rhoa_Pwa_Ta.rhs().subs(vdict) \n",
    "vdict[g_bw] = eq_gbw_hc.rhs().subs(vdict)\n",
    "vdict[g_tw] = eq_gtw.rhs().subs(vdict)\n",
    "vdict[g_twmol] = eq_gtwmol_gtw_iso.rhs().subs(vdict)\n",
    "\n",
    "vdict[R_ll] = 0\n",
    "print 'Direct estimates: '\n",
    "print eq_El_Delta.subs(eq_ce_conv, eq_ch_hc).subs(vdict)\n",
    "print eq_Hl_Delta.subs(eq_ce_conv, eq_ch_hc).subs(vdict)\n",
    "print eq_Tl_Delta.subs(eq_ce_conv, eq_ch_hc).subs(vdict)\n",
    "print eq_Pwl_Delta.subs(eq_ce_conv, eq_ch_hc).subs(vdict)\n",
    "\n",
    "print 'Using estimated T_l: '\n",
    "vdict[T_l] = eq_Tl_Delta.rhs().subs(eq_ce_conv, eq_ch_hc).subs(vdict)\n",
    "vdict[P_wl] = eq_Pwl.rhs().subs(vdict)\n",
    "print vdict[P_wl]\n",
    "print eq_El.subs(eq_Elmol_conv).subs(vdict)\n",
    "#vdict[C_wa] = eq_Cwa.rhs().subs(vdict)\n",
    "#vdict[C_wl] = eq_Cwl.rhs().subs(vdict)\n",
    "#print eq_El.subs(eq_Elmol).subs(vdict)\n",
    "print eq_Hl.subs(vdict)\n",
    "print eq_Rll.subs(vdict)\n",
    "\n",
    "print 'Using estimated T_l only to calculate R_ll: '\n",
    "vdict[R_ll] = eq_Rll.rhs().subs(vdict)\n",
    "print eq_El_Delta.subs(eq_ce_conv, eq_ch_hc).subs(vdict)\n",
    "print eq_Hl_Delta.subs(eq_ce_conv, eq_ch_hc).subs(vdict)\n",
    "print eq_Tl_Delta.subs(eq_ce_conv, eq_ch_hc).subs(vdict)\n",
    "\n",
    "print 'Using 1 iteration to get T_l: '\n",
    "vdict[R_ll] = 0\n",
    "vdict[T_l] = eq_Tl_Delta.rhs().subs(eq_ce_conv, eq_ch_hc).subs(vdict)\n",
    "print 'T_l(R_ll=0): ' + str(vdict[T_l])\n",
    "vdict[R_ll] = eq_Rll.rhs().subs(vdict)\n",
    "print 'R_ll(T_l) = ' + str(vdict[R_ll])\n",
    "vdict[T_l] = eq_Tl_Delta.rhs().subs(eq_ce_conv, eq_ch_hc).subs(vdict)\n",
    "vdict[P_wl] = eq_Pwl.rhs().subs(vdict)\n",
    "print 'T_l = ' + str(vdict[T_l])\n",
    "print eq_El.subs(eq_Elmol_conv).subs(vdict)\n",
    "print eq_Hl.subs(vdict)"
   ]
  },
  {
   "cell_type": "code",
   "execution_count": 64,
   "metadata": {
    "collapsed": false
   },
   "outputs": [
    {
     "name": "stdout",
     "output_type": "stream",
     "text": [
      "185.424519010311 == 199.120796183645\n",
      "185.424519010311 == 185.424519010311\n"
     ]
    }
   ],
   "source": [
    "# Isothermal conversion between gtw and gtwmol leads to quite a bit of error!\n",
    "print eq_El.subs(eq_Elmol_conv).subs(eq_gtwmol_gtw_iso).subs(resdict)\n",
    "print eq_El.subs(eq_Elmol_conv).subs(eq_gtwmol_gtw).subs(resdict)"
   ]
  },
  {
   "cell_type": "markdown",
   "metadata": {},
   "source": [
    "<p><span style=\"color: #ff0000;\">The MU-equation can easily be corrected to be consistent with the general solution in eq_El_Delta!<br /></span></p>"
   ]
  },
  {
   "cell_type": "code",
   "execution_count": 65,
   "metadata": {
    "collapsed": false
   },
   "outputs": [
    {
     "data": {
      "text/plain": [
       "-(P_a*P_wl*T_a - P_a*P_wa*T_l)*g_tw/((P_wa - P_wl)*R_mol*T_a*T_l)"
      ]
     },
     "execution_count": 65,
     "metadata": {},
     "output_type": "execute_result"
    }
   ],
   "source": [
    "eq_gtwmol_gtw.rhs()"
   ]
  },
  {
   "cell_type": "code",
   "execution_count": 66,
   "metadata": {
    "collapsed": false
   },
   "outputs": [
    {
     "data": {
      "text/plain": [
       "4868.15587829872"
      ]
     },
     "execution_count": 66,
     "metadata": {},
     "output_type": "execute_result"
    }
   ],
   "source": [
    "vdict[P_wl]"
   ]
  },
  {
   "cell_type": "code",
   "execution_count": 67,
   "metadata": {
    "collapsed": false
   },
   "outputs": [
    {
     "name": "stdout",
     "output_type": "stream",
     "text": [
      "T_l = 305.650648423\n",
      "E_l = 185.424519010311\n",
      "H_l = 325.157459266011\n",
      "R_ll = 89.4180217236781\n",
      "Direct estimates: \n",
      "E_l == 201.520517691209\n",
      "H_l == 398.479482308791\n",
      "T_l == 307.263098002106\n",
      "Using estimated T_l: \n",
      "E_l == 236.648612148470\n",
      "H_l == 398.479482308788\n",
      "0 == 110.468903558397\n",
      "Using estimated T_l only to calculate R_ll: \n",
      "E_l == 156.390826464557\n",
      "H_l == 333.140269977046\n",
      "307.263098002106 == 305.826201131717\n",
      "Using 1 iteration to get T_l: \n",
      "T_l(R_ll=0): 307.479451379050\n",
      "R_ll(T_l) = 113.318783813751\n",
      "T_l = 305.783550529736\n",
      "E_l == 189.502633426895\n",
      "H_l == 331.200842871040\n"
     ]
    }
   ],
   "source": [
    "# Test\n",
    "vdict = cdict.copy()\n",
    "#vdict= {}\n",
    "vdict[a_s] = 1.0    # one sided stomata\n",
    "vdict[g_sw] = 0.01    \n",
    "vdict[T_a] = 273 + 25.5\n",
    "vdict[T_w] = vdict[T_a] # Wall temperature equal to air temperature\n",
    "vdict[P_a] = 101325\n",
    "rha = 1\n",
    "vdict[P_wa] = rha*eq_Pwl.rhs()(T_l = T_a).subs(vdict)\n",
    "vdict[L_l] = 0.03\n",
    "vdict[Re_c] = 3000\n",
    "vdict[R_s] = 600\n",
    "vdict[v_w] = 1\n",
    "\n",
    "#vdict = dict(vdict.items()+cdict.items())\n",
    "\n",
    "resdict = fun_SS(vdict)\n",
    "for name1 in [T_l, E_l, H_l, R_ll]:\n",
    "    print str(name1)+' = ' + str(resdict[name1])\n",
    "vdict[P_was] = eq_Pwl.rhs()(T_l = T_a).subs(vdict) \n",
    "vdict[Delta_eTa] = eq_Deltaeta_T.rhs().subs(vdict)\n",
    "vdict[k_a] = eq_ka.rhs().subs(vdict)\n",
    "vdict[nu_a] = eq_nua.rhs().subs(vdict)\n",
    "vdict[Re] = eq_Re.rhs().subs(vdict)\n",
    "vdict[Nu] = eq_Nu_forced_all.rhs().subs(vdict)\n",
    "vdict[h_c] = eq_hc.rhs().subs(vdict) \n",
    "\n",
    "vdict[P_N2] = eq_PN2.rhs().subs(vdict)\n",
    "vdict[P_O2] = eq_PO2.rhs().subs(vdict)\n",
    "vdict[alpha_a] = eq_alphaa.rhs().subs(vdict)\n",
    "vdict[k_a] = eq_ka.rhs().subs(vdict)\n",
    "vdict[D_va] = eq_Dva.rhs().subs(vdict)\n",
    "vdict[Le] = eq_Le.rhs().subs(vdict)\n",
    "vdict[rho_a] = eq_rhoa_Pwa_Ta.rhs().subs(vdict) \n",
    "vdict[g_bw] = eq_gbw_hc.rhs().subs(vdict)\n",
    "vdict[g_tw] = eq_gtw.rhs().subs(vdict)\n",
    "vdict[g_twmol] = eq_gtwmol_gtw_iso.rhs().subs(vdict)\n",
    "\n",
    "\n",
    "vdict[R_ll] = 0\n",
    "print 'Direct estimates: '\n",
    "print eq_El_Delta.subs(eq_ce_conv, eq_ch_hc).subs(vdict)\n",
    "print eq_Hl_Delta.subs(eq_ce_conv, eq_ch_hc).subs(vdict)\n",
    "print eq_Tl_Delta.subs(eq_ce_conv, eq_ch_hc).subs(vdict)\n",
    "\n",
    "print 'Using estimated T_l: '\n",
    "vdict[T_l] = eq_Tl_Delta.rhs().subs(eq_ce_conv, eq_ch_hc).subs(vdict)\n",
    "vdict[P_wl] = eq_Pwl.rhs().subs(vdict)\n",
    "vdict[g_twmol] = eq_gtwmol_gtw.rhs().subs(vdict)\n",
    "print eq_El.subs(eq_Elmol_conv).subs(vdict)\n",
    "print eq_Hl.subs(vdict)\n",
    "print eq_Rll.subs(vdict)\n",
    "\n",
    "print 'Using estimated T_l only to calculate R_ll: '\n",
    "vdict[R_ll] = eq_Rll.rhs().subs(vdict)\n",
    "print eq_El_Delta.subs(eq_ce_conv, eq_ch_hc).subs(vdict)\n",
    "print eq_Hl_Delta.subs(eq_ce_conv, eq_ch_hc).subs(vdict)\n",
    "print eq_Tl_Delta.subs(eq_ce_conv, eq_ch_hc).subs(vdict)\n",
    "\n",
    "print 'Using 1 iteration to get T_l: '\n",
    "vdict[R_ll] = 0\n",
    "vdict[T_l] = eq_Tl_Delta.rhs().subs(eq_ce_conv, eq_ch_hc).subs(vdict)\n",
    "print 'T_l(R_ll=0): ' + str(vdict[T_l])\n",
    "vdict[R_ll] = eq_Rll.rhs().subs(vdict)\n",
    "print 'R_ll(T_l) = ' + str(vdict[R_ll])\n",
    "vdict[T_l] = eq_Tl_Delta.rhs().subs(eq_ce_conv, eq_ch_hc).subs(vdict)\n",
    "vdict[P_wl] = eq_Pwl.rhs().subs(vdict)\n",
    "print 'T_l = ' + str(vdict[T_l])\n",
    "vdict[g_twmol] = eq_gtwmol_gtw.rhs().subs(vdict)\n",
    "print eq_El.subs(eq_Elmol_conv).subs(vdict)\n",
    "print eq_Hl.subs(vdict)"
   ]
  },
  {
   "cell_type": "code",
   "execution_count": 68,
   "metadata": {
    "collapsed": false
   },
   "outputs": [
    {
     "data": {
      "text/html": [
       "<html><script type=\"math/tex; mode=display\">\\newcommand{\\Bold}[1]{\\mathbf{#1}}T_{l} = \\frac{273 \\, M_{w} \\lambda_{E}}{M_{w} \\lambda_{E} + 273 \\, {R_{mol}} \\log\\left(\\frac{611 \\, {\\left({\\left({N_{Le}} {P_{wa}} - {N_{Le}} {P_{wl}}\\right)} {N_{Le}}^{\\frac{1}{3}} {R_{mol}} T_{a} T_{l} {a_{sh}} {c_{pa}}^{2} {g_{sw}}^{2} h_{c} \\rho_{a}^{2} + {\\left({P_{wa}} - {P_{wl}}\\right)} {R_{mol}} T_{a} T_{l} a_{s}^{2} {a_{sh}} h_{c}^{3} - {\\left({\\Delta_{eTa}} M_{w} {P_{wl}} T_{a} - {\\Delta_{eTa}} M_{w} {P_{wa}} T_{l}\\right)} a_{s}^{2} {g_{sw}} h_{c}^{2} \\lambda_{E} + {\\left(2 \\, {\\left({P_{wa}} - {P_{wl}}\\right)} {R_{mol}} T_{a} T_{l} a_{s} {a_{sh}} {c_{pa}} {g_{sw}} h_{c}^{2} - {\\left({\\Delta_{eTa}} M_{w} {P_{wl}} T_{a} - {\\Delta_{eTa}} M_{w} {P_{wa}} T_{l}\\right)} a_{s} {c_{pa}} {g_{sw}}^{2} h_{c} \\lambda_{E}\\right)} {N_{Le}}^{\\frac{2}{3}} \\rho_{a}\\right)}}{{\\left({P_{wa}} {P_{was}} - {P_{was}} {P_{wl}}\\right)} {R_{mol}} T_{a} T_{l} a_{s}^{2} {a_{sh}} h_{c}^{3} - {\\left({\\left({\\Delta_{eTa}} {P_{wa}} - {\\Delta_{eTa}} {P_{wl}}\\right)} {R_{ll}} {R_{mol}} - {\\left({\\Delta_{eTa}} {P_{wa}} - {\\Delta_{eTa}} {P_{wl}}\\right)} {R_{mol}} R_{s}\\right)} T_{a} T_{l} a_{s}^{2} h_{c}^{2} - {\\left({\\Delta_{eTa}} M_{w} {P_{wa}} {P_{wl}} T_{a} - {\\Delta_{eTa}} M_{w} {P_{wa}}^{2} T_{l}\\right)} a_{s}^{2} {g_{sw}} h_{c}^{2} \\lambda_{E} + {\\left({\\left({N_{Le}} {P_{wa}} {P_{was}} - {N_{Le}} {P_{was}} {P_{wl}}\\right)} {R_{mol}} T_{a} T_{l} {a_{sh}} {c_{pa}}^{2} {g_{sw}}^{2} h_{c} - {\\left({\\left({\\Delta_{eTa}} {N_{Le}} {P_{wa}} - {\\Delta_{eTa}} {N_{Le}} {P_{wl}}\\right)} {R_{ll}} {R_{mol}} - {\\left({\\Delta_{eTa}} {N_{Le}} {P_{wa}} - {\\Delta_{eTa}} {N_{Le}} {P_{wl}}\\right)} {R_{mol}} R_{s}\\right)} T_{a} T_{l} {c_{pa}}^{2} {g_{sw}}^{2}\\right)} {N_{Le}}^{\\frac{1}{3}} \\rho_{a}^{2} + {\\left(2 \\, {\\left({P_{wa}} {P_{was}} - {P_{was}} {P_{wl}}\\right)} {R_{mol}} T_{a} T_{l} a_{s} {a_{sh}} {c_{pa}} {g_{sw}} h_{c}^{2} - 2 \\, {\\left({\\left({\\Delta_{eTa}} {P_{wa}} - {\\Delta_{eTa}} {P_{wl}}\\right)} {R_{ll}} {R_{mol}} - {\\left({\\Delta_{eTa}} {P_{wa}} - {\\Delta_{eTa}} {P_{wl}}\\right)} {R_{mol}} R_{s}\\right)} T_{a} T_{l} a_{s} {c_{pa}} {g_{sw}} h_{c} - {\\left({\\Delta_{eTa}} M_{w} {P_{wa}} {P_{wl}} T_{a} - {\\Delta_{eTa}} M_{w} {P_{wa}}^{2} T_{l}\\right)} a_{s} {c_{pa}} {g_{sw}}^{2} h_{c} \\lambda_{E}\\right)} {N_{Le}}^{\\frac{2}{3}} \\rho_{a}}\\right)}</script></html>"
      ],
      "text/plain": [
       "T_l == 273*M_w*lambda_E/(M_w*lambda_E + 273*R_mol*log(611*((Le*P_wa - Le*P_wl)*Le^(1/3)*R_mol*T_a*T_l*a_sh*c_pa^2*g_sw^2*h_c*rho_a^2 + (P_wa - P_wl)*R_mol*T_a*T_l*a_s^2*a_sh*h_c^3 - (Delta_eTa*M_w*P_wl*T_a - Delta_eTa*M_w*P_wa*T_l)*a_s^2*g_sw*h_c^2*lambda_E + (2*(P_wa - P_wl)*R_mol*T_a*T_l*a_s*a_sh*c_pa*g_sw*h_c^2 - (Delta_eTa*M_w*P_wl*T_a - Delta_eTa*M_w*P_wa*T_l)*a_s*c_pa*g_sw^2*h_c*lambda_E)*Le^(2/3)*rho_a)/((P_wa*P_was - P_was*P_wl)*R_mol*T_a*T_l*a_s^2*a_sh*h_c^3 - ((Delta_eTa*P_wa - Delta_eTa*P_wl)*R_ll*R_mol - (Delta_eTa*P_wa - Delta_eTa*P_wl)*R_mol*R_s)*T_a*T_l*a_s^2*h_c^2 - (Delta_eTa*M_w*P_wa*P_wl*T_a - Delta_eTa*M_w*P_wa^2*T_l)*a_s^2*g_sw*h_c^2*lambda_E + ((Le*P_wa*P_was - Le*P_was*P_wl)*R_mol*T_a*T_l*a_sh*c_pa^2*g_sw^2*h_c - ((Delta_eTa*Le*P_wa - Delta_eTa*Le*P_wl)*R_ll*R_mol - (Delta_eTa*Le*P_wa - Delta_eTa*Le*P_wl)*R_mol*R_s)*T_a*T_l*c_pa^2*g_sw^2)*Le^(1/3)*rho_a^2 + (2*(P_wa*P_was - P_was*P_wl)*R_mol*T_a*T_l*a_s*a_sh*c_pa*g_sw*h_c^2 - 2*((Delta_eTa*P_wa - Delta_eTa*P_wl)*R_ll*R_mol - (Delta_eTa*P_wa - Delta_eTa*P_wl)*R_mol*R_s)*T_a*T_l*a_s*c_pa*g_sw*h_c - (Delta_eTa*M_w*P_wa*P_wl*T_a - Delta_eTa*M_w*P_wa^2*T_l)*a_s*c_pa*g_sw^2*h_c*lambda_E)*Le^(2/3)*rho_a)))"
      ]
     },
     "metadata": {},
     "output_type": "display_data"
    }
   ],
   "source": [
    "eq_Tl_Delta2.subs(eq_ce_conv, eq_ch_hc).subs(eq_gtwmol_gtw).subs(eq_gtw).subs(eq_gbw_hc).simplify_full().show()"
   ]
  },
  {
   "cell_type": "code",
   "execution_count": 69,
   "metadata": {
    "collapsed": false
   },
   "outputs": [
    {
     "data": {
      "text/html": [
       "<html><script type=\"math/tex; mode=display\">\\newcommand{\\Bold}[1]{\\mathbf{#1}}E_{l} = -\\frac{{\\left({\\left({\\left(M_{w} {P_{wa}} - M_{w} {P_{was}}\\right)} {P_{wl}} T_{a} - {\\left(M_{w} {P_{wa}}^{2} - M_{w} {P_{wa}} {P_{was}}\\right)} T_{l}\\right)} {a_{sh}} {g_{bw}} {g_{sw}} h_{c} + {\\left({\\left({\\Delta_{eTa}} M_{w} {P_{wl}} {R_{ll}} - {\\Delta_{eTa}} M_{w} {P_{wl}} R_{s}\\right)} T_{a} - {\\left({\\Delta_{eTa}} M_{w} {P_{wa}} {R_{ll}} - {\\Delta_{eTa}} M_{w} {P_{wa}} R_{s}\\right)} T_{l}\\right)} {g_{bw}} {g_{sw}}\\right)} \\lambda_{E}}{{\\left({\\Delta_{eTa}} M_{w} {P_{wl}} T_{a} - {\\Delta_{eTa}} M_{w} {P_{wa}} T_{l}\\right)} {g_{bw}} {g_{sw}} \\lambda_{E} - {\\left({\\left({P_{wa}} - {P_{wl}}\\right)} {R_{mol}} T_{a} T_{l} {a_{sh}} {g_{bw}} + {\\left({P_{wa}} - {P_{wl}}\\right)} {R_{mol}} T_{a} T_{l} {a_{sh}} {g_{sw}}\\right)} h_{c}}</script></html>"
      ],
      "text/plain": [
       "E_l == -(((M_w*P_wa - M_w*P_was)*P_wl*T_a - (M_w*P_wa^2 - M_w*P_wa*P_was)*T_l)*a_sh*g_bw*g_sw*h_c + ((Delta_eTa*M_w*P_wl*R_ll - Delta_eTa*M_w*P_wl*R_s)*T_a - (Delta_eTa*M_w*P_wa*R_ll - Delta_eTa*M_w*P_wa*R_s)*T_l)*g_bw*g_sw)*lambda_E/((Delta_eTa*M_w*P_wl*T_a - Delta_eTa*M_w*P_wa*T_l)*g_bw*g_sw*lambda_E - ((P_wa - P_wl)*R_mol*T_a*T_l*a_sh*g_bw + (P_wa - P_wl)*R_mol*T_a*T_l*a_sh*g_sw)*h_c)"
      ]
     },
     "metadata": {},
     "output_type": "display_data"
    }
   ],
   "source": [
    "eq_El_Delta.subs(eq_ce_conv, eq_ch_hc).subs(eq_gtwmol_gtw).subs(eq_gtw).simplify_full().show()"
   ]
  },
  {
   "cell_type": "code",
   "execution_count": 70,
   "metadata": {
    "collapsed": false
   },
   "outputs": [
    {
     "data": {
      "text/html": [
       "<html><script type=\"math/tex; mode=display\">\\newcommand{\\Bold}[1]{\\mathbf{#1}}E_{l} = -{\\left({P_{wa}} - {P_{wl}}\\right)} c_{E}</script></html>"
      ],
      "text/plain": [
       "E_l == -(P_wa - P_wl)*c_E"
      ]
     },
     "metadata": {},
     "output_type": "display_data"
    },
    {
     "data": {
      "text/html": [
       "<html><script type=\"math/tex; mode=display\">\\newcommand{\\Bold}[1]{\\mathbf{#1}}H_{l} = -{\\left(T_{a} - T_{l}\\right)} c_{H}</script></html>"
      ],
      "text/plain": [
       "H_l == -(T_a - T_l)*c_H"
      ]
     },
     "metadata": {},
     "output_type": "display_data"
    },
    {
     "data": {
      "text/html": [
       "<html><script type=\"math/tex; mode=display\">\\newcommand{\\Bold}[1]{\\mathbf{#1}}\\gamma_{v} = \\frac{c_{H}}{c_{E}}</script></html>"
      ],
      "text/plain": [
       "gamma_v == c_H/c_E"
      ]
     },
     "metadata": {},
     "output_type": "display_data"
    },
    {
     "data": {
      "text/html": [
       "<html><script type=\"math/tex; mode=display\">\\newcommand{\\Bold}[1]{\\mathbf{#1}}{\\Delta_{eTa}} = \\frac{{P_{was}} - {P_{wl}}}{T_{a} - T_{l}}</script></html>"
      ],
      "text/plain": [
       "Delta_eTa == (P_was - P_wl)/(T_a - T_l)"
      ]
     },
     "metadata": {},
     "output_type": "display_data"
    },
    {
     "data": {
      "text/html": [
       "<html><script type=\"math/tex; mode=display\">\\newcommand{\\Bold}[1]{\\mathbf{#1}}E_{l} = -\\frac{{P_{wa}} c_{H} - {P_{wl}} c_{H}}{\\gamma_{v}}</script></html>"
      ],
      "text/plain": [
       "E_l == -(P_wa*c_H - P_wl*c_H)/gamma_v"
      ]
     },
     "metadata": {},
     "output_type": "display_data"
    },
    {
     "name": "stdout",
     "output_type": "stream",
     "text": [
      "kilogram/second^3 == kilogram/second^3\n"
     ]
    },
    {
     "data": {
      "text/html": [
       "<html><script type=\"math/tex; mode=display\">\\newcommand{\\Bold}[1]{\\mathbf{#1}}E_{l} = -\\frac{{\\left({\\Delta_{eTa}} T_{a} - {\\Delta_{eTa}} T_{l} + {P_{wa}} - {P_{was}}\\right)} c_{H}}{\\gamma_{v}}</script></html>"
      ],
      "text/plain": [
       "E_l == -(Delta_eTa*T_a - Delta_eTa*T_l + P_wa - P_was)*c_H/gamma_v"
      ]
     },
     "metadata": {},
     "output_type": "display_data"
    },
    {
     "name": "stdout",
     "output_type": "stream",
     "text": [
      "kilogram/second^3 == kilogram/second^3\n"
     ]
    },
    {
     "data": {
      "text/html": [
       "<html><script type=\"math/tex; mode=display\">\\newcommand{\\Bold}[1]{\\mathbf{#1}}E_{l} = -\\frac{{\\left({P_{wa}} - {P_{was}}\\right)} c_{E} c_{H} + {\\left({\\Delta_{eTa}} {R_{ll}} - {\\Delta_{eTa}} R_{s}\\right)} c_{E}}{{\\Delta_{eTa}} c_{E} + c_{H}}</script></html>"
      ],
      "text/plain": [
       "E_l == -((P_wa - P_was)*c_E*c_H + (Delta_eTa*R_ll - Delta_eTa*R_s)*c_E)/(Delta_eTa*c_E + c_H)"
      ]
     },
     "metadata": {},
     "output_type": "display_data"
    },
    {
     "name": "stdout",
     "output_type": "stream",
     "text": [
      "kilogram/second^3 == kilogram/second^3\n",
      "E_{l} = -\\frac{{\\left({P_{wa}} - {P_{was}}\\right)} c_{E} c_{H} + {\\left({\\Delta_{eTa}} {R_{ll}} - {\\Delta_{eTa}} R_{s}\\right)} c_{E}}{{\\Delta_{eTa}} c_{E} + c_{H}}\n"
     ]
    },
    {
     "data": {
      "text/html": [
       "<html><script type=\"math/tex; mode=display\">\\newcommand{\\Bold}[1]{\\mathbf{#1}}H_{l} = \\frac{{\\left({\\left({P_{wa}} - {P_{was}}\\right)} c_{E} - {R_{ll}} + R_{s}\\right)} c_{H}}{{\\Delta_{eTa}} c_{E} + c_{H}}</script></html>"
      ],
      "text/plain": [
       "H_l == ((P_wa - P_was)*c_E - R_ll + R_s)*c_H/(Delta_eTa*c_E + c_H)"
      ]
     },
     "metadata": {},
     "output_type": "display_data"
    },
    {
     "name": "stdout",
     "output_type": "stream",
     "text": [
      "kilogram/second^3 == kilogram/second^3\n",
      "H_{l} = \\frac{{\\left({\\left({P_{wa}} - {P_{was}}\\right)} c_{E} - {R_{ll}} + R_{s}\\right)} c_{H}}{{\\Delta_{eTa}} c_{E} + c_{H}}\n"
     ]
    },
    {
     "data": {
      "text/html": [
       "<html><script type=\"math/tex; mode=display\">\\newcommand{\\Bold}[1]{\\mathbf{#1}}T_{l} = \\frac{{\\left({\\Delta_{eTa}} T_{a} + {P_{wa}} - {P_{was}}\\right)} c_{E} + T_{a} c_{H} - {R_{ll}} + R_{s}}{{\\Delta_{eTa}} c_{E} + c_{H}}</script></html>"
      ],
      "text/plain": [
       "T_l == ((Delta_eTa*T_a + P_wa - P_was)*c_E + T_a*c_H - R_ll + R_s)/(Delta_eTa*c_E + c_H)"
      ]
     },
     "metadata": {},
     "output_type": "display_data"
    },
    {
     "name": "stdout",
     "output_type": "stream",
     "text": [
      "kelvin == kelvin\n",
      "T_{l} = \\frac{{\\left({\\Delta_{eTa}} T_{a} + {P_{wa}} - {P_{was}}\\right)} c_{E} + T_{a} c_{H} - {R_{ll}} + R_{s}}{{\\Delta_{eTa}} c_{E} + c_{H}}\n"
     ]
    }
   ],
   "source": [
    "# Alternative approach, keeping T_l, but eliminateing P_wl\n",
    "eq_El_cE.show()\n",
    "eq_Hl_cH.show()\n",
    "eq_gammav_cE.show()\n",
    "eq_Penman_ass.show()\n",
    "\n",
    "# Eliminating c_E\n",
    "eq_El_gammav = solve([eq_El_cE, eq_gammav_cE], E_l, c_E)[0][0]\n",
    "print units_check(eq_El_gammav)\n",
    "\n",
    "# Eliminating P_wl\n",
    "eq_El_Tl = solve([eq_El_gammav, eq_Penman_ass], E_l, P_wl)[0][0]\n",
    "print units_check(eq_El_Tl)\n",
    "\n",
    "# Solving for E_l, H_l and T_l\n",
    "soln = solve([eq_El_Tl, eq_Hl_cH, eq_Rs_enbal], E_l, H_l, T_l)\n",
    "[eq_El_Delta_a, eq_Hl_Delta_a, eq_Tl_Delta_a] = [eq1.subs(eq_gammav_cE).simplify_full() for eq1 in flatten(soln)]\n",
    "for eq1 in [eq_El_Delta_a, eq_Hl_Delta_a, eq_Tl_Delta_a]:\n",
    "    print units_check(eq1)\n",
    "    print latex(eq1)"
   ]
  },
  {
   "cell_type": "code",
   "execution_count": 71,
   "metadata": {
    "collapsed": false
   },
   "outputs": [
    {
     "name": "stdout",
     "output_type": "stream",
     "text": [
      "0 == 0\n",
      "0 == 0\n",
      "0 == 0\n"
     ]
    }
   ],
   "source": [
    "# These solutions are identical to the previous ones\n",
    "print (eq_El_Delta - eq_El_Delta_a).simplify_full()\n",
    "print (eq_Hl_Delta - eq_Hl_Delta_a).simplify_full()\n",
    "print (eq_Tl_Delta_a - eq_Tl_Delta1).simplify_full()"
   ]
  },
  {
   "cell_type": "code",
   "execution_count": 72,
   "metadata": {
    "collapsed": false
   },
   "outputs": [
    {
     "name": "stdout",
     "output_type": "stream",
     "text": [
      "[\n",
      "[E_l == -(Delta_eTa*(R_ll - R_s)*c_E + (P_wa*c_E - P_was*c_E)*c_H)/(Delta_eTa*c_E + c_H), H_l == (P_wa*c_E - P_was*c_E - R_ll + R_s)*c_H/(Delta_eTa*c_E + c_H), P_wl == ((P_wa*c_E - R_ll + R_s)*Delta_eTa + P_was*c_H)/(Delta_eTa*c_E + c_H), T_l == (Delta_eTa*T_a*c_E + P_wa*c_E - P_was*c_E + T_a*c_H - R_ll + R_s)/(Delta_eTa*c_E + c_H)]\n",
      "]\n"
     ]
    },
    {
     "data": {
      "text/html": [
       "<html><script type=\"math/tex; mode=display\">\\newcommand{\\Bold}[1]{\\mathbf{#1}}E_{l} = -\\frac{{\\Delta_{eTa}} {\\left({R_{ll}} - R_{s}\\right)} c_{E} + {\\left({P_{wa}} c_{E} - {P_{was}} c_{E}\\right)} c_{H}}{{\\Delta_{eTa}} c_{E} + c_{H}}</script></html>"
      ],
      "text/plain": [
       "E_l == -(Delta_eTa*(R_ll - R_s)*c_E + (P_wa*c_E - P_was*c_E)*c_H)/(Delta_eTa*c_E + c_H)"
      ]
     },
     "metadata": {},
     "output_type": "display_data"
    },
    {
     "name": "stdout",
     "output_type": "stream",
     "text": [
      "kilogram/second^3 == kilogram/second^3\n",
      "E_{l} = -\\frac{{\\Delta_{eTa}} {\\left({R_{ll}} - R_{s}\\right)} c_{E} + {\\left({P_{wa}} c_{E} - {P_{was}} c_{E}\\right)} c_{H}}{{\\Delta_{eTa}} c_{E} + c_{H}}\n"
     ]
    },
    {
     "data": {
      "text/html": [
       "<html><script type=\"math/tex; mode=display\">\\newcommand{\\Bold}[1]{\\mathbf{#1}}H_{l} = \\frac{{\\left({P_{wa}} c_{E} - {P_{was}} c_{E} - {R_{ll}} + R_{s}\\right)} c_{H}}{{\\Delta_{eTa}} c_{E} + c_{H}}</script></html>"
      ],
      "text/plain": [
       "H_l == (P_wa*c_E - P_was*c_E - R_ll + R_s)*c_H/(Delta_eTa*c_E + c_H)"
      ]
     },
     "metadata": {},
     "output_type": "display_data"
    },
    {
     "name": "stdout",
     "output_type": "stream",
     "text": [
      "kilogram/second^3 == kilogram/second^3\n",
      "H_{l} = \\frac{{\\left({P_{wa}} c_{E} - {P_{was}} c_{E} - {R_{ll}} + R_{s}\\right)} c_{H}}{{\\Delta_{eTa}} c_{E} + c_{H}}\n"
     ]
    },
    {
     "data": {
      "text/html": [
       "<html><script type=\"math/tex; mode=display\">\\newcommand{\\Bold}[1]{\\mathbf{#1}}{P_{wl}} = \\frac{{\\left({P_{wa}} c_{E} - {R_{ll}} + R_{s}\\right)} {\\Delta_{eTa}} + {P_{was}} c_{H}}{{\\Delta_{eTa}} c_{E} + c_{H}}</script></html>"
      ],
      "text/plain": [
       "P_wl == ((P_wa*c_E - R_ll + R_s)*Delta_eTa + P_was*c_H)/(Delta_eTa*c_E + c_H)"
      ]
     },
     "metadata": {},
     "output_type": "display_data"
    },
    {
     "name": "stdout",
     "output_type": "stream",
     "text": [
      "kilogram/(meter*second^2) == kilogram/(meter*second^2)\n",
      "{P_{wl}} = \\frac{{\\left({P_{wa}} c_{E} - {R_{ll}} + R_{s}\\right)} {\\Delta_{eTa}} + {P_{was}} c_{H}}{{\\Delta_{eTa}} c_{E} + c_{H}}\n"
     ]
    },
    {
     "data": {
      "text/html": [
       "<html><script type=\"math/tex; mode=display\">\\newcommand{\\Bold}[1]{\\mathbf{#1}}T_{l} = \\frac{{\\Delta_{eTa}} T_{a} c_{E} + {P_{wa}} c_{E} - {P_{was}} c_{E} + T_{a} c_{H} - {R_{ll}} + R_{s}}{{\\Delta_{eTa}} c_{E} + c_{H}}</script></html>"
      ],
      "text/plain": [
       "T_l == (Delta_eTa*T_a*c_E + P_wa*c_E - P_was*c_E + T_a*c_H - R_ll + R_s)/(Delta_eTa*c_E + c_H)"
      ]
     },
     "metadata": {},
     "output_type": "display_data"
    },
    {
     "name": "stdout",
     "output_type": "stream",
     "text": [
      "kelvin == kelvin\n",
      "T_{l} = \\frac{{\\Delta_{eTa}} T_{a} c_{E} + {P_{wa}} c_{E} - {P_{was}} c_{E} + T_{a} c_{H} - {R_{ll}} + R_{s}}{{\\Delta_{eTa}} c_{E} + c_{H}}\n",
      "0 == 0\n",
      "0 == 0\n",
      "0 == 0\n"
     ]
    }
   ],
   "source": [
    "# More direct approach, not using gamma_v at all\n",
    "soln = solve([eq_Hl_cH, eq_Penman_ass, eq_El_cE, eq_Rs_enbal], E_l, H_l, P_wl, T_l)\n",
    "print soln\n",
    "[eq_El_Delta_b, eq_Hl_Delta_b, eq_Pwl_Delta_b, eq_Tl_Delta_b] = [eq1 for eq1 in flatten(soln)]\n",
    "for eq1 in [eq_El_Delta_b, eq_Hl_Delta_b, eq_Pwl_Delta_b, eq_Tl_Delta_b]:\n",
    "    print units_check(eq1)\n",
    "    print latex(eq1)\n",
    "print (eq_El_Delta - eq_El_Delta_b).simplify_full()\n",
    "print (eq_Hl_Delta - eq_Hl_Delta_b).simplify_full()\n",
    "print (eq_Tl_Delta_a - eq_Tl_Delta_b).simplify_full()"
   ]
  },
  {
   "cell_type": "code",
   "execution_count": 73,
   "metadata": {
    "collapsed": false
   },
   "outputs": [
    {
     "name": "stdout",
     "output_type": "stream",
     "text": [
      "[\n",
      "[E_l == -(Delta_eTa*(R_ll - R_s)*c_E + (P_wa*c_E - P_was*c_E)*c_H)/(Delta_eTa*c_E + c_H), H_l == (P_wa*c_E - P_was*c_E - R_ll + R_s)*c_H/(Delta_eTa*c_E + c_H), P_wl == ((P_wa*c_E - R_ll + R_s)*Delta_eTa + P_was*c_H)/(Delta_eTa*c_E + c_H), T_l == (Delta_eTa*T_a*c_E + P_wa*c_E - P_was*c_E + T_a*c_H - R_ll + R_s)/(Delta_eTa*c_E + c_H)]\n",
      "]\n"
     ]
    },
    {
     "data": {
      "text/html": [
       "<html><script type=\"math/tex; mode=display\">\\newcommand{\\Bold}[1]{\\mathbf{#1}}E_{l} = -\\frac{{\\Delta_{eTa}} {\\left({R_{ll}} - R_{s}\\right)} c_{E} + {\\left({P_{wa}} c_{E} - {P_{was}} c_{E}\\right)} c_{H}}{{\\Delta_{eTa}} c_{E} + c_{H}}</script></html>"
      ],
      "text/plain": [
       "E_l == -(Delta_eTa*(R_ll - R_s)*c_E + (P_wa*c_E - P_was*c_E)*c_H)/(Delta_eTa*c_E + c_H)"
      ]
     },
     "metadata": {},
     "output_type": "display_data"
    },
    {
     "data": {
      "text/html": [
       "<html><script type=\"math/tex; mode=display\">\\newcommand{\\Bold}[1]{\\mathbf{#1}}H_{l} = \\frac{{\\left({P_{wa}} c_{E} - {P_{was}} c_{E} - {R_{ll}} + R_{s}\\right)} c_{H}}{{\\Delta_{eTa}} c_{E} + c_{H}}</script></html>"
      ],
      "text/plain": [
       "H_l == (P_wa*c_E - P_was*c_E - R_ll + R_s)*c_H/(Delta_eTa*c_E + c_H)"
      ]
     },
     "metadata": {},
     "output_type": "display_data"
    },
    {
     "data": {
      "text/html": [
       "<html><script type=\"math/tex; mode=display\">\\newcommand{\\Bold}[1]{\\mathbf{#1}}{P_{wl}} = \\frac{{\\left({P_{wa}} c_{E} - {R_{ll}} + R_{s}\\right)} {\\Delta_{eTa}} + {P_{was}} c_{H}}{{\\Delta_{eTa}} c_{E} + c_{H}}</script></html>"
      ],
      "text/plain": [
       "P_wl == ((P_wa*c_E - R_ll + R_s)*Delta_eTa + P_was*c_H)/(Delta_eTa*c_E + c_H)"
      ]
     },
     "metadata": {},
     "output_type": "display_data"
    },
    {
     "data": {
      "text/html": [
       "<html><script type=\"math/tex; mode=display\">\\newcommand{\\Bold}[1]{\\mathbf{#1}}T_{l} = \\frac{{\\Delta_{eTa}} T_{a} c_{E} + {P_{wa}} c_{E} - {P_{was}} c_{E} + T_{a} c_{H} - {R_{ll}} + R_{s}}{{\\Delta_{eTa}} c_{E} + c_{H}}</script></html>"
      ],
      "text/plain": [
       "T_l == (Delta_eTa*T_a*c_E + P_wa*c_E - P_was*c_E + T_a*c_H - R_ll + R_s)/(Delta_eTa*c_E + c_H)"
      ]
     },
     "metadata": {},
     "output_type": "display_data"
    }
   ],
   "source": [
    "soln = solve([eq_Hl_cH, eq_Penman_ass, eq_El_cE, eq_Rs_enbal], E_l, H_l, P_wl, T_l)\n",
    "print soln\n",
    "for eq1 in soln[0]:\n",
    "    eq1.show()"
   ]
  },
  {
   "cell_type": "code",
   "execution_count": 74,
   "metadata": {
    "collapsed": false
   },
   "outputs": [
    {
     "data": {
      "text/html": [
       "<html><script type=\"math/tex; mode=display\">\\newcommand{\\Bold}[1]{\\mathbf{#1}}E_{l} = -\\frac{{\\Delta_{eTa}} {R_{ll}} - {\\Delta_{eTa}} R_{s} + \\frac{{\\left({P_{wa}} - {P_{was}}\\right)} {c_{pa}} \\rho_{a}}{r_{a}}}{\\gamma_{v} {\\left(\\frac{r_{s}}{r_{a}} + 1\\right)} + {\\Delta_{eTa}}}</script></html>"
      ],
      "text/plain": [
       "E_l == -(Delta_eTa*R_ll - Delta_eTa*R_s + (P_wa - P_was)*c_pa*rho_a/r_a)/(gamma_v*(r_s/r_a + 1) + Delta_eTa)"
      ]
     },
     "metadata": {},
     "output_type": "display_data"
    },
    {
     "data": {
      "text/html": [
       "<html><script type=\"math/tex; mode=display\">\\newcommand{\\Bold}[1]{\\mathbf{#1}}r_{a} = \\frac{{c_{pa}} \\rho_{a}}{h_{c}}</script></html>"
      ],
      "text/plain": [
       "r_a == c_pa*rho_a/h_c"
      ]
     },
     "metadata": {},
     "output_type": "display_data"
    },
    {
     "data": {
      "text/html": [
       "<html><script type=\"math/tex; mode=display\">\\newcommand{\\Bold}[1]{\\mathbf{#1}}\\gamma_{v} = \\frac{P_{a} {c_{pa}}}{\\epsilon \\lambda_{E}}</script></html>"
      ],
      "text/plain": [
       "gamma_v == P_a*c_pa/(epsilon*lambda_E)"
      ]
     },
     "metadata": {},
     "output_type": "display_data"
    },
    {
     "data": {
      "text/html": [
       "<html><script type=\"math/tex; mode=display\">\\newcommand{\\Bold}[1]{\\mathbf{#1}}\\epsilon = \\frac{M_{w} P_{a}}{{R_{mol}} T_{a} \\rho_{a}}</script></html>"
      ],
      "text/plain": [
       "epsilon == M_w*P_a/(R_mol*T_a*rho_a)"
      ]
     },
     "metadata": {},
     "output_type": "display_data"
    }
   ],
   "source": [
    "eq_El_PM2.show()\n",
    "eq_ra_hc.show()\n",
    "eq_gammav_MU.show()\n",
    "eq_epsilon.show()"
   ]
  },
  {
   "cell_type": "code",
   "execution_count": 75,
   "metadata": {
    "collapsed": false
   },
   "outputs": [
    {
     "data": {
      "text/html": [
       "<html><script type=\"math/tex; mode=display\">\\newcommand{\\Bold}[1]{\\mathbf{#1}}E_{l} = -\\frac{{\\left({P_{wa}} - {P_{wl}}\\right)} a_{s} \\epsilon \\lambda_{E} \\rho_{a}}{P_{a} {\\left(r_{s} + {r_{v}}\\right)}}</script></html>"
      ],
      "text/plain": [
       "E_l == -(P_wa - P_wl)*a_s*epsilon*lambda_E*rho_a/(P_a*(r_s + r_v))"
      ]
     },
     "metadata": {},
     "output_type": "display_data"
    },
    {
     "data": {
      "text/html": [
       "<html><script type=\"math/tex; mode=display\">\\newcommand{\\Bold}[1]{\\mathbf{#1}}E_{l} = -\\frac{{\\Delta_{eTa}} {R_{ll}} - {\\Delta_{eTa}} R_{s} + \\frac{{\\left({P_{wa}} - {P_{was}}\\right)} {c_{pa}} \\rho_{a}}{r_{a}}}{\\gamma_{v} n_{\\mathit{MU}} {\\left(\\frac{r_{s}}{r_{a}} + 1\\right)} + {\\Delta_{eTa}}}</script></html>"
      ],
      "text/plain": [
       "E_l == -(Delta_eTa*R_ll - Delta_eTa*R_s + (P_wa - P_was)*c_pa*rho_a/r_a)/(gamma_v*n_MU*(r_s/r_a + 1) + Delta_eTa)"
      ]
     },
     "metadata": {},
     "output_type": "display_data"
    }
   ],
   "source": [
    "eq_El_MU.show()\n",
    "eq_El_MU2.show()"
   ]
  },
  {
   "cell_type": "code",
   "execution_count": 76,
   "metadata": {
    "collapsed": false
   },
   "outputs": [
    {
     "data": {
      "text/plain": [
       "(Delta_eTa, H_l, P_wa, P_was, R_ll, R_s, S, f_u, gamma_v)"
      ]
     },
     "execution_count": 76,
     "metadata": {},
     "output_type": "execute_result"
    }
   ],
   "source": [
    "eq_Hl_P52.args()"
   ]
  },
  {
   "cell_type": "code",
   "execution_count": 77,
   "metadata": {
    "collapsed": false
   },
   "outputs": [
    {
     "data": {
      "text/plain": [
       "(Delta_eTa, P_wa, P_was, R_ll, R_s, S, T_a, T_l, f_u, gamma_v)"
      ]
     },
     "execution_count": 77,
     "metadata": {},
     "output_type": "execute_result"
    }
   ],
   "source": [
    "eq_Tl_P52.args()"
   ]
  },
  {
   "cell_type": "code",
   "execution_count": 78,
   "metadata": {
    "collapsed": false
   },
   "outputs": [
    {
     "name": "stdout",
     "output_type": "stream",
     "text": [
      "T_l = 308.321395271\n",
      "E_l = 180.542235053941\n",
      "H_l = 150.521099595469\n",
      "R_ll = 68.9366653505872\n",
      "g_bw = 0.0131620455576424\n",
      "g_tw = 0.00291849206962754\n",
      "Direct estimates: \n",
      "E_l = 198.222104889662\n",
      "H_l = 201.777895110338\n",
      "T_l == 310.133484539870\n",
      "T_l == 310.133484539870\n",
      "T_l == 309.093414355984\n",
      "400 == 400.000000000000\n",
      "Using T_l from eq_Tl_Delta: \n",
      "T_l = 310.133484539870\n",
      "P_wl = 6256.38161942356\n",
      "E_l = 216.096641092878\n",
      "H_l = 201.777895110336\n",
      "R_ll = 93.2413750164800\n",
      "400 == 511.115911219694\n",
      "Using T_l from eq_Tl_Delta only to calculate R_ll: \n",
      "T_l = 310.133484539870\n",
      "R_ll = 93.2413750164800\n",
      "E_l = 169.892070077829\n",
      "H_l = 136.866554905691\n",
      "400 == 400.000000000000\n",
      "Using T_l from eq_Tl_Delta2: \n",
      "T_l = 309.093414355984\n",
      "P_wl = 5906.50495424572\n",
      "E_l = 198.222104889661\n",
      "H_l = 172.358447812369\n",
      "R_ll = 79.2391719599513\n",
      "400 == 449.819724661981\n",
      "Using T_l from eq_Tl_Delta2 only to calculate R_ll: \n",
      "T_l = 309.093414355984\n",
      "R_ll = 79.2391719599513\n",
      "E_l = 174.146435695707\n",
      "H_l = 146.614392344341\n",
      "400 == 400.000000000000\n"
     ]
    }
   ],
   "source": [
    "# Fig. 8 in Ball et al. 1988\n",
    "vdict = cdict.copy()\n",
    "vdict[a_s] = 1\n",
    "vdict[L_l] = 0.07\n",
    "vdict[P_a] = 101325\n",
    "vdict[P_wa] = 20/1000*101325\n",
    "vdict[R_s] = 400\n",
    "vdict[Re_c] = 3000\n",
    "vdict[T_a] = 273+30\n",
    "vdict[T_w] = vdict[T_a]\n",
    "vdict[g_sw] = 0.15/40\n",
    "#vdict[g_sv] = 1e-6\n",
    "\n",
    "vdict[v_w] = 1.\n",
    "resdict = fun_SS(vdict)\n",
    "for name1 in [T_l, E_l, H_l, R_ll, g_bw, g_tw]:\n",
    "    print str(name1)+' = ' + str(resdict[name1])\n",
    "\n",
    "vdict[P_was] = eq_Pwl.rhs()(T_l = T_a).subs(vdict) \n",
    "vdict[Delta_eTa] = eq_Deltaeta_T.rhs().subs(vdict)\n",
    "vdict[k_a] = eq_ka.rhs().subs(vdict)\n",
    "vdict[nu_a] = eq_nua.rhs().subs(vdict)\n",
    "vdict[Re] = eq_Re.rhs().subs(vdict)\n",
    "vdict[Nu] = eq_Nu_forced_all.rhs().subs(vdict)\n",
    "vdict[h_c] = eq_hc.rhs().subs(vdict) \n",
    "\n",
    "vdict[P_N2] = eq_PN2.rhs().subs(vdict)\n",
    "vdict[P_O2] = eq_PO2.rhs().subs(vdict)\n",
    "vdict[alpha_a] = eq_alphaa.rhs().subs(vdict)\n",
    "vdict[k_a] = eq_ka.rhs().subs(vdict)\n",
    "vdict[D_va] = eq_Dva.rhs().subs(vdict)\n",
    "vdict[Le] = eq_Le.rhs().subs(vdict)\n",
    "vdict[rho_a] = eq_rhoa_Pwa_Ta.rhs().subs(vdict) \n",
    "vdict[g_bw] = eq_gbw_hc.rhs().subs(vdict)\n",
    "vdict[g_tw] = eq_gtw.rhs().subs(vdict)\n",
    "vdict[g_twmol] = eq_gtwmol_gtw_iso.rhs().subs(vdict)\n",
    "\n",
    "vdict[R_ll] = 0\n",
    "print 'Direct estimates: '\n",
    "namesdict = [E_l, H_l]\n",
    "vdict[E_l] = eq_El_Delta.rhs().subs(eq_ce_conv, eq_ch_hc).subs(vdict)\n",
    "vdict[H_l] = eq_Hl_Delta.rhs().subs(eq_ce_conv, eq_ch_hc).subs(vdict)\n",
    "for name1 in namesdict:\n",
    "    print str(name1)+' = ' + str(vdict[name1])\n",
    "    \n",
    "print eq_Tl_Delta.subs(eq_ce_conv, eq_ch_hc).subs(vdict)\n",
    "print eq_Tl_Delta1.subs(eq_ce_conv, eq_ch_hc).subs(vdict)\n",
    "print eq_Tl_Delta2.subs(eq_ce_conv, eq_ch_hc).subs(vdict)\n",
    "print eq_Rs_enbal.subs(vdict)\n",
    "\n",
    "\n",
    "print 'Using T_l from eq_Tl_Delta: '\n",
    "namesdict = [T_l, P_wl, E_l, H_l, R_ll]\n",
    "vdict[T_l] = eq_Tl_Delta.rhs().subs(eq_ce_conv, eq_ch_hc).subs(vdict)\n",
    "vdict[P_wl] = eq_Pwl.rhs().subs(vdict)\n",
    "vdict[E_l] = eq_El.rhs().subs(eq_Elmol_conv).subs(vdict)\n",
    "vdict[H_l] = eq_Hl.rhs().subs(vdict)\n",
    "vdict[R_ll] = eq_Rll.rhs().subs(vdict)\n",
    "for name1 in namesdict:\n",
    "    print str(name1)+' = ' + str(vdict[name1])\n",
    "print eq_Rs_enbal.subs(vdict)\n",
    "\n",
    "\n",
    "print 'Using T_l from eq_Tl_Delta only to calculate R_ll: '\n",
    "namesdict = [T_l, R_ll, E_l, H_l]\n",
    "vdict[R_ll] = 0\n",
    "vdict[T_l] = eq_Tl_Delta.rhs().subs(eq_ce_conv, eq_ch_hc).subs(vdict)\n",
    "vdict[R_ll] = eq_Rll.rhs().subs(vdict)\n",
    "vdict[E_l] = eq_El_Delta.rhs().subs(eq_ce_conv, eq_ch_hc).subs(vdict)\n",
    "vdict[H_l] = eq_Hl_Delta.rhs().subs(eq_ce_conv, eq_ch_hc).subs(vdict)\n",
    "\n",
    "for name1 in namesdict:\n",
    "    print str(name1)+' = ' + str(vdict[name1])\n",
    "print eq_Rs_enbal.subs(vdict)\n",
    "\n",
    "\n",
    "\n",
    "print 'Using T_l from eq_Tl_Delta2: '\n",
    "namesdict = [T_l, P_wl, E_l, H_l, R_ll]\n",
    "vdict[R_ll] = 0\n",
    "vdict[T_l] = eq_Tl_Delta2.rhs().subs(eq_ce_conv, eq_ch_hc).subs(vdict)\n",
    "vdict[P_wl] = eq_Pwl.rhs().subs(vdict)\n",
    "vdict[E_l] = eq_El.rhs().subs(eq_Elmol_conv).subs(vdict)\n",
    "vdict[H_l] = eq_Hl.rhs().subs(vdict)\n",
    "vdict[R_ll] = eq_Rll.rhs().subs(vdict)\n",
    "for name1 in namesdict:\n",
    "    print str(name1)+' = ' + str(vdict[name1])\n",
    "print eq_Rs_enbal.subs(vdict)\n",
    "\n",
    "print 'Using T_l from eq_Tl_Delta2 only to calculate R_ll: '\n",
    "namesdict = [T_l, R_ll, E_l, H_l]\n",
    "vdict[R_ll] = 0\n",
    "vdict[T_l] = eq_Tl_Delta2.rhs().subs(eq_ce_conv, eq_ch_hc).subs(vdict)\n",
    "vdict[R_ll] = eq_Rll.rhs().subs(vdict)\n",
    "vdict[E_l] = eq_El_Delta.rhs().subs(eq_ce_conv, eq_ch_hc).subs(vdict)\n",
    "vdict[H_l] = eq_Hl_Delta.rhs().subs(eq_ce_conv, eq_ch_hc).subs(vdict)\n",
    "\n",
    "for name1 in namesdict:\n",
    "    print str(name1)+' = ' + str(vdict[name1])\n",
    "print eq_Rs_enbal.subs(vdict)"
   ]
  },
  {
   "cell_type": "markdown",
   "metadata": {},
   "source": [
    "<p><span style=\"color: #ff0000;\">Why does eq_Tl_Delta2 give a different result than eq_Tl_Delta? eq_Tl_Delta gives the appropriate $T_l$ to reproduce $H_l$ estimated using eq_Hl_Delta, whereas eq_Tl_Delta2 gives the <span style=\"color: #ff0000;\">appropriate $T_l$ to reproduce $E_l$ estimated using eq_El_Delta. Neither allows for energy balance closure, unless only used to compute $R_{ll}$, before using eq_El_Delta and eq_Hl_Delta to compute the other components.</span><br /></span></p>"
   ]
  },
  {
   "cell_type": "code",
   "execution_count": 79,
   "metadata": {
    "collapsed": false
   },
   "outputs": [
    {
     "data": {
      "text/plain": [
       "174.146435695707 == 198.222104889662"
      ]
     },
     "execution_count": 79,
     "metadata": {},
     "output_type": "execute_result"
    }
   ],
   "source": [
    "vdict[R_ll] = 0\n",
    "eq_El_P52.subs(eq_S_gbw_gsw, eq_fu_gbw, eq_gammav_as).subs(vdict)"
   ]
  },
  {
   "cell_type": "code",
   "execution_count": 80,
   "metadata": {
    "collapsed": false
   },
   "outputs": [
    {
     "name": "stdout",
     "output_type": "stream",
     "text": [
      "T_l = 305.650648423\n",
      "E_l = 185.424519010311\n",
      "H_l = 325.157459266011\n",
      "R_ll = 89.4180217236781\n",
      "Direct estimates: \n",
      "E_l == 201.520517691209\n",
      "H_l == 398.479482308791\n",
      "T_l == 307.263098002106\n",
      "Using estimated T_l: \n",
      "E_l == 254.937149826831\n",
      "H_l == 398.479482308788\n",
      "0 == 110.468903558397\n",
      "Using estimated T_l only to calculate R_ll: \n",
      "E_l == 164.417599968095\n",
      "H_l == 325.113496473508\n",
      "307.263098002106 == 305.649681621994\n",
      "Using 1 iteration to get T_l: \n",
      "T_l(R_ll=0): 307.263098002106\n",
      "R_ll(T_l) = 110.468903558397\n",
      "T_l = 305.649681621994\n",
      "E_l == 199.088662380168\n",
      "H_l == 325.113496473505\n"
     ]
    }
   ],
   "source": [
    "# Test\n",
    "vdict = cdict.copy()\n",
    "#vdict= {}\n",
    "vdict[a_s] = 1.0    # one sided stomata\n",
    "vdict[g_sw] = 0.01    \n",
    "vdict[T_a] = 273 + 25.5\n",
    "vdict[T_w] = vdict[T_a] # Wall temperature equal to air temperature\n",
    "vdict[P_a] = 101325\n",
    "rha = 1\n",
    "vdict[P_wa] = rha*eq_Pwl.rhs()(T_l = T_a).subs(vdict)\n",
    "vdict[L_l] = 0.03\n",
    "vdict[Re_c] = 3000\n",
    "vdict[R_s] = 600\n",
    "vdict[v_w] = 1\n",
    "\n",
    "resdict = fun_SS(vdict)\n",
    "for name1 in [T_l, E_l, H_l, R_ll]:\n",
    "    print str(name1)+' = ' + str(resdict[name1])\n",
    "vdict[P_was] = eq_Pwl.rhs()(T_l = T_a).subs(vdict) \n",
    "vdict[Delta_eTa] = eq_Deltaeta_T.rhs().subs(vdict)\n",
    "vdict[k_a] = eq_ka.rhs().subs(vdict)\n",
    "vdict[nu_a] = eq_nua.rhs().subs(vdict)\n",
    "vdict[Re] = eq_Re.rhs().subs(vdict)\n",
    "vdict[Nu] = eq_Nu_forced_all.rhs().subs(vdict)\n",
    "vdict[h_c] = eq_hc.rhs().subs(vdict) \n",
    "\n",
    "vdict[P_N2] = eq_PN2.rhs().subs(vdict)\n",
    "vdict[P_O2] = eq_PO2.rhs().subs(vdict)\n",
    "vdict[alpha_a] = eq_alphaa.rhs().subs(vdict)\n",
    "vdict[k_a] = eq_ka.rhs().subs(vdict)\n",
    "vdict[D_va] = eq_Dva.rhs().subs(vdict)\n",
    "vdict[Le] = eq_Le.rhs().subs(vdict)\n",
    "vdict[rho_a] = eq_rhoa_Pwa_Ta.rhs().subs(vdict) \n",
    "vdict[g_bw] = eq_gbw_hc.rhs().subs(vdict)\n",
    "vdict[g_tw] = eq_gtw.rhs().subs(vdict)\n",
    "vdict[g_twmol] = eq_gtwmol_gtw_iso.rhs().subs(vdict)\n",
    "\n",
    "vdict[R_ll] = 0\n",
    "print 'Direct estimates: '\n",
    "print eq_El_Delta.subs(eq_ce_conv, eq_ch_hc).subs(vdict)\n",
    "print eq_Hl_Delta.subs(eq_ce_conv, eq_ch_hc).subs(vdict)\n",
    "print eq_Tl_Delta.subs(eq_ce_conv, eq_ch_hc).subs(vdict)\n",
    "\n",
    "print 'Using estimated T_l: '\n",
    "vdict[T_l] = eq_Tl_Delta.rhs().subs(eq_ce_conv, eq_ch_hc).subs(vdict)\n",
    "vdict[P_wl] = eq_Pwl.rhs().subs(vdict)\n",
    "print eq_El.subs(eq_Elmol_conv).subs(vdict)\n",
    "print eq_Hl.subs(vdict)\n",
    "print eq_Rll.subs(vdict)\n",
    "\n",
    "print 'Using estimated T_l only to calculate R_ll: '\n",
    "vdict[R_ll] = eq_Rll.rhs().subs(vdict)\n",
    "print eq_El_Delta.subs(eq_ce_conv, eq_ch_hc).subs(vdict)\n",
    "print eq_Hl_Delta.subs(eq_ce_conv, eq_ch_hc).subs(vdict)\n",
    "print eq_Tl_Delta.subs(eq_ce_conv, eq_ch_hc).subs(vdict)\n",
    "\n",
    "print 'Using 1 iteration to get T_l: '\n",
    "vdict[R_ll] = 0\n",
    "vdict[T_l] = eq_Tl_Delta.rhs().subs(eq_ce_conv, eq_ch_hc).subs(vdict)\n",
    "print 'T_l(R_ll=0): ' + str(vdict[T_l])\n",
    "vdict[R_ll] = eq_Rll.rhs().subs(vdict)\n",
    "print 'R_ll(T_l) = ' + str(vdict[R_ll])\n",
    "vdict[T_l] = eq_Tl_Delta.rhs().subs(eq_ce_conv, eq_ch_hc).subs(vdict)\n",
    "vdict[P_wl] = eq_Pwl.rhs().subs(vdict)\n",
    "print 'T_l = ' + str(vdict[T_l])\n",
    "print eq_El.subs(eq_Elmol_conv).subs(vdict)\n",
    "print eq_Hl.subs(vdict)"
   ]
  },
  {
   "cell_type": "markdown",
   "metadata": {
    "collapsed": false
   },
   "source": [
    "## Inconsistencies in the PM equations\n",
    "From the general form (Eq. {eq_El_Delta}), we can recover most of the above analytical solutions by appropriate substitutions for $c_E$ and $c_H$, but closer inspection of the necessary substitutions reveals some inconsistencies.\n",
    "\n",
    "The Penman equation for a wet surface (Eq. {eq_Ew_P}) can be recovered by substituting $c_E = f_u$ and $c_H = \\gamma_v f_u$ into (Eq. {eq_El_Delta}), while additional substitution of Eq. {eq_fu_ra_M} leads to recovery of Eq. {eq_Ew_PM1}, the Penman equation, as reformulated by \\citet{monteith_evaporation_1965}. The formulation for leaf transpiration derived by \\citet{penman_physical_1952} (Eq. {eq_El_P52}) is obtained by substituting $c_E = S f_u$ (deduced from Eq. {eq_El_fu_S}) and $c_E = \\gamma_v f_u$ (from Eq. {eq_Hl_Tl_P52}). The substitutions are consistent with the formulations of latent and sensible heat flux given in Eqs. {eq_Hl_Tl_P52} and {eq_Ew_fu} or {eq_El_fu_S}, as long as $f_u$ and $r_a$ refer to the \\emph{total resistances} of a leaf to latent and sensible heat flux respectively, as Eq. {eq_fu_ra_M} in conjunction with $c_H = \\gamma_v f_u$ implies that:\n",
    "##### {eq_cH_ra}\n",
    "\\begin{equation}\n",
    "c_H = (\\rho_a c_{pa})/r_a\n",
    "\\end{equation}\n",
    "\n",
    "\n",
    "Similarly, the Penman-Monteith equation (Eq. {eq_El_PM2} with $\\gamma_v$ defined in Eq. {eq_gammav_MU}) could be recovered by substituting $c_E = \\epsilon \\lambda_E \\rho_a/(P_a(r_s + r_v))$ and $c_H = c_{pa} \\rho_a/r_a$, with subsequent substitution of $r_v = r_a$.  Note however, that these substitutions are not consistent with Eqs. {eq_El_MU} and {eq_Hl_MU}, as the factors $a_s$ and $a_{sh}$ (referring to the number of leaf faces exchanging latent and sensible heat flux respectively) are missing. This is because the PM equation was derived with a soil surface in mind, which exchanges latent and sensible heat only on one side, and hence is not appropriate for a leaf. To alleviate this constraint, one could define $r_a$ and $r_s$ as total (two-sided) leaf resistances, but in this case, the simplification $r_v \\approx r_a$ is not valid for hypostomatous leaves, as $r_a$ would then be only half of $r_v$. This is illustrated in Fig. {fig:leaf_BL-fluxes}, where sensible heat flux is released from both sides of the leaf, while latent heat flux is only released from the abaxial side, implying that $a_{sh}=2$ and $a_s=1$."
   ]
  },
  {
   "cell_type": "code",
   "execution_count": 81,
   "metadata": {
    "collapsed": false
   },
   "outputs": [
    {
     "data": {
      "text/html": [
       "<html><script type=\"math/tex; mode=display\">\\newcommand{\\Bold}[1]{\\mathbf{#1}}E_{l} = -\\frac{{\\left({P_{wa}} - {P_{was}}\\right)} f_{u} \\gamma_{v} + {\\Delta_{eTa}} {R_{ll}} - {\\Delta_{eTa}} R_{s}}{{\\Delta_{eTa}} + \\gamma_{v}}</script></html>"
      ],
      "text/plain": [
       "E_l == -((P_wa - P_was)*f_u*gamma_v + Delta_eTa*R_ll - Delta_eTa*R_s)/(Delta_eTa + gamma_v)"
      ]
     },
     "metadata": {},
     "output_type": "display_data"
    },
    {
     "data": {
      "text/html": [
       "<html><script type=\"math/tex; mode=display\">\\newcommand{\\Bold}[1]{\\mathbf{#1}}E_{w} = -\\frac{{\\left({P_{wa}} - {P_{was}}\\right)} f_{u} \\gamma_{v} + {\\Delta_{eTa}} {R_{ll}} - {\\Delta_{eTa}} R_{s}}{{\\Delta_{eTa}} + \\gamma_{v}}</script></html>"
      ],
      "text/plain": [
       "E_w == -((P_wa - P_was)*f_u*gamma_v + Delta_eTa*R_ll - Delta_eTa*R_s)/(Delta_eTa + gamma_v)"
      ]
     },
     "metadata": {},
     "output_type": "display_data"
    },
    {
     "data": {
      "text/plain": [
       "0"
      ]
     },
     "execution_count": 81,
     "metadata": {},
     "output_type": "execute_result"
    }
   ],
   "source": [
    "# This allows to recovery of eq_Ew_P\n",
    "eq1 = eq_El_Delta.subs(c_E = f_u, c_H = gamma_v*f_u)\n",
    "eq1.simplify_full().show()\n",
    "eq_Ew_P.show()\n",
    "(eq_Ew_P.rhs() - eq1.rhs()).simplify_full()"
   ]
  },
  {
   "cell_type": "code",
   "execution_count": null,
   "metadata": {
    "collapsed": false
   },
   "outputs": [],
   "source": []
  },
  {
   "cell_type": "code",
   "execution_count": 82,
   "metadata": {
    "collapsed": false
   },
   "outputs": [
    {
     "data": {
      "text/html": [
       "<html><script type=\"math/tex; mode=display\">\\newcommand{\\Bold}[1]{\\mathbf{#1}}E_{l} = -\\frac{{\\left({P_{wa}} - {P_{was}}\\right)} {c_{pa}} \\rho_{a} + {\\left({\\Delta_{eTa}} {R_{ll}} - {\\Delta_{eTa}} R_{s}\\right)} r_{a}}{{\\left({\\Delta_{eTa}} + \\gamma_{v}\\right)} r_{a}}</script></html>"
      ],
      "text/plain": [
       "E_l == -((P_wa - P_was)*c_pa*rho_a + (Delta_eTa*R_ll - Delta_eTa*R_s)*r_a)/((Delta_eTa + gamma_v)*r_a)"
      ]
     },
     "metadata": {},
     "output_type": "display_data"
    },
    {
     "data": {
      "text/html": [
       "<html><script type=\"math/tex; mode=display\">\\newcommand{\\Bold}[1]{\\mathbf{#1}}E_{w} = -\\frac{{\\Delta_{eTa}} {R_{ll}} - {\\Delta_{eTa}} R_{s} + \\frac{{\\left({P_{wa}} - {P_{was}}\\right)} {c_{pa}} \\rho_{a}}{r_{a}}}{{\\Delta_{eTa}} + \\gamma_{v}}</script></html>"
      ],
      "text/plain": [
       "E_w == -(Delta_eTa*R_ll - Delta_eTa*R_s + (P_wa - P_was)*c_pa*rho_a/r_a)/(Delta_eTa + gamma_v)"
      ]
     },
     "metadata": {},
     "output_type": "display_data"
    },
    {
     "data": {
      "text/plain": [
       "0"
      ]
     },
     "execution_count": 82,
     "metadata": {},
     "output_type": "execute_result"
    }
   ],
   "source": [
    "# This allows to recovery of eq_Ew_PM1\n",
    "eq1 = eq_El_Delta.subs(c_E = f_u, c_H = gamma_v*f_u).subs(eq_fu_ra_M)\n",
    "eq1.simplify_full().show()\n",
    "eq_Ew_PM1.show()\n",
    "(eq_Ew_PM1.rhs() - eq1.rhs()).simplify_full()"
   ]
  },
  {
   "cell_type": "code",
   "execution_count": 83,
   "metadata": {
    "collapsed": false
   },
   "outputs": [
    {
     "data": {
      "text/html": [
       "<html><script type=\"math/tex; mode=display\">\\newcommand{\\Bold}[1]{\\mathbf{#1}}E_{l} = -\\frac{{\\left({\\left({P_{wa}} - {P_{was}}\\right)} f_{u} \\gamma_{v} + {\\Delta_{eTa}} {R_{ll}} - {\\Delta_{eTa}} R_{s}\\right)} S}{{\\Delta_{eTa}} S + \\gamma_{v}}</script></html>"
      ],
      "text/plain": [
       "E_l == -((P_wa - P_was)*f_u*gamma_v + Delta_eTa*R_ll - Delta_eTa*R_s)*S/(Delta_eTa*S + gamma_v)"
      ]
     },
     "metadata": {},
     "output_type": "display_data"
    },
    {
     "data": {
      "text/html": [
       "<html><script type=\"math/tex; mode=display\">\\newcommand{\\Bold}[1]{\\mathbf{#1}}E_{l} = -\\frac{{\\Delta_{eTa}} {\\left({R_{ll}} - R_{s}\\right)} S + {\\left({P_{wa}} S - {P_{was}} S\\right)} f_{u} \\gamma_{v}}{{\\Delta_{eTa}} S + \\gamma_{v}}</script></html>"
      ],
      "text/plain": [
       "E_l == -(Delta_eTa*(R_ll - R_s)*S + (P_wa*S - P_was*S)*f_u*gamma_v)/(Delta_eTa*S + gamma_v)"
      ]
     },
     "metadata": {},
     "output_type": "display_data"
    },
    {
     "data": {
      "text/plain": [
       "0"
      ]
     },
     "execution_count": 83,
     "metadata": {},
     "output_type": "execute_result"
    }
   ],
   "source": [
    "# This allows to recovery of eq_El_P52\n",
    "eq1 = eq_El_Delta.subs(c_E = f_u*S, c_H = gamma_v*f_u)\n",
    "eq1.simplify_full().show()\n",
    "eq_El_P52.show()\n",
    "(eq_El_P52.rhs() - eq1.rhs()).simplify_full()"
   ]
  },
  {
   "cell_type": "code",
   "execution_count": 84,
   "metadata": {
    "collapsed": false
   },
   "outputs": [
    {
     "data": {
      "text/plain": [
       "gamma_v == a_sh*h_c/f_u"
      ]
     },
     "execution_count": 84,
     "metadata": {},
     "output_type": "execute_result"
    }
   ],
   "source": [
    "eq_gammav_hc_fu"
   ]
  },
  {
   "cell_type": "code",
   "execution_count": 85,
   "metadata": {
    "collapsed": false
   },
   "outputs": [
    {
     "data": {
      "text/html": [
       "<html><script type=\"math/tex; mode=display\">\\newcommand{\\Bold}[1]{\\mathbf{#1}}E_{l} = -\\frac{{\\Delta_{eTa}} {\\left({R_{ll}} - R_{s}\\right)} S + {\\left({P_{wa}} S - {P_{was}} S\\right)} f_{u} \\gamma_{v}}{{\\Delta_{eTa}} S + \\gamma_{v}}</script></html>"
      ],
      "text/plain": [
       "E_l == -(Delta_eTa*(R_ll - R_s)*S + (P_wa*S - P_was*S)*f_u*gamma_v)/(Delta_eTa*S + gamma_v)"
      ]
     },
     "metadata": {},
     "output_type": "display_data"
    }
   ],
   "source": [
    "eq_El_P52.show()"
   ]
  },
  {
   "cell_type": "code",
   "execution_count": 86,
   "metadata": {
    "collapsed": false
   },
   "outputs": [
    {
     "data": {
      "text/html": [
       "<html><script type=\"math/tex; mode=display\">\\newcommand{\\Bold}[1]{\\mathbf{#1}}E_{l} = -\\frac{{\\Delta_{eTa}} {R_{ll}} - {\\Delta_{eTa}} R_{s} + \\frac{{\\left({P_{wa}} - {P_{was}}\\right)} {c_{pa}} \\rho_{a}}{r_{a}}}{\\gamma_{v} {\\left(\\frac{r_{s}}{r_{a}} + 1\\right)} + {\\Delta_{eTa}}}</script></html>"
      ],
      "text/plain": [
       "E_l == -(Delta_eTa*R_ll - Delta_eTa*R_s + (P_wa - P_was)*c_pa*rho_a/r_a)/(gamma_v*(r_s/r_a + 1) + Delta_eTa)"
      ]
     },
     "metadata": {},
     "output_type": "display_data"
    },
    {
     "data": {
      "text/html": [
       "<html><script type=\"math/tex; mode=display\">\\newcommand{\\Bold}[1]{\\mathbf{#1}}E_{l} = -\\frac{{\\left({P_{wa}} - {P_{wl}}\\right)} a_{s} \\epsilon \\lambda_{E} \\rho_{a}}{P_{a} {\\left(r_{s} + {r_{v}}\\right)}}</script></html>"
      ],
      "text/plain": [
       "E_l == -(P_wa - P_wl)*a_s*epsilon*lambda_E*rho_a/(P_a*(r_s + r_v))"
      ]
     },
     "metadata": {},
     "output_type": "display_data"
    },
    {
     "data": {
      "text/html": [
       "<html><script type=\"math/tex; mode=display\">\\newcommand{\\Bold}[1]{\\mathbf{#1}}H_{l} = -\\frac{{\\left(T_{a} - T_{l}\\right)} {a_{sh}} {c_{pa}} \\rho_{a}}{r_{a}}</script></html>"
      ],
      "text/plain": [
       "H_l == -(T_a - T_l)*a_sh*c_pa*rho_a/r_a"
      ]
     },
     "metadata": {},
     "output_type": "display_data"
    },
    {
     "data": {
      "text/html": [
       "<html><script type=\"math/tex; mode=display\">\\newcommand{\\Bold}[1]{\\mathbf{#1}}\\gamma_{v} = \\frac{P_{a} {c_{pa}}}{\\epsilon \\lambda_{E}}</script></html>"
      ],
      "text/plain": [
       "gamma_v == P_a*c_pa/(epsilon*lambda_E)"
      ]
     },
     "metadata": {},
     "output_type": "display_data"
    }
   ],
   "source": [
    "eq_El_PM2.show()\n",
    "eq_El_MU.show()\n",
    "eq_Hl_MU.show()\n",
    "eq_gammav_MU.show()"
   ]
  },
  {
   "cell_type": "code",
   "execution_count": 87,
   "metadata": {
    "collapsed": false
   },
   "outputs": [
    {
     "data": {
      "text/html": [
       "<html><script type=\"math/tex; mode=display\">\\newcommand{\\Bold}[1]{\\mathbf{#1}}E_{l} = -\\frac{{\\left({P_{wa}} - {P_{was}}\\right)} {c_{pa}} \\epsilon \\lambda_{E} \\rho_{a} + {\\left({\\Delta_{eTa}} {R_{ll}} - {\\Delta_{eTa}} R_{s}\\right)} \\epsilon \\lambda_{E} r_{a}}{P_{a} {c_{pa}} r_{s} + {\\left({\\Delta_{eTa}} \\epsilon \\lambda_{E} + P_{a} {c_{pa}}\\right)} r_{a}}</script></html>"
      ],
      "text/plain": [
       "E_l == -((P_wa - P_was)*c_pa*epsilon*lambda_E*rho_a + (Delta_eTa*R_ll - Delta_eTa*R_s)*epsilon*lambda_E*r_a)/(P_a*c_pa*r_s + (Delta_eTa*epsilon*lambda_E + P_a*c_pa)*r_a)"
      ]
     },
     "metadata": {},
     "output_type": "display_data"
    },
    {
     "data": {
      "text/html": [
       "<html><script type=\"math/tex; mode=display\">\\newcommand{\\Bold}[1]{\\mathbf{#1}}E_{l} = -\\frac{{\\left({P_{wa}} - {P_{was}}\\right)} {c_{pa}} \\epsilon \\lambda_{E} \\rho_{a} + {\\left({\\Delta_{eTa}} {R_{ll}} - {\\Delta_{eTa}} R_{s}\\right)} \\epsilon \\lambda_{E} r_{a}}{P_{a} {c_{pa}} r_{s} + {\\left({\\Delta_{eTa}} \\epsilon \\lambda_{E} + P_{a} {c_{pa}}\\right)} r_{a}}</script></html>"
      ],
      "text/plain": [
       "E_l == -((P_wa - P_was)*c_pa*epsilon*lambda_E*rho_a + (Delta_eTa*R_ll - Delta_eTa*R_s)*epsilon*lambda_E*r_a)/(P_a*c_pa*r_s + (Delta_eTa*epsilon*lambda_E + P_a*c_pa)*r_a)"
      ]
     },
     "metadata": {},
     "output_type": "display_data"
    },
    {
     "data": {
      "text/plain": [
       "0 == 0"
      ]
     },
     "execution_count": 87,
     "metadata": {},
     "output_type": "execute_result"
    }
   ],
   "source": [
    "# This leads to recovery of eq_El_PM2\n",
    "eq1 = eq_El_Delta(c_E = epsilon*lambda_E*rho_a/(P_a*(r_s + r_v)), c_H = c_pa*rho_a/r_a).subs(r_v = r_a).simplify_full()\n",
    "eq1.show()\n",
    "eq2 = eq_El_PM2.subs(eq_gammav_MU).simplify_full()\n",
    "eq2.show()\n",
    "(eq1 - eq2).simplify_full()"
   ]
  },
  {
   "cell_type": "code",
   "execution_count": 88,
   "metadata": {
    "collapsed": false
   },
   "outputs": [
    {
     "data": {
      "text/html": [
       "<html><script type=\"math/tex; mode=display\">\\newcommand{\\Bold}[1]{\\mathbf{#1}}E_{l} = -\\frac{{\\left({P_{wa}} - {P_{was}}\\right)} {c_{pa}} \\rho_{a} + {\\left({\\Delta_{eTa}} {R_{ll}} - {\\Delta_{eTa}} R_{s}\\right)} r_{a}}{{\\left({\\Delta_{eTa}} + \\gamma_{v}\\right)} r_{a} + \\gamma_{v} r_{s}}</script></html>"
      ],
      "text/plain": [
       "E_l == -((P_wa - P_was)*c_pa*rho_a + (Delta_eTa*R_ll - Delta_eTa*R_s)*r_a)/((Delta_eTa + gamma_v)*r_a + gamma_v*r_s)"
      ]
     },
     "metadata": {},
     "output_type": "display_data"
    },
    {
     "data": {
      "text/html": [
       "<html><script type=\"math/tex; mode=display\">\\newcommand{\\Bold}[1]{\\mathbf{#1}}E_{l} = -\\frac{{\\left({P_{wa}} - {P_{was}}\\right)} {c_{pa}} \\rho_{a} + {\\left({\\Delta_{eTa}} {R_{ll}} - {\\Delta_{eTa}} R_{s}\\right)} r_{a}}{{\\left({\\Delta_{eTa}} + \\gamma_{v}\\right)} r_{a} + \\gamma_{v} r_{s}}</script></html>"
      ],
      "text/plain": [
       "E_l == -((P_wa - P_was)*c_pa*rho_a + (Delta_eTa*R_ll - Delta_eTa*R_s)*r_a)/((Delta_eTa + gamma_v)*r_a + gamma_v*r_s)"
      ]
     },
     "metadata": {},
     "output_type": "display_data"
    },
    {
     "data": {
      "text/plain": [
       "0 == 0"
      ]
     },
     "execution_count": 88,
     "metadata": {},
     "output_type": "execute_result"
    }
   ],
   "source": [
    "# Alternative recovery of eq_El_PM2, using gamma_v at the onset\n",
    "eq1 = eq_El_Delta(c_E = c_pa*rho_a/(gamma_v*(r_s + r_v)), c_H = c_pa*rho_a/r_a).subs(r_v = r_a).simplify_full()\n",
    "eq1.show()\n",
    "eq2 = eq_El_PM2.simplify_full()\n",
    "eq2.show()\n",
    "(eq1 - eq2).simplify_full()"
   ]
  },
  {
   "cell_type": "markdown",
   "metadata": {
    "collapsed": false
   },
   "source": [
    "\\citet{monteith_principles_2013} acknowledged that a hypostomatous leaf could exchange sensible heat on two sides, but latent heat on one side only and introduced the parameter $n_{MU} = a_{sh}/a_s$ to account for this (Eq. {eq_El_MU2}). Using our general equation, it should be possible to reproduce the MU-Equation (Eq. {eq_El_MU2}) by substituting \n",
    "$c_E = a_s \\epsilon \\lambda_E \\rho_a/(P_a(r_s + r_v))$ (deduced from Eq. {eq_El_MU}) and $c_H = a_{sh} c_{pa} \\rho_a/r_a$ (deduced from Eq. {eq_Hl_MU}) into Eq. {eq_El_Delta}. However, the result of this substitution, as presented in Eq. {eq_El_Delta_MUcorr}, is not the same as Eq. {eq_El_MU2} after substitution of Eqs. {eq_gammav_MU} and $n_{MU} = a_{sh}/a_s$, which would result in Eq. {eq_El_MU3}: \n",
    "##### {eq_El_Delta_MUcorr}\n",
    "\\begin{equation}\n",
    "E_{l} = \\frac{a_{s} \\Delta_{eTa} \\epsilon \\lambda_{E} r_{a} \\left(R_s - R_{ll}\\right)\n",
    "+ a_{s} {a_{sh}} {c_{pa}} \\epsilon\n",
    "\\lambda_{E} \\rho_{a} \\left({P_{was}} - {P_{wa}}\\right)}  \n",
    "{P_{a} {a_{sh}} {c_{pa}} \\left( r_{s} + r_a \\right) + {\\Delta_{eTa}} a_{s}\n",
    "\\epsilon \\lambda_{E}}\n",
    "\\end{equation}\n",
    "##### {eq_El_MU3}\n",
    "\\begin{equation}\n",
    "E_{l} = \\frac{a_{s} \\Delta_{eTa} \\epsilon \\lambda_{E} r_{a} \\left(R_s - R_{ll}\\right)\n",
    "+ a_{s} {c_{pa}} \\epsilon\n",
    "\\lambda_{E} \\rho_{a} \\left({P_{was}} - {P_{wa}}\\right)}  \n",
    "{P_{a} {a_{sh}} {c_{pa}} \\left( r_{s} + r_a \\right) + {\\Delta_{eTa}} a_{s}\n",
    "\\epsilon \\lambda_{E}}\n",
    "\\end{equation}\n",
    "Note the missing $a_{sh}$ in the nominator of Eq. {eq_El_MU3}. \n",
    "The reason is that \\citet{monteith_principles_2013} introduced $n_{MU} = a_{sh}/a_s$ by modifying the meaning of $\\gamma_v$ in Eq. {eq_Ew_PM1} and specifying that $r_a$, $r_v$ and $r_s$ respresent one-sided resitances. However, as explained above, $r_a$ in Eq. {eq_Ew_PM1} represents two-sided resistance to sensible heat flux (see Eq. {eq_cH_ra}). If we replace $r_a$ by $r_a = r_{a}/a_{sh} $ in Eq. {eq_Ew_PM1} before substitution of Eq. {eq_gammavs_MU}, we obtain a corrected MU-equation,\n",
    "##### {eq_El_MU_corr}\n",
    "\\begin{equation}\n",
    "E_l = \\frac{\\Delta_{eTa}(R_s - R_{ll}) + \\rho_a c_{pa} (P_{was} - P_{wa})a_{sh}/r_a}\n",
    "{\\Delta_{eTa} + \\gamma_v a_{sh}/a_s \\left(1 + \\frac{r_{s}}{r_a}\\right)},\n",
    "\\end{equation}\n",
    "which, after substitution of Eq. {eq_gammav_MU}, results in Eq. {eq_El_Delta_MUcorr}."
   ]
  },
  {
   "cell_type": "code",
   "execution_count": 89,
   "metadata": {
    "collapsed": false
   },
   "outputs": [
    {
     "data": {
      "text/html": [
       "<html><script type=\"math/tex; mode=display\">\\newcommand{\\Bold}[1]{\\mathbf{#1}}E_{l} = -\\frac{{\\left({P_{wa}} - {P_{was}}\\right)} a_{s} {a_{sh}} {c_{pa}} \\epsilon \\lambda_{E} \\rho_{a} + {\\left({\\Delta_{eTa}} {R_{ll}} - {\\Delta_{eTa}} R_{s}\\right)} a_{s} \\epsilon \\lambda_{E} r_{a}}{P_{a} {a_{sh}} {c_{pa}} r_{s} + {\\left({\\Delta_{eTa}} a_{s} \\epsilon \\lambda_{E} + P_{a} {a_{sh}} {c_{pa}}\\right)} r_{a}}</script></html>"
      ],
      "text/plain": [
       "E_l == -((P_wa - P_was)*a_s*a_sh*c_pa*epsilon*lambda_E*rho_a + (Delta_eTa*R_ll - Delta_eTa*R_s)*a_s*epsilon*lambda_E*r_a)/(P_a*a_sh*c_pa*r_s + (Delta_eTa*a_s*epsilon*lambda_E + P_a*a_sh*c_pa)*r_a)"
      ]
     },
     "metadata": {},
     "output_type": "display_data"
    },
    {
     "name": "stdout",
     "output_type": "stream",
     "text": [
      "kilogram/second^3 == kilogram/second^3\n",
      "E_{l} = -\\frac{{\\left({P_{wa}} - {P_{was}}\\right)} a_{s} {a_{sh}} {c_{pa}} \\epsilon \\lambda_{E} \\rho_{a} + {\\left({\\Delta_{eTa}} {R_{ll}} - {\\Delta_{eTa}} R_{s}\\right)} a_{s} \\epsilon \\lambda_{E} r_{a}}{P_{a} {a_{sh}} {c_{pa}} r_{s} + {\\left({\\Delta_{eTa}} a_{s} \\epsilon \\lambda_{E} + P_{a} {a_{sh}} {c_{pa}}\\right)} r_{a}}\n"
     ]
    },
    {
     "data": {
      "text/html": [
       "<html><script type=\"math/tex; mode=display\">\\newcommand{\\Bold}[1]{\\mathbf{#1}}E_{l} = -\\frac{{\\left({P_{wa}} - {P_{was}}\\right)} a_{s} {c_{pa}} \\epsilon \\lambda_{E} \\rho_{a} + {\\left({\\Delta_{eTa}} {R_{ll}} - {\\Delta_{eTa}} R_{s}\\right)} a_{s} \\epsilon \\lambda_{E} r_{a}}{P_{a} {a_{sh}} {c_{pa}} r_{s} + {\\left({\\Delta_{eTa}} a_{s} \\epsilon \\lambda_{E} + P_{a} {a_{sh}} {c_{pa}}\\right)} r_{a}}</script></html>"
      ],
      "text/plain": [
       "E_l == -((P_wa - P_was)*a_s*c_pa*epsilon*lambda_E*rho_a + (Delta_eTa*R_ll - Delta_eTa*R_s)*a_s*epsilon*lambda_E*r_a)/(P_a*a_sh*c_pa*r_s + (Delta_eTa*a_s*epsilon*lambda_E + P_a*a_sh*c_pa)*r_a)"
      ]
     },
     "metadata": {},
     "output_type": "display_data"
    },
    {
     "name": "stdout",
     "output_type": "stream",
     "text": [
      "E_{l} = -\\frac{{\\left({P_{wa}} - {P_{was}}\\right)} a_{s} {c_{pa}} \\epsilon \\lambda_{E} \\rho_{a} + {\\left({\\Delta_{eTa}} {R_{ll}} - {\\Delta_{eTa}} R_{s}\\right)} a_{s} \\epsilon \\lambda_{E} r_{a}}{P_{a} {a_{sh}} {c_{pa}} r_{s} + {\\left({\\Delta_{eTa}} a_{s} \\epsilon \\lambda_{E} + P_{a} {a_{sh}} {c_{pa}}\\right)} r_{a}}\n"
     ]
    },
    {
     "data": {
      "text/plain": [
       "0 == -((P_wa - P_was)*a_s*a_sh - (P_wa - P_was)*a_s)*c_pa*epsilon*lambda_E*rho_a/(P_a*a_sh*c_pa*r_s + (Delta_eTa*a_s*epsilon*lambda_E + P_a*a_sh*c_pa)*r_a)"
      ]
     },
     "execution_count": 89,
     "metadata": {},
     "output_type": "execute_result"
    }
   ],
   "source": [
    "# This should lead to recovery of eq_El_MU2, but does not\n",
    "eq1 = eq_El_Delta(c_E = a_s*epsilon*lambda_E*rho_a/(P_a*(r_s + r_v)), c_H = a_sh*c_pa*rho_a/r_a).subs(r_v = r_a).simplify_full()\n",
    "print units_check(eq1)\n",
    "print latex(eq1)\n",
    "eq2 = eq_El_MU2.subs(eq_gammav_MU)(n_MU = a_sh/a_s).simplify_full()\n",
    "eq2.show()\n",
    "print latex(eq2)\n",
    "(eq1 - eq2).simplify_full()"
   ]
  },
  {
   "cell_type": "code",
   "execution_count": 90,
   "metadata": {
    "collapsed": false
   },
   "outputs": [
    {
     "data": {
      "text/html": [
       "<html><script type=\"math/tex; mode=display\">\\newcommand{\\Bold}[1]{\\mathbf{#1}}E_{l} = -\\frac{{\\Delta_{eTa}} {R_{ll}} - {\\Delta_{eTa}} R_{s} + \\frac{{\\left({P_{wa}} - {P_{was}}\\right)} {c_{pa}} \\rho_{a}}{r_{a}}}{{\\Delta_{eTa}} + \\frac{P_{a} {a_{sh}} {c_{pa}} {\\left(\\frac{r_{s}}{r_{a}} + 1\\right)}}{a_{s} \\epsilon \\lambda_{E}}}</script></html>"
      ],
      "text/plain": [
       "E_l == -(Delta_eTa*R_ll - Delta_eTa*R_s + (P_wa - P_was)*c_pa*rho_a/r_a)/(Delta_eTa + P_a*a_sh*c_pa*(r_s/r_a + 1)/(a_s*epsilon*lambda_E))"
      ]
     },
     "metadata": {},
     "output_type": "display_data"
    }
   ],
   "source": [
    "eq_El_MU2.subs(eq_gammav_MU)(n_MU = a_sh/a_s).show()"
   ]
  },
  {
   "cell_type": "code",
   "execution_count": 91,
   "metadata": {
    "collapsed": false
   },
   "outputs": [
    {
     "data": {
      "text/html": [
       "<html><script type=\"math/tex; mode=display\">\\newcommand{\\Bold}[1]{\\mathbf{#1}}E_{l} = -\\frac{\\frac{{\\left({P_{wa}} - {P_{was}}\\right)} a_{s} {a_{sh}} {c_{pa}} \\epsilon \\lambda_{E} \\rho_{a}^{2}}{P_{a} {\\left(r_{a} + r_{s}\\right)} r_{a}} + \\frac{{\\left({\\Delta_{eTa}} {R_{ll}} - {\\Delta_{eTa}} R_{s}\\right)} a_{s} \\epsilon \\lambda_{E} \\rho_{a}}{P_{a} {\\left(r_{a} + r_{s}\\right)}}}{\\frac{{\\Delta_{eTa}} a_{s} \\epsilon \\lambda_{E} \\rho_{a}}{P_{a} {\\left(r_{a} + r_{s}\\right)}} + \\frac{{a_{sh}} {c_{pa}} \\rho_{a}}{r_{a}}}</script></html>"
      ],
      "text/plain": [
       "E_l == -((P_wa - P_was)*a_s*a_sh*c_pa*epsilon*lambda_E*rho_a^2/(P_a*(r_a + r_s)*r_a) + (Delta_eTa*R_ll - Delta_eTa*R_s)*a_s*epsilon*lambda_E*rho_a/(P_a*(r_a + r_s)))/(Delta_eTa*a_s*epsilon*lambda_E*rho_a/(P_a*(r_a + r_s)) + a_sh*c_pa*rho_a/r_a)"
      ]
     },
     "metadata": {},
     "output_type": "display_data"
    }
   ],
   "source": [
    "eq_El_Delta(c_E = a_s*epsilon*lambda_E*rho_a/(P_a*(r_s + r_v)), c_H = a_sh*c_pa*rho_a/r_a).subs(r_v = r_a).show()"
   ]
  },
  {
   "cell_type": "code",
   "execution_count": 92,
   "metadata": {
    "collapsed": false
   },
   "outputs": [
    {
     "data": {
      "text/html": [
       "<html><script type=\"math/tex; mode=display\">\\newcommand{\\Bold}[1]{\\mathbf{#1}}E_{w} = -\\frac{{\\Delta_{eTa}} {R_{ll}} - {\\Delta_{eTa}} R_{s} + \\frac{{\\left({P_{wa}} - {P_{was}}\\right)} {c_{pa}} \\rho_{a}}{r_{a}}}{{\\Delta_{eTa}} + \\gamma_{v}}</script></html>"
      ],
      "text/plain": [
       "E_w == -(Delta_eTa*R_ll - Delta_eTa*R_s + (P_wa - P_was)*c_pa*rho_a/r_a)/(Delta_eTa + gamma_v)"
      ]
     },
     "metadata": {},
     "output_type": "display_data"
    }
   ],
   "source": [
    "eq_Ew_PM1.show()"
   ]
  },
  {
   "cell_type": "code",
   "execution_count": 93,
   "metadata": {
    "collapsed": false
   },
   "outputs": [
    {
     "data": {
      "text/html": [
       "<html><script type=\"math/tex; mode=display\">\\newcommand{\\Bold}[1]{\\mathbf{#1}}\\gamma_{v} = \\frac{c_{H}}{c_{E}}</script></html>"
      ],
      "text/plain": [
       "gamma_v == c_H/c_E"
      ]
     },
     "metadata": {},
     "output_type": "display_data"
    },
    {
     "data": {
      "text/html": [
       "<html><script type=\"math/tex; mode=display\">\\newcommand{\\Bold}[1]{\\mathbf{#1}}E_{l} = -\\frac{{\\Delta_{eTa}} {\\left({R_{ll}} - R_{s}\\right)} c_{E} + {\\left({P_{wa}} c_{E} - {P_{was}} c_{E}\\right)} c_{H}}{{\\Delta_{eTa}} c_{E} + c_{H}}</script></html>"
      ],
      "text/plain": [
       "E_l == -(Delta_eTa*(R_ll - R_s)*c_E + (P_wa*c_E - P_was*c_E)*c_H)/(Delta_eTa*c_E + c_H)"
      ]
     },
     "metadata": {},
     "output_type": "display_data"
    },
    {
     "data": {
      "text/html": [
       "<html><script type=\"math/tex; mode=display\">\\newcommand{\\Bold}[1]{\\mathbf{#1}}E_{l} = -\\frac{{\\Delta_{eTa}} {\\left({R_{ll}} - R_{s}\\right)} c_{E} + {\\left({P_{wa}} c_{E} - {P_{was}} c_{E}\\right)} c_{H}}{{\\Delta_{eTa}} c_{E} + c_{H}}</script></html>"
      ],
      "text/plain": [
       "E_l == -(Delta_eTa*(R_ll - R_s)*c_E + (P_wa*c_E - P_was*c_E)*c_H)/(Delta_eTa*c_E + c_H)"
      ]
     },
     "metadata": {},
     "output_type": "display_data"
    }
   ],
   "source": [
    "# if C_E and c_H are considered to be one-sided, it would not suffice to incorporate two-sidedness of one of them in gamma_v only, as c_E still features in soln[0][0]\n",
    "eq_gammav_cE.show()\n",
    "soln[0][0].show()\n",
    "soln[0][0].subs(eq_gammav_cE).show()"
   ]
  },
  {
   "cell_type": "code",
   "execution_count": 94,
   "metadata": {
    "collapsed": false
   },
   "outputs": [
    {
     "data": {
      "text/html": [
       "<html><script type=\"math/tex; mode=display\">\\newcommand{\\Bold}[1]{\\mathbf{#1}}\\gamma_{v} = \\frac{P_{a} {c_{pa}}}{\\epsilon \\lambda_{E}}</script></html>"
      ],
      "text/plain": [
       "gamma_v == P_a*c_pa/(epsilon*lambda_E)"
      ]
     },
     "metadata": {},
     "output_type": "display_data"
    },
    {
     "data": {
      "text/html": [
       "<html><script type=\"math/tex; mode=display\">\\newcommand{\\Bold}[1]{\\mathbf{#1}}E_{l} = -\\frac{{\\left({P_{wa}} - {P_{was}}\\right)} a_{s} {a_{sh}} {c_{pa}} \\epsilon \\lambda_{E} \\rho_{a} + {\\left({\\Delta_{eTa}} {R_{ll}} - {\\Delta_{eTa}} R_{s}\\right)} a_{s} \\epsilon \\lambda_{E} r_{a}}{P_{a} {a_{sh}} {c_{pa}} r_{s} + {\\left({\\Delta_{eTa}} a_{s} \\epsilon \\lambda_{E} + P_{a} {a_{sh}} {c_{pa}}\\right)} r_{a}}</script></html>"
      ],
      "text/plain": [
       "E_l == -((P_wa - P_was)*a_s*a_sh*c_pa*epsilon*lambda_E*rho_a + (Delta_eTa*R_ll - Delta_eTa*R_s)*a_s*epsilon*lambda_E*r_a)/(P_a*a_sh*c_pa*r_s + (Delta_eTa*a_s*epsilon*lambda_E + P_a*a_sh*c_pa)*r_a)"
      ]
     },
     "metadata": {},
     "output_type": "display_data"
    },
    {
     "name": "stdout",
     "output_type": "stream",
     "text": [
      "kilogram/second^3 == kilogram/second^3\n",
      "E_{l} = -\\frac{{\\left({P_{wa}} - {P_{was}}\\right)} a_{s} {a_{sh}} {c_{pa}} \\epsilon \\lambda_{E} \\rho_{a} + {\\left({\\Delta_{eTa}} {R_{ll}} - {\\Delta_{eTa}} R_{s}\\right)} a_{s} \\epsilon \\lambda_{E} r_{a}}{P_{a} {a_{sh}} {c_{pa}} r_{s} + {\\left({\\Delta_{eTa}} a_{s} \\epsilon \\lambda_{E} + P_{a} {a_{sh}} {c_{pa}}\\right)} r_{a}}\n"
     ]
    },
    {
     "data": {
      "text/html": [
       "<html><script type=\"math/tex; mode=display\">\\newcommand{\\Bold}[1]{\\mathbf{#1}}E_{l} = -\\frac{{\\left({P_{wa}} - {P_{was}}\\right)} a_{s} {a_{sh}} {c_{pa}} \\epsilon \\lambda_{E} \\rho_{a} + {\\left({\\Delta_{eTa}} {R_{ll}} - {\\Delta_{eTa}} R_{s}\\right)} a_{s} \\epsilon \\lambda_{E} r_{a}}{P_{a} {a_{sh}} {c_{pa}} r_{s} + {\\left({\\Delta_{eTa}} a_{s} \\epsilon \\lambda_{E} + P_{a} {a_{sh}} {c_{pa}}\\right)} r_{a}}</script></html>"
      ],
      "text/plain": [
       "E_l == -((P_wa - P_was)*a_s*a_sh*c_pa*epsilon*lambda_E*rho_a + (Delta_eTa*R_ll - Delta_eTa*R_s)*a_s*epsilon*lambda_E*r_a)/(P_a*a_sh*c_pa*r_s + (Delta_eTa*a_s*epsilon*lambda_E + P_a*a_sh*c_pa)*r_a)"
      ]
     },
     "metadata": {},
     "output_type": "display_data"
    },
    {
     "name": "stdout",
     "output_type": "stream",
     "text": [
      "kilogram/second^3 == kilogram/second^3\n"
     ]
    },
    {
     "data": {
      "text/html": [
       "<html><script type=\"math/tex; mode=display\">\\newcommand{\\Bold}[1]{\\mathbf{#1}}E_{l} = -\\frac{{\\left({P_{wa}} - {P_{was}}\\right)} a_{s} {a_{sh}} {c_{pa}} \\epsilon \\lambda_{E} \\rho_{a} + {\\left({\\Delta_{eTa}} {R_{ll}} - {\\Delta_{eTa}} R_{s}\\right)} a_{s} \\epsilon \\lambda_{E} r_{a}}{P_{a} {a_{sh}} {c_{pa}} r_{s} + {\\left({\\Delta_{eTa}} a_{s} \\epsilon \\lambda_{E} + P_{a} {a_{sh}} {c_{pa}}\\right)} r_{a}}</script></html>"
      ],
      "text/plain": [
       "E_l == -((P_wa - P_was)*a_s*a_sh*c_pa*epsilon*lambda_E*rho_a + (Delta_eTa*R_ll - Delta_eTa*R_s)*a_s*epsilon*lambda_E*r_a)/(P_a*a_sh*c_pa*r_s + (Delta_eTa*a_s*epsilon*lambda_E + P_a*a_sh*c_pa)*r_a)"
      ]
     },
     "metadata": {},
     "output_type": "display_data"
    },
    {
     "name": "stdout",
     "output_type": "stream",
     "text": [
      "E_{l} = -\\frac{{\\left({P_{wa}} - {P_{was}}\\right)} a_{s} {a_{sh}} {c_{pa}} \\epsilon \\lambda_{E} \\rho_{a} + {\\left({\\Delta_{eTa}} {R_{ll}} - {\\Delta_{eTa}} R_{s}\\right)} a_{s} \\epsilon \\lambda_{E} r_{a}}{P_{a} {a_{sh}} {c_{pa}} r_{s} + {\\left({\\Delta_{eTa}} a_{s} \\epsilon \\lambda_{E} + P_{a} {a_{sh}} {c_{pa}}\\right)} r_{a}}\n"
     ]
    },
    {
     "data": {
      "text/plain": [
       "0 == 0"
      ]
     },
     "execution_count": 94,
     "metadata": {},
     "output_type": "execute_result"
    }
   ],
   "source": [
    "# If we replace r_a by r_a/a_sh in eq_Ew_PM1, and only then insert eq_gammavs_MU, we get the right solution\n",
    "eq_gammav_MU.show()\n",
    "eq1 = eq_El_Delta(c_E = a_s*epsilon*lambda_E*rho_a/(P_a*(r_s + r_v)), c_H = a_sh*c_pa*rho_a/r_a).subs(r_v = r_a).simplify_full()\n",
    "print units_check(eq1)\n",
    "print latex(eq1)\n",
    "eq_El_MU_corr = eq_Ew_PM1.subs(r_a = r_a/a_sh).subs(eq_gammavs_MU)(E_w = E_l).subs(eq_gammav_MU).subs(n_MU = a_sh/a_s).simplify_full()\n",
    "print units_check(eq_El_MU_corr)\n",
    "eq2 = eq_El_MU_corr\n",
    "\n",
    "eq2.show()\n",
    "print latex(eq2)\n",
    "(eq1 - eq2).simplify_full()"
   ]
  },
  {
   "cell_type": "markdown",
   "metadata": {},
   "source": [
    "<p><span style=\"color: #ff0000;\">If we replace $r_a$ by $r_a/a_{sh}$ in eq_Ew_PM1, and only then insert eq_gammavs_MU, we get the right solution, equivalent to general equation with $c_E = a_s \\epsilon \\lambda_E \\rho_a/(P_a (r_s + r_v))$ and $c_H = a_{sh} c_{pa} \\rho_a/r_a)$, assuming  $r_v = r_a$<br /></span></p>"
   ]
  },
  {
   "cell_type": "code",
   "execution_count": 95,
   "metadata": {
    "collapsed": false
   },
   "outputs": [
    {
     "data": {
      "text/html": [
       "<html><script type=\"math/tex; mode=display\">\\newcommand{\\Bold}[1]{\\mathbf{#1}}E_{l} = -\\frac{{\\left({P_{wa}} - {P_{was}}\\right)} a_{s} {a_{sh}} {c_{pa}} \\rho_{a} + {\\left({\\Delta_{eTa}} {R_{ll}} - {\\Delta_{eTa}} R_{s}\\right)} a_{s} r_{a}}{{a_{sh}} \\gamma_{v} r_{s} + {\\left({\\Delta_{eTa}} a_{s} + {a_{sh}} \\gamma_{v}\\right)} r_{a}}</script></html>"
      ],
      "text/plain": [
       "E_l == -((P_wa - P_was)*a_s*a_sh*c_pa*rho_a + (Delta_eTa*R_ll - Delta_eTa*R_s)*a_s*r_a)/(a_sh*gamma_v*r_s + (Delta_eTa*a_s + a_sh*gamma_v)*r_a)"
      ]
     },
     "metadata": {},
     "output_type": "display_data"
    },
    {
     "data": {
      "text/plain": [
       "kilogram/second^3 == kilogram/second^3"
      ]
     },
     "execution_count": 95,
     "metadata": {},
     "output_type": "execute_result"
    }
   ],
   "source": [
    "eq_El_MU_corr_gammav = eq_Ew_PM1.subs(r_a = r_a/a_sh).subs(eq_gammavs_MU)(E_w = E_l).subs(n_MU = a_sh/a_s).simplify_full()\n",
    "units_check(eq_El_MU_corr_gammav)"
   ]
  },
  {
   "cell_type": "code",
   "execution_count": 96,
   "metadata": {
    "collapsed": false
   },
   "outputs": [
    {
     "name": "stdout",
     "output_type": "stream",
     "text": [
      "One-sided boundary layer resistance to heat transfer ($r_H$ in \\citet[][P. 231]{monteith_principles_2013})\n"
     ]
    },
    {
     "data": {
      "text/plain": [
       "'Leaf BL resistance to water vapour, \\\\citep[][Eq. 13.16]{monteith_principles_2013}'"
      ]
     },
     "execution_count": 96,
     "metadata": {},
     "output_type": "execute_result"
    }
   ],
   "source": [
    "print docdict[r_a]\n",
    "docdict[r_v]"
   ]
  },
  {
   "cell_type": "code",
   "execution_count": 97,
   "metadata": {
    "collapsed": false
   },
   "outputs": [
    {
     "data": {
      "text/html": [
       "<html><script type=\"math/tex; mode=display\">\\newcommand{\\Bold}[1]{\\mathbf{#1}}r_{a} = \\frac{{c_{pa}} \\rho_{a}}{h_{c}}</script></html>"
      ],
      "text/plain": [
       "r_a == c_pa*rho_a/h_c"
      ]
     },
     "metadata": {},
     "output_type": "display_data"
    },
    {
     "data": {
      "text/html": [
       "<html><script type=\"math/tex; mode=display\">\\newcommand{\\Bold}[1]{\\mathbf{#1}}{r_{v}} = \\frac{a_{s}}{{g_{bw}}}</script></html>"
      ],
      "text/plain": [
       "r_v == a_s/g_bw"
      ]
     },
     "metadata": {},
     "output_type": "display_data"
    },
    {
     "data": {
      "text/html": [
       "<html><script type=\"math/tex; mode=display\">\\newcommand{\\Bold}[1]{\\mathbf{#1}}\\frac{r_{a}}{{r_{v}}} = \\frac{1}{{N_{Le}}^{\\frac{2}{3}}}</script></html>"
      ],
      "text/plain": [
       "r_a/r_v == Le^(-2/3)"
      ]
     },
     "metadata": {},
     "output_type": "display_data"
    },
    {
     "name": "stdout",
     "output_type": "stream",
     "text": [
      "1.08204645272521\n"
     ]
    },
    {
     "data": {
      "image/png": "[encoded data removed]",
      "text/plain": [
       "Graphics object consisting of 1 graphics primitive"
      ]
     },
     "metadata": {},
     "output_type": "display_data"
    }
   ],
   "source": [
    "eq_ra_hc.show()\n",
    "eq_rv_gbw.show()\n",
    "(eq_ra_hc/eq_rv_gbw).subs(eq_gbw_hc).show()\n",
    "plotfun = (eq_ra_hc/eq_rv_gbw).rhs().subs(eq_gbw_hc).subs(eq_Le).subs(eq_alphaa, eq_Dva)\n",
    "print plotfun(T_a = 300)\n",
    "P = plot(plotfun, (T_a, 280,310))\n",
    "P.axes_labels(['Air temperature (K)', '$r_a/r_v$'])\n",
    "P.show()"
   ]
  },
  {
   "cell_type": "markdown",
   "metadata": {},
   "source": [
    "<p><span style=\"color: #ff0000;\">$r_a/r_v$ is indeed  close to 1!</span></p>"
   ]
  },
  {
   "cell_type": "code",
   "execution_count": 98,
   "metadata": {
    "collapsed": false
   },
   "outputs": [
    {
     "data": {
      "text/plain": [
       "E_l == -((P_wa - P_was)*a_s*a_sh*c_pa*epsilon*lambda_E*rho_a + (Delta_eTa*R_ll - Delta_eTa*R_s)*a_s*epsilon*lambda_E*r_a)/(P_a*a_sh*c_pa*r_s + (Delta_eTa*a_s*epsilon*lambda_E + P_a*a_sh*c_pa)*r_a)"
      ]
     },
     "execution_count": 98,
     "metadata": {},
     "output_type": "execute_result"
    }
   ],
   "source": [
    "eq_El_MU_corr"
   ]
  },
  {
   "cell_type": "code",
   "execution_count": 99,
   "metadata": {
    "collapsed": false
   },
   "outputs": [
    {
     "name": "stdout",
     "output_type": "stream",
     "text": [
      "T_l = 308.321395271\n",
      "E_l = 180.542235053941\n",
      "H_l = 150.521099595469\n",
      "R_ll = 68.9366653505872\n",
      "g_bw = 0.0131620455576424\n",
      "g_tw = 0.00291849206962754\n",
      "Direct estimates: \n",
      "E_l = 198.222104889662\n",
      "H_l = 201.777895110338\n",
      "T_l == 310.133484539870\n",
      "T_l == 310.133484539870\n",
      "T_l == 309.093414355984\n",
      "400 == 400.000000000000\n",
      "Penman-stomata: \n",
      "E_l = 198.222104889662\n",
      "H_l = 201.777895110338\n",
      "T_l = 310.133484539870\n",
      "400 == 400.000000000000\n",
      "PM-equation: \n",
      "E_l = 241.448619283973\n",
      "H_l = 158.551380716027\n",
      "400 == 400.000000000000\n",
      "MU-equation: \n",
      "E_l = 156.668183937778\n",
      "H_l = 243.331816062222\n",
      "400 == 400.000000000000\n",
      "Corrected MU-equation: \n",
      "E_l = 195.741933442269\n",
      "H_l = 204.258066557731\n",
      "400 == 400.000000000000\n"
     ]
    }
   ],
   "source": [
    "# Fig. 8 in Ball et al. 1988\n",
    "vdict = cdict.copy()\n",
    "vdict[a_s] = 1\n",
    "vdict[L_l] = 0.07\n",
    "vdict[P_a] = 101325\n",
    "vdict[P_wa] = 20/1000*101325\n",
    "vdict[R_s] = 400\n",
    "vdict[Re_c] = 3000\n",
    "vdict[T_a] = 273+30\n",
    "vdict[T_w] = vdict[T_a]\n",
    "vdict[g_sw] = 0.15/40\n",
    "#vdict[g_sv] = 1e-6\n",
    "\n",
    "vdict[v_w] = 1.\n",
    "resdict = fun_SS(vdict)\n",
    "for name1 in [T_l, E_l, H_l, R_ll, g_bw, g_tw]:\n",
    "    print str(name1)+' = ' + str(resdict[name1])\n",
    "\n",
    "vdict[P_was] = eq_Pwl.rhs()(T_l = T_a).subs(vdict) \n",
    "vdict[Delta_eTa] = eq_Deltaeta_T.rhs().subs(vdict)\n",
    "vdict[k_a] = eq_ka.rhs().subs(vdict)\n",
    "vdict[nu_a] = eq_nua.rhs().subs(vdict)\n",
    "vdict[Re] = eq_Re.rhs().subs(vdict)\n",
    "vdict[Nu] = eq_Nu_forced_all.rhs().subs(vdict)\n",
    "vdict[h_c] = eq_hc.rhs().subs(vdict) \n",
    "\n",
    "vdict[P_N2] = eq_PN2.rhs().subs(vdict)\n",
    "vdict[P_O2] = eq_PO2.rhs().subs(vdict)\n",
    "vdict[alpha_a] = eq_alphaa.rhs().subs(vdict)\n",
    "vdict[k_a] = eq_ka.rhs().subs(vdict)\n",
    "vdict[D_va] = eq_Dva.rhs().subs(vdict)\n",
    "vdict[Le] = eq_Le.rhs().subs(vdict)\n",
    "vdict[rho_a] = eq_rhoa_Pwa_Ta.rhs().subs(vdict) \n",
    "vdict[g_bw] = eq_gbw_hc.rhs().subs(vdict)\n",
    "vdict[g_tw] = eq_gtw.rhs().subs(vdict)\n",
    "vdict[g_twmol] = eq_gtwmol_gtw_iso.rhs().subs(vdict)\n",
    "\n",
    "vdict[R_ll] = 0\n",
    "print 'Direct estimates: '\n",
    "namesdict = [E_l, H_l]\n",
    "vdict[E_l] = eq_El_Delta.rhs().subs(eq_ce_conv, eq_ch_hc).subs(vdict)\n",
    "vdict[H_l] = eq_Hl_Delta.rhs().subs(eq_ce_conv, eq_ch_hc).subs(vdict)\n",
    "for name1 in namesdict:\n",
    "    print str(name1)+' = ' + str(vdict[name1])\n",
    "    \n",
    "print eq_Tl_Delta.subs(eq_ce_conv, eq_ch_hc).subs(vdict)\n",
    "print eq_Tl_Delta1.subs(eq_ce_conv, eq_ch_hc).subs(vdict)\n",
    "print eq_Tl_Delta2.subs(eq_ce_conv, eq_ch_hc).subs(vdict)\n",
    "print eq_Rs_enbal.subs(vdict)\n",
    "\n",
    "print 'Penman-stomata: '\n",
    "namesdict = [E_l, H_l, T_l]\n",
    "vdict[S] = eq_S_gbw_gsw.rhs().subs(vdict)\n",
    "vdict[f_u] = eq_fu_gbw.rhs().subs(vdict)\n",
    "vdict[gamma_v] = eq_gammav_as.rhs().subs(vdict)\n",
    "vdict[E_l] = eq_El_P52.rhs().subs(vdict)\n",
    "vdict[H_l] = eq_Hl_P52.rhs().subs(vdict)\n",
    "vdict[T_l] = eq_Tl_P52.rhs().subs(vdict)\n",
    "for name1 in namesdict:\n",
    "    print str(name1)+' = ' + str(vdict[name1])\n",
    "    \n",
    "print eq_Rs_enbal.subs(vdict)\n",
    "\n",
    "print 'PM-equation: '\n",
    "namesdict = [E_l, H_l]\n",
    "vdict[r_s] = 1/vdict[g_sw]\n",
    "vdict[r_a] = eq_ra_hc.rhs().subs(vdict)\n",
    "vdict[gamma_v] = eq_gammav_MU.rhs().subs(vdict)\n",
    "vdict[epsilon] = eq_epsilon.rhs().subs(vdict)\n",
    "vdict[E_l] = eq_El_PM2.rhs().subs(vdict)\n",
    "vdict[H_l] = (R_s - R_ll - E_l).subs(vdict)\n",
    "\n",
    "for name1 in namesdict:\n",
    "    print str(name1)+' = ' + str(vdict[name1])\n",
    "    \n",
    "print eq_Rs_enbal.subs(vdict)\n",
    "\n",
    "print 'MU-equation: '\n",
    "namesdict = [E_l, H_l]\n",
    "vdict[n_MU] = (a_sh/a_s).subs(vdict)\n",
    "vdict[E_l] = eq_El_MU2.rhs().subs(vdict)\n",
    "vdict[H_l] = (R_s - R_ll - E_l).subs(vdict)\n",
    "\n",
    "for name1 in namesdict:\n",
    "    print str(name1)+' = ' + str(vdict[name1])\n",
    "    \n",
    "print eq_Rs_enbal.subs(vdict)\n",
    "\n",
    "print 'Corrected MU-equation: '\n",
    "namesdict = [E_l, H_l]\n",
    "vdict[E_l] = eq_El_MU_corr.rhs().subs(vdict)\n",
    "vdict[H_l] = (R_s - R_ll - E_l).subs(vdict)\n",
    "\n",
    "for name1 in namesdict:\n",
    "    print str(name1)+' = ' + str(vdict[name1])\n",
    "    \n",
    "print eq_Rs_enbal.subs(vdict)"
   ]
  },
  {
   "cell_type": "markdown",
   "metadata": {},
   "source": [
    "<p><span style=\"color: #ff0000;\">Penman-stomata gives identical results to the general solutions. </span></p>\n",
    "<p><span style=\"color: #ff0000;\">PM-equation greatly over-estimates $E_l$.</span></p>\n",
    "<p><span style=\"color: #ff0000;\">MU-equation greatly under-estimates $E_l$. </span></p>"
   ]
  },
  {
   "cell_type": "markdown",
   "metadata": {
    "collapsed": false
   },
   "source": [
    "## Analytical solution including longwave balance\n",
    "The above analytical solutions eliminated the non-linearity problem of the saturation vapour pressure curve, but they did not take into account that the longwave component of the leaf energy balance ($R_{ll}$) also depends on leaf temperature, as expressed in Eq. {eq_Rll}. Therefore, the above analytical equations are commonly used in conjunction with fixed value of $R_{ll}$, either taken from observations or the assumption that $R_{ll}=0$. Here we will replace the non-linear Eq. {eq_Rll} by its tangent at $T_l = T_a$, which is given by:\n",
    "##### {eq_Rll_tang}\n",
    "\\begin{equation}\n",
    "R_{ll} = 4 a_{sh} \\epsilon_l \\sigma T_a^3 T_l - a_{sh} \\epsilon_l \\sigma (T_w^4 + 3 T_a^4)\n",
    "\\end{equation}\n",
    "This introduces a bias of less than -20~W~m$^{-2}$ in the calculation of $R_{ll}$ for leaf temperatures $\\pm 20$ K of air temperture, compared to Eq. {eq_Rll} (see Fig. {fig:Rll_lin}.\n",
    "\n",
    "\n",
    "\n",
    "We can now use a similar procedure as in Section {sec:Penman_general}, but this time aimed at eliminating $P_{wl}$ using the Penman assumption, rather than eliminating $T_l$. We first eliminate $c_E$ from Eq. {eq_El_cE} by introducing Eq. {eq_gammav_cE}, then insert the Penman assumption (Eq. {eq_Penman_ass}) to eliminate $P_{wl}$ and obtain:\n",
    "##### {eq_El_Tl}\n",
    "\\begin{equation}\n",
    "E_l = \\frac{c_H \\left(\\Delta_{eTa} (T_l - T_a) + P_{was} - P_{wa} \\right)}{\\gamma_v}\n",
    "\\end{equation}\n",
    "We can now insert the linearised Eq. {eq_Rll_tang}, Eq. {eq_El_Tl} and Eq. {eq_Hl_cH} into the energy balance equation (Eq. {eq_Rs_enbal}) and solve for $T_l$ to obtain:\n",
    "##### {eq_Tl_Delta_Rlin}\n",
    "\\begin{equation}\n",
    "T_l = \\frac{R_s + c_H T_a + c_E \\left(\\Delta_{eTa} T_a + P_{wa} - P_{was} \\right) + a_{sh} \\epsilon_l \\sigma \\left(3 T_a^4 + T_w^4 \\right)}\n",
    "{c_H + \\Delta_{eTa} + 4 a_{sh} \\epsilon_l \\sigma T_a^3}\n",
    "\\end{equation}\n",
    "Eq. {eq_Tl_Delta_Rlin} can be re-inserted into Eqs. {eq_Hl_cH}, {eq_El_Tl} and {eq_Rll_tang} to obtain analytical expressions for $H_l$, $E_l$ and $R_{ll}$ respectively, which satisfy the energy balance (Eq. {eq_Rs_enbal}). Alternatively, the value of $T_l$ obtained from Eq. {eq_Tl_Delta_Rlin} for specific conditions could be used to calculate any of the energy balance components using the fundamental equations described in Fig. {fig:flow_enbalance}. In this case, bias in $T_l$ due to simplifying assumptions included in the derivation of Eq. {eq_Tl_Delta_Rlin} would lead to a mismatch in the leaf energy balance."
   ]
  },
  {
   "cell_type": "code",
   "execution_count": 100,
   "metadata": {
    "collapsed": false
   },
   "outputs": [
    {
     "name": "stdout",
     "output_type": "stream",
     "text": [
      "4*T_l^3*a_sh*epsilon_l*sigm\n",
      "[\n",
      "Rll1 == -3*T1^4*a_sh*epsilon_l*sigm - T_w^4*a_sh*epsilon_l*sigm\n",
      "]\n"
     ]
    },
    {
     "data": {
      "text/html": [
       "<html><script type=\"math/tex; mode=display\">\\newcommand{\\Bold}[1]{\\mathbf{#1}}{R_{ll}} = -{\\left(3 \\, T_{a}^{4} - 4 \\, T_{a}^{3} T_{l} + T_{w}^{4}\\right)} {a_{sh}} \\epsilon_{l} {\\sigma}</script></html>"
      ],
      "text/plain": [
       "R_ll == -(3*T_a^4 - 4*T_a^3*T_l + T_w^4)*a_sh*epsilon_l*sigm"
      ]
     },
     "metadata": {},
     "output_type": "display_data"
    },
    {
     "data": {
      "text/plain": [
       "{R_{ll}} = -{\\left(3 \\, T_{a}^{4} - 4 \\, T_{a}^{3} T_{l} + T_{w}^{4}\\right)} {a_{sh}} \\epsilon_{l} {\\sigma}"
      ]
     },
     "execution_count": 100,
     "metadata": {},
     "output_type": "execute_result"
    }
   ],
   "source": [
    "# Linearised R_ll\n",
    "var('T1 Rll1 dRlldT')\n",
    "dRlldT = diff(eq_Rll.rhs(), T_l)\n",
    "print dRlldT\n",
    "soln = solve(dRlldT(T_l = T1)*T1 + Rll1 == eq_Rll.rhs()(T_l = T1), Rll1)\n",
    "print soln\n",
    "# Tangent of R_ll at T1\n",
    "eq_Rll_tang = R_ll == (dRlldT(T_l = T1)*T_l + soln[0].rhs())(T1 = T_a).simplify_full()\n",
    "eq_Rll_tang.show()\n",
    "latex(eq_Rll_tang)"
   ]
  },
  {
   "cell_type": "code",
   "execution_count": 101,
   "metadata": {
    "collapsed": false
   },
   "outputs": [
    {
     "data": {
      "image/png": "[encoded data removed]",
      "text/plain": [
       "Graphics object consisting of 2 graphics primitives"
      ]
     },
     "metadata": {},
     "output_type": "display_data"
    }
   ],
   "source": [
    "vdict = cdict.copy()\n",
    "vdict[T_w] = 300\n",
    "vdict[T_a] = 300\n",
    "P = plot((eq_Rll.rhs().subs(vdict)), (T_l, 280,320), axes = False, frame = True, legend_label = 'non-linear' )\n",
    "P += plot(eq_Rll_tang.rhs().subs(vdict), (T_l, 280,320), linestyle = ':', legend_label = 'linear')\n",
    "P.axes_labels(['Temperature (K)', '$R_{ll}$ (W m$^{-2}$)'])\n",
    "\n",
    "P.save(filename='figures/Rll_lin.pdf', figsize=[5,4],legend_font_size=10, fontsize=8)\n",
    "P.show(figsize=[5,4],legend_font_size=10, fontsize=8)"
   ]
  },
  {
   "cell_type": "code",
   "execution_count": 102,
   "metadata": {
    "collapsed": false
   },
   "outputs": [
    {
     "data": {
      "text/html": [
       "<html><script type=\"math/tex; mode=display\">\\newcommand{\\Bold}[1]{\\mathbf{#1}}E_{l} = -{\\left({P_{wa}} - {P_{wl}}\\right)} c_{E}</script></html>"
      ],
      "text/plain": [
       "E_l == -(P_wa - P_wl)*c_E"
      ]
     },
     "metadata": {},
     "output_type": "display_data"
    },
    {
     "data": {
      "text/html": [
       "<html><script type=\"math/tex; mode=display\">\\newcommand{\\Bold}[1]{\\mathbf{#1}}H_{l} = -{\\left(T_{a} - T_{l}\\right)} c_{H}</script></html>"
      ],
      "text/plain": [
       "H_l == -(T_a - T_l)*c_H"
      ]
     },
     "metadata": {},
     "output_type": "display_data"
    },
    {
     "data": {
      "text/html": [
       "<html><script type=\"math/tex; mode=display\">\\newcommand{\\Bold}[1]{\\mathbf{#1}}{R_{ll}} = -{\\left(3 \\, T_{a}^{4} - 4 \\, T_{a}^{3} T_{l} + T_{w}^{4}\\right)} {a_{sh}} \\epsilon_{l} {\\sigma}</script></html>"
      ],
      "text/plain": [
       "R_ll == -(3*T_a^4 - 4*T_a^3*T_l + T_w^4)*a_sh*epsilon_l*sigm"
      ]
     },
     "metadata": {},
     "output_type": "display_data"
    },
    {
     "data": {
      "text/html": [
       "<html><script type=\"math/tex; mode=display\">\\newcommand{\\Bold}[1]{\\mathbf{#1}}\\gamma_{v} = \\frac{c_{H}}{c_{E}}</script></html>"
      ],
      "text/plain": [
       "gamma_v == c_H/c_E"
      ]
     },
     "metadata": {},
     "output_type": "display_data"
    },
    {
     "data": {
      "text/html": [
       "<html><script type=\"math/tex; mode=display\">\\newcommand{\\Bold}[1]{\\mathbf{#1}}{\\Delta_{eTa}} = \\frac{{P_{was}} - {P_{wl}}}{T_{a} - T_{l}}</script></html>"
      ],
      "text/plain": [
       "Delta_eTa == (P_was - P_wl)/(T_a - T_l)"
      ]
     },
     "metadata": {},
     "output_type": "display_data"
    },
    {
     "data": {
      "text/html": [
       "<html><script type=\"math/tex; mode=display\">\\newcommand{\\Bold}[1]{\\mathbf{#1}}E_{l} = -\\frac{{P_{wa}} c_{H} - {P_{wl}} c_{H}}{\\gamma_{v}}</script></html>"
      ],
      "text/plain": [
       "E_l == -(P_wa*c_H - P_wl*c_H)/gamma_v"
      ]
     },
     "metadata": {},
     "output_type": "display_data"
    },
    {
     "name": "stdout",
     "output_type": "stream",
     "text": [
      "kilogram/second^3 == kilogram/second^3\n"
     ]
    },
    {
     "data": {
      "text/html": [
       "<html><script type=\"math/tex; mode=display\">\\newcommand{\\Bold}[1]{\\mathbf{#1}}E_{l} = -\\frac{{\\left({\\Delta_{eTa}} T_{a} - {\\Delta_{eTa}} T_{l} + {P_{wa}} - {P_{was}}\\right)} c_{H}}{\\gamma_{v}}</script></html>"
      ],
      "text/plain": [
       "E_l == -(Delta_eTa*T_a - Delta_eTa*T_l + P_wa - P_was)*c_H/gamma_v"
      ]
     },
     "metadata": {},
     "output_type": "display_data"
    },
    {
     "name": "stdout",
     "output_type": "stream",
     "text": [
      "kilogram/second^3 == kilogram/second^3\n"
     ]
    },
    {
     "data": {
      "text/html": [
       "<html><script type=\"math/tex; mode=display\">\\newcommand{\\Bold}[1]{\\mathbf{#1}}E_{l} = -\\frac{{\\left({\\Delta_{eTa}} T_{a}^{4} - {\\Delta_{eTa}} T_{w}^{4} + 4 \\, {\\left({P_{wa}} - {P_{was}}\\right)} T_{a}^{3}\\right)} {a_{sh}} c_{E} \\epsilon_{l} {\\sigma} - {\\Delta_{eTa}} R_{s} c_{E} + {\\left({P_{wa}} - {P_{was}}\\right)} c_{E} c_{H}}{4 \\, T_{a}^{3} {a_{sh}} \\epsilon_{l} {\\sigma} + {\\Delta_{eTa}} c_{E} + c_{H}}</script></html>"
      ],
      "text/plain": [
       "E_l == -((Delta_eTa*T_a^4 - Delta_eTa*T_w^4 + 4*(P_wa - P_was)*T_a^3)*a_sh*c_E*epsilon_l*sigm - Delta_eTa*R_s*c_E + (P_wa - P_was)*c_E*c_H)/(4*T_a^3*a_sh*epsilon_l*sigm + Delta_eTa*c_E + c_H)"
      ]
     },
     "metadata": {},
     "output_type": "display_data"
    },
    {
     "name": "stdout",
     "output_type": "stream",
     "text": [
      "kilogram/second^3 == kilogram/second^3\n"
     ]
    },
    {
     "data": {
      "text/html": [
       "<html><script type=\"math/tex; mode=display\">\\newcommand{\\Bold}[1]{\\mathbf{#1}}H_{l} = -\\frac{{\\left(T_{a}^{4} - T_{w}^{4}\\right)} {a_{sh}} c_{H} \\epsilon_{l} {\\sigma} - {\\left({\\left({P_{wa}} - {P_{was}}\\right)} c_{E} + R_{s}\\right)} c_{H}}{4 \\, T_{a}^{3} {a_{sh}} \\epsilon_{l} {\\sigma} + {\\Delta_{eTa}} c_{E} + c_{H}}</script></html>"
      ],
      "text/plain": [
       "H_l == -((T_a^4 - T_w^4)*a_sh*c_H*epsilon_l*sigm - ((P_wa - P_was)*c_E + R_s)*c_H)/(4*T_a^3*a_sh*epsilon_l*sigm + Delta_eTa*c_E + c_H)"
      ]
     },
     "metadata": {},
     "output_type": "display_data"
    },
    {
     "name": "stdout",
     "output_type": "stream",
     "text": [
      "kilogram/second^3 == kilogram/second^3\n"
     ]
    },
    {
     "data": {
      "text/html": [
       "<html><script type=\"math/tex; mode=display\">\\newcommand{\\Bold}[1]{\\mathbf{#1}}T_{l} = \\frac{{\\left(3 \\, T_{a}^{4} + T_{w}^{4}\\right)} {a_{sh}} \\epsilon_{l} {\\sigma} + {\\left({\\Delta_{eTa}} T_{a} + {P_{wa}} - {P_{was}}\\right)} c_{E} + T_{a} c_{H} + R_{s}}{4 \\, T_{a}^{3} {a_{sh}} \\epsilon_{l} {\\sigma} + {\\Delta_{eTa}} c_{E} + c_{H}}</script></html>"
      ],
      "text/plain": [
       "T_l == ((3*T_a^4 + T_w^4)*a_sh*epsilon_l*sigm + (Delta_eTa*T_a + P_wa - P_was)*c_E + T_a*c_H + R_s)/(4*T_a^3*a_sh*epsilon_l*sigm + Delta_eTa*c_E + c_H)"
      ]
     },
     "metadata": {},
     "output_type": "display_data"
    },
    {
     "name": "stdout",
     "output_type": "stream",
     "text": [
      "kelvin == kelvin\n"
     ]
    }
   ],
   "source": [
    "# Analtyical solution: keeping T_l, but eliminating P_wl and using eq_Rll_tang\n",
    "eq_El_cE.show()\n",
    "eq_Hl_cH.show()\n",
    "eq_Rll_tang.show()\n",
    "eq_gammav_cE.show()\n",
    "eq_Penman_ass.show()\n",
    "\n",
    "# Eliminating c_E\n",
    "eq_El_gammav = solve([eq_El_cE, eq_gammav_cE], E_l, c_E)[0][0]\n",
    "print units_check(eq_El_gammav)\n",
    "\n",
    "# Eliminating P_wl\n",
    "eq_El_Tl = solve([eq_El_gammav, eq_Penman_ass], E_l, P_wl)[0][0]\n",
    "print units_check(eq_El_Tl)\n",
    "\n",
    "# Solving for E_l, H_l and T_l\n",
    "soln = solve([eq_El_Tl, eq_Hl_cH, eq_Rs_enbal.subs(eq_Rll_tang(T1 = T_a))], E_l, H_l, T_l)\n",
    "[eq_El_Delta_Rlllin, eq_Hl_Delta_Rlllin, eq_Tl_Delta_Rlllin] = [eq1.subs(eq_gammav_cE).simplify_full() for eq1 in flatten(soln)]\n",
    "for eq1 in [eq_El_Delta_Rlllin, eq_Hl_Delta_Rlllin, eq_Tl_Delta_Rlllin]:\n",
    "    print units_check(eq1)"
   ]
  },
  {
   "cell_type": "code",
   "execution_count": 103,
   "metadata": {
    "collapsed": false
   },
   "outputs": [
    {
     "data": {
      "text/html": [
       "<html><script type=\"math/tex; mode=display\">\\newcommand{\\Bold}[1]{\\mathbf{#1}}T_{l} = \\frac{{\\left(3 \\, T_{a}^{4} + T_{w}^{4}\\right)} {a_{sh}} \\epsilon_{l} {\\sigma} + {\\left({\\Delta_{eTa}} T_{a} + {P_{wa}} - {P_{was}}\\right)} c_{E} + T_{a} c_{H} + R_{s}}{4 \\, T_{a}^{3} {a_{sh}} \\epsilon_{l} {\\sigma} + {\\Delta_{eTa}} c_{E} + c_{H}}</script></html>"
      ],
      "text/plain": [
       "T_l == ((3*T_a^4 + T_w^4)*a_sh*epsilon_l*sigm + (Delta_eTa*T_a + P_wa - P_was)*c_E + T_a*c_H + R_s)/(4*T_a^3*a_sh*epsilon_l*sigm + Delta_eTa*c_E + c_H)"
      ]
     },
     "metadata": {},
     "output_type": "display_data"
    },
    {
     "data": {
      "text/plain": [
       "kelvin == kelvin"
      ]
     },
     "execution_count": 103,
     "metadata": {},
     "output_type": "execute_result"
    }
   ],
   "source": [
    "soln = solve(eq_Rs_enbal.subs(eq_Rll_tang, eq_El_Tl, eq_Hl_cH), T_l)\n",
    "eq_Tl_Delta_Rlllin = soln[0].subs(eq_gammav_cE).simplify_full()\n",
    "units_check(eq_Tl_Delta_Rlllin)"
   ]
  },
  {
   "cell_type": "code",
   "execution_count": 104,
   "metadata": {
    "collapsed": false
   },
   "outputs": [
    {
     "data": {
      "text/html": [
       "<html><script type=\"math/tex; mode=display\">\\newcommand{\\Bold}[1]{\\mathbf{#1}}E_{l} = -\\frac{{\\left({\\Delta_{eTa}} T_{a}^{4} - {\\Delta_{eTa}} T_{w}^{4} + 4 \\, {\\left({P_{wa}} - {P_{was}}\\right)} T_{a}^{3}\\right)} {a_{sh}} c_{E} \\epsilon_{l} {\\sigma} - {\\Delta_{eTa}} R_{s} c_{E} + {\\left({P_{wa}} - {P_{was}}\\right)} c_{E} c_{H}}{4 \\, T_{a}^{3} {a_{sh}} \\epsilon_{l} {\\sigma} + {\\Delta_{eTa}} c_{E} + c_{H}}</script></html>"
      ],
      "text/plain": [
       "E_l == -((Delta_eTa*T_a^4 - Delta_eTa*T_w^4 + 4*(P_wa - P_was)*T_a^3)*a_sh*c_E*epsilon_l*sigm - Delta_eTa*R_s*c_E + (P_wa - P_was)*c_E*c_H)/(4*T_a^3*a_sh*epsilon_l*sigm + Delta_eTa*c_E + c_H)"
      ]
     },
     "metadata": {},
     "output_type": "display_data"
    },
    {
     "data": {
      "text/html": [
       "<html><script type=\"math/tex; mode=display\">\\newcommand{\\Bold}[1]{\\mathbf{#1}}E_{l} = -\\frac{{\\left(M_{w} {P_{wa}} T_{w}^{4} + {\\left(3 \\, M_{w} {P_{wa}} - 4 \\, M_{w} {P_{wl}}\\right)} T_{a}^{4}\\right)} {a_{sh}} \\epsilon_{l} {g_{tw}} \\lambda_{E} {\\sigma} + {\\left(M_{w} {P_{wa}} R_{s} + {\\left(M_{w} {P_{wa}} - M_{w} {P_{wl}}\\right)} T_{a} c_{H} + {\\left(M_{w} {P_{wa}}^{2} - M_{w} {P_{wa}} {P_{was}} + {\\left({\\Delta_{eTa}} M_{w} {P_{wa}} - {\\Delta_{eTa}} M_{w} {P_{wl}}\\right)} T_{a}\\right)} c_{E}\\right)} {g_{tw}} \\lambda_{E}}{{R_{mol}} T_{a}^{2} c_{H} + {\\left(3 \\, {R_{mol}} T_{a}^{5} + {R_{mol}} T_{a} T_{w}^{4}\\right)} {a_{sh}} \\epsilon_{l} {\\sigma} + {R_{mol}} R_{s} T_{a} + {\\left({\\Delta_{eTa}} {R_{mol}} T_{a}^{2} + {\\left({P_{wa}} - {P_{was}}\\right)} {R_{mol}} T_{a}\\right)} c_{E}}</script></html>"
      ],
      "text/plain": [
       "E_l == -((M_w*P_wa*T_w^4 + (3*M_w*P_wa - 4*M_w*P_wl)*T_a^4)*a_sh*epsilon_l*g_tw*lambda_E*sigm + (M_w*P_wa*R_s + (M_w*P_wa - M_w*P_wl)*T_a*c_H + (M_w*P_wa^2 - M_w*P_wa*P_was + (Delta_eTa*M_w*P_wa - Delta_eTa*M_w*P_wl)*T_a)*c_E)*g_tw*lambda_E)/(R_mol*T_a^2*c_H + (3*R_mol*T_a^5 + R_mol*T_a*T_w^4)*a_sh*epsilon_l*sigm + R_mol*R_s*T_a + (Delta_eTa*R_mol*T_a^2 + (P_wa - P_was)*R_mol*T_a)*c_E)"
      ]
     },
     "metadata": {},
     "output_type": "display_data"
    },
    {
     "data": {
      "text/html": [
       "<html><script type=\"math/tex; mode=display\">\\newcommand{\\Bold}[1]{\\mathbf{#1}}H_{l} = -\\frac{{\\left(T_{a}^{4} - T_{w}^{4}\\right)} {a_{sh}} c_{H} \\epsilon_{l} {\\sigma} - {\\left({\\left({P_{wa}} - {P_{was}}\\right)} c_{E} + R_{s}\\right)} c_{H}}{4 \\, T_{a}^{3} {a_{sh}} \\epsilon_{l} {\\sigma} + {\\Delta_{eTa}} c_{E} + c_{H}}</script></html>"
      ],
      "text/plain": [
       "H_l == -((T_a^4 - T_w^4)*a_sh*c_H*epsilon_l*sigm - ((P_wa - P_was)*c_E + R_s)*c_H)/(4*T_a^3*a_sh*epsilon_l*sigm + Delta_eTa*c_E + c_H)"
      ]
     },
     "metadata": {},
     "output_type": "display_data"
    },
    {
     "data": {
      "text/html": [
       "<html><script type=\"math/tex; mode=display\">\\newcommand{\\Bold}[1]{\\mathbf{#1}}{R_{ll}} = \\frac{{\\left(4 \\, R_{s} T_{a}^{3} {a_{sh}} + {\\left({\\Delta_{eTa}} T_{a}^{4} - {\\Delta_{eTa}} T_{w}^{4} + 4 \\, {\\left({P_{wa}} - {P_{was}}\\right)} T_{a}^{3}\\right)} {a_{sh}} c_{E} + {\\left(T_{a}^{4} - T_{w}^{4}\\right)} {a_{sh}} c_{H}\\right)} \\epsilon_{l} {\\sigma}}{4 \\, T_{a}^{3} {a_{sh}} \\epsilon_{l} {\\sigma} + {\\Delta_{eTa}} c_{E} + c_{H}}</script></html>"
      ],
      "text/plain": [
       "R_ll == (4*R_s*T_a^3*a_sh + (Delta_eTa*T_a^4 - Delta_eTa*T_w^4 + 4*(P_wa - P_was)*T_a^3)*a_sh*c_E + (T_a^4 - T_w^4)*a_sh*c_H)*epsilon_l*sigm/(4*T_a^3*a_sh*epsilon_l*sigm + Delta_eTa*c_E + c_H)"
      ]
     },
     "metadata": {},
     "output_type": "display_data"
    }
   ],
   "source": [
    "eq_El_Tl.subs(eq_Tl_Delta_Rlllin).subs(eq_gammav_cE).simplify_full().show()\n",
    "eq_El.subs(eq_Elmol).subs(eq_Cwa, eq_Cwl).subs(eq_Tl_Delta_Rlllin).simplify_full().show()\n",
    "eq_Hl_cH.subs(eq_Tl_Delta_Rlllin).simplify_full().show()\n",
    "eq_Rll_tang.subs(eq_Tl_Delta_Rlllin).simplify_full().show()"
   ]
  },
  {
   "cell_type": "code",
   "execution_count": 105,
   "metadata": {
    "collapsed": false
   },
   "outputs": [
    {
     "name": "stdout",
     "output_type": "stream",
     "text": [
      "T_l = 308.321395271\n",
      "E_l = 180.542235053941\n",
      "H_l = 150.521099595469\n",
      "R_ll = 68.9366653505872\n",
      "g_bw = 0.0131620455576424\n",
      "g_tw = 0.00291849206962754\n",
      "Direct estimates: \n",
      "E_l = 177.353891811830\n",
      "H_l = 153.963492920038\n",
      "T_l = 308.443094724766\n",
      "R_ll = 68.6826152681320\n",
      "308.443094724766 == 308.443094724766\n",
      "308.443094724766 == 308.443094724766\n",
      "308.443094724766 == 307.807922524752\n",
      "400 == 400.000000000000\n",
      "Using T_l from eq_Tl_Delta_Rlllin.rhs() only to calculate R_ll: \n",
      "T_l = 308.443094724766\n",
      "R_ll = 70.5556017512511\n",
      "E_l = 176.784812127415\n",
      "H_l = 152.659586121334\n",
      "400 == 400.000000000000\n",
      "Penman-stomata: \n",
      "E_l = 198.222104889662\n",
      "H_l = 201.777895110338\n",
      "T_l = 310.133484539870\n",
      "400 == 400.000000000000\n",
      "PM-equation: \n",
      "E_l = 241.448619283973\n",
      "H_l = 158.551380716027\n",
      "400 == 400.000000000000\n",
      "MU-equation: \n",
      "E_l = 156.668183937778\n",
      "H_l = 243.331816062222\n",
      "400 == 400.000000000000\n",
      "Corrected MU-equation: \n",
      "E_l = 195.741933442269\n",
      "H_l = 204.258066557731\n",
      "400 == 400.000000000000\n"
     ]
    }
   ],
   "source": [
    "# Fig. 8 in Ball et al. 1988\n",
    "vdict = cdict.copy()\n",
    "vdict[a_s] = 1\n",
    "vdict[L_l] = 0.07\n",
    "vdict[P_a] = 101325\n",
    "vdict[P_wa] = 20/1000*101325\n",
    "vdict[R_s] = 400\n",
    "vdict[Re_c] = 3000\n",
    "vdict[T_a] = 273+30\n",
    "vdict[T_w] = vdict[T_a]\n",
    "vdict[g_sw] = 0.15/40\n",
    "#vdict[g_sv] = 1e-6\n",
    "\n",
    "vdict[v_w] = 1.\n",
    "resdict = fun_SS(vdict)\n",
    "for name1 in [T_l, E_l, H_l, R_ll, g_bw, g_tw]:\n",
    "    print str(name1)+' = ' + str(resdict[name1])\n",
    "\n",
    "vdict[P_was] = eq_Pwl.rhs()(T_l = T_a).subs(vdict) \n",
    "vdict[Delta_eTa] = eq_Deltaeta_T.rhs().subs(vdict)\n",
    "vdict[k_a] = eq_ka.rhs().subs(vdict)\n",
    "vdict[nu_a] = eq_nua.rhs().subs(vdict)\n",
    "vdict[Re] = eq_Re.rhs().subs(vdict)\n",
    "vdict[Nu] = eq_Nu_forced_all.rhs().subs(vdict)\n",
    "vdict[h_c] = eq_hc.rhs().subs(vdict) \n",
    "\n",
    "vdict[P_N2] = eq_PN2.rhs().subs(vdict)\n",
    "vdict[P_O2] = eq_PO2.rhs().subs(vdict)\n",
    "vdict[alpha_a] = eq_alphaa.rhs().subs(vdict)\n",
    "vdict[k_a] = eq_ka.rhs().subs(vdict)\n",
    "vdict[D_va] = eq_Dva.rhs().subs(vdict)\n",
    "vdict[Le] = eq_Le.rhs().subs(vdict)\n",
    "vdict[rho_a] = eq_rhoa_Pwa_Ta.rhs().subs(vdict) \n",
    "vdict[g_bw] = eq_gbw_hc.rhs().subs(vdict)\n",
    "vdict[g_tw] = eq_gtw.rhs().subs(vdict)\n",
    "vdict[g_twmol] = eq_gtwmol_gtw_iso.rhs().subs(vdict)\n",
    "\n",
    "\n",
    "print 'Direct estimates: '\n",
    "namesdict = [E_l, H_l, T_l, R_ll]\n",
    "vdict[E_l] = eq_El_Delta_Rlllin.rhs().subs(eq_ce_conv, eq_ch_hc).subs(vdict)\n",
    "vdict[H_l] = eq_Hl_Delta_Rlllin.rhs().subs(eq_ce_conv, eq_ch_hc).subs(vdict)\n",
    "vdict[T_l] = eq_Tl_Delta_Rlllin.rhs().subs(eq_ce_conv, eq_ch_hc).subs(vdict)\n",
    "vdict[R_ll] = eq_Rll_tang.rhs().subs(vdict)\n",
    "\n",
    "for name1 in namesdict:\n",
    "    print str(name1)+' = ' + str(vdict[name1])\n",
    "    \n",
    "print eq_Tl_Delta.subs(eq_ce_conv, eq_ch_hc).subs(vdict)\n",
    "print eq_Tl_Delta1.subs(eq_ce_conv, eq_ch_hc).subs(vdict)\n",
    "print eq_Tl_Delta2.subs(eq_ce_conv, eq_ch_hc).subs(vdict)\n",
    "print eq_Rs_enbal.subs(vdict)\n",
    "\n",
    "print 'Using T_l from eq_Tl_Delta_Rlllin.rhs() only to calculate R_ll: '\n",
    "namesdict = [T_l, R_ll, E_l, H_l]\n",
    "vdict[R_ll] = 0\n",
    "vdict[T_l] = eq_Tl_Delta_Rlllin.rhs().subs(eq_ce_conv, eq_ch_hc).subs(vdict)\n",
    "vdict[R_ll] = eq_Rll.rhs().subs(vdict)\n",
    "vdict[E_l] = eq_El_Delta.rhs().subs(eq_ce_conv, eq_ch_hc).subs(vdict)\n",
    "vdict[H_l] = eq_Hl_Delta.rhs().subs(eq_ce_conv, eq_ch_hc).subs(vdict)\n",
    "\n",
    "for name1 in namesdict:\n",
    "    print str(name1)+' = ' + str(vdict[name1])\n",
    "print eq_Rs_enbal.subs(vdict)\n",
    "\n",
    "vdict[R_ll] = 0\n",
    "print 'Penman-stomata: '\n",
    "namesdict = [E_l, H_l, T_l]\n",
    "vdict[S] = eq_S_gbw_gsw.rhs().subs(vdict)\n",
    "vdict[f_u] = eq_fu_gbw.rhs().subs(vdict)\n",
    "vdict[gamma_v] = eq_gammav_as.rhs().subs(vdict)\n",
    "vdict[E_l] = eq_El_P52.rhs().subs(vdict)\n",
    "vdict[H_l] = eq_Hl_P52.rhs().subs(vdict)\n",
    "vdict[T_l] = eq_Tl_P52.rhs().subs(vdict)\n",
    "for name1 in namesdict:\n",
    "    print str(name1)+' = ' + str(vdict[name1])\n",
    "    \n",
    "print eq_Rs_enbal.subs(vdict)\n",
    "\n",
    "print 'PM-equation: '\n",
    "namesdict = [E_l, H_l]\n",
    "vdict[r_s] = 1/vdict[g_sw]\n",
    "vdict[r_a] = eq_ra_hc.rhs().subs(vdict)\n",
    "vdict[gamma_v] = eq_gammav_MU.rhs().subs(vdict)\n",
    "vdict[epsilon] = eq_epsilon.rhs().subs(vdict)\n",
    "vdict[E_l] = eq_El_PM2.rhs().subs(vdict)\n",
    "vdict[H_l] = (R_s - R_ll - E_l).subs(vdict)\n",
    "\n",
    "for name1 in namesdict:\n",
    "    print str(name1)+' = ' + str(vdict[name1])\n",
    "    \n",
    "print eq_Rs_enbal.subs(vdict)\n",
    "\n",
    "print 'MU-equation: '\n",
    "namesdict = [E_l, H_l]\n",
    "vdict[n_MU] = (a_sh/a_s).subs(vdict)\n",
    "vdict[E_l] = eq_El_MU2.rhs().subs(vdict)\n",
    "vdict[H_l] = (R_s - R_ll - E_l).subs(vdict)\n",
    "\n",
    "for name1 in namesdict:\n",
    "    print str(name1)+' = ' + str(vdict[name1])\n",
    "    \n",
    "print eq_Rs_enbal.subs(vdict)\n",
    "\n",
    "print 'Corrected MU-equation: '\n",
    "namesdict = [E_l, H_l]\n",
    "vdict[E_l] = eq_El_MU_corr.rhs().subs(vdict)\n",
    "vdict[H_l] = (R_s - R_ll - E_l).subs(vdict)\n",
    "\n",
    "for name1 in namesdict:\n",
    "    print str(name1)+' = ' + str(vdict[name1])\n",
    "    \n",
    "print eq_Rs_enbal.subs(vdict)"
   ]
  },
  {
   "cell_type": "markdown",
   "metadata": {},
   "source": [
    "<p><span style=\"color: #ff0000;\">The use of the linearised R_ll improves accurcay significantly compared to eq_Tl_Delta!</span></p>"
   ]
  },
  {
   "cell_type": "code",
   "execution_count": 106,
   "metadata": {
    "collapsed": true
   },
   "outputs": [],
   "source": [
    "save_session('temp/E_PM_eqs')"
   ]
  },
  {
   "cell_type": "code",
   "execution_count": null,
   "metadata": {
    "collapsed": true
   },
   "outputs": [],
   "source": []
  }
 ],
 "metadata": {
  "kernelspec": {
   "display_name": "SageMath 7.3",
   "language": "",
   "name": "sagemath"
  },
  "language": "python",
  "language_info": {
   "codemirror_mode": {
    "name": "ipython",
    "version": 2
   },
   "file_extension": ".py",
   "mimetype": "text/x-python",
   "name": "python",
   "nbconvert_exporter": "python",
   "pygments_lexer": "ipython2",
   "version": "2.7.10"
  },
  "nav_menu": {},
  "toc": {
   "navigate_menu": true,
   "number_sections": true,
   "sideBar": true,
   "threshold": 6,
   "toc_cell": false,
   "toc_section_display": "block",
   "toc_window_display": true
  },
  "toc_position": {
   "height": "932px",
   "left": "0px",
   "right": "1708px",
   "top": "107px",
   "width": "212px"
  }
 },
 "nbformat": 4,
 "nbformat_minor": 0
}
