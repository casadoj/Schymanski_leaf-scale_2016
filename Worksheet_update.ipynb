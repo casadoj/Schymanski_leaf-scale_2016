{
 "cells": [
  {
   "cell_type": "markdown",
   "metadata": {},
   "source": [
    "# Sequential update of worksheet files\n",
    "This worksheet exports other worksheets to .sage files in order to save time when executing every particular worksheet.\n",
    "It can also be used to consecutively run other worksheets, by exporting them to .sage files and then loading them into the current worksheet, which executes all the code in each worksheet."
   ]
  },
  {
   "cell_type": "code",
   "execution_count": 1,
   "metadata": {
    "collapsed": false
   },
   "outputs": [],
   "source": [
    "import json   # for reading notebook metadata\n",
    "def fun_export_ipynb(worksheet, folder):\n",
    "    '''\n",
    "    Exports worksheet.ipynb to a .py or .sage depending on kernel.\n",
    "    Example:\n",
    "    fun_export_ipynb('Worksheet_setup', 'temp/')\n",
    "    Need to import json before using this function. Unless option output=True is given,\n",
    "    each line of text has a semicolon added in the .py file, preventing any output.\n",
    "    '''\n",
    "    str1 = 'jupyter nbconvert  --to=python \\'' + worksheet+'.ipynb\\''\n",
    "    print str1\n",
    "    print 'Exporting specified worksheet to .py file...'\n",
    "    \n",
    "    try:\n",
    "        retcode = os.system(str1)\n",
    "        if retcode < 0:\n",
    "            print >>sys.stderr, \"nbconvert was terminated by signal\", -retcode\n",
    "        else:\n",
    "            print >>sys.stderr, \"nbconvert returned\", retcode\n",
    "    except OSError as e:\n",
    "        print >>sys.stderr, \"Execution failed:\", e\n",
    "        print >>sys.stderr, \"Trying ipython nbconvert instead...\"\n",
    "        str1 = 'ipython nbconvert  --to script \\'' + worksheet+'.ipynb\\''    # for new version of python\n",
    "        try:      \n",
    "            retcode = os.system(str1)\n",
    "            if retcode < 0:\n",
    "                print >>sys.stderr, \"nbconvert was terminated by signal\", -retcode\n",
    "            else:\n",
    "                print >>sys.stderr, \"nbconvert returned\", retcode\n",
    "        except OSError as e:\n",
    "            print >>sys.stderr, \"Execution failed:\", e              \n",
    "\n",
    "    str1 = worksheet + '.py'\n",
    "    \n",
    "    print 'Checking if specified ipynb file was run with sage kernel...'\n",
    "    with open(worksheet+'.ipynb') as data_file:    \n",
    "        data = json.load(data_file)\n",
    "    \n",
    "    if data['metadata']['kernelspec']['name'][0:4] == 'sage':\n",
    "        print 'Renaming .py file to .sage if notebook kernel was sage (to avoid exponent error)'\n",
    "        str2 = folder + worksheet + '.sage'\n",
    "        os.rename(str1, str2)"
   ]
  },
  {
   "cell_type": "code",
   "execution_count": 2,
   "metadata": {
    "collapsed": false,
    "scrolled": true
   },
   "outputs": [
    {
     "name": "stdout",
     "output_type": "stream",
     "text": [
      "jupyter nbconvert  --to=python 'Worksheet_setup.ipynb'\n",
      "Exporting specified worksheet to .py file...\n",
      "Checking if specified ipynb file was run with sage kernel...\n",
      "Renaming .py file to .sage if notebook kernel was sage (to avoid exponent error)\n"
     ]
    },
    {
     "name": "stderr",
     "output_type": "stream",
     "text": [
      "nbconvert returned 0\n"
     ]
    }
   ],
   "source": [
    "fun_export_ipynb('Worksheet_setup', 'temp/')"
   ]
  },
  {
   "cell_type": "code",
   "execution_count": 4,
   "metadata": {
    "collapsed": false
   },
   "outputs": [
    {
     "name": "stderr",
     "output_type": "stream",
     "text": [
      "/home/sschyman/Programs/sage-upgrade/local/lib/python2.7/site-packages/traitlets/traitlets.py:770: DeprecationWarning: A parent of InlineBackend._config_changed has adopted the new @observe(change) API\n",
      "  clsname, change_or_name), DeprecationWarning)\n"
     ]
    }
   ],
   "source": [
    "load('temp/Worksheet_setup.sage')"
   ]
  },
  {
   "cell_type": "code",
   "execution_count": 10,
   "metadata": {
    "collapsed": true
   },
   "outputs": [],
   "source": [
    "def fun_export_load_ipynb(list_wsnames, folder):\n",
    "    '''\n",
    "    Exports worksheet 'name' to .sage file and then imports it \n",
    "    into current worksheet, executing all code and displaying its output.\n",
    "    '''\n",
    "    for name in list_wsnames:\n",
    "        fun_export_ipynb(name, folder)\n",
    "        print 'created file ' + folder + name\n",
    "        load(folder + name + '.sage')\n",
    "        print 'imported file ' + folder + name"
   ]
  },
  {
   "cell_type": "code",
   "execution_count": 11,
   "metadata": {
    "collapsed": false
   },
   "outputs": [
    {
     "name": "stdout",
     "output_type": "stream",
     "text": [
      "jupyter nbconvert  --to=python 'leaf_enbalance_eqs.ipynb'\n",
      "Exporting specified worksheet to .py file...\n"
     ]
    },
    {
     "name": "stderr",
     "output_type": "stream",
     "text": [
      "nbconvert returned 0\n"
     ]
    },
    {
     "name": "stdout",
     "output_type": "stream",
     "text": [
      "Checking if specified ipynb file was run with sage kernel...\n",
      "Renaming .py file to .sage if notebook kernel was sage (to avoid exponent error)\n",
      "created file data/leaf_enbalance_eqs\n"
     ]
    },
    {
     "data": {
      "text/html": [
       "<html><script type=\"math/tex; mode=display\">\\newcommand{\\Bold}[1]{\\mathbf{#1}}R_{s} = E_{l} + H_{l} + {R_{ll}}</script></html>"
      ],
      "text/plain": [
       "R_s == E_l + H_l + R_ll"
      ]
     },
     "metadata": {},
     "output_type": "display_data"
    },
    {
     "data": {
      "text/html": [
       "<html><script type=\"math/tex; mode=display\">\\newcommand{\\Bold}[1]{\\mathbf{#1}}{R_{ll}} = {\\left(T_{l}^{4} - T_{w}^{4}\\right)} {a_{sh}} \\epsilon_{l} {\\sigma}</script></html>"
      ],
      "text/plain": [
       "R_ll == (T_l^4 - T_w^4)*a_sh*epsilon_l*sigm"
      ]
     },
     "metadata": {},
     "output_type": "display_data"
    },
    {
     "data": {
      "text/html": [
       "<html><script type=\"math/tex; mode=display\">\\newcommand{\\Bold}[1]{\\mathbf{#1}}H_{l} = -{\\left(T_{a} - T_{l}\\right)} {a_{sh}} h_{c}</script></html>"
      ],
      "text/plain": [
       "H_l == -(T_a - T_l)*a_sh*h_c"
      ]
     },
     "metadata": {},
     "output_type": "display_data"
    },
    {
     "data": {
      "text/html": [
       "<html><script type=\"math/tex; mode=display\">\\newcommand{\\Bold}[1]{\\mathbf{#1}}E_{l} = {E_{l,mol}} M_{w} \\lambda_{E}</script></html>"
      ],
      "text/plain": [
       "E_l == E_lmol*M_w*lambda_E"
      ]
     },
     "metadata": {},
     "output_type": "display_data"
    },
    {
     "data": {
      "text/html": [
       "<html><script type=\"math/tex; mode=display\">\\newcommand{\\Bold}[1]{\\mathbf{#1}}M_{w} \\lambda_{E}</script></html>"
      ],
      "text/plain": [
       "M_w*lambda_E"
      ]
     },
     "metadata": {},
     "output_type": "display_data"
    },
    {
     "name": "stdout",
     "output_type": "stream",
     "text": [
      "44100.0000000000kilogram*meter^2/(mole*second^2)\n"
     ]
    },
    {
     "data": {
      "text/html": [
       "<html><script type=\"math/tex; mode=display\">\\newcommand{\\Bold}[1]{\\mathbf{#1}}{E_{l,mol}} = -{\\left({C_{wa}} - {C_{wl}}\\right)} {g_{tw}}</script></html>"
      ],
      "text/plain": [
       "E_lmol == -(C_wa - C_wl)*g_tw"
      ]
     },
     "metadata": {},
     "output_type": "display_data"
    },
    {
     "data": {
      "text/html": [
       "<html><script type=\"math/tex; mode=display\">\\newcommand{\\Bold}[1]{\\mathbf{#1}}{g_{tw}} = \\frac{{g_{bw}} {g_{sw}}}{{g_{bw}} + {g_{sw}}}</script></html>"
      ],
      "text/plain": [
       "g_tw == g_bw*g_sw/(g_bw + g_sw)"
      ]
     },
     "metadata": {},
     "output_type": "display_data"
    },
    {
     "data": {
      "text/html": [
       "<html><script type=\"math/tex; mode=display\">\\newcommand{\\Bold}[1]{\\mathbf{#1}}{g_{tw}} = \\frac{1}{\\frac{1}{{g_{bw}}} + \\frac{1}{{g_{sw}}}}</script></html>"
      ],
      "text/plain": [
       "g_tw == (1/(1/g_bw + 1/g_sw))"
      ]
     },
     "metadata": {},
     "output_type": "display_data"
    },
    {
     "data": {
      "text/html": [
       "<html><script type=\"math/tex; mode=display\">\\newcommand{\\Bold}[1]{\\mathbf{#1}}{g_{bw}} = \\frac{{D_{va}} {N_{Sh_L}}}{L_{l}}</script></html>"
      ],
      "text/plain": [
       "g_bw == D_va*Sh/L_l"
      ]
     },
     "metadata": {},
     "output_type": "display_data"
    },
    {
     "data": {
      "text/html": [
       "<html><script type=\"math/tex; mode=display\">\\newcommand{\\Bold}[1]{\\mathbf{#1}}{g_{bw}} = \\frac{a_{s} h_{c}}{{N_{Le}}^{\\frac{2}{3}} {c_{pa}} \\rho_{a}}</script></html>"
      ],
      "text/plain": [
       "g_bw == a_s*h_c/(Le^(2/3)*c_pa*rho_a)"
      ]
     },
     "metadata": {},
     "output_type": "display_data"
    },
    {
     "name": "stdout",
     "output_type": "stream",
     "text": [
      "meter/second == meter/second\n"
     ]
    },
    {
     "data": {
      "text/html": [
       "<html><script type=\"math/tex; mode=display\">\\newcommand{\\Bold}[1]{\\mathbf{#1}}{N_{Le}} = \\frac{\\alpha_{a}}{{D_{va}}}</script></html>"
      ],
      "text/plain": [
       "Le == alpha_a/D_va"
      ]
     },
     "metadata": {},
     "output_type": "display_data"
    },
    {
     "data": {
      "text/html": [
       "<html><script type=\"math/tex; mode=display\">\\newcommand{\\Bold}[1]{\\mathbf{#1}}{C_{wl}} = \\frac{{P_{wl}}}{{R_{mol}} T_{l}}</script></html>"
      ],
      "text/plain": [
       "C_wl == P_wl/(R_mol*T_l)"
      ]
     },
     "metadata": {},
     "output_type": "display_data"
    },
    {
     "name": "stdout",
     "output_type": "stream",
     "text": [
      "mole/meter^3 == mole/meter^3\n"
     ]
    },
    {
     "data": {
      "text/html": [
       "<html><script type=\"math/tex; mode=display\">\\newcommand{\\Bold}[1]{\\mathbf{#1}}{P_{wl}} = 611 \\, e^{\\left(-\\frac{M_{w} \\lambda_{E} {\\left(\\frac{273}{T_{l}} - 1\\right)}}{273 \\, {R_{mol}}}\\right)}</script></html>"
      ],
      "text/plain": [
       "P_wl == 611*e^(-1/273*M_w*lambda_E*(273/T_l - 1)/R_mol)"
      ]
     },
     "metadata": {},
     "output_type": "display_data"
    },
    {
     "data": {
      "text/html": [
       "<html><script type=\"math/tex; mode=display\">\\newcommand{\\Bold}[1]{\\mathbf{#1}}{E_{l,mol}} = -\\frac{{\\left({P_{wa}} - {P_{wl}}\\right)} {g_{tw,mol}}}{P_{a}}</script></html>"
      ],
      "text/plain": [
       "E_lmol == -(P_wa - P_wl)*g_twmol/P_a"
      ]
     },
     "metadata": {},
     "output_type": "display_data"
    },
    {
     "name": "stdout",
     "output_type": "stream",
     "text": [
      "mole/(meter^2*second) == mole/(meter^2*second)\n"
     ]
    },
    {
     "data": {
      "text/html": [
       "<html><script type=\"math/tex; mode=display\">\\newcommand{\\Bold}[1]{\\mathbf{#1}}{g_{tw,mol}} = -\\frac{{\\left(P_{a} {P_{wl}} T_{a} - P_{a} {P_{wa}} T_{l}\\right)} {g_{tw}}}{{\\left({P_{wa}} - {P_{wl}}\\right)} {R_{mol}} T_{a} T_{l}}</script></html>"
      ],
      "text/plain": [
       "g_twmol == -(P_a*P_wl*T_a - P_a*P_wa*T_l)*g_tw/((P_wa - P_wl)*R_mol*T_a*T_l)"
      ]
     },
     "metadata": {},
     "output_type": "display_data"
    },
    {
     "name": "stdout",
     "output_type": "stream",
     "text": [
      "mole/(meter^2*second) == mole/(meter^2*second)\n"
     ]
    },
    {
     "data": {
      "text/html": [
       "<html><script type=\"math/tex; mode=display\">\\newcommand{\\Bold}[1]{\\mathbf{#1}}{g_{tw,mol}} = \\frac{P_{a} {g_{tw}}}{{R_{mol}} T_{a}}</script></html>"
      ],
      "text/plain": [
       "g_twmol == P_a*g_tw/(R_mol*T_a)"
      ]
     },
     "metadata": {},
     "output_type": "display_data"
    },
    {
     "name": "stdout",
     "output_type": "stream",
     "text": [
      "mole/(meter^2*second) == mole/(meter^2*second)\n"
     ]
    },
    {
     "data": {
      "text/html": [
       "<html><script type=\"math/tex; mode=display\">\\newcommand{\\Bold}[1]{\\mathbf{#1}}{C_{wa}} = \\frac{{P_{wa}}}{{R_{mol}} T_{a}}</script></html>"
      ],
      "text/plain": [
       "C_wa == P_wa/(R_mol*T_a)"
      ]
     },
     "metadata": {},
     "output_type": "display_data"
    },
    {
     "name": "stdout",
     "output_type": "stream",
     "text": [
      "mole/meter^3 == mole/meter^3\n"
     ]
    },
    {
     "data": {
      "text/html": [
       "<html><script type=\"math/tex; mode=display\">\\newcommand{\\Bold}[1]{\\mathbf{#1}}h_{c} = \\frac{{N_{Nu_L}} k_{a}}{L_{l}}</script></html>"
      ],
      "text/plain": [
       "h_c == Nu*k_a/L_l"
      ]
     },
     "metadata": {},
     "output_type": "display_data"
    },
    {
     "name": "stdout",
     "output_type": "stream",
     "text": [
      "kilogram/(kelvin*second^3) == kilogram/(kelvin*second^3)\n"
     ]
    },
    {
     "data": {
      "text/html": [
       "<html><script type=\"math/tex; mode=display\">\\newcommand{\\Bold}[1]{\\mathbf{#1}}{N_{Re_L}} = \\frac{L_{l} v_{w}}{\\nu_{a}}</script></html>"
      ],
      "text/plain": [
       "Re == L_l*v_w/nu_a"
      ]
     },
     "metadata": {},
     "output_type": "display_data"
    },
    {
     "name": "stdout",
     "output_type": "stream",
     "text": [
      "1 == 1\n"
     ]
    },
    {
     "data": {
      "text/html": [
       "<html><script type=\"math/tex; mode=display\">\\newcommand{\\Bold}[1]{\\mathbf{#1}}{N_{Gr_L}} = \\frac{L_{l}^{3} g {\\left(\\rho_{a} - \\rho_{\\mathit{al}}\\right)}}{\\nu_{a}^{2} \\rho_{\\mathit{al}}}</script></html>"
      ],
      "text/plain": [
       "Gr == L_l^3*g*(rho_a - rho_al)/(nu_a^2*rho_al)"
      ]
     },
     "metadata": {},
     "output_type": "display_data"
    },
    {
     "name": "stdout",
     "output_type": "stream",
     "text": [
      "1 == 1\n"
     ]
    },
    {
     "data": {
      "text/html": [
       "<html><script type=\"math/tex; mode=display\">\\newcommand{\\Bold}[1]{\\mathbf{#1}}{N_{Nu_L}} = {N_{Pr}}^{\\frac{1}{3}} {\\left(-0.0370000000000000 \\, {\\left({N_{Re_L}} + {N_{Re_c}} - \\frac{1}{2} \\, {\\left| {N_{Re_L}} - {N_{Re_c}} \\right|}\\right)}^{\\frac{4}{5}} + 0.0370000000000000 \\, {N_{Re_L}}^{\\frac{4}{5}} + 0.664000000000000 \\, \\sqrt{{N_{Re_L}} + {N_{Re_c}} - \\frac{1}{2} \\, {\\left| {N_{Re_L}} - {N_{Re_c}} \\right|}}\\right)}</script></html>"
      ],
      "text/plain": [
       "Nu == Pr^(1/3)*(-0.0370000000000000*(Re + Re_c - 1/2*abs(Re - Re_c))^(4/5) + 0.0370000000000000*Re^(4/5) + 0.664000000000000*sqrt(Re + Re_c - 1/2*abs(Re - Re_c)))"
      ]
     },
     "metadata": {},
     "output_type": "display_data"
    },
    {
     "data": {
      "text/html": [
       "<html><script type=\"math/tex; mode=display\">\\newcommand{\\Bold}[1]{\\mathbf{#1}}\\rho_{a} = \\frac{M_{N_{2}} {P_{N2}} + M_{O_{2}} {P_{O2}} + M_{w} {P_{wa}}}{{R_{mol}} T_{a}}</script></html>"
      ],
      "text/plain": [
       "rho_a == (M_N2*P_N2 + M_O2*P_O2 + M_w*P_wa)/(R_mol*T_a)"
      ]
     },
     "metadata": {},
     "output_type": "display_data"
    },
    {
     "name": "stdout",
     "output_type": "stream",
     "text": [
      "kilogram/meter^3 == kilogram/meter^3\n"
     ]
    },
    {
     "data": {
      "text/html": [
       "<html><script type=\"math/tex; mode=display\">\\newcommand{\\Bold}[1]{\\mathbf{#1}}P_{a} = {P_{N2}} + {P_{O2}} + {P_{wa}}</script></html>"
      ],
      "text/plain": [
       "P_a == P_N2 + P_O2 + P_wa"
      ]
     },
     "metadata": {},
     "output_type": "display_data"
    },
    {
     "name": "stdout",
     "output_type": "stream",
     "text": [
      "kilogram/(meter*second^2) == kilogram/(meter*second^2)\n"
     ]
    },
    {
     "data": {
      "text/html": [
       "<html><script type=\"math/tex; mode=display\">\\newcommand{\\Bold}[1]{\\mathbf{#1}}{P_{O2}} = \\frac{21}{100} \\, P_{a} - \\frac{21}{100} \\, {P_{wa}}</script></html>"
      ],
      "text/plain": [
       "P_O2 == 21/100*P_a - 21/100*P_wa"
      ]
     },
     "metadata": {},
     "output_type": "display_data"
    },
    {
     "name": "stdout",
     "output_type": "stream",
     "text": [
      "kilogram/(meter*second^2) == kilogram/(meter*second^2)\n"
     ]
    },
    {
     "data": {
      "text/html": [
       "<html><script type=\"math/tex; mode=display\">\\newcommand{\\Bold}[1]{\\mathbf{#1}}{P_{N2}} = \\frac{79}{100} \\, P_{a} - \\frac{79}{100} \\, {P_{wa}}</script></html>"
      ],
      "text/plain": [
       "P_N2 == 79/100*P_a - 79/100*P_wa"
      ]
     },
     "metadata": {},
     "output_type": "display_data"
    },
    {
     "data": {
      "text/html": [
       "<html><script type=\"math/tex; mode=display\">\\newcommand{\\Bold}[1]{\\mathbf{#1}}\\rho_{a} = \\frac{79 \\, M_{N_{2}} {\\left(P_{a} - {P_{wa}}\\right)} + 21 \\, M_{O_{2}} {\\left(P_{a} - {P_{wa}}\\right)} + 100 \\, M_{w} {P_{wa}}}{100 \\, {R_{mol}} T_{a}}</script></html>"
      ],
      "text/plain": [
       "rho_a == 1/100*(79*M_N2*(P_a - P_wa) + 21*M_O2*(P_a - P_wa) + 100*M_w*P_wa)/(R_mol*T_a)"
      ]
     },
     "metadata": {},
     "output_type": "display_data"
    },
    {
     "name": "stdout",
     "output_type": "stream",
     "text": [
      "(1.13400000000000e-7)*T_l^4 - 900.306522304087\n",
      "C_wa            1.29441408346663\n",
      "C_wl            1.91570361006325\n",
      "D_va            0.0000248765000000000\n",
      "E_l             185.424519010311\n",
      "E_lmol          0.00420463761928142\n",
      "H_l             325.157459266011\n",
      "L_l             0.0300000000000000\n",
      "Le              0.888469037042992\n",
      "M_N2            0.0280000000000000\n",
      "M_O2            0.0320000000000000\n",
      "M_w             0.0180000000000000\n",
      "Nu              26.1863624980041\n",
      "P_a             101325         \n",
      "P_wa            3212.56734153661\n",
      "P_wl            4868.42309771766\n",
      "Pr              0.710000000000000\n",
      "R_ll            89.4180217236781\n",
      "R_mol           8.31447200000000\n",
      "R_s             600            \n",
      "Re              1927.40122068744\n",
      "Re_c            3000           \n",
      "T_a             298.500000000000\n",
      "T_l             305.650648423  \n",
      "T_w             298.500000000000\n",
      "a_s             1.00000000000000\n",
      "a_sh            2              \n",
      "alpha_a         0.0000221020000000000\n",
      "c_pa            1010           \n",
      "epsilon_l       1              \n",
      "g               9.81000000000000\n",
      "g_bw            0.0209367439791524\n",
      "g_sw            0.0100000000000000\n",
      "g_tw            0.00676759777734245\n",
      "h_c             22.7362219510171\n",
      "k_a             0.0260474000000000\n",
      "lambda_E        2.45000000000000e6\n",
      "nu_a            0.0000155650000000000\n",
      "rho_a           1.16339248053449\n",
      "sigm            5.67000000000000e-8\n",
      "v_w             1              \n"
     ]
    },
    {
     "data": {
      "text/html": [
       "<html><script type=\"math/tex; mode=display\">\\newcommand{\\Bold}[1]{\\mathbf{#1}}E_{l} = -H_{l} - {R_{ll}} + R_{s}</script></html>"
      ],
      "text/plain": [
       "E_l == -H_l - R_ll + R_s"
      ]
     },
     "metadata": {},
     "output_type": "display_data"
    },
    {
     "name": "stdout",
     "output_type": "stream",
     "text": [
      "jupyter nbconvert  --to=python 'leaf_enbalance_eqs.ipynb'\n",
      "Exporting specified worksheet to .py file...\n"
     ]
    },
    {
     "name": "stderr",
     "output_type": "stream",
     "text": [
      "nbconvert returned 0\n"
     ]
    },
    {
     "name": "stdout",
     "output_type": "stream",
     "text": [
      "Checking if specified ipynb file was run with sage kernel...\n",
      "Renaming .py file to .sage if notebook kernel was sage (to avoid exponent error)\n",
      "imported file data/leaf_enbalance_eqs\n",
      "jupyter nbconvert  --to=python 'E_PM_eqs.ipynb'\n",
      "Exporting specified worksheet to .py file...\n"
     ]
    },
    {
     "name": "stderr",
     "output_type": "stream",
     "text": [
      "nbconvert returned 0\n"
     ]
    },
    {
     "name": "stdout",
     "output_type": "stream",
     "text": [
      "Checking if specified ipynb file was run with sage kernel...\n",
      "Renaming .py file to .sage if notebook kernel was sage (to avoid exponent error)\n",
      "created file data/E_PM_eqs\n"
     ]
    },
    {
     "data": {
      "text/html": [
       "<html><script type=\"math/tex; mode=display\">\\newcommand{\\Bold}[1]{\\mathbf{#1}}E_{w} = -{\\left({P_{wa}} - {P_{wl}}\\right)} f_{u}</script></html>"
      ],
      "text/plain": [
       "E_w == -(P_wa - P_wl)*f_u"
      ]
     },
     "metadata": {},
     "output_type": "display_data"
    },
    {
     "data": {
      "text/html": [
       "<html><script type=\"math/tex; mode=display\">\\newcommand{\\Bold}[1]{\\mathbf{#1}}{\\beta_B} = \\frac{{\\left(T_{a} - T_{l}\\right)} \\gamma_{v}}{{P_{wa}} - {P_{wl}}}</script></html>"
      ],
      "text/plain": [
       "beta_B == (T_a - T_l)*gamma_v/(P_wa - P_wl)"
      ]
     },
     "metadata": {},
     "output_type": "display_data"
    },
    {
     "data": {
      "text/html": [
       "<html><script type=\"math/tex; mode=display\">\\newcommand{\\Bold}[1]{\\mathbf{#1}}{\\Delta_{eTa}} = \\frac{{P_{was}} - {P_{wl}}}{T_{a} - T_{l}}</script></html>"
      ],
      "text/plain": [
       "Delta_eTa == (P_was - P_wl)/(T_a - T_l)"
      ]
     },
     "metadata": {},
     "output_type": "display_data"
    },
    {
     "data": {
      "text/html": [
       "<html><script type=\"math/tex; mode=display\">\\newcommand{\\Bold}[1]{\\mathbf{#1}}{P_{was}} = 611 \\, e^{\\left(-\\frac{M_{w} \\lambda_{E} {\\left(\\frac{273}{T_{a}} - 1\\right)}}{273 \\, {R_{mol}}}\\right)}</script></html>"
      ],
      "text/plain": [
       "P_was == 611*e^(-1/273*M_w*lambda_E*(273/T_a - 1)/R_mol)"
      ]
     },
     "metadata": {},
     "output_type": "display_data"
    },
    {
     "data": {
      "text/html": [
       "<html><script type=\"math/tex; mode=display\">\\newcommand{\\Bold}[1]{\\mathbf{#1}}{\\Delta_{eTa}} = \\frac{611 \\, M_{w} \\lambda_{E} e^{\\left(-\\frac{M_{w} \\lambda_{E} {\\left(\\frac{273}{T_{a}} - 1\\right)}}{273 \\, {R_{mol}}}\\right)}}{{R_{mol}} T_{a}^{2}}</script></html>"
      ],
      "text/plain": [
       "Delta_eTa == 611*M_w*lambda_E*e^(-1/273*M_w*lambda_E*(273/T_a - 1)/R_mol)/(R_mol*T_a^2)"
      ]
     },
     "metadata": {},
     "output_type": "display_data"
    },
    {
     "data": {
      "text/html": [
       "<html><script type=\"math/tex; mode=display\">\\newcommand{\\Bold}[1]{\\mathbf{#1}}{\\beta_B} = \\frac{{\\left({P_{was}} - {P_{wl}}\\right)} \\gamma_{v}}{{\\Delta_{eTa}} {\\left({P_{wa}} - {P_{wl}}\\right)}}</script></html>"
      ],
      "text/plain": [
       "beta_B == (P_was - P_wl)*gamma_v/(Delta_eTa*(P_wa - P_wl))"
      ]
     },
     "metadata": {},
     "output_type": "display_data"
    },
    {
     "data": {
      "text/html": [
       "<html><script type=\"math/tex; mode=display\">\\newcommand{\\Bold}[1]{\\mathbf{#1}}E_{w} = -\\frac{{R_{ll}} - R_{s}}{{\\beta_B} + 1}</script></html>"
      ],
      "text/plain": [
       "E_w == -(R_ll - R_s)/(beta_B + 1)"
      ]
     },
     "metadata": {},
     "output_type": "display_data"
    },
    {
     "name": "stdout",
     "output_type": "stream",
     "text": [
      "[\n",
      "[P_wl == (Delta_eTa*P_wa*f_u + P_was*f_u*gamma_v - Delta_eTa*R_ll + Delta_eTa*R_s)/(Delta_eTa*f_u + f_u*gamma_v), E_w == -((P_wa - P_was)*f_u*gamma_v + Delta_eTa*R_ll - Delta_eTa*R_s)/(Delta_eTa + gamma_v), beta_B == -((P_wa - P_was)*f_u - R_ll + R_s)*gamma_v/((P_wa - P_was)*f_u*gamma_v + Delta_eTa*R_ll - Delta_eTa*R_s)]\n",
      "]\n"
     ]
    },
    {
     "data": {
      "text/html": [
       "<html><script type=\"math/tex; mode=display\">\\newcommand{\\Bold}[1]{\\mathbf{#1}}{P_{wl}} = \\frac{{\\Delta_{eTa}} {P_{wa}} f_{u} + {P_{was}} f_{u} \\gamma_{v} - {\\Delta_{eTa}} {R_{ll}} + {\\Delta_{eTa}} R_{s}}{{\\left({\\Delta_{eTa}} + \\gamma_{v}\\right)} f_{u}}</script></html>"
      ],
      "text/plain": [
       "P_wl == (Delta_eTa*P_wa*f_u + P_was*f_u*gamma_v - Delta_eTa*R_ll + Delta_eTa*R_s)/((Delta_eTa + gamma_v)*f_u)"
      ]
     },
     "metadata": {},
     "output_type": "display_data"
    },
    {
     "data": {
      "text/html": [
       "<html><script type=\"math/tex; mode=display\">\\newcommand{\\Bold}[1]{\\mathbf{#1}}E_{w} = -\\frac{{\\left({P_{wa}} - {P_{was}}\\right)} f_{u} \\gamma_{v} + {\\Delta_{eTa}} {R_{ll}} - {\\Delta_{eTa}} R_{s}}{{\\Delta_{eTa}} + \\gamma_{v}}</script></html>"
      ],
      "text/plain": [
       "E_w == -((P_wa - P_was)*f_u*gamma_v + Delta_eTa*R_ll - Delta_eTa*R_s)/(Delta_eTa + gamma_v)"
      ]
     },
     "metadata": {},
     "output_type": "display_data"
    },
    {
     "data": {
      "text/html": [
       "<html><script type=\"math/tex; mode=display\">\\newcommand{\\Bold}[1]{\\mathbf{#1}}T_{l} = \\frac{T_{a} f_{u} \\gamma_{v} + {\\left({\\Delta_{eTa}} T_{a} + {P_{wa}} - {P_{was}}\\right)} f_{u} - {R_{ll}} + R_{s}}{{\\Delta_{eTa}} f_{u} + f_{u} \\gamma_{v}}</script></html>"
      ],
      "text/plain": [
       "T_l == (T_a*f_u*gamma_v + (Delta_eTa*T_a + P_wa - P_was)*f_u - R_ll + R_s)/(Delta_eTa*f_u + f_u*gamma_v)"
      ]
     },
     "metadata": {},
     "output_type": "display_data"
    },
    {
     "data": {
      "text/html": [
       "<html><script type=\"math/tex; mode=display\">\\newcommand{\\Bold}[1]{\\mathbf{#1}}T_{l} = \\frac{T_{a} f_{u} \\gamma_{v} + {\\left({\\Delta_{eTa}} T_{a} + {P_{wa}} - 611 \\, e^{\\left(-\\frac{M_{w} \\lambda_{E} {\\left(\\frac{273}{T_{a}} - 1\\right)}}{273 \\, {R_{mol}}}\\right)}\\right)} f_{u} - {R_{ll}} + R_{s}}{{\\Delta_{eTa}} f_{u} + f_{u} \\gamma_{v}}</script></html>"
      ],
      "text/plain": [
       "T_l == (T_a*f_u*gamma_v + (Delta_eTa*T_a + P_wa - 611*e^(-1/273*M_w*lambda_E*(273/T_a - 1)/R_mol))*f_u - R_ll + R_s)/(Delta_eTa*f_u + f_u*gamma_v)"
      ]
     },
     "metadata": {},
     "output_type": "display_data"
    },
    {
     "data": {
      "text/html": [
       "<html><script type=\"math/tex; mode=display\">\\newcommand{\\Bold}[1]{\\mathbf{#1}}T_{l} = \\frac{{\\left({\\Delta_{eTa}} f_{u} + f_{u} \\gamma_{v}\\right)} T_{a} + {P_{wa}} f_{u} - {P_{was}} f_{u} - {R_{ll}} + R_{s}}{{\\Delta_{eTa}} f_{u} + f_{u} \\gamma_{v}}</script></html>"
      ],
      "text/plain": [
       "T_l == ((Delta_eTa*f_u + f_u*gamma_v)*T_a + P_wa*f_u - P_was*f_u - R_ll + R_s)/(Delta_eTa*f_u + f_u*gamma_v)"
      ]
     },
     "metadata": {},
     "output_type": "display_data"
    },
    {
     "name": "stdout",
     "output_type": "stream",
     "text": [
      "kelvin == kelvin\n"
     ]
    },
    {
     "data": {
      "text/html": [
       "<html><script type=\"math/tex; mode=display\">\\newcommand{\\Bold}[1]{\\mathbf{#1}}{P_{wl}} = \\frac{{P_{was}} f_{u} \\gamma_{v} + {\\left({P_{wa}} f_{u} - {R_{ll}} + R_{s}\\right)} {\\Delta_{eTa}}}{{\\Delta_{eTa}} f_{u} + f_{u} \\gamma_{v}}</script></html>"
      ],
      "text/plain": [
       "P_wl == (P_was*f_u*gamma_v + (P_wa*f_u - R_ll + R_s)*Delta_eTa)/(Delta_eTa*f_u + f_u*gamma_v)"
      ]
     },
     "metadata": {},
     "output_type": "display_data"
    },
    {
     "data": {
      "text/html": [
       "<html><script type=\"math/tex; mode=display\">\\newcommand{\\Bold}[1]{\\mathbf{#1}}T_{l} = \\frac{273 \\, M_{w} \\lambda_{E}}{M_{w} \\lambda_{E} + 273 \\, {R_{mol}} \\log\\left(\\frac{611 \\, {\\left({\\Delta_{eTa}} f_{u} + f_{u} \\gamma_{v}\\right)}}{{\\Delta_{eTa}} {P_{wa}} f_{u} + {P_{was}} f_{u} \\gamma_{v} - {\\Delta_{eTa}} {R_{ll}} + {\\Delta_{eTa}} R_{s}}\\right)}</script></html>"
      ],
      "text/plain": [
       "T_l == 273*M_w*lambda_E/(M_w*lambda_E + 273*R_mol*log(611*(Delta_eTa*f_u + f_u*gamma_v)/(Delta_eTa*P_wa*f_u + P_was*f_u*gamma_v - Delta_eTa*R_ll + Delta_eTa*R_s)))"
      ]
     },
     "metadata": {},
     "output_type": "display_data"
    },
    {
     "data": {
      "text/html": [
       "<html><script type=\"math/tex; mode=display\">\\newcommand{\\Bold}[1]{\\mathbf{#1}}E_{l} = -{\\left({P_{wa}} - {P_{wl}}\\right)} S f_{u}</script></html>"
      ],
      "text/plain": [
       "E_l == -(P_wa - P_wl)*S*f_u"
      ]
     },
     "metadata": {},
     "output_type": "display_data"
    },
    {
     "data": {
      "text/html": [
       "<html><script type=\"math/tex; mode=display\">\\newcommand{\\Bold}[1]{\\mathbf{#1}}H_{l} = -{\\left(T_{a} - T_{l}\\right)} f_{u} \\gamma_{v}</script></html>"
      ],
      "text/plain": [
       "H_l == -(T_a - T_l)*f_u*gamma_v"
      ]
     },
     "metadata": {},
     "output_type": "display_data"
    },
    {
     "data": {
      "text/html": [
       "<html><script type=\"math/tex; mode=display\">\\newcommand{\\Bold}[1]{\\mathbf{#1}}H_{l} = -\\frac{{\\left({P_{was}} - {P_{wl}}\\right)} f_{u} \\gamma_{v}}{{\\Delta_{eTa}}}</script></html>"
      ],
      "text/plain": [
       "H_l == -(P_was - P_wl)*f_u*gamma_v/Delta_eTa"
      ]
     },
     "metadata": {},
     "output_type": "display_data"
    },
    {
     "data": {
      "text/html": [
       "<html><script type=\"math/tex; mode=display\">\\newcommand{\\Bold}[1]{\\mathbf{#1}}T_{l} = \\frac{{\\Delta_{eTa}} T_{a} - {P_{was}} + {P_{wl}}}{{\\Delta_{eTa}}}</script></html>"
      ],
      "text/plain": [
       "T_l == (Delta_eTa*T_a - P_was + P_wl)/Delta_eTa"
      ]
     },
     "metadata": {},
     "output_type": "display_data"
    },
    {
     "data": {
      "text/html": [
       "<html><script type=\"math/tex; mode=display\">\\newcommand{\\Bold}[1]{\\mathbf{#1}}H_{l} = -\\frac{{\\left({P_{was}} - {P_{wl}}\\right)} f_{u} \\gamma_{v}}{{\\Delta_{eTa}}}</script></html>"
      ],
      "text/plain": [
       "H_l == -(P_was - P_wl)*f_u*gamma_v/Delta_eTa"
      ]
     },
     "metadata": {},
     "output_type": "display_data"
    },
    {
     "data": {
      "text/html": [
       "<html><script type=\"math/tex; mode=display\">\\newcommand{\\Bold}[1]{\\mathbf{#1}}E_{l} = -\\frac{{\\Delta_{eTa}} {\\left({R_{ll}} - R_{s}\\right)} S + {\\left({P_{wa}} S - {P_{was}} S\\right)} f_{u} \\gamma_{v}}{{\\Delta_{eTa}} S + \\gamma_{v}}</script></html>"
      ],
      "text/plain": [
       "E_l == -(Delta_eTa*(R_ll - R_s)*S + (P_wa*S - P_was*S)*f_u*gamma_v)/(Delta_eTa*S + gamma_v)"
      ]
     },
     "metadata": {},
     "output_type": "display_data"
    },
    {
     "name": "stdout",
     "output_type": "stream",
     "text": [
      "kilogram/second^3 == kilogram/second^3\n"
     ]
    },
    {
     "data": {
      "text/html": [
       "<html><script type=\"math/tex; mode=display\">\\newcommand{\\Bold}[1]{\\mathbf{#1}}H_{l} = \\frac{{\\left({\\left({P_{wa}} S - {P_{was}} S\\right)} f_{u} - {R_{ll}} + R_{s}\\right)} \\gamma_{v}}{{\\Delta_{eTa}} S + \\gamma_{v}}</script></html>"
      ],
      "text/plain": [
       "H_l == ((P_wa*S - P_was*S)*f_u - R_ll + R_s)*gamma_v/(Delta_eTa*S + gamma_v)"
      ]
     },
     "metadata": {},
     "output_type": "display_data"
    },
    {
     "name": "stdout",
     "output_type": "stream",
     "text": [
      "kilogram/second^3 == kilogram/second^3\n"
     ]
    },
    {
     "data": {
      "text/html": [
       "<html><script type=\"math/tex; mode=display\">\\newcommand{\\Bold}[1]{\\mathbf{#1}}{P_{wl}} = \\frac{{\\Delta_{eTa}} {P_{wa}} S f_{u} + {P_{was}} f_{u} \\gamma_{v} - {\\Delta_{eTa}} {\\left({R_{ll}} - R_{s}\\right)}}{{\\Delta_{eTa}} S f_{u} + f_{u} \\gamma_{v}}</script></html>"
      ],
      "text/plain": [
       "P_wl == (Delta_eTa*P_wa*S*f_u + P_was*f_u*gamma_v - Delta_eTa*(R_ll - R_s))/(Delta_eTa*S*f_u + f_u*gamma_v)"
      ]
     },
     "metadata": {},
     "output_type": "display_data"
    },
    {
     "name": "stdout",
     "output_type": "stream",
     "text": [
      "kilogram/(meter*second^2) == kilogram/(meter*second^2)\n"
     ]
    },
    {
     "data": {
      "text/html": [
       "<html><script type=\"math/tex; mode=display\">\\newcommand{\\Bold}[1]{\\mathbf{#1}}T_{l} = \\frac{{P_{wa}} S f_{u} - {P_{was}} S f_{u} + {\\left({\\Delta_{eTa}} S f_{u} + f_{u} \\gamma_{v}\\right)} T_{a} - {R_{ll}} + R_{s}}{{\\Delta_{eTa}} S f_{u} + f_{u} \\gamma_{v}}</script></html>"
      ],
      "text/plain": [
       "T_l == (P_wa*S*f_u - P_was*S*f_u + (Delta_eTa*S*f_u + f_u*gamma_v)*T_a - R_ll + R_s)/(Delta_eTa*S*f_u + f_u*gamma_v)"
      ]
     },
     "metadata": {},
     "output_type": "display_data"
    },
    {
     "data": {
      "text/html": [
       "<html><script type=\"math/tex; mode=display\">\\newcommand{\\Bold}[1]{\\mathbf{#1}}S = \\frac{M_{w} {g_{tw,mol}} \\lambda_{E}}{P_{a} f_{u}}</script></html>"
      ],
      "text/plain": [
       "S == M_w*g_twmol*lambda_E/(P_a*f_u)"
      ]
     },
     "metadata": {},
     "output_type": "display_data"
    },
    {
     "data": {
      "text/html": [
       "<html><script type=\"math/tex; mode=display\">\\newcommand{\\Bold}[1]{\\mathbf{#1}}H_{l} = -{\\left(T_{a} - T_{l}\\right)} f_{u} \\gamma_{v}</script></html>"
      ],
      "text/plain": [
       "H_l == -(T_a - T_l)*f_u*gamma_v"
      ]
     },
     "metadata": {},
     "output_type": "display_data"
    },
    {
     "data": {
      "text/html": [
       "<html><script type=\"math/tex; mode=display\">\\newcommand{\\Bold}[1]{\\mathbf{#1}}H_{l} = -{\\left(T_{a} - T_{l}\\right)} {a_{sh}} h_{c}</script></html>"
      ],
      "text/plain": [
       "H_l == -(T_a - T_l)*a_sh*h_c"
      ]
     },
     "metadata": {},
     "output_type": "display_data"
    },
    {
     "data": {
      "text/html": [
       "<html><script type=\"math/tex; mode=display\">\\newcommand{\\Bold}[1]{\\mathbf{#1}}\\gamma_{v} = \\frac{{a_{sh}} h_{c}}{f_{u}}</script></html>"
      ],
      "text/plain": [
       "gamma_v == a_sh*h_c/f_u"
      ]
     },
     "metadata": {},
     "output_type": "display_data"
    },
    {
     "data": {
      "text/html": [
       "<html><script type=\"math/tex; mode=display\">\\newcommand{\\Bold}[1]{\\mathbf{#1}}E_{l} = -{\\left({P_{wa}} - {P_{wl}}\\right)} S f_{u}</script></html>"
      ],
      "text/plain": [
       "E_l == -(P_wa - P_wl)*S*f_u"
      ]
     },
     "metadata": {},
     "output_type": "display_data"
    },
    {
     "data": {
      "text/html": [
       "<html><script type=\"math/tex; mode=display\">\\newcommand{\\Bold}[1]{\\mathbf{#1}}E_{w} = -\\frac{M_{w} {\\left({P_{wa}} - {P_{wl}}\\right)} {g_{bw}} \\lambda_{E}}{{R_{mol}} T_{a}}</script></html>"
      ],
      "text/plain": [
       "E_w == -M_w*(P_wa - P_wl)*g_bw*lambda_E/(R_mol*T_a)"
      ]
     },
     "metadata": {},
     "output_type": "display_data"
    },
    {
     "data": {
      "text/html": [
       "<html><script type=\"math/tex; mode=display\">\\newcommand{\\Bold}[1]{\\mathbf{#1}}f_{u} = \\frac{M_{w} {g_{bw}} \\lambda_{E}}{{R_{mol}} T_{a}}</script></html>"
      ],
      "text/plain": [
       "f_u == M_w*g_bw*lambda_E/(R_mol*T_a)"
      ]
     },
     "metadata": {},
     "output_type": "display_data"
    },
    {
     "data": {
      "text/html": [
       "<html><script type=\"math/tex; mode=display\">\\newcommand{\\Bold}[1]{\\mathbf{#1}}\\gamma_{v} = \\frac{{a_{sh}} h_{c}}{f_{u}}</script></html>"
      ],
      "text/plain": [
       "gamma_v == a_sh*h_c/f_u"
      ]
     },
     "metadata": {},
     "output_type": "display_data"
    },
    {
     "data": {
      "text/html": [
       "<html><script type=\"math/tex; mode=display\">\\newcommand{\\Bold}[1]{\\mathbf{#1}}\\gamma_{v} = \\frac{{N_{Le}}^{\\frac{2}{3}} {R_{mol}} T_{a} {a_{sh}} {c_{pa}} \\rho_{a}}{M_{w} a_{s} \\lambda_{E}}</script></html>"
      ],
      "text/plain": [
       "gamma_v == Le^(2/3)*R_mol*T_a*a_sh*c_pa*rho_a/(M_w*a_s*lambda_E)"
      ]
     },
     "metadata": {},
     "output_type": "display_data"
    },
    {
     "data": {
      "text/html": [
       "<html><script type=\"math/tex; mode=display\">\\newcommand{\\Bold}[1]{\\mathbf{#1}}S = \\frac{{g_{sw}}}{{g_{bw}} + {g_{sw}}}</script></html>"
      ],
      "text/plain": [
       "S == g_sw/(g_bw + g_sw)"
      ]
     },
     "metadata": {},
     "output_type": "display_data"
    },
    {
     "data": {
      "text/html": [
       "<html><script type=\"math/tex; mode=display\">\\newcommand{\\Bold}[1]{\\mathbf{#1}}E_{l} = -\\frac{{\\left(M_{w} {P_{wa}} - M_{w} {P_{was}}\\right)} \\gamma_{v} \\lambda_{E} + {\\left({\\Delta_{eTa}} {R_{ll}} {R_{mol}} - {\\Delta_{eTa}} {R_{mol}} R_{s}\\right)} T_{a} {r_{bw}}}{{R_{mol}} T_{a} \\gamma_{v} {r_{sw}} + {\\left({\\Delta_{eTa}} {R_{mol}} T_{a} + {R_{mol}} T_{a} \\gamma_{v}\\right)} {r_{bw}}}</script></html>"
      ],
      "text/plain": [
       "E_l == -((M_w*P_wa - M_w*P_was)*gamma_v*lambda_E + (Delta_eTa*R_ll*R_mol - Delta_eTa*R_mol*R_s)*T_a*r_bw)/(R_mol*T_a*gamma_v*r_sw + (Delta_eTa*R_mol*T_a + R_mol*T_a*gamma_v)*r_bw)"
      ]
     },
     "metadata": {},
     "output_type": "display_data"
    },
    {
     "data": {
      "text/html": [
       "<html><script type=\"math/tex; mode=display\">\\newcommand{\\Bold}[1]{\\mathbf{#1}}E_{l} = -\\frac{{\\left(M_{w} {P_{wa}} - M_{w} {P_{was}}\\right)} {N_{Le}}^{\\frac{2}{3}} {a_{sh}} {c_{pa}} {g_{bw}} {g_{sw}} \\lambda_{E} \\rho_{a} + {\\left({\\Delta_{eTa}} M_{w} {R_{ll}} - {\\Delta_{eTa}} M_{w} R_{s}\\right)} a_{s} {g_{sw}} \\lambda_{E}}{{\\Delta_{eTa}} M_{w} a_{s} {g_{sw}} \\lambda_{E} + {\\left({R_{mol}} T_{a} {a_{sh}} {c_{pa}} {g_{bw}} + {R_{mol}} T_{a} {a_{sh}} {c_{pa}} {g_{sw}}\\right)} {N_{Le}}^{\\frac{2}{3}} \\rho_{a}}</script></html>"
      ],
      "text/plain": [
       "E_l == -((M_w*P_wa - M_w*P_was)*Le^(2/3)*a_sh*c_pa*g_bw*g_sw*lambda_E*rho_a + (Delta_eTa*M_w*R_ll - Delta_eTa*M_w*R_s)*a_s*g_sw*lambda_E)/(Delta_eTa*M_w*a_s*g_sw*lambda_E + (R_mol*T_a*a_sh*c_pa*g_bw + R_mol*T_a*a_sh*c_pa*g_sw)*Le^(2/3)*rho_a)"
      ]
     },
     "metadata": {},
     "output_type": "display_data"
    },
    {
     "data": {
      "text/html": [
       "<html><script type=\"math/tex; mode=display\">\\newcommand{\\Bold}[1]{\\mathbf{#1}}E_{l} = -\\frac{{\\left(M_{w} {P_{wa}} - M_{w} {P_{was}}\\right)} \\gamma_{v} \\lambda_{E} + {\\left({\\Delta_{eTa}} {R_{ll}} {R_{mol}} - {\\Delta_{eTa}} {R_{mol}} R_{s}\\right)} T_{a} {r_{bw}}}{{R_{mol}} T_{a} \\gamma_{v} {r_{sw}} + {\\left({\\Delta_{eTa}} {R_{mol}} T_{a} + {R_{mol}} T_{a} \\gamma_{v}\\right)} {r_{bw}}}</script></html>"
      ],
      "text/plain": [
       "E_l == -((M_w*P_wa - M_w*P_was)*gamma_v*lambda_E + (Delta_eTa*R_ll*R_mol - Delta_eTa*R_mol*R_s)*T_a*r_bw)/(R_mol*T_a*gamma_v*r_sw + (Delta_eTa*R_mol*T_a + R_mol*T_a*gamma_v)*r_bw)"
      ]
     },
     "metadata": {},
     "output_type": "display_data"
    },
    {
     "data": {
      "text/html": [
       "<html><script type=\"math/tex; mode=display\">\\newcommand{\\Bold}[1]{\\mathbf{#1}}E_{l} = -\\frac{{\\left(M_{w} {P_{wa}} - M_{w} {P_{was}}\\right)} {N_{Le}}^{\\frac{2}{3}} {a_{sh}} {c_{pa}} \\lambda_{E} \\rho_{a} + {\\left({\\Delta_{eTa}} M_{w} {R_{ll}} - {\\Delta_{eTa}} M_{w} R_{s}\\right)} a_{s} \\lambda_{E} {r_{bw}}}{{\\Delta_{eTa}} M_{w} a_{s} \\lambda_{E} {r_{bw}} + {\\left({R_{mol}} T_{a} {a_{sh}} {c_{pa}} {r_{bw}} + {R_{mol}} T_{a} {a_{sh}} {c_{pa}} {r_{sw}}\\right)} {N_{Le}}^{\\frac{2}{3}} \\rho_{a}}</script></html>"
      ],
      "text/plain": [
       "E_l == -((M_w*P_wa - M_w*P_was)*Le^(2/3)*a_sh*c_pa*lambda_E*rho_a + (Delta_eTa*M_w*R_ll - Delta_eTa*M_w*R_s)*a_s*lambda_E*r_bw)/(Delta_eTa*M_w*a_s*lambda_E*r_bw + (R_mol*T_a*a_sh*c_pa*r_bw + R_mol*T_a*a_sh*c_pa*r_sw)*Le^(2/3)*rho_a)"
      ]
     },
     "metadata": {},
     "output_type": "display_data"
    },
    {
     "data": {
      "text/html": [
       "<html><script type=\"math/tex; mode=display\">\\newcommand{\\Bold}[1]{\\mathbf{#1}}E_{l} = -\\frac{{\\left(M_{w} {P_{wa}} - M_{w} {P_{was}}\\right)} {N_{Le}}^{\\frac{2}{3}} {a_{sh}} {c_{pa}} {g_{bw}} {g_{sw}} \\lambda_{E} \\rho_{a} + {\\left({\\Delta_{eTa}} M_{w} {R_{ll}} - {\\Delta_{eTa}} M_{w} R_{s}\\right)} a_{s} {g_{sw}} \\lambda_{E}}{{\\Delta_{eTa}} M_{w} a_{s} {g_{sw}} \\lambda_{E} + {\\left({R_{mol}} T_{a} {a_{sh}} {c_{pa}} {g_{bw}} + {R_{mol}} T_{a} {a_{sh}} {c_{pa}} {g_{sw}}\\right)} {N_{Le}}^{\\frac{2}{3}} \\rho_{a}}</script></html>"
      ],
      "text/plain": [
       "E_l == -((M_w*P_wa - M_w*P_was)*Le^(2/3)*a_sh*c_pa*g_bw*g_sw*lambda_E*rho_a + (Delta_eTa*M_w*R_ll - Delta_eTa*M_w*R_s)*a_s*g_sw*lambda_E)/(Delta_eTa*M_w*a_s*g_sw*lambda_E + (R_mol*T_a*a_sh*c_pa*g_bw + R_mol*T_a*a_sh*c_pa*g_sw)*Le^(2/3)*rho_a)"
      ]
     },
     "metadata": {},
     "output_type": "display_data"
    },
    {
     "data": {
      "text/html": [
       "<html><script type=\"math/tex; mode=display\">\\newcommand{\\Bold}[1]{\\mathbf{#1}}f_{u} = \\frac{{c_{pa}} \\rho_{a}}{\\gamma_{v} r_{a}}</script></html>"
      ],
      "text/plain": [
       "f_u == c_pa*rho_a/(gamma_v*r_a)"
      ]
     },
     "metadata": {},
     "output_type": "display_data"
    },
    {
     "data": {
      "text/html": [
       "<html><script type=\"math/tex; mode=display\">\\newcommand{\\Bold}[1]{\\mathbf{#1}}E_{w} = -\\frac{{\\Delta_{eTa}} {R_{ll}} - {\\Delta_{eTa}} R_{s} + \\frac{{\\left({P_{wa}} - {P_{was}}\\right)} {c_{pa}} \\rho_{a}}{r_{a}}}{{\\Delta_{eTa}} + \\gamma_{v}}</script></html>"
      ],
      "text/plain": [
       "E_w == -(Delta_eTa*R_ll - Delta_eTa*R_s + (P_wa - P_was)*c_pa*rho_a/r_a)/(Delta_eTa + gamma_v)"
      ]
     },
     "metadata": {},
     "output_type": "display_data"
    },
    {
     "data": {
      "text/html": [
       "<html><script type=\"math/tex; mode=display\">\\newcommand{\\Bold}[1]{\\mathbf{#1}}\\gamma_{v} = \\gamma_{v} {\\left(\\frac{r_{s}}{r_{a}} + 1\\right)}</script></html>"
      ],
      "text/plain": [
       "gamma_v == gamma_v*(r_s/r_a + 1)"
      ]
     },
     "metadata": {},
     "output_type": "display_data"
    },
    {
     "data": {
      "text/html": [
       "<html><script type=\"math/tex; mode=display\">\\newcommand{\\Bold}[1]{\\mathbf{#1}}E_{l} = -\\frac{{\\Delta_{eTa}} {R_{ll}} - {\\Delta_{eTa}} R_{s} + \\frac{{\\left({P_{wa}} - {P_{was}}\\right)} {c_{pa}} \\rho_{a}}{r_{a}}}{\\gamma_{v} {\\left(\\frac{r_{s}}{r_{a}} + 1\\right)} + {\\Delta_{eTa}}}</script></html>"
      ],
      "text/plain": [
       "E_l == -(Delta_eTa*R_ll - Delta_eTa*R_s + (P_wa - P_was)*c_pa*rho_a/r_a)/(gamma_v*(r_s/r_a + 1) + Delta_eTa)"
      ]
     },
     "metadata": {},
     "output_type": "display_data"
    },
    {
     "data": {
      "text/html": [
       "<html><script type=\"math/tex; mode=display\">\\newcommand{\\Bold}[1]{\\mathbf{#1}}\\gamma_{v} = \\gamma_{v} n_{\\mathit{MU}} {\\left(\\frac{r_{s}}{r_{a}} + 1\\right)}</script></html>"
      ],
      "text/plain": [
       "gamma_v == gamma_v*n_MU*(r_s/r_a + 1)"
      ]
     },
     "metadata": {},
     "output_type": "display_data"
    },
    {
     "data": {
      "text/html": [
       "<html><script type=\"math/tex; mode=display\">\\newcommand{\\Bold}[1]{\\mathbf{#1}}E_{l} = -\\frac{{\\Delta_{eTa}} {R_{ll}} - {\\Delta_{eTa}} R_{s} + \\frac{{\\left({P_{wa}} - {P_{was}}\\right)} {c_{pa}} \\rho_{a}}{r_{a}}}{\\gamma_{v} n_{\\mathit{MU}} {\\left(\\frac{r_{s}}{r_{a}} + 1\\right)} + {\\Delta_{eTa}}}</script></html>"
      ],
      "text/plain": [
       "E_l == -(Delta_eTa*R_ll - Delta_eTa*R_s + (P_wa - P_was)*c_pa*rho_a/r_a)/(gamma_v*n_MU*(r_s/r_a + 1) + Delta_eTa)"
      ]
     },
     "metadata": {},
     "output_type": "display_data"
    },
    {
     "data": {
      "text/html": [
       "<html><script type=\"math/tex; mode=display\">\\newcommand{\\Bold}[1]{\\mathbf{#1}}\\gamma_{v} = \\frac{P_{a} {c_{pa}}}{\\epsilon \\lambda_{E}}</script></html>"
      ],
      "text/plain": [
       "gamma_v == P_a*c_pa/(epsilon*lambda_E)"
      ]
     },
     "metadata": {},
     "output_type": "display_data"
    },
    {
     "data": {
      "text/html": [
       "<html><script type=\"math/tex; mode=display\">\\newcommand{\\Bold}[1]{\\mathbf{#1}}\\epsilon = \\frac{M_{w} P_{a}}{{R_{mol}} T_{a} \\rho_{a}}</script></html>"
      ],
      "text/plain": [
       "epsilon == M_w*P_a/(R_mol*T_a*rho_a)"
      ]
     },
     "metadata": {},
     "output_type": "display_data"
    },
    {
     "data": {
      "text/html": [
       "<html><script type=\"math/tex; mode=display\">\\newcommand{\\Bold}[1]{\\mathbf{#1}}\\epsilon = \\frac{100 \\, M_{w} P_{a}}{79 \\, M_{N_{2}} {\\left(P_{a} - {P_{wa}}\\right)} + 21 \\, M_{O_{2}} {\\left(P_{a} - {P_{wa}}\\right)} + 100 \\, M_{w} {P_{wa}}}</script></html>"
      ],
      "text/plain": [
       "epsilon == 100*M_w*P_a/(79*M_N2*(P_a - P_wa) + 21*M_O2*(P_a - P_wa) + 100*M_w*P_wa)"
      ]
     },
     "metadata": {},
     "output_type": "display_data"
    },
    {
     "data": {
      "text/html": [
       "<html><script type=\"math/tex; mode=display\">\\newcommand{\\Bold}[1]{\\mathbf{#1}}H_{l} = -{\\left(T_{a} - T_{l}\\right)} {a_{sh}} h_{c}</script></html>"
      ],
      "text/plain": [
       "H_l == -(T_a - T_l)*a_sh*h_c"
      ]
     },
     "metadata": {},
     "output_type": "display_data"
    },
    {
     "data": {
      "text/html": [
       "<html><script type=\"math/tex; mode=display\">\\newcommand{\\Bold}[1]{\\mathbf{#1}}E_{l} = -\\frac{{\\left({P_{wa}} - {P_{wl}}\\right)} a_{s} \\epsilon \\lambda_{E} \\rho_{a}}{P_{a} {\\left(r_{s} + {r_{v}}\\right)}}</script></html>"
      ],
      "text/plain": [
       "E_l == -(P_wa - P_wl)*a_s*epsilon*lambda_E*rho_a/(P_a*(r_s + r_v))"
      ]
     },
     "metadata": {},
     "output_type": "display_data"
    },
    {
     "name": "stdout",
     "output_type": "stream",
     "text": [
      "kilogram/second^3 == kilogram/second^3\n"
     ]
    },
    {
     "data": {
      "text/html": [
       "<html><script type=\"math/tex; mode=display\">\\newcommand{\\Bold}[1]{\\mathbf{#1}}H_{l} = -\\frac{{\\left(T_{a} - T_{l}\\right)} {a_{sh}} {c_{pa}} \\rho_{a}}{r_{a}}</script></html>"
      ],
      "text/plain": [
       "H_l == -(T_a - T_l)*a_sh*c_pa*rho_a/r_a"
      ]
     },
     "metadata": {},
     "output_type": "display_data"
    },
    {
     "data": {
      "text/html": [
       "<html><script type=\"math/tex; mode=display\">\\newcommand{\\Bold}[1]{\\mathbf{#1}}E_{l} = -M_{w} {g_{tw}} \\lambda_{E} {\\left(\\frac{{P_{wa}}}{{R_{mol}} T_{a}} - \\frac{{P_{wl}}}{{R_{mol}} T_{l}}\\right)}</script></html>"
      ],
      "text/plain": [
       "E_l == -M_w*g_tw*lambda_E*(P_wa/(R_mol*T_a) - P_wl/(R_mol*T_l))"
      ]
     },
     "metadata": {},
     "output_type": "display_data"
    },
    {
     "data": {
      "text/html": [
       "<html><script type=\"math/tex; mode=display\">\\newcommand{\\Bold}[1]{\\mathbf{#1}}{r_{v}} = \\frac{a_{s}}{{g_{bw}}}</script></html>"
      ],
      "text/plain": [
       "r_v == a_s/g_bw"
      ]
     },
     "metadata": {},
     "output_type": "display_data"
    },
    {
     "data": {
      "text/html": [
       "<html><script type=\"math/tex; mode=display\">\\newcommand{\\Bold}[1]{\\mathbf{#1}}E_{l} = -M_{w} {g_{tw}} \\lambda_{E} {\\left(\\frac{{P_{wa}}}{{R_{mol}} T_{a}} - \\frac{{P_{wl}}}{{R_{mol}} T_{l}}\\right)}</script></html>"
      ],
      "text/plain": [
       "E_l == -M_w*g_tw*lambda_E*(P_wa/(R_mol*T_a) - P_wl/(R_mol*T_l))"
      ]
     },
     "metadata": {},
     "output_type": "display_data"
    },
    {
     "data": {
      "text/html": [
       "<html><script type=\"math/tex; mode=display\">\\newcommand{\\Bold}[1]{\\mathbf{#1}}E_{l} = -\\frac{M_{w} {\\left({P_{wa}} - {P_{wl}}\\right)} a_{s} \\lambda_{E}}{{R_{mol}} T_{a} {\\left(r_{s} + {r_{v}}\\right)}}</script></html>"
      ],
      "text/plain": [
       "E_l == -M_w*(P_wa - P_wl)*a_s*lambda_E/(R_mol*T_a*(r_s + r_v))"
      ]
     },
     "metadata": {},
     "output_type": "display_data"
    },
    {
     "data": {
      "text/html": [
       "<html><script type=\"math/tex; mode=display\">\\newcommand{\\Bold}[1]{\\mathbf{#1}}r_{s} = \\frac{a_{s}}{{g_{sw}}}</script></html>"
      ],
      "text/plain": [
       "r_s == a_s/g_sw"
      ]
     },
     "metadata": {},
     "output_type": "display_data"
    },
    {
     "data": {
      "text/html": [
       "<html><script type=\"math/tex; mode=display\">\\newcommand{\\Bold}[1]{\\mathbf{#1}}r_{a} = \\frac{{c_{pa}} \\rho_{a}}{h_{c}}</script></html>"
      ],
      "text/plain": [
       "r_a == c_pa*rho_a/h_c"
      ]
     },
     "metadata": {},
     "output_type": "display_data"
    },
    {
     "data": {
      "text/html": [
       "<html><script type=\"math/tex; mode=display\">\\newcommand{\\Bold}[1]{\\mathbf{#1}}E_{l} = -{\\left({P_{wa}} - {P_{wl}}\\right)} c_{E}</script></html>"
      ],
      "text/plain": [
       "E_l == -(P_wa - P_wl)*c_E"
      ]
     },
     "metadata": {},
     "output_type": "display_data"
    },
    {
     "name": "stdout",
     "output_type": "stream",
     "text": [
      "kilogram/second^3 == kilogram/second^3\n"
     ]
    },
    {
     "data": {
      "text/html": [
       "<html><script type=\"math/tex; mode=display\">\\newcommand{\\Bold}[1]{\\mathbf{#1}}H_{l} = -{\\left(T_{a} - T_{l}\\right)} c_{H}</script></html>"
      ],
      "text/plain": [
       "H_l == -(T_a - T_l)*c_H"
      ]
     },
     "metadata": {},
     "output_type": "display_data"
    },
    {
     "data": {
      "text/html": [
       "<html><script type=\"math/tex; mode=display\">\\newcommand{\\Bold}[1]{\\mathbf{#1}}H_{l} = -{\\left(T_{a} - T_{l}\\right)} c_{E} \\gamma_{v}</script></html>"
      ],
      "text/plain": [
       "H_l == -(T_a - T_l)*c_E*gamma_v"
      ]
     },
     "metadata": {},
     "output_type": "display_data"
    },
    {
     "data": {
      "text/html": [
       "<html><script type=\"math/tex; mode=display\">\\newcommand{\\Bold}[1]{\\mathbf{#1}}{\\Delta_{eTa}} = \\frac{{P_{was}} - {P_{wl}}}{T_{a} - T_{l}}</script></html>"
      ],
      "text/plain": [
       "Delta_eTa == (P_was - P_wl)/(T_a - T_l)"
      ]
     },
     "metadata": {},
     "output_type": "display_data"
    },
    {
     "data": {
      "text/html": [
       "<html><script type=\"math/tex; mode=display\">\\newcommand{\\Bold}[1]{\\mathbf{#1}}H_{l} = -\\frac{{\\left({P_{was}} - {P_{wl}}\\right)} c_{E} \\gamma_{v}}{{\\Delta_{eTa}}}</script></html>"
      ],
      "text/plain": [
       "H_l == -(P_was - P_wl)*c_E*gamma_v/Delta_eTa"
      ]
     },
     "metadata": {},
     "output_type": "display_data"
    },
    {
     "name": "stdout",
     "output_type": "stream",
     "text": [
      "kilogram/second^3 == kilogram/second^3\n"
     ]
    },
    {
     "data": {
      "text/html": [
       "<html><script type=\"math/tex; mode=display\">\\newcommand{\\Bold}[1]{\\mathbf{#1}}E_{l} = -\\frac{{\\left({P_{wa}} - {P_{was}}\\right)} c_{E} c_{H} + {\\left({\\Delta_{eTa}} {R_{ll}} - {\\Delta_{eTa}} R_{s}\\right)} c_{E}}{{\\Delta_{eTa}} c_{E} + c_{H}}</script></html>"
      ],
      "text/plain": [
       "E_l == -((P_wa - P_was)*c_E*c_H + (Delta_eTa*R_ll - Delta_eTa*R_s)*c_E)/(Delta_eTa*c_E + c_H)"
      ]
     },
     "metadata": {},
     "output_type": "display_data"
    },
    {
     "name": "stdout",
     "output_type": "stream",
     "text": [
      "kilogram/second^3 == kilogram/second^3\n"
     ]
    },
    {
     "data": {
      "text/html": [
       "<html><script type=\"math/tex; mode=display\">\\newcommand{\\Bold}[1]{\\mathbf{#1}}H_{l} = \\frac{{\\left({\\left({P_{wa}} - {P_{was}}\\right)} c_{E} - {R_{ll}} + R_{s}\\right)} c_{H}}{{\\Delta_{eTa}} c_{E} + c_{H}}</script></html>"
      ],
      "text/plain": [
       "H_l == ((P_wa - P_was)*c_E - R_ll + R_s)*c_H/(Delta_eTa*c_E + c_H)"
      ]
     },
     "metadata": {},
     "output_type": "display_data"
    },
    {
     "name": "stdout",
     "output_type": "stream",
     "text": [
      "kilogram/second^3 == kilogram/second^3\n"
     ]
    },
    {
     "data": {
      "text/html": [
       "<html><script type=\"math/tex; mode=display\">\\newcommand{\\Bold}[1]{\\mathbf{#1}}{P_{wl}} = \\frac{{\\Delta_{eTa}} {P_{wa}} c_{E} - {\\Delta_{eTa}} {R_{ll}} + {\\Delta_{eTa}} R_{s} + {P_{was}} c_{H}}{{\\Delta_{eTa}} c_{E} + c_{H}}</script></html>"
      ],
      "text/plain": [
       "P_wl == (Delta_eTa*P_wa*c_E - Delta_eTa*R_ll + Delta_eTa*R_s + P_was*c_H)/(Delta_eTa*c_E + c_H)"
      ]
     },
     "metadata": {},
     "output_type": "display_data"
    },
    {
     "name": "stdout",
     "output_type": "stream",
     "text": [
      "kilogram/(meter*second^2) == kilogram/(meter*second^2)\n"
     ]
    },
    {
     "data": {
      "text/html": [
       "<html><script type=\"math/tex; mode=display\">\\newcommand{\\Bold}[1]{\\mathbf{#1}}T_{l} = \\frac{{\\Delta_{eTa}} T_{a} c_{E} + {P_{wa}} c_{E} - {P_{was}} c_{E} + T_{a} c_{H} - {R_{ll}} + R_{s}}{{\\Delta_{eTa}} c_{E} + c_{H}}</script></html>"
      ],
      "text/plain": [
       "T_l == (Delta_eTa*T_a*c_E + P_wa*c_E - P_was*c_E + T_a*c_H - R_ll + R_s)/(Delta_eTa*c_E + c_H)"
      ]
     },
     "metadata": {},
     "output_type": "display_data"
    },
    {
     "name": "stdout",
     "output_type": "stream",
     "text": [
      "kelvin == kelvin\n"
     ]
    },
    {
     "data": {
      "text/html": [
       "<html><script type=\"math/tex; mode=display\">\\newcommand{\\Bold}[1]{\\mathbf{#1}}T_{l} = \\frac{{\\left({\\Delta_{eTa}} T_{a} + {P_{wa}} - {P_{was}}\\right)} c_{E} + T_{a} c_{H} - {R_{ll}} + R_{s}}{{\\Delta_{eTa}} c_{E} + c_{H}}</script></html>"
      ],
      "text/plain": [
       "T_l == ((Delta_eTa*T_a + P_wa - P_was)*c_E + T_a*c_H - R_ll + R_s)/(Delta_eTa*c_E + c_H)"
      ]
     },
     "metadata": {},
     "output_type": "display_data"
    },
    {
     "data": {
      "text/html": [
       "<html><script type=\"math/tex; mode=display\">\\newcommand{\\Bold}[1]{\\mathbf{#1}}T_{l} = T_{a} + \\frac{{\\left({P_{wa}} - {P_{was}}\\right)} c_{E} - {R_{ll}} + R_{s}}{{\\Delta_{eTa}} c_{E} + c_{H}}</script></html>"
      ],
      "text/plain": [
       "T_l == T_a + ((P_wa - P_was)*c_E - R_ll + R_s)/(Delta_eTa*c_E + c_H)"
      ]
     },
     "metadata": {},
     "output_type": "display_data"
    },
    {
     "data": {
      "text/html": [
       "<html><script type=\"math/tex; mode=display\">\\newcommand{\\Bold}[1]{\\mathbf{#1}}{P_{wl}} = 611 \\, e^{\\left(-\\frac{M_{w} \\lambda_{E} {\\left(\\frac{273}{T_{l}} - 1\\right)}}{273 \\, {R_{mol}}}\\right)}</script></html>"
      ],
      "text/plain": [
       "P_wl == 611*e^(-1/273*M_w*lambda_E*(273/T_l - 1)/R_mol)"
      ]
     },
     "metadata": {},
     "output_type": "display_data"
    },
    {
     "data": {
      "text/html": [
       "<html><script type=\"math/tex; mode=display\">\\newcommand{\\Bold}[1]{\\mathbf{#1}}T_{l} = \\frac{273 \\, M_{w} \\lambda_{E}}{M_{w} \\lambda_{E} + 273 \\, {R_{mol}} \\log\\left(\\frac{611 \\, {\\left({\\Delta_{eTa}} c_{E} + c_{H}\\right)}}{{\\Delta_{eTa}} {P_{wa}} c_{E} - {\\Delta_{eTa}} {R_{ll}} + {\\Delta_{eTa}} R_{s} + {P_{was}} c_{H}}\\right)}</script></html>"
      ],
      "text/plain": [
       "T_l == 273*M_w*lambda_E/(M_w*lambda_E + 273*R_mol*log(611*(Delta_eTa*c_E + c_H)/(Delta_eTa*P_wa*c_E - Delta_eTa*R_ll + Delta_eTa*R_s + P_was*c_H)))"
      ]
     },
     "metadata": {},
     "output_type": "display_data"
    },
    {
     "data": {
      "text/html": [
       "<html><script type=\"math/tex; mode=display\">\\newcommand{\\Bold}[1]{\\mathbf{#1}}c_{E} = \\frac{M_{w} {g_{tw,mol}} \\lambda_{E}}{P_{a}}</script></html>"
      ],
      "text/plain": [
       "c_E == M_w*g_twmol*lambda_E/P_a"
      ]
     },
     "metadata": {},
     "output_type": "display_data"
    },
    {
     "name": "stdout",
     "output_type": "stream",
     "text": [
      "meter/second == meter/second\n"
     ]
    },
    {
     "data": {
      "text/html": [
       "<html><script type=\"math/tex; mode=display\">\\newcommand{\\Bold}[1]{\\mathbf{#1}}c_{H} = {a_{sh}} h_{c}</script></html>"
      ],
      "text/plain": [
       "c_H == a_sh*h_c"
      ]
     },
     "metadata": {},
     "output_type": "display_data"
    },
    {
     "data": {
      "text/html": [
       "<html><script type=\"math/tex; mode=display\">\\newcommand{\\Bold}[1]{\\mathbf{#1}}H_{l} = \\frac{{\\left(M_{w} {P_{wa}} - M_{w} {P_{was}}\\right)} {a_{sh}} {g_{tw,mol}} h_{c} \\lambda_{E} - {\\left(P_{a} {R_{ll}} - P_{a} R_{s}\\right)} {a_{sh}} h_{c}}{{\\Delta_{eTa}} M_{w} {g_{tw,mol}} \\lambda_{E} + P_{a} {a_{sh}} h_{c}}</script></html>"
      ],
      "text/plain": [
       "H_l == ((M_w*P_wa - M_w*P_was)*a_sh*g_twmol*h_c*lambda_E - (P_a*R_ll - P_a*R_s)*a_sh*h_c)/(Delta_eTa*M_w*g_twmol*lambda_E + P_a*a_sh*h_c)"
      ]
     },
     "metadata": {},
     "output_type": "display_data"
    },
    {
     "data": {
      "text/html": [
       "<html><script type=\"math/tex; mode=display\">\\newcommand{\\Bold}[1]{\\mathbf{#1}}E_{l} = -\\frac{{\\left({\\left(M_{w} {P_{wa}} - M_{w} {P_{was}}\\right)} {a_{sh}} {g_{tw,mol}} h_{c} + {\\left({\\Delta_{eTa}} M_{w} {R_{ll}} - {\\Delta_{eTa}} M_{w} R_{s}\\right)} {g_{tw,mol}}\\right)} \\lambda_{E}}{{\\Delta_{eTa}} M_{w} {g_{tw,mol}} \\lambda_{E} + P_{a} {a_{sh}} h_{c}}</script></html>"
      ],
      "text/plain": [
       "E_l == -((M_w*P_wa - M_w*P_was)*a_sh*g_twmol*h_c + (Delta_eTa*M_w*R_ll - Delta_eTa*M_w*R_s)*g_twmol)*lambda_E/(Delta_eTa*M_w*g_twmol*lambda_E + P_a*a_sh*h_c)"
      ]
     },
     "metadata": {},
     "output_type": "display_data"
    },
    {
     "data": {
      "text/html": [
       "<html><script type=\"math/tex; mode=display\">\\newcommand{\\Bold}[1]{\\mathbf{#1}}T_{l} = \\frac{P_{a} T_{a} {a_{sh}} h_{c} + {\\left({\\Delta_{eTa}} M_{w} T_{a} + M_{w} {P_{wa}} - M_{w} {P_{was}}\\right)} {g_{tw,mol}} \\lambda_{E} - P_{a} {R_{ll}} + P_{a} R_{s}}{{\\Delta_{eTa}} M_{w} {g_{tw,mol}} \\lambda_{E} + P_{a} {a_{sh}} h_{c}}</script></html>"
      ],
      "text/plain": [
       "T_l == (P_a*T_a*a_sh*h_c + (Delta_eTa*M_w*T_a + M_w*P_wa - M_w*P_was)*g_twmol*lambda_E - P_a*R_ll + P_a*R_s)/(Delta_eTa*M_w*g_twmol*lambda_E + P_a*a_sh*h_c)"
      ]
     },
     "metadata": {},
     "output_type": "display_data"
    },
    {
     "name": "stdout",
     "output_type": "stream",
     "text": [
      "$ g $ $ v_{w} $ $ {P_{wa}} $ $ {a_{sh}} $ $ M_{O_{2}} $ $ T_{a} $ $ {R_{mol}} $ $ T_{w} $ $ R_{s} $ $ {c_{pa}} $ $ M_{N_{2}} $ $ \\epsilon_{l} $ $ {\\sigma} $ $ a_{s} $ $ P_{a} $ $ {N_{Pr}} $ $ {N_{Re_c}} $ $ M_{w} $ $ \\lambda_{E} $ $ \\epsilon $ $ {g_{sw}} $ $ L_{l} $ \n",
      "$ g $ $ v_{w} $ $ {P_{wa}} $ $ {a_{sh}} $ $ M_{O_{2}} $ $ T_{a} $ $ {R_{mol}} $ $ T_{w} $ $ R_{s} $ $ {c_{pa}} $ $ M_{N_{2}} $ $ \\epsilon_{l} $ $ {\\sigma} $ $ a_{s} $ $ P_{a} $ $ {N_{Pr}} $ $ {N_{Re_c}} $ $ M_{w} $ $ \\lambda_{E} $ $ \\epsilon $ $ {g_{sw}} $ $ L_{l} $ \n",
      "T_l = 305.650648423\n",
      "E_l = 185.424519010311\n",
      "H_l = 325.157459266011\n",
      "R_ll = 89.4180217236781\n",
      "Direct estimates: \n",
      "E_l == 201.520517691209\n",
      "H_l == 398.479482308791\n",
      "T_l == 307.263098002106\n",
      "P_wl == 4888.37878666472\n",
      "Using estimated T_l: \n",
      "5332.58270455183\n",
      "E_l == 254.937149826832\n",
      "H_l == 398.479482308791\n",
      "0 == 110.468903558398\n",
      "Using estimated T_l only to calculate R_ll: \n",
      "E_l == 164.417599968095\n",
      "H_l == 325.113496473507\n",
      "307.263098002106 == 305.649681621994\n",
      "Using 1 iteration to get T_l: \n",
      "T_l(R_ll=0): 307.263098002106\n",
      "R_ll(T_l) = 110.468903558398\n",
      "T_l = 305.649681621994\n",
      "E_l == 199.088662380171\n",
      "H_l == 325.113496473508\n",
      "185.424519010311 == 199.120796183645\n",
      "185.424519010311 == 185.424519010311\n",
      "T_l = 305.650648423\n",
      "E_l = 185.424519010311\n",
      "H_l = 325.157459266011\n",
      "R_ll = 89.4180217236781\n",
      "Direct estimates: \n",
      "E_l == 201.520517691209\n",
      "H_l == 398.479482308791\n",
      "T_l == 307.263098002106\n",
      "Using estimated T_l: \n",
      "E_l == 236.648612148471\n",
      "H_l == 398.479482308791\n",
      "0 == 110.468903558398\n",
      "Using estimated T_l only to calculate R_ll: \n",
      "E_l == 156.390826464557\n",
      "H_l == 333.140269977045\n",
      "307.263098002106 == 305.826201131718\n",
      "Using 1 iteration to get T_l: \n",
      "T_l(R_ll=0): 307.479451379050\n",
      "R_ll(T_l) = 113.318783813752\n",
      "T_l = 305.783550529736\n",
      "E_l == 189.502633426895\n",
      "H_l == 331.200842871040\n"
     ]
    },
    {
     "data": {
      "text/html": [
       "<html><script type=\"math/tex; mode=display\">\\newcommand{\\Bold}[1]{\\mathbf{#1}}E_{l} = -{\\left({P_{wa}} - {P_{wl}}\\right)} c_{E}</script></html>"
      ],
      "text/plain": [
       "E_l == -(P_wa - P_wl)*c_E"
      ]
     },
     "metadata": {},
     "output_type": "display_data"
    },
    {
     "data": {
      "text/html": [
       "<html><script type=\"math/tex; mode=display\">\\newcommand{\\Bold}[1]{\\mathbf{#1}}H_{l} = -{\\left(T_{a} - T_{l}\\right)} c_{H}</script></html>"
      ],
      "text/plain": [
       "H_l == -(T_a - T_l)*c_H"
      ]
     },
     "metadata": {},
     "output_type": "display_data"
    },
    {
     "data": {
      "text/html": [
       "<html><script type=\"math/tex; mode=display\">\\newcommand{\\Bold}[1]{\\mathbf{#1}}\\gamma_{v} = \\frac{c_{H}}{c_{E}}</script></html>"
      ],
      "text/plain": [
       "gamma_v == c_H/c_E"
      ]
     },
     "metadata": {},
     "output_type": "display_data"
    },
    {
     "data": {
      "text/html": [
       "<html><script type=\"math/tex; mode=display\">\\newcommand{\\Bold}[1]{\\mathbf{#1}}{\\Delta_{eTa}} = \\frac{{P_{was}} - {P_{wl}}}{T_{a} - T_{l}}</script></html>"
      ],
      "text/plain": [
       "Delta_eTa == (P_was - P_wl)/(T_a - T_l)"
      ]
     },
     "metadata": {},
     "output_type": "display_data"
    },
    {
     "data": {
      "text/html": [
       "<html><script type=\"math/tex; mode=display\">\\newcommand{\\Bold}[1]{\\mathbf{#1}}E_{l} = -\\frac{{P_{wa}} c_{H} - {P_{wl}} c_{H}}{\\gamma_{v}}</script></html>"
      ],
      "text/plain": [
       "E_l == -(P_wa*c_H - P_wl*c_H)/gamma_v"
      ]
     },
     "metadata": {},
     "output_type": "display_data"
    },
    {
     "name": "stdout",
     "output_type": "stream",
     "text": [
      "kilogram/second^3 == kilogram/second^3\n"
     ]
    },
    {
     "data": {
      "text/html": [
       "<html><script type=\"math/tex; mode=display\">\\newcommand{\\Bold}[1]{\\mathbf{#1}}E_{l} = -\\frac{{\\left({\\Delta_{eTa}} T_{a} - {\\Delta_{eTa}} T_{l} + {P_{wa}} - {P_{was}}\\right)} c_{H}}{\\gamma_{v}}</script></html>"
      ],
      "text/plain": [
       "E_l == -(Delta_eTa*T_a - Delta_eTa*T_l + P_wa - P_was)*c_H/gamma_v"
      ]
     },
     "metadata": {},
     "output_type": "display_data"
    },
    {
     "name": "stdout",
     "output_type": "stream",
     "text": [
      "kilogram/second^3 == kilogram/second^3\n"
     ]
    },
    {
     "data": {
      "text/html": [
       "<html><script type=\"math/tex; mode=display\">\\newcommand{\\Bold}[1]{\\mathbf{#1}}E_{l} = -\\frac{{\\left({P_{wa}} - {P_{was}}\\right)} c_{E} c_{H} + {\\left({\\Delta_{eTa}} {R_{ll}} - {\\Delta_{eTa}} R_{s}\\right)} c_{E}}{{\\Delta_{eTa}} c_{E} + c_{H}}</script></html>"
      ],
      "text/plain": [
       "E_l == -((P_wa - P_was)*c_E*c_H + (Delta_eTa*R_ll - Delta_eTa*R_s)*c_E)/(Delta_eTa*c_E + c_H)"
      ]
     },
     "metadata": {},
     "output_type": "display_data"
    },
    {
     "name": "stdout",
     "output_type": "stream",
     "text": [
      "kilogram/second^3 == kilogram/second^3\n",
      "E_{l} = -\\frac{{\\left({P_{wa}} - {P_{was}}\\right)} c_{E} c_{H} + {\\left({\\Delta_{eTa}} {R_{ll}} - {\\Delta_{eTa}} R_{s}\\right)} c_{E}}{{\\Delta_{eTa}} c_{E} + c_{H}}\n"
     ]
    },
    {
     "data": {
      "text/html": [
       "<html><script type=\"math/tex; mode=display\">\\newcommand{\\Bold}[1]{\\mathbf{#1}}H_{l} = \\frac{{\\left({\\left({P_{wa}} - {P_{was}}\\right)} c_{E} - {R_{ll}} + R_{s}\\right)} c_{H}}{{\\Delta_{eTa}} c_{E} + c_{H}}</script></html>"
      ],
      "text/plain": [
       "H_l == ((P_wa - P_was)*c_E - R_ll + R_s)*c_H/(Delta_eTa*c_E + c_H)"
      ]
     },
     "metadata": {},
     "output_type": "display_data"
    },
    {
     "name": "stdout",
     "output_type": "stream",
     "text": [
      "kilogram/second^3 == kilogram/second^3\n",
      "H_{l} = \\frac{{\\left({\\left({P_{wa}} - {P_{was}}\\right)} c_{E} - {R_{ll}} + R_{s}\\right)} c_{H}}{{\\Delta_{eTa}} c_{E} + c_{H}}\n"
     ]
    },
    {
     "data": {
      "text/html": [
       "<html><script type=\"math/tex; mode=display\">\\newcommand{\\Bold}[1]{\\mathbf{#1}}T_{l} = \\frac{{\\left({\\Delta_{eTa}} T_{a} + {P_{wa}} - {P_{was}}\\right)} c_{E} + T_{a} c_{H} - {R_{ll}} + R_{s}}{{\\Delta_{eTa}} c_{E} + c_{H}}</script></html>"
      ],
      "text/plain": [
       "T_l == ((Delta_eTa*T_a + P_wa - P_was)*c_E + T_a*c_H - R_ll + R_s)/(Delta_eTa*c_E + c_H)"
      ]
     },
     "metadata": {},
     "output_type": "display_data"
    },
    {
     "name": "stdout",
     "output_type": "stream",
     "text": [
      "kelvin == kelvin\n",
      "T_{l} = \\frac{{\\left({\\Delta_{eTa}} T_{a} + {P_{wa}} - {P_{was}}\\right)} c_{E} + T_{a} c_{H} - {R_{ll}} + R_{s}}{{\\Delta_{eTa}} c_{E} + c_{H}}\n",
      "0 == 0\n",
      "0 == 0\n",
      "0 == 0\n",
      "[\n",
      "[E_l == -(Delta_eTa*(R_ll - R_s)*c_E + (P_wa*c_E - P_was*c_E)*c_H)/(Delta_eTa*c_E + c_H), H_l == (P_wa*c_E - P_was*c_E - R_ll + R_s)*c_H/(Delta_eTa*c_E + c_H), P_wl == ((P_wa*c_E - R_ll + R_s)*Delta_eTa + P_was*c_H)/(Delta_eTa*c_E + c_H), T_l == (Delta_eTa*T_a*c_E + P_wa*c_E - P_was*c_E + T_a*c_H - R_ll + R_s)/(Delta_eTa*c_E + c_H)]\n",
      "]\n"
     ]
    },
    {
     "data": {
      "text/html": [
       "<html><script type=\"math/tex; mode=display\">\\newcommand{\\Bold}[1]{\\mathbf{#1}}E_{l} = -\\frac{{\\Delta_{eTa}} {\\left({R_{ll}} - R_{s}\\right)} c_{E} + {\\left({P_{wa}} c_{E} - {P_{was}} c_{E}\\right)} c_{H}}{{\\Delta_{eTa}} c_{E} + c_{H}}</script></html>"
      ],
      "text/plain": [
       "E_l == -(Delta_eTa*(R_ll - R_s)*c_E + (P_wa*c_E - P_was*c_E)*c_H)/(Delta_eTa*c_E + c_H)"
      ]
     },
     "metadata": {},
     "output_type": "display_data"
    },
    {
     "name": "stdout",
     "output_type": "stream",
     "text": [
      "kilogram/second^3 == kilogram/second^3\n",
      "E_{l} = -\\frac{{\\Delta_{eTa}} {\\left({R_{ll}} - R_{s}\\right)} c_{E} + {\\left({P_{wa}} c_{E} - {P_{was}} c_{E}\\right)} c_{H}}{{\\Delta_{eTa}} c_{E} + c_{H}}\n"
     ]
    },
    {
     "data": {
      "text/html": [
       "<html><script type=\"math/tex; mode=display\">\\newcommand{\\Bold}[1]{\\mathbf{#1}}H_{l} = \\frac{{\\left({P_{wa}} c_{E} - {P_{was}} c_{E} - {R_{ll}} + R_{s}\\right)} c_{H}}{{\\Delta_{eTa}} c_{E} + c_{H}}</script></html>"
      ],
      "text/plain": [
       "H_l == (P_wa*c_E - P_was*c_E - R_ll + R_s)*c_H/(Delta_eTa*c_E + c_H)"
      ]
     },
     "metadata": {},
     "output_type": "display_data"
    },
    {
     "name": "stdout",
     "output_type": "stream",
     "text": [
      "kilogram/second^3 == kilogram/second^3\n",
      "H_{l} = \\frac{{\\left({P_{wa}} c_{E} - {P_{was}} c_{E} - {R_{ll}} + R_{s}\\right)} c_{H}}{{\\Delta_{eTa}} c_{E} + c_{H}}\n"
     ]
    },
    {
     "data": {
      "text/html": [
       "<html><script type=\"math/tex; mode=display\">\\newcommand{\\Bold}[1]{\\mathbf{#1}}{P_{wl}} = \\frac{{\\left({P_{wa}} c_{E} - {R_{ll}} + R_{s}\\right)} {\\Delta_{eTa}} + {P_{was}} c_{H}}{{\\Delta_{eTa}} c_{E} + c_{H}}</script></html>"
      ],
      "text/plain": [
       "P_wl == ((P_wa*c_E - R_ll + R_s)*Delta_eTa + P_was*c_H)/(Delta_eTa*c_E + c_H)"
      ]
     },
     "metadata": {},
     "output_type": "display_data"
    },
    {
     "name": "stdout",
     "output_type": "stream",
     "text": [
      "kilogram/(meter*second^2) == kilogram/(meter*second^2)\n",
      "{P_{wl}} = \\frac{{\\left({P_{wa}} c_{E} - {R_{ll}} + R_{s}\\right)} {\\Delta_{eTa}} + {P_{was}} c_{H}}{{\\Delta_{eTa}} c_{E} + c_{H}}\n"
     ]
    },
    {
     "data": {
      "text/html": [
       "<html><script type=\"math/tex; mode=display\">\\newcommand{\\Bold}[1]{\\mathbf{#1}}T_{l} = \\frac{{\\Delta_{eTa}} T_{a} c_{E} + {P_{wa}} c_{E} - {P_{was}} c_{E} + T_{a} c_{H} - {R_{ll}} + R_{s}}{{\\Delta_{eTa}} c_{E} + c_{H}}</script></html>"
      ],
      "text/plain": [
       "T_l == (Delta_eTa*T_a*c_E + P_wa*c_E - P_was*c_E + T_a*c_H - R_ll + R_s)/(Delta_eTa*c_E + c_H)"
      ]
     },
     "metadata": {},
     "output_type": "display_data"
    },
    {
     "name": "stdout",
     "output_type": "stream",
     "text": [
      "kelvin == kelvin\n",
      "T_{l} = \\frac{{\\Delta_{eTa}} T_{a} c_{E} + {P_{wa}} c_{E} - {P_{was}} c_{E} + T_{a} c_{H} - {R_{ll}} + R_{s}}{{\\Delta_{eTa}} c_{E} + c_{H}}\n",
      "0 == 0\n",
      "0 == 0\n",
      "0 == 0\n",
      "[\n",
      "[E_l == -(Delta_eTa*(R_ll - R_s)*c_E + (P_wa*c_E - P_was*c_E)*c_H)/(Delta_eTa*c_E + c_H), H_l == (P_wa*c_E - P_was*c_E - R_ll + R_s)*c_H/(Delta_eTa*c_E + c_H), P_wl == ((P_wa*c_E - R_ll + R_s)*Delta_eTa + P_was*c_H)/(Delta_eTa*c_E + c_H), T_l == (Delta_eTa*T_a*c_E + P_wa*c_E - P_was*c_E + T_a*c_H - R_ll + R_s)/(Delta_eTa*c_E + c_H)]\n",
      "]\n"
     ]
    },
    {
     "data": {
      "text/html": [
       "<html><script type=\"math/tex; mode=display\">\\newcommand{\\Bold}[1]{\\mathbf{#1}}E_{l} = -\\frac{{\\Delta_{eTa}} {\\left({R_{ll}} - R_{s}\\right)} c_{E} + {\\left({P_{wa}} c_{E} - {P_{was}} c_{E}\\right)} c_{H}}{{\\Delta_{eTa}} c_{E} + c_{H}}</script></html>"
      ],
      "text/plain": [
       "E_l == -(Delta_eTa*(R_ll - R_s)*c_E + (P_wa*c_E - P_was*c_E)*c_H)/(Delta_eTa*c_E + c_H)"
      ]
     },
     "metadata": {},
     "output_type": "display_data"
    },
    {
     "data": {
      "text/html": [
       "<html><script type=\"math/tex; mode=display\">\\newcommand{\\Bold}[1]{\\mathbf{#1}}H_{l} = \\frac{{\\left({P_{wa}} c_{E} - {P_{was}} c_{E} - {R_{ll}} + R_{s}\\right)} c_{H}}{{\\Delta_{eTa}} c_{E} + c_{H}}</script></html>"
      ],
      "text/plain": [
       "H_l == (P_wa*c_E - P_was*c_E - R_ll + R_s)*c_H/(Delta_eTa*c_E + c_H)"
      ]
     },
     "metadata": {},
     "output_type": "display_data"
    },
    {
     "data": {
      "text/html": [
       "<html><script type=\"math/tex; mode=display\">\\newcommand{\\Bold}[1]{\\mathbf{#1}}{P_{wl}} = \\frac{{\\left({P_{wa}} c_{E} - {R_{ll}} + R_{s}\\right)} {\\Delta_{eTa}} + {P_{was}} c_{H}}{{\\Delta_{eTa}} c_{E} + c_{H}}</script></html>"
      ],
      "text/plain": [
       "P_wl == ((P_wa*c_E - R_ll + R_s)*Delta_eTa + P_was*c_H)/(Delta_eTa*c_E + c_H)"
      ]
     },
     "metadata": {},
     "output_type": "display_data"
    },
    {
     "data": {
      "text/html": [
       "<html><script type=\"math/tex; mode=display\">\\newcommand{\\Bold}[1]{\\mathbf{#1}}T_{l} = \\frac{{\\Delta_{eTa}} T_{a} c_{E} + {P_{wa}} c_{E} - {P_{was}} c_{E} + T_{a} c_{H} - {R_{ll}} + R_{s}}{{\\Delta_{eTa}} c_{E} + c_{H}}</script></html>"
      ],
      "text/plain": [
       "T_l == (Delta_eTa*T_a*c_E + P_wa*c_E - P_was*c_E + T_a*c_H - R_ll + R_s)/(Delta_eTa*c_E + c_H)"
      ]
     },
     "metadata": {},
     "output_type": "display_data"
    },
    {
     "data": {
      "text/html": [
       "<html><script type=\"math/tex; mode=display\">\\newcommand{\\Bold}[1]{\\mathbf{#1}}E_{l} = -\\frac{{\\Delta_{eTa}} {R_{ll}} - {\\Delta_{eTa}} R_{s} + \\frac{{\\left({P_{wa}} - {P_{was}}\\right)} {c_{pa}} \\rho_{a}}{r_{a}}}{\\gamma_{v} {\\left(\\frac{r_{s}}{r_{a}} + 1\\right)} + {\\Delta_{eTa}}}</script></html>"
      ],
      "text/plain": [
       "E_l == -(Delta_eTa*R_ll - Delta_eTa*R_s + (P_wa - P_was)*c_pa*rho_a/r_a)/(gamma_v*(r_s/r_a + 1) + Delta_eTa)"
      ]
     },
     "metadata": {},
     "output_type": "display_data"
    },
    {
     "data": {
      "text/html": [
       "<html><script type=\"math/tex; mode=display\">\\newcommand{\\Bold}[1]{\\mathbf{#1}}r_{a} = \\frac{{c_{pa}} \\rho_{a}}{h_{c}}</script></html>"
      ],
      "text/plain": [
       "r_a == c_pa*rho_a/h_c"
      ]
     },
     "metadata": {},
     "output_type": "display_data"
    },
    {
     "data": {
      "text/html": [
       "<html><script type=\"math/tex; mode=display\">\\newcommand{\\Bold}[1]{\\mathbf{#1}}\\gamma_{v} = \\frac{P_{a} {c_{pa}}}{\\epsilon \\lambda_{E}}</script></html>"
      ],
      "text/plain": [
       "gamma_v == P_a*c_pa/(epsilon*lambda_E)"
      ]
     },
     "metadata": {},
     "output_type": "display_data"
    },
    {
     "data": {
      "text/html": [
       "<html><script type=\"math/tex; mode=display\">\\newcommand{\\Bold}[1]{\\mathbf{#1}}\\epsilon = \\frac{M_{w} P_{a}}{{R_{mol}} T_{a} \\rho_{a}}</script></html>"
      ],
      "text/plain": [
       "epsilon == M_w*P_a/(R_mol*T_a*rho_a)"
      ]
     },
     "metadata": {},
     "output_type": "display_data"
    },
    {
     "data": {
      "text/html": [
       "<html><script type=\"math/tex; mode=display\">\\newcommand{\\Bold}[1]{\\mathbf{#1}}E_{l} = -\\frac{{\\left({P_{wa}} - {P_{wl}}\\right)} a_{s} \\epsilon \\lambda_{E} \\rho_{a}}{P_{a} {\\left(r_{s} + {r_{v}}\\right)}}</script></html>"
      ],
      "text/plain": [
       "E_l == -(P_wa - P_wl)*a_s*epsilon*lambda_E*rho_a/(P_a*(r_s + r_v))"
      ]
     },
     "metadata": {},
     "output_type": "display_data"
    },
    {
     "data": {
      "text/html": [
       "<html><script type=\"math/tex; mode=display\">\\newcommand{\\Bold}[1]{\\mathbf{#1}}E_{l} = -\\frac{{\\Delta_{eTa}} {R_{ll}} - {\\Delta_{eTa}} R_{s} + \\frac{{\\left({P_{wa}} - {P_{was}}\\right)} {c_{pa}} \\rho_{a}}{r_{a}}}{\\gamma_{v} n_{\\mathit{MU}} {\\left(\\frac{r_{s}}{r_{a}} + 1\\right)} + {\\Delta_{eTa}}}</script></html>"
      ],
      "text/plain": [
       "E_l == -(Delta_eTa*R_ll - Delta_eTa*R_s + (P_wa - P_was)*c_pa*rho_a/r_a)/(gamma_v*n_MU*(r_s/r_a + 1) + Delta_eTa)"
      ]
     },
     "metadata": {},
     "output_type": "display_data"
    },
    {
     "name": "stdout",
     "output_type": "stream",
     "text": [
      "numerical solution: \n",
      "T_l = 308.321395271\n",
      "E_l = 180.542235053941\n",
      "H_l = 150.521099595469\n",
      "R_ll = 68.9366653505872\n",
      "g_bw = 0.0131620455576424\n",
      "g_tw = 0.00291849206962754\n",
      "Direct estimates: \n",
      "E_l = 198.222104889662\n",
      "H_l = 201.777895110338\n",
      "T_l == 310.133484539870\n",
      "T_l == 310.133484539870\n",
      "T_l == 309.093414355984\n",
      "400 == 400.000000000000\n",
      "Using T_l from eq_Tl_Delta: \n",
      "T_l = 310.133484539870\n",
      "P_wl = 6256.38161942359\n",
      "E_l = 216.096641092879\n",
      "H_l = 201.777895110338\n",
      "R_ll = 93.2413750164809\n",
      "400 == 511.115911219698\n",
      "Using T_l from eq_Tl_Delta only to calculate R_ll: \n",
      "T_l = 310.133484539870\n",
      "R_ll = 93.2413750164809\n",
      "E_l = 169.892070077829\n",
      "H_l = 136.866554905691\n",
      "400 == 400.000000000000\n",
      "Using T_l from eq_Tl_Delta2: \n",
      "T_l = 309.093414355984\n",
      "P_wl = 5906.50495424572\n",
      "E_l = 198.222104889661\n",
      "H_l = 172.358447812369\n",
      "R_ll = 79.2391719599513\n",
      "400 == 449.819724661981\n",
      "Using T_l from eq_Tl_Delta2 only to calculate R_ll: \n",
      "T_l = 309.093414355984\n",
      "R_ll = 79.2391719599513\n",
      "E_l = 174.146435695707\n",
      "H_l = 146.614392344342\n",
      "400 == 400.000000000000\n",
      "T_l = 305.650648423\n",
      "E_l = 185.424519010311\n",
      "H_l = 325.157459266011\n",
      "R_ll = 89.4180217236781\n",
      "Direct estimates: \n",
      "E_l == 201.520517691209\n",
      "H_l == 398.479482308791\n",
      "T_l == 307.263098002106\n",
      "Using estimated T_l: \n",
      "E_l == 254.937149826832\n",
      "H_l == 398.479482308791\n",
      "0 == 110.468903558398\n",
      "Using estimated T_l only to calculate R_ll: \n",
      "E_l == 164.417599968095\n",
      "H_l == 325.113496473507\n",
      "307.263098002106 == 305.649681621994\n",
      "Using 1 iteration to get T_l: \n",
      "T_l(R_ll=0): 307.263098002106\n",
      "R_ll(T_l) = 110.468903558398\n",
      "T_l = 305.649681621994\n",
      "E_l == 199.088662380171\n",
      "H_l == 325.113496473508\n"
     ]
    },
    {
     "data": {
      "text/html": [
       "<html><script type=\"math/tex; mode=display\">\\newcommand{\\Bold}[1]{\\mathbf{#1}}E_{l} = -\\frac{{\\left({P_{wa}} - {P_{was}}\\right)} f_{u} \\gamma_{v} + {\\Delta_{eTa}} {R_{ll}} - {\\Delta_{eTa}} R_{s}}{{\\Delta_{eTa}} + \\gamma_{v}}</script></html>"
      ],
      "text/plain": [
       "E_l == -((P_wa - P_was)*f_u*gamma_v + Delta_eTa*R_ll - Delta_eTa*R_s)/(Delta_eTa + gamma_v)"
      ]
     },
     "metadata": {},
     "output_type": "display_data"
    },
    {
     "data": {
      "text/html": [
       "<html><script type=\"math/tex; mode=display\">\\newcommand{\\Bold}[1]{\\mathbf{#1}}E_{w} = -\\frac{{\\left({P_{wa}} - {P_{was}}\\right)} f_{u} \\gamma_{v} + {\\Delta_{eTa}} {R_{ll}} - {\\Delta_{eTa}} R_{s}}{{\\Delta_{eTa}} + \\gamma_{v}}</script></html>"
      ],
      "text/plain": [
       "E_w == -((P_wa - P_was)*f_u*gamma_v + Delta_eTa*R_ll - Delta_eTa*R_s)/(Delta_eTa + gamma_v)"
      ]
     },
     "metadata": {},
     "output_type": "display_data"
    },
    {
     "data": {
      "text/html": [
       "<html><script type=\"math/tex; mode=display\">\\newcommand{\\Bold}[1]{\\mathbf{#1}}E_{l} = -\\frac{{\\left({P_{wa}} - {P_{was}}\\right)} {c_{pa}} \\rho_{a} + {\\left({\\Delta_{eTa}} {R_{ll}} - {\\Delta_{eTa}} R_{s}\\right)} r_{a}}{{\\left({\\Delta_{eTa}} + \\gamma_{v}\\right)} r_{a}}</script></html>"
      ],
      "text/plain": [
       "E_l == -((P_wa - P_was)*c_pa*rho_a + (Delta_eTa*R_ll - Delta_eTa*R_s)*r_a)/((Delta_eTa + gamma_v)*r_a)"
      ]
     },
     "metadata": {},
     "output_type": "display_data"
    },
    {
     "data": {
      "text/html": [
       "<html><script type=\"math/tex; mode=display\">\\newcommand{\\Bold}[1]{\\mathbf{#1}}E_{w} = -\\frac{{\\Delta_{eTa}} {R_{ll}} - {\\Delta_{eTa}} R_{s} + \\frac{{\\left({P_{wa}} - {P_{was}}\\right)} {c_{pa}} \\rho_{a}}{r_{a}}}{{\\Delta_{eTa}} + \\gamma_{v}}</script></html>"
      ],
      "text/plain": [
       "E_w == -(Delta_eTa*R_ll - Delta_eTa*R_s + (P_wa - P_was)*c_pa*rho_a/r_a)/(Delta_eTa + gamma_v)"
      ]
     },
     "metadata": {},
     "output_type": "display_data"
    },
    {
     "data": {
      "text/html": [
       "<html><script type=\"math/tex; mode=display\">\\newcommand{\\Bold}[1]{\\mathbf{#1}}E_{l} = -\\frac{{\\left({\\left({P_{wa}} - {P_{was}}\\right)} f_{u} \\gamma_{v} + {\\Delta_{eTa}} {R_{ll}} - {\\Delta_{eTa}} R_{s}\\right)} S}{{\\Delta_{eTa}} S + \\gamma_{v}}</script></html>"
      ],
      "text/plain": [
       "E_l == -((P_wa - P_was)*f_u*gamma_v + Delta_eTa*R_ll - Delta_eTa*R_s)*S/(Delta_eTa*S + gamma_v)"
      ]
     },
     "metadata": {},
     "output_type": "display_data"
    },
    {
     "data": {
      "text/html": [
       "<html><script type=\"math/tex; mode=display\">\\newcommand{\\Bold}[1]{\\mathbf{#1}}E_{l} = -\\frac{{\\Delta_{eTa}} {\\left({R_{ll}} - R_{s}\\right)} S + {\\left({P_{wa}} S - {P_{was}} S\\right)} f_{u} \\gamma_{v}}{{\\Delta_{eTa}} S + \\gamma_{v}}</script></html>"
      ],
      "text/plain": [
       "E_l == -(Delta_eTa*(R_ll - R_s)*S + (P_wa*S - P_was*S)*f_u*gamma_v)/(Delta_eTa*S + gamma_v)"
      ]
     },
     "metadata": {},
     "output_type": "display_data"
    },
    {
     "data": {
      "text/html": [
       "<html><script type=\"math/tex; mode=display\">\\newcommand{\\Bold}[1]{\\mathbf{#1}}E_{l} = -\\frac{{\\Delta_{eTa}} {\\left({R_{ll}} - R_{s}\\right)} S + {\\left({P_{wa}} S - {P_{was}} S\\right)} f_{u} \\gamma_{v}}{{\\Delta_{eTa}} S + \\gamma_{v}}</script></html>"
      ],
      "text/plain": [
       "E_l == -(Delta_eTa*(R_ll - R_s)*S + (P_wa*S - P_was*S)*f_u*gamma_v)/(Delta_eTa*S + gamma_v)"
      ]
     },
     "metadata": {},
     "output_type": "display_data"
    },
    {
     "data": {
      "text/html": [
       "<html><script type=\"math/tex; mode=display\">\\newcommand{\\Bold}[1]{\\mathbf{#1}}E_{l} = -\\frac{{\\Delta_{eTa}} {R_{ll}} - {\\Delta_{eTa}} R_{s} + \\frac{{\\left({P_{wa}} - {P_{was}}\\right)} {c_{pa}} \\rho_{a}}{r_{a}}}{\\gamma_{v} {\\left(\\frac{r_{s}}{r_{a}} + 1\\right)} + {\\Delta_{eTa}}}</script></html>"
      ],
      "text/plain": [
       "E_l == -(Delta_eTa*R_ll - Delta_eTa*R_s + (P_wa - P_was)*c_pa*rho_a/r_a)/(gamma_v*(r_s/r_a + 1) + Delta_eTa)"
      ]
     },
     "metadata": {},
     "output_type": "display_data"
    },
    {
     "data": {
      "text/html": [
       "<html><script type=\"math/tex; mode=display\">\\newcommand{\\Bold}[1]{\\mathbf{#1}}E_{l} = -\\frac{{\\left({P_{wa}} - {P_{wl}}\\right)} a_{s} \\epsilon \\lambda_{E} \\rho_{a}}{P_{a} {\\left(r_{s} + {r_{v}}\\right)}}</script></html>"
      ],
      "text/plain": [
       "E_l == -(P_wa - P_wl)*a_s*epsilon*lambda_E*rho_a/(P_a*(r_s + r_v))"
      ]
     },
     "metadata": {},
     "output_type": "display_data"
    },
    {
     "data": {
      "text/html": [
       "<html><script type=\"math/tex; mode=display\">\\newcommand{\\Bold}[1]{\\mathbf{#1}}H_{l} = -\\frac{{\\left(T_{a} - T_{l}\\right)} {a_{sh}} {c_{pa}} \\rho_{a}}{r_{a}}</script></html>"
      ],
      "text/plain": [
       "H_l == -(T_a - T_l)*a_sh*c_pa*rho_a/r_a"
      ]
     },
     "metadata": {},
     "output_type": "display_data"
    },
    {
     "data": {
      "text/html": [
       "<html><script type=\"math/tex; mode=display\">\\newcommand{\\Bold}[1]{\\mathbf{#1}}\\gamma_{v} = \\frac{P_{a} {c_{pa}}}{\\epsilon \\lambda_{E}}</script></html>"
      ],
      "text/plain": [
       "gamma_v == P_a*c_pa/(epsilon*lambda_E)"
      ]
     },
     "metadata": {},
     "output_type": "display_data"
    },
    {
     "data": {
      "text/html": [
       "<html><script type=\"math/tex; mode=display\">\\newcommand{\\Bold}[1]{\\mathbf{#1}}E_{l} = -\\frac{{\\left({P_{wa}} - {P_{was}}\\right)} {c_{pa}} \\epsilon \\lambda_{E} \\rho_{a} + {\\left({\\Delta_{eTa}} {R_{ll}} - {\\Delta_{eTa}} R_{s}\\right)} \\epsilon \\lambda_{E} r_{a}}{P_{a} {c_{pa}} r_{s} + {\\left({\\Delta_{eTa}} \\epsilon \\lambda_{E} + P_{a} {c_{pa}}\\right)} r_{a}}</script></html>"
      ],
      "text/plain": [
       "E_l == -((P_wa - P_was)*c_pa*epsilon*lambda_E*rho_a + (Delta_eTa*R_ll - Delta_eTa*R_s)*epsilon*lambda_E*r_a)/(P_a*c_pa*r_s + (Delta_eTa*epsilon*lambda_E + P_a*c_pa)*r_a)"
      ]
     },
     "metadata": {},
     "output_type": "display_data"
    },
    {
     "data": {
      "text/html": [
       "<html><script type=\"math/tex; mode=display\">\\newcommand{\\Bold}[1]{\\mathbf{#1}}E_{l} = -\\frac{{\\left({P_{wa}} - {P_{was}}\\right)} {c_{pa}} \\epsilon \\lambda_{E} \\rho_{a} + {\\left({\\Delta_{eTa}} {R_{ll}} - {\\Delta_{eTa}} R_{s}\\right)} \\epsilon \\lambda_{E} r_{a}}{P_{a} {c_{pa}} r_{s} + {\\left({\\Delta_{eTa}} \\epsilon \\lambda_{E} + P_{a} {c_{pa}}\\right)} r_{a}}</script></html>"
      ],
      "text/plain": [
       "E_l == -((P_wa - P_was)*c_pa*epsilon*lambda_E*rho_a + (Delta_eTa*R_ll - Delta_eTa*R_s)*epsilon*lambda_E*r_a)/(P_a*c_pa*r_s + (Delta_eTa*epsilon*lambda_E + P_a*c_pa)*r_a)"
      ]
     },
     "metadata": {},
     "output_type": "display_data"
    },
    {
     "data": {
      "text/html": [
       "<html><script type=\"math/tex; mode=display\">\\newcommand{\\Bold}[1]{\\mathbf{#1}}E_{l} = -\\frac{{\\left({P_{wa}} - {P_{was}}\\right)} {c_{pa}} \\rho_{a} + {\\left({\\Delta_{eTa}} {R_{ll}} - {\\Delta_{eTa}} R_{s}\\right)} r_{a}}{{\\left({\\Delta_{eTa}} + \\gamma_{v}\\right)} r_{a} + \\gamma_{v} r_{s}}</script></html>"
      ],
      "text/plain": [
       "E_l == -((P_wa - P_was)*c_pa*rho_a + (Delta_eTa*R_ll - Delta_eTa*R_s)*r_a)/((Delta_eTa + gamma_v)*r_a + gamma_v*r_s)"
      ]
     },
     "metadata": {},
     "output_type": "display_data"
    },
    {
     "data": {
      "text/html": [
       "<html><script type=\"math/tex; mode=display\">\\newcommand{\\Bold}[1]{\\mathbf{#1}}E_{l} = -\\frac{{\\left({P_{wa}} - {P_{was}}\\right)} {c_{pa}} \\rho_{a} + {\\left({\\Delta_{eTa}} {R_{ll}} - {\\Delta_{eTa}} R_{s}\\right)} r_{a}}{{\\left({\\Delta_{eTa}} + \\gamma_{v}\\right)} r_{a} + \\gamma_{v} r_{s}}</script></html>"
      ],
      "text/plain": [
       "E_l == -((P_wa - P_was)*c_pa*rho_a + (Delta_eTa*R_ll - Delta_eTa*R_s)*r_a)/((Delta_eTa + gamma_v)*r_a + gamma_v*r_s)"
      ]
     },
     "metadata": {},
     "output_type": "display_data"
    },
    {
     "data": {
      "text/html": [
       "<html><script type=\"math/tex; mode=display\">\\newcommand{\\Bold}[1]{\\mathbf{#1}}E_{l} = -\\frac{{\\left({P_{wa}} - {P_{was}}\\right)} a_{s} {a_{sh}} {c_{pa}} \\epsilon \\lambda_{E} \\rho_{a} + {\\left({\\Delta_{eTa}} {R_{ll}} - {\\Delta_{eTa}} R_{s}\\right)} a_{s} \\epsilon \\lambda_{E} r_{a}}{P_{a} {a_{sh}} {c_{pa}} r_{s} + {\\left({\\Delta_{eTa}} a_{s} \\epsilon \\lambda_{E} + P_{a} {a_{sh}} {c_{pa}}\\right)} r_{a}}</script></html>"
      ],
      "text/plain": [
       "E_l == -((P_wa - P_was)*a_s*a_sh*c_pa*epsilon*lambda_E*rho_a + (Delta_eTa*R_ll - Delta_eTa*R_s)*a_s*epsilon*lambda_E*r_a)/(P_a*a_sh*c_pa*r_s + (Delta_eTa*a_s*epsilon*lambda_E + P_a*a_sh*c_pa)*r_a)"
      ]
     },
     "metadata": {},
     "output_type": "display_data"
    },
    {
     "name": "stdout",
     "output_type": "stream",
     "text": [
      "kilogram/second^3 == kilogram/second^3\n"
     ]
    },
    {
     "data": {
      "text/html": [
       "<html><script type=\"math/tex; mode=display\">\\newcommand{\\Bold}[1]{\\mathbf{#1}}E_{l} = -\\frac{{\\left({P_{wa}} - {P_{was}}\\right)} a_{s} {c_{pa}} \\epsilon \\lambda_{E} \\rho_{a} + {\\left({\\Delta_{eTa}} {R_{ll}} - {\\Delta_{eTa}} R_{s}\\right)} a_{s} \\epsilon \\lambda_{E} r_{a}}{P_{a} {a_{sh}} {c_{pa}} r_{s} + {\\left({\\Delta_{eTa}} a_{s} \\epsilon \\lambda_{E} + P_{a} {a_{sh}} {c_{pa}}\\right)} r_{a}}</script></html>"
      ],
      "text/plain": [
       "E_l == -((P_wa - P_was)*a_s*c_pa*epsilon*lambda_E*rho_a + (Delta_eTa*R_ll - Delta_eTa*R_s)*a_s*epsilon*lambda_E*r_a)/(P_a*a_sh*c_pa*r_s + (Delta_eTa*a_s*epsilon*lambda_E + P_a*a_sh*c_pa)*r_a)"
      ]
     },
     "metadata": {},
     "output_type": "display_data"
    },
    {
     "data": {
      "text/html": [
       "<html><script type=\"math/tex; mode=display\">\\newcommand{\\Bold}[1]{\\mathbf{#1}}E_{l} = -\\frac{{\\Delta_{eTa}} {R_{ll}} - {\\Delta_{eTa}} R_{s} + \\frac{{\\left({P_{wa}} - {P_{was}}\\right)} {c_{pa}} \\rho_{a}}{r_{a}}}{{\\Delta_{eTa}} + \\frac{P_{a} {a_{sh}} {c_{pa}} {\\left(\\frac{r_{s}}{r_{a}} + 1\\right)}}{a_{s} \\epsilon \\lambda_{E}}}</script></html>"
      ],
      "text/plain": [
       "E_l == -(Delta_eTa*R_ll - Delta_eTa*R_s + (P_wa - P_was)*c_pa*rho_a/r_a)/(Delta_eTa + P_a*a_sh*c_pa*(r_s/r_a + 1)/(a_s*epsilon*lambda_E))"
      ]
     },
     "metadata": {},
     "output_type": "display_data"
    },
    {
     "data": {
      "text/html": [
       "<html><script type=\"math/tex; mode=display\">\\newcommand{\\Bold}[1]{\\mathbf{#1}}E_{l} = -\\frac{\\frac{{\\left({P_{wa}} - {P_{was}}\\right)} a_{s} {a_{sh}} {c_{pa}} \\epsilon \\lambda_{E} \\rho_{a}^{2}}{P_{a} {\\left(r_{a} + r_{s}\\right)} r_{a}} + \\frac{{\\left({\\Delta_{eTa}} {R_{ll}} - {\\Delta_{eTa}} R_{s}\\right)} a_{s} \\epsilon \\lambda_{E} \\rho_{a}}{P_{a} {\\left(r_{a} + r_{s}\\right)}}}{\\frac{{\\Delta_{eTa}} a_{s} \\epsilon \\lambda_{E} \\rho_{a}}{P_{a} {\\left(r_{a} + r_{s}\\right)}} + \\frac{{a_{sh}} {c_{pa}} \\rho_{a}}{r_{a}}}</script></html>"
      ],
      "text/plain": [
       "E_l == -((P_wa - P_was)*a_s*a_sh*c_pa*epsilon*lambda_E*rho_a^2/(P_a*(r_a + r_s)*r_a) + (Delta_eTa*R_ll - Delta_eTa*R_s)*a_s*epsilon*lambda_E*rho_a/(P_a*(r_a + r_s)))/(Delta_eTa*a_s*epsilon*lambda_E*rho_a/(P_a*(r_a + r_s)) + a_sh*c_pa*rho_a/r_a)"
      ]
     },
     "metadata": {},
     "output_type": "display_data"
    },
    {
     "data": {
      "text/html": [
       "<html><script type=\"math/tex; mode=display\">\\newcommand{\\Bold}[1]{\\mathbf{#1}}E_{w} = -\\frac{{\\Delta_{eTa}} {R_{ll}} - {\\Delta_{eTa}} R_{s} + \\frac{{\\left({P_{wa}} - {P_{was}}\\right)} {c_{pa}} \\rho_{a}}{r_{a}}}{{\\Delta_{eTa}} + \\gamma_{v}}</script></html>"
      ],
      "text/plain": [
       "E_w == -(Delta_eTa*R_ll - Delta_eTa*R_s + (P_wa - P_was)*c_pa*rho_a/r_a)/(Delta_eTa + gamma_v)"
      ]
     },
     "metadata": {},
     "output_type": "display_data"
    },
    {
     "data": {
      "text/html": [
       "<html><script type=\"math/tex; mode=display\">\\newcommand{\\Bold}[1]{\\mathbf{#1}}\\gamma_{v} = \\frac{c_{H}}{c_{E}}</script></html>"
      ],
      "text/plain": [
       "gamma_v == c_H/c_E"
      ]
     },
     "metadata": {},
     "output_type": "display_data"
    },
    {
     "data": {
      "text/html": [
       "<html><script type=\"math/tex; mode=display\">\\newcommand{\\Bold}[1]{\\mathbf{#1}}E_{l} = -\\frac{{\\Delta_{eTa}} {\\left({R_{ll}} - R_{s}\\right)} c_{E} + {\\left({P_{wa}} c_{E} - {P_{was}} c_{E}\\right)} c_{H}}{{\\Delta_{eTa}} c_{E} + c_{H}}</script></html>"
      ],
      "text/plain": [
       "E_l == -(Delta_eTa*(R_ll - R_s)*c_E + (P_wa*c_E - P_was*c_E)*c_H)/(Delta_eTa*c_E + c_H)"
      ]
     },
     "metadata": {},
     "output_type": "display_data"
    },
    {
     "data": {
      "text/html": [
       "<html><script type=\"math/tex; mode=display\">\\newcommand{\\Bold}[1]{\\mathbf{#1}}E_{l} = -\\frac{{\\Delta_{eTa}} {\\left({R_{ll}} - R_{s}\\right)} c_{E} + {\\left({P_{wa}} c_{E} - {P_{was}} c_{E}\\right)} c_{H}}{{\\Delta_{eTa}} c_{E} + c_{H}}</script></html>"
      ],
      "text/plain": [
       "E_l == -(Delta_eTa*(R_ll - R_s)*c_E + (P_wa*c_E - P_was*c_E)*c_H)/(Delta_eTa*c_E + c_H)"
      ]
     },
     "metadata": {},
     "output_type": "display_data"
    },
    {
     "data": {
      "text/html": [
       "<html><script type=\"math/tex; mode=display\">\\newcommand{\\Bold}[1]{\\mathbf{#1}}\\gamma_{v} = \\frac{P_{a} {c_{pa}}}{\\epsilon \\lambda_{E}}</script></html>"
      ],
      "text/plain": [
       "gamma_v == P_a*c_pa/(epsilon*lambda_E)"
      ]
     },
     "metadata": {},
     "output_type": "display_data"
    },
    {
     "data": {
      "text/html": [
       "<html><script type=\"math/tex; mode=display\">\\newcommand{\\Bold}[1]{\\mathbf{#1}}E_{l} = -\\frac{{\\left({P_{wa}} - {P_{was}}\\right)} a_{s} {a_{sh}} {c_{pa}} \\epsilon \\lambda_{E} \\rho_{a} + {\\left({\\Delta_{eTa}} {R_{ll}} - {\\Delta_{eTa}} R_{s}\\right)} a_{s} \\epsilon \\lambda_{E} r_{a}}{P_{a} {a_{sh}} {c_{pa}} r_{s} + {\\left({\\Delta_{eTa}} a_{s} \\epsilon \\lambda_{E} + P_{a} {a_{sh}} {c_{pa}}\\right)} r_{a}}</script></html>"
      ],
      "text/plain": [
       "E_l == -((P_wa - P_was)*a_s*a_sh*c_pa*epsilon*lambda_E*rho_a + (Delta_eTa*R_ll - Delta_eTa*R_s)*a_s*epsilon*lambda_E*r_a)/(P_a*a_sh*c_pa*r_s + (Delta_eTa*a_s*epsilon*lambda_E + P_a*a_sh*c_pa)*r_a)"
      ]
     },
     "metadata": {},
     "output_type": "display_data"
    },
    {
     "name": "stdout",
     "output_type": "stream",
     "text": [
      "kilogram/second^3 == kilogram/second^3\n"
     ]
    },
    {
     "data": {
      "text/html": [
       "<html><script type=\"math/tex; mode=display\">\\newcommand{\\Bold}[1]{\\mathbf{#1}}E_{l} = -\\frac{{\\left({P_{wa}} - {P_{was}}\\right)} a_{s} {a_{sh}} {c_{pa}} \\epsilon \\lambda_{E} \\rho_{a} + {\\left({\\Delta_{eTa}} {R_{ll}} - {\\Delta_{eTa}} R_{s}\\right)} a_{s} \\epsilon \\lambda_{E} r_{a}}{P_{a} {a_{sh}} {c_{pa}} r_{s} + {\\left({\\Delta_{eTa}} a_{s} \\epsilon \\lambda_{E} + P_{a} {a_{sh}} {c_{pa}}\\right)} r_{a}}</script></html>"
      ],
      "text/plain": [
       "E_l == -((P_wa - P_was)*a_s*a_sh*c_pa*epsilon*lambda_E*rho_a + (Delta_eTa*R_ll - Delta_eTa*R_s)*a_s*epsilon*lambda_E*r_a)/(P_a*a_sh*c_pa*r_s + (Delta_eTa*a_s*epsilon*lambda_E + P_a*a_sh*c_pa)*r_a)"
      ]
     },
     "metadata": {},
     "output_type": "display_data"
    },
    {
     "name": "stdout",
     "output_type": "stream",
     "text": [
      "kilogram/second^3 == kilogram/second^3\n"
     ]
    },
    {
     "data": {
      "text/html": [
       "<html><script type=\"math/tex; mode=display\">\\newcommand{\\Bold}[1]{\\mathbf{#1}}E_{l} = -\\frac{{\\left({P_{wa}} - {P_{was}}\\right)} a_{s} {a_{sh}} {c_{pa}} \\epsilon \\lambda_{E} \\rho_{a} + {\\left({\\Delta_{eTa}} {R_{ll}} - {\\Delta_{eTa}} R_{s}\\right)} a_{s} \\epsilon \\lambda_{E} r_{a}}{P_{a} {a_{sh}} {c_{pa}} r_{s} + {\\left({\\Delta_{eTa}} a_{s} \\epsilon \\lambda_{E} + P_{a} {a_{sh}} {c_{pa}}\\right)} r_{a}}</script></html>"
      ],
      "text/plain": [
       "E_l == -((P_wa - P_was)*a_s*a_sh*c_pa*epsilon*lambda_E*rho_a + (Delta_eTa*R_ll - Delta_eTa*R_s)*a_s*epsilon*lambda_E*r_a)/(P_a*a_sh*c_pa*r_s + (Delta_eTa*a_s*epsilon*lambda_E + P_a*a_sh*c_pa)*r_a)"
      ]
     },
     "metadata": {},
     "output_type": "display_data"
    },
    {
     "data": {
      "text/html": [
       "<html><script type=\"math/tex; mode=display\">\\newcommand{\\Bold}[1]{\\mathbf{#1}}E_{l} = -\\frac{{\\left({P_{wa}} - {P_{was}}\\right)} a_{s} {a_{sh}} {c_{pa}} \\rho_{a} + {\\left({\\Delta_{eTa}} {R_{ll}} - {\\Delta_{eTa}} R_{s}\\right)} a_{s} r_{a}}{{a_{sh}} \\gamma_{v} r_{s} + {\\left({\\Delta_{eTa}} a_{s} + {a_{sh}} \\gamma_{v}\\right)} r_{a}}</script></html>"
      ],
      "text/plain": [
       "E_l == -((P_wa - P_was)*a_s*a_sh*c_pa*rho_a + (Delta_eTa*R_ll - Delta_eTa*R_s)*a_s*r_a)/(a_sh*gamma_v*r_s + (Delta_eTa*a_s + a_sh*gamma_v)*r_a)"
      ]
     },
     "metadata": {},
     "output_type": "display_data"
    },
    {
     "data": {
      "text/html": [
       "<html><script type=\"math/tex; mode=display\">\\newcommand{\\Bold}[1]{\\mathbf{#1}}r_{a} = \\frac{{c_{pa}} \\rho_{a}}{h_{c}}</script></html>"
      ],
      "text/plain": [
       "r_a == c_pa*rho_a/h_c"
      ]
     },
     "metadata": {},
     "output_type": "display_data"
    },
    {
     "data": {
      "text/html": [
       "<html><script type=\"math/tex; mode=display\">\\newcommand{\\Bold}[1]{\\mathbf{#1}}{r_{v}} = \\frac{a_{s}}{{g_{bw}}}</script></html>"
      ],
      "text/plain": [
       "r_v == a_s/g_bw"
      ]
     },
     "metadata": {},
     "output_type": "display_data"
    },
    {
     "data": {
      "text/html": [
       "<html><script type=\"math/tex; mode=display\">\\newcommand{\\Bold}[1]{\\mathbf{#1}}\\frac{r_{a}}{{r_{v}}} = \\frac{1}{{N_{Le}}^{\\frac{2}{3}}}</script></html>"
      ],
      "text/plain": [
       "r_a/r_v == Le^(-2/3)"
      ]
     },
     "metadata": {},
     "output_type": "display_data"
    },
    {
     "name": "stdout",
     "output_type": "stream",
     "text": [
      "1.08204645272521\n"
     ]
    },
    {
     "data": {
      "image/png": "[encoded data removed]",
      "text/plain": [
       "Graphics object consisting of 1 graphics primitive"
      ]
     },
     "metadata": {},
     "output_type": "display_data"
    },
    {
     "name": "stdout",
     "output_type": "stream",
     "text": [
      "T_l = 308.321395271\n",
      "E_l = 180.542235053941\n",
      "H_l = 150.521099595469\n",
      "R_ll = 68.9366653505872\n",
      "g_bw = 0.0131620455576424\n",
      "g_tw = 0.00291849206962754\n",
      "Direct estimates: \n",
      "E_l = 198.222104889662\n",
      "H_l = 201.777895110338\n",
      "T_l == 310.133484539870\n",
      "T_l == 310.133484539870\n",
      "T_l == 309.093414355984\n",
      "400 == 400.000000000000\n",
      "Penman-stomata: \n",
      "E_l = 198.222104889662\n",
      "H_l = 201.777895110338\n",
      "T_l = 310.133484539870\n",
      "400 == 400.000000000000\n",
      "PM-equation: \n",
      "E_l = 241.448619283973\n",
      "H_l = 158.551380716027\n",
      "400 == 400.000000000000\n",
      "MU-equation: \n",
      "E_l = 156.668183937778\n",
      "H_l = 243.331816062222\n",
      "400 == 400.000000000000\n",
      "Corrected MU-equation: \n",
      "E_l = 195.741933442269\n",
      "H_l = 204.258066557731\n",
      "400 == 400.000000000000\n",
      "4*T_l^3*a_sh*epsilon_l*sigm\n",
      "[\n",
      "Rll1 == -3*T1^4*a_sh*epsilon_l*sigm - T_w^4*a_sh*epsilon_l*sigm\n",
      "]\n"
     ]
    },
    {
     "data": {
      "text/html": [
       "<html><script type=\"math/tex; mode=display\">\\newcommand{\\Bold}[1]{\\mathbf{#1}}{R_{ll}} = -{\\left(3 \\, T_{a}^{4} - 4 \\, T_{a}^{3} T_{l} + T_{w}^{4}\\right)} {a_{sh}} \\epsilon_{l} {\\sigma}</script></html>"
      ],
      "text/plain": [
       "R_ll == -(3*T_a^4 - 4*T_a^3*T_l + T_w^4)*a_sh*epsilon_l*sigm"
      ]
     },
     "metadata": {},
     "output_type": "display_data"
    },
    {
     "data": {
      "image/png": "[encoded data removed]",
      "text/plain": [
       "Graphics object consisting of 2 graphics primitives"
      ]
     },
     "metadata": {},
     "output_type": "display_data"
    },
    {
     "data": {
      "text/html": [
       "<html><script type=\"math/tex; mode=display\">\\newcommand{\\Bold}[1]{\\mathbf{#1}}E_{l} = -{\\left({P_{wa}} - {P_{wl}}\\right)} c_{E}</script></html>"
      ],
      "text/plain": [
       "E_l == -(P_wa - P_wl)*c_E"
      ]
     },
     "metadata": {},
     "output_type": "display_data"
    },
    {
     "data": {
      "text/html": [
       "<html><script type=\"math/tex; mode=display\">\\newcommand{\\Bold}[1]{\\mathbf{#1}}H_{l} = -{\\left(T_{a} - T_{l}\\right)} c_{H}</script></html>"
      ],
      "text/plain": [
       "H_l == -(T_a - T_l)*c_H"
      ]
     },
     "metadata": {},
     "output_type": "display_data"
    },
    {
     "data": {
      "text/html": [
       "<html><script type=\"math/tex; mode=display\">\\newcommand{\\Bold}[1]{\\mathbf{#1}}{R_{ll}} = -{\\left(3 \\, T_{a}^{4} - 4 \\, T_{a}^{3} T_{l} + T_{w}^{4}\\right)} {a_{sh}} \\epsilon_{l} {\\sigma}</script></html>"
      ],
      "text/plain": [
       "R_ll == -(3*T_a^4 - 4*T_a^3*T_l + T_w^4)*a_sh*epsilon_l*sigm"
      ]
     },
     "metadata": {},
     "output_type": "display_data"
    },
    {
     "data": {
      "text/html": [
       "<html><script type=\"math/tex; mode=display\">\\newcommand{\\Bold}[1]{\\mathbf{#1}}\\gamma_{v} = \\frac{c_{H}}{c_{E}}</script></html>"
      ],
      "text/plain": [
       "gamma_v == c_H/c_E"
      ]
     },
     "metadata": {},
     "output_type": "display_data"
    },
    {
     "data": {
      "text/html": [
       "<html><script type=\"math/tex; mode=display\">\\newcommand{\\Bold}[1]{\\mathbf{#1}}{\\Delta_{eTa}} = \\frac{{P_{was}} - {P_{wl}}}{T_{a} - T_{l}}</script></html>"
      ],
      "text/plain": [
       "Delta_eTa == (P_was - P_wl)/(T_a - T_l)"
      ]
     },
     "metadata": {},
     "output_type": "display_data"
    },
    {
     "data": {
      "text/html": [
       "<html><script type=\"math/tex; mode=display\">\\newcommand{\\Bold}[1]{\\mathbf{#1}}E_{l} = -\\frac{{P_{wa}} c_{H} - {P_{wl}} c_{H}}{\\gamma_{v}}</script></html>"
      ],
      "text/plain": [
       "E_l == -(P_wa*c_H - P_wl*c_H)/gamma_v"
      ]
     },
     "metadata": {},
     "output_type": "display_data"
    },
    {
     "name": "stdout",
     "output_type": "stream",
     "text": [
      "kilogram/second^3 == kilogram/second^3\n"
     ]
    },
    {
     "data": {
      "text/html": [
       "<html><script type=\"math/tex; mode=display\">\\newcommand{\\Bold}[1]{\\mathbf{#1}}E_{l} = -\\frac{{\\left({\\Delta_{eTa}} T_{a} - {\\Delta_{eTa}} T_{l} + {P_{wa}} - {P_{was}}\\right)} c_{H}}{\\gamma_{v}}</script></html>"
      ],
      "text/plain": [
       "E_l == -(Delta_eTa*T_a - Delta_eTa*T_l + P_wa - P_was)*c_H/gamma_v"
      ]
     },
     "metadata": {},
     "output_type": "display_data"
    },
    {
     "name": "stdout",
     "output_type": "stream",
     "text": [
      "kilogram/second^3 == kilogram/second^3\n"
     ]
    },
    {
     "data": {
      "text/html": [
       "<html><script type=\"math/tex; mode=display\">\\newcommand{\\Bold}[1]{\\mathbf{#1}}E_{l} = -\\frac{{\\left({\\Delta_{eTa}} T_{a}^{4} - {\\Delta_{eTa}} T_{w}^{4} + 4 \\, {\\left({P_{wa}} - {P_{was}}\\right)} T_{a}^{3}\\right)} {a_{sh}} c_{E} \\epsilon_{l} {\\sigma} - {\\Delta_{eTa}} R_{s} c_{E} + {\\left({P_{wa}} - {P_{was}}\\right)} c_{E} c_{H}}{4 \\, T_{a}^{3} {a_{sh}} \\epsilon_{l} {\\sigma} + {\\Delta_{eTa}} c_{E} + c_{H}}</script></html>"
      ],
      "text/plain": [
       "E_l == -((Delta_eTa*T_a^4 - Delta_eTa*T_w^4 + 4*(P_wa - P_was)*T_a^3)*a_sh*c_E*epsilon_l*sigm - Delta_eTa*R_s*c_E + (P_wa - P_was)*c_E*c_H)/(4*T_a^3*a_sh*epsilon_l*sigm + Delta_eTa*c_E + c_H)"
      ]
     },
     "metadata": {},
     "output_type": "display_data"
    },
    {
     "name": "stdout",
     "output_type": "stream",
     "text": [
      "kilogram/second^3 == kilogram/second^3\n"
     ]
    },
    {
     "data": {
      "text/html": [
       "<html><script type=\"math/tex; mode=display\">\\newcommand{\\Bold}[1]{\\mathbf{#1}}H_{l} = -\\frac{{\\left(T_{a}^{4} - T_{w}^{4}\\right)} {a_{sh}} c_{H} \\epsilon_{l} {\\sigma} - {\\left({\\left({P_{wa}} - {P_{was}}\\right)} c_{E} + R_{s}\\right)} c_{H}}{4 \\, T_{a}^{3} {a_{sh}} \\epsilon_{l} {\\sigma} + {\\Delta_{eTa}} c_{E} + c_{H}}</script></html>"
      ],
      "text/plain": [
       "H_l == -((T_a^4 - T_w^4)*a_sh*c_H*epsilon_l*sigm - ((P_wa - P_was)*c_E + R_s)*c_H)/(4*T_a^3*a_sh*epsilon_l*sigm + Delta_eTa*c_E + c_H)"
      ]
     },
     "metadata": {},
     "output_type": "display_data"
    },
    {
     "name": "stdout",
     "output_type": "stream",
     "text": [
      "kilogram/second^3 == kilogram/second^3\n"
     ]
    },
    {
     "data": {
      "text/html": [
       "<html><script type=\"math/tex; mode=display\">\\newcommand{\\Bold}[1]{\\mathbf{#1}}T_{l} = \\frac{{\\left(3 \\, T_{a}^{4} + T_{w}^{4}\\right)} {a_{sh}} \\epsilon_{l} {\\sigma} + {\\left({\\Delta_{eTa}} T_{a} + {P_{wa}} - {P_{was}}\\right)} c_{E} + T_{a} c_{H} + R_{s}}{4 \\, T_{a}^{3} {a_{sh}} \\epsilon_{l} {\\sigma} + {\\Delta_{eTa}} c_{E} + c_{H}}</script></html>"
      ],
      "text/plain": [
       "T_l == ((3*T_a^4 + T_w^4)*a_sh*epsilon_l*sigm + (Delta_eTa*T_a + P_wa - P_was)*c_E + T_a*c_H + R_s)/(4*T_a^3*a_sh*epsilon_l*sigm + Delta_eTa*c_E + c_H)"
      ]
     },
     "metadata": {},
     "output_type": "display_data"
    },
    {
     "name": "stdout",
     "output_type": "stream",
     "text": [
      "kelvin == kelvin\n"
     ]
    },
    {
     "data": {
      "text/html": [
       "<html><script type=\"math/tex; mode=display\">\\newcommand{\\Bold}[1]{\\mathbf{#1}}T_{l} = \\frac{{\\left(3 \\, T_{a}^{4} + T_{w}^{4}\\right)} {a_{sh}} \\epsilon_{l} {\\sigma} + {\\left({\\Delta_{eTa}} T_{a} + {P_{wa}} - {P_{was}}\\right)} c_{E} + T_{a} c_{H} + R_{s}}{4 \\, T_{a}^{3} {a_{sh}} \\epsilon_{l} {\\sigma} + {\\Delta_{eTa}} c_{E} + c_{H}}</script></html>"
      ],
      "text/plain": [
       "T_l == ((3*T_a^4 + T_w^4)*a_sh*epsilon_l*sigm + (Delta_eTa*T_a + P_wa - P_was)*c_E + T_a*c_H + R_s)/(4*T_a^3*a_sh*epsilon_l*sigm + Delta_eTa*c_E + c_H)"
      ]
     },
     "metadata": {},
     "output_type": "display_data"
    },
    {
     "data": {
      "text/html": [
       "<html><script type=\"math/tex; mode=display\">\\newcommand{\\Bold}[1]{\\mathbf{#1}}E_{l} = -\\frac{{\\left({\\Delta_{eTa}} T_{a}^{4} - {\\Delta_{eTa}} T_{w}^{4} + 4 \\, {\\left({P_{wa}} - {P_{was}}\\right)} T_{a}^{3}\\right)} {a_{sh}} c_{E} \\epsilon_{l} {\\sigma} - {\\Delta_{eTa}} R_{s} c_{E} + {\\left({P_{wa}} - {P_{was}}\\right)} c_{E} c_{H}}{4 \\, T_{a}^{3} {a_{sh}} \\epsilon_{l} {\\sigma} + {\\Delta_{eTa}} c_{E} + c_{H}}</script></html>"
      ],
      "text/plain": [
       "E_l == -((Delta_eTa*T_a^4 - Delta_eTa*T_w^4 + 4*(P_wa - P_was)*T_a^3)*a_sh*c_E*epsilon_l*sigm - Delta_eTa*R_s*c_E + (P_wa - P_was)*c_E*c_H)/(4*T_a^3*a_sh*epsilon_l*sigm + Delta_eTa*c_E + c_H)"
      ]
     },
     "metadata": {},
     "output_type": "display_data"
    },
    {
     "data": {
      "text/html": [
       "<html><script type=\"math/tex; mode=display\">\\newcommand{\\Bold}[1]{\\mathbf{#1}}E_{l} = -\\frac{{\\left(M_{w} {P_{wa}} T_{w}^{4} + {\\left(3 \\, M_{w} {P_{wa}} - 4 \\, M_{w} {P_{wl}}\\right)} T_{a}^{4}\\right)} {a_{sh}} \\epsilon_{l} {g_{tw}} \\lambda_{E} {\\sigma} + {\\left(M_{w} {P_{wa}} R_{s} + {\\left(M_{w} {P_{wa}} - M_{w} {P_{wl}}\\right)} T_{a} c_{H} + {\\left(M_{w} {P_{wa}}^{2} - M_{w} {P_{wa}} {P_{was}} + {\\left({\\Delta_{eTa}} M_{w} {P_{wa}} - {\\Delta_{eTa}} M_{w} {P_{wl}}\\right)} T_{a}\\right)} c_{E}\\right)} {g_{tw}} \\lambda_{E}}{{R_{mol}} T_{a}^{2} c_{H} + {\\left(3 \\, {R_{mol}} T_{a}^{5} + {R_{mol}} T_{a} T_{w}^{4}\\right)} {a_{sh}} \\epsilon_{l} {\\sigma} + {R_{mol}} R_{s} T_{a} + {\\left({\\Delta_{eTa}} {R_{mol}} T_{a}^{2} + {\\left({P_{wa}} - {P_{was}}\\right)} {R_{mol}} T_{a}\\right)} c_{E}}</script></html>"
      ],
      "text/plain": [
       "E_l == -((M_w*P_wa*T_w^4 + (3*M_w*P_wa - 4*M_w*P_wl)*T_a^4)*a_sh*epsilon_l*g_tw*lambda_E*sigm + (M_w*P_wa*R_s + (M_w*P_wa - M_w*P_wl)*T_a*c_H + (M_w*P_wa^2 - M_w*P_wa*P_was + (Delta_eTa*M_w*P_wa - Delta_eTa*M_w*P_wl)*T_a)*c_E)*g_tw*lambda_E)/(R_mol*T_a^2*c_H + (3*R_mol*T_a^5 + R_mol*T_a*T_w^4)*a_sh*epsilon_l*sigm + R_mol*R_s*T_a + (Delta_eTa*R_mol*T_a^2 + (P_wa - P_was)*R_mol*T_a)*c_E)"
      ]
     },
     "metadata": {},
     "output_type": "display_data"
    },
    {
     "data": {
      "text/html": [
       "<html><script type=\"math/tex; mode=display\">\\newcommand{\\Bold}[1]{\\mathbf{#1}}H_{l} = -\\frac{{\\left(T_{a}^{4} - T_{w}^{4}\\right)} {a_{sh}} c_{H} \\epsilon_{l} {\\sigma} - {\\left({\\left({P_{wa}} - {P_{was}}\\right)} c_{E} + R_{s}\\right)} c_{H}}{4 \\, T_{a}^{3} {a_{sh}} \\epsilon_{l} {\\sigma} + {\\Delta_{eTa}} c_{E} + c_{H}}</script></html>"
      ],
      "text/plain": [
       "H_l == -((T_a^4 - T_w^4)*a_sh*c_H*epsilon_l*sigm - ((P_wa - P_was)*c_E + R_s)*c_H)/(4*T_a^3*a_sh*epsilon_l*sigm + Delta_eTa*c_E + c_H)"
      ]
     },
     "metadata": {},
     "output_type": "display_data"
    },
    {
     "data": {
      "text/html": [
       "<html><script type=\"math/tex; mode=display\">\\newcommand{\\Bold}[1]{\\mathbf{#1}}{R_{ll}} = \\frac{{\\left(4 \\, R_{s} T_{a}^{3} {a_{sh}} + {\\left({\\Delta_{eTa}} T_{a}^{4} - {\\Delta_{eTa}} T_{w}^{4} + 4 \\, {\\left({P_{wa}} - {P_{was}}\\right)} T_{a}^{3}\\right)} {a_{sh}} c_{E} + {\\left(T_{a}^{4} - T_{w}^{4}\\right)} {a_{sh}} c_{H}\\right)} \\epsilon_{l} {\\sigma}}{4 \\, T_{a}^{3} {a_{sh}} \\epsilon_{l} {\\sigma} + {\\Delta_{eTa}} c_{E} + c_{H}}</script></html>"
      ],
      "text/plain": [
       "R_ll == (4*R_s*T_a^3*a_sh + (Delta_eTa*T_a^4 - Delta_eTa*T_w^4 + 4*(P_wa - P_was)*T_a^3)*a_sh*c_E + (T_a^4 - T_w^4)*a_sh*c_H)*epsilon_l*sigm/(4*T_a^3*a_sh*epsilon_l*sigm + Delta_eTa*c_E + c_H)"
      ]
     },
     "metadata": {},
     "output_type": "display_data"
    },
    {
     "name": "stdout",
     "output_type": "stream",
     "text": [
      "T_l = 308.321395271\n",
      "E_l = 180.542235053941\n",
      "H_l = 150.521099595469\n",
      "R_ll = 68.9366653505872\n",
      "g_bw = 0.0131620455576424\n",
      "g_tw = 0.00291849206962754\n",
      "Direct estimates: \n",
      "E_l = 177.353891811830\n",
      "H_l = 153.963492920038\n",
      "T_l = 308.443094724766\n",
      "R_ll = 68.6826152681320\n",
      "308.443094724766 == 308.443094724766\n",
      "308.443094724766 == 308.443094724766\n",
      "308.443094724766 == 307.807922524752\n",
      "400 == 400.000000000000\n",
      "Using T_l from eq_Tl_Delta_Rlllin.rhs() only to calculate R_ll: \n",
      "T_l = 308.443094724766\n",
      "R_ll = 70.5556017512511\n",
      "E_l = 176.784812127415\n",
      "H_l = 152.659586121334\n",
      "400 == 400.000000000000\n",
      "Penman-stomata: \n",
      "E_l = 198.222104889662\n",
      "H_l = 201.777895110338\n",
      "T_l = 310.133484539870\n",
      "400 == 400.000000000000\n",
      "PM-equation: \n",
      "E_l = 241.448619283973\n",
      "H_l = 158.551380716027\n",
      "400 == 400.000000000000\n",
      "MU-equation: \n",
      "E_l = 156.668183937778\n",
      "H_l = 243.331816062222\n",
      "400 == 400.000000000000\n",
      "Corrected MU-equation: \n",
      "E_l = 195.741933442269\n",
      "H_l = 204.258066557731\n",
      "400 == 400.000000000000\n",
      "imported file data/E_PM_eqs\n"
     ]
    }
   ],
   "source": [
    "list_wsnames = ['leaf_enbalance_eqs', 'E_PM_eqs']\n",
    "folder = 'data/'\n",
    "fun_export_load_ipynb(list_wsnames, folder)"
   ]
  },
  {
   "cell_type": "code",
   "execution_count": null,
   "metadata": {
    "collapsed": true
   },
   "outputs": [],
   "source": []
  }
 ],
 "metadata": {
  "kernelspec": {
   "display_name": "SageMath 7.3",
   "language": "",
   "name": "sagemath"
  },
  "language_info": {
   "codemirror_mode": {
    "name": "ipython",
    "version": 2
   },
   "file_extension": ".py",
   "mimetype": "text/x-python",
   "name": "python",
   "nbconvert_exporter": "python",
   "pygments_lexer": "ipython2",
   "version": "2.7.10"
  },
  "nav_menu": {},
  "toc": {
   "navigate_menu": true,
   "number_sections": true,
   "sideBar": true,
   "threshold": 6,
   "toc_cell": false,
   "toc_section_display": "block",
   "toc_window_display": false
  }
 },
 "nbformat": 4,
 "nbformat_minor": 0
}
